{
 "cells": [
  {
   "cell_type": "markdown",
   "id": "0c8bfab6",
   "metadata": {
    "id": "0c8bfab6"
   },
   "source": [
    "## About dataset"
   ]
  },
  {
   "cell_type": "markdown",
   "id": "023c74e0",
   "metadata": {
    "id": "023c74e0"
   },
   "source": [
    " We have received employee attrition data of a company comprising of 1470 employees.\n",
    "\n",
    " - Employee attrition dataset comprise of details (21 attributes) that describe employee details such as Department, Education, Age etc.\n",
    " \n",
    " \n",
    " - Other attribute is \"Attrition\" which is our target variable\n",
    " \n",
    " \n",
    " \n",
    " \n",
    " \n",
    " \n",
    " \n",
    " \n",
    " \n",
    " \n",
    " \n",
    " \n",
    " \n",
    " \n",
    " \n",
    " \n",
    " \n",
    " \n"
   ]
  },
  {
   "cell_type": "code",
   "execution_count": 1,
   "id": "184d6812",
   "metadata": {
    "id": "184d6812"
   },
   "outputs": [],
   "source": [
    "import pandas as pd\n",
    "import numpy as np\n",
    "import matplotlib.pyplot as plt\n",
    "import seaborn as sns\n",
    "from scipy.stats import norm\n",
    "import warnings\n",
    "warnings.filterwarnings(\"ignore\")"
   ]
  },
  {
   "cell_type": "markdown",
   "id": "f35bee9c",
   "metadata": {
    "id": "f35bee9c"
   },
   "source": [
    "## Business Problem"
   ]
  },
  {
   "cell_type": "markdown",
   "id": "34d6cb8c",
   "metadata": {
    "id": "34d6cb8c"
   },
   "source": [
    "Basis attributes given in the dataset we need to identify factors behind attrition rate of the company.\n",
    "\n",
    "Also, provide suggestion to improve the attrition rate"
   ]
  },
  {
   "cell_type": "markdown",
   "id": "cdc2c40c",
   "metadata": {
    "id": "cdc2c40c"
   },
   "source": [
    "#### Reading data"
   ]
  },
  {
   "cell_type": "code",
   "execution_count": 31,
   "id": "dcc9af5c",
   "metadata": {
    "id": "dcc9af5c"
   },
   "outputs": [],
   "source": [
    "attrition = pd.read_csv(\"https://raw.githubusercontent.com/HimKant/Datasets/main/attrition.csv\")"
   ]
  },
  {
   "cell_type": "code",
   "execution_count": 2,
   "id": "890bf793",
   "metadata": {},
   "outputs": [],
   "source": [
    "attrition = pd.read_csv(\"C:\\\\Users\\\\alaghvk\\\\Downloads\\\\IML class\\\\EDA\\\\Attrition-Data\\\\attrition.csv\")"
   ]
  },
  {
   "cell_type": "code",
   "execution_count": 32,
   "id": "a6bbbbb1",
   "metadata": {
    "colab": {
     "base_uri": "https://localhost:8080/"
    },
    "id": "a6bbbbb1",
    "outputId": "2abe4d13-b893-42d1-8c77-1787c9f9b9bb"
   },
   "outputs": [
    {
     "data": {
      "text/plain": [
       "(1470, 20)"
      ]
     },
     "execution_count": 32,
     "metadata": {},
     "output_type": "execute_result"
    }
   ],
   "source": [
    "attrition.shape"
   ]
  },
  {
   "cell_type": "code",
   "execution_count": 33,
   "id": "a4fa0b36",
   "metadata": {
    "colab": {
     "base_uri": "https://localhost:8080/",
     "height": 340
    },
    "id": "a4fa0b36",
    "outputId": "3ac6cea1-3c08-4cd5-d92d-b6bb2733149d"
   },
   "outputs": [
    {
     "data": {
      "text/html": [
       "\n",
       "  <div id=\"df-9886983d-842c-45e9-93a3-d5742d47648b\">\n",
       "    <div class=\"colab-df-container\">\n",
       "      <div>\n",
       "<style scoped>\n",
       "    .dataframe tbody tr th:only-of-type {\n",
       "        vertical-align: middle;\n",
       "    }\n",
       "\n",
       "    .dataframe tbody tr th {\n",
       "        vertical-align: top;\n",
       "    }\n",
       "\n",
       "    .dataframe thead th {\n",
       "        text-align: right;\n",
       "    }\n",
       "</style>\n",
       "<table border=\"1\" class=\"dataframe\">\n",
       "  <thead>\n",
       "    <tr style=\"text-align: right;\">\n",
       "      <th></th>\n",
       "      <th>Age</th>\n",
       "      <th>Attrition</th>\n",
       "      <th>BusinessTravel</th>\n",
       "      <th>Department</th>\n",
       "      <th>EducationField</th>\n",
       "      <th>EnvironmentSatisfaction</th>\n",
       "      <th>Gender</th>\n",
       "      <th>JobInvolvement</th>\n",
       "      <th>JobLevel</th>\n",
       "      <th>JobSatisfaction</th>\n",
       "      <th>MaritalStatus</th>\n",
       "      <th>MonthlyIncome</th>\n",
       "      <th>OverTime</th>\n",
       "      <th>TotalWorkingYears</th>\n",
       "      <th>WorkLifeBalance</th>\n",
       "      <th>YearsAtCompany</th>\n",
       "      <th>YearsInCurrentRole</th>\n",
       "      <th>YearsSinceLastPromotion</th>\n",
       "      <th>YearsWithCurrManager</th>\n",
       "      <th>DistanceFromHome</th>\n",
       "    </tr>\n",
       "  </thead>\n",
       "  <tbody>\n",
       "    <tr>\n",
       "      <th>0</th>\n",
       "      <td>41</td>\n",
       "      <td>1</td>\n",
       "      <td>Travel_Rarely</td>\n",
       "      <td>Sales</td>\n",
       "      <td>Life Sciences</td>\n",
       "      <td>2</td>\n",
       "      <td>Female</td>\n",
       "      <td>3</td>\n",
       "      <td>2</td>\n",
       "      <td>4</td>\n",
       "      <td>Single</td>\n",
       "      <td>5993</td>\n",
       "      <td>Yes</td>\n",
       "      <td>8</td>\n",
       "      <td>1</td>\n",
       "      <td>6</td>\n",
       "      <td>4</td>\n",
       "      <td>0</td>\n",
       "      <td>5</td>\n",
       "      <td>1</td>\n",
       "    </tr>\n",
       "    <tr>\n",
       "      <th>1</th>\n",
       "      <td>49</td>\n",
       "      <td>0</td>\n",
       "      <td>Travel_Frequently</td>\n",
       "      <td>Research &amp; Development</td>\n",
       "      <td>Life Sciences</td>\n",
       "      <td>3</td>\n",
       "      <td>Male</td>\n",
       "      <td>2</td>\n",
       "      <td>2</td>\n",
       "      <td>2</td>\n",
       "      <td>Married</td>\n",
       "      <td>5130</td>\n",
       "      <td>No</td>\n",
       "      <td>10</td>\n",
       "      <td>3</td>\n",
       "      <td>10</td>\n",
       "      <td>7</td>\n",
       "      <td>1</td>\n",
       "      <td>7</td>\n",
       "      <td>8</td>\n",
       "    </tr>\n",
       "    <tr>\n",
       "      <th>2</th>\n",
       "      <td>37</td>\n",
       "      <td>1</td>\n",
       "      <td>Travel_Rarely</td>\n",
       "      <td>Research &amp; Development</td>\n",
       "      <td>Other</td>\n",
       "      <td>4</td>\n",
       "      <td>Male</td>\n",
       "      <td>2</td>\n",
       "      <td>1</td>\n",
       "      <td>3</td>\n",
       "      <td>Single</td>\n",
       "      <td>2090</td>\n",
       "      <td>Yes</td>\n",
       "      <td>7</td>\n",
       "      <td>3</td>\n",
       "      <td>0</td>\n",
       "      <td>0</td>\n",
       "      <td>0</td>\n",
       "      <td>0</td>\n",
       "      <td>2</td>\n",
       "    </tr>\n",
       "    <tr>\n",
       "      <th>3</th>\n",
       "      <td>33</td>\n",
       "      <td>0</td>\n",
       "      <td>Travel_Frequently</td>\n",
       "      <td>Research &amp; Development</td>\n",
       "      <td>Life Sciences</td>\n",
       "      <td>4</td>\n",
       "      <td>Female</td>\n",
       "      <td>3</td>\n",
       "      <td>1</td>\n",
       "      <td>3</td>\n",
       "      <td>Married</td>\n",
       "      <td>2909</td>\n",
       "      <td>Yes</td>\n",
       "      <td>8</td>\n",
       "      <td>3</td>\n",
       "      <td>8</td>\n",
       "      <td>7</td>\n",
       "      <td>3</td>\n",
       "      <td>0</td>\n",
       "      <td>3</td>\n",
       "    </tr>\n",
       "    <tr>\n",
       "      <th>4</th>\n",
       "      <td>27</td>\n",
       "      <td>0</td>\n",
       "      <td>Travel_Rarely</td>\n",
       "      <td>Research &amp; Development</td>\n",
       "      <td>Medical</td>\n",
       "      <td>1</td>\n",
       "      <td>Male</td>\n",
       "      <td>3</td>\n",
       "      <td>1</td>\n",
       "      <td>2</td>\n",
       "      <td>Married</td>\n",
       "      <td>3468</td>\n",
       "      <td>No</td>\n",
       "      <td>6</td>\n",
       "      <td>3</td>\n",
       "      <td>2</td>\n",
       "      <td>2</td>\n",
       "      <td>2</td>\n",
       "      <td>2</td>\n",
       "      <td>2</td>\n",
       "    </tr>\n",
       "  </tbody>\n",
       "</table>\n",
       "</div>\n",
       "      <button class=\"colab-df-convert\" onclick=\"convertToInteractive('df-9886983d-842c-45e9-93a3-d5742d47648b')\"\n",
       "              title=\"Convert this dataframe to an interactive table.\"\n",
       "              style=\"display:none;\">\n",
       "        \n",
       "  <svg xmlns=\"http://www.w3.org/2000/svg\" height=\"24px\"viewBox=\"0 0 24 24\"\n",
       "       width=\"24px\">\n",
       "    <path d=\"M0 0h24v24H0V0z\" fill=\"none\"/>\n",
       "    <path d=\"M18.56 5.44l.94 2.06.94-2.06 2.06-.94-2.06-.94-.94-2.06-.94 2.06-2.06.94zm-11 1L8.5 8.5l.94-2.06 2.06-.94-2.06-.94L8.5 2.5l-.94 2.06-2.06.94zm10 10l.94 2.06.94-2.06 2.06-.94-2.06-.94-.94-2.06-.94 2.06-2.06.94z\"/><path d=\"M17.41 7.96l-1.37-1.37c-.4-.4-.92-.59-1.43-.59-.52 0-1.04.2-1.43.59L10.3 9.45l-7.72 7.72c-.78.78-.78 2.05 0 2.83L4 21.41c.39.39.9.59 1.41.59.51 0 1.02-.2 1.41-.59l7.78-7.78 2.81-2.81c.8-.78.8-2.07 0-2.86zM5.41 20L4 18.59l7.72-7.72 1.47 1.35L5.41 20z\"/>\n",
       "  </svg>\n",
       "      </button>\n",
       "      \n",
       "  <style>\n",
       "    .colab-df-container {\n",
       "      display:flex;\n",
       "      flex-wrap:wrap;\n",
       "      gap: 12px;\n",
       "    }\n",
       "\n",
       "    .colab-df-convert {\n",
       "      background-color: #E8F0FE;\n",
       "      border: none;\n",
       "      border-radius: 50%;\n",
       "      cursor: pointer;\n",
       "      display: none;\n",
       "      fill: #1967D2;\n",
       "      height: 32px;\n",
       "      padding: 0 0 0 0;\n",
       "      width: 32px;\n",
       "    }\n",
       "\n",
       "    .colab-df-convert:hover {\n",
       "      background-color: #E2EBFA;\n",
       "      box-shadow: 0px 1px 2px rgba(60, 64, 67, 0.3), 0px 1px 3px 1px rgba(60, 64, 67, 0.15);\n",
       "      fill: #174EA6;\n",
       "    }\n",
       "\n",
       "    [theme=dark] .colab-df-convert {\n",
       "      background-color: #3B4455;\n",
       "      fill: #D2E3FC;\n",
       "    }\n",
       "\n",
       "    [theme=dark] .colab-df-convert:hover {\n",
       "      background-color: #434B5C;\n",
       "      box-shadow: 0px 1px 3px 1px rgba(0, 0, 0, 0.15);\n",
       "      filter: drop-shadow(0px 1px 2px rgba(0, 0, 0, 0.3));\n",
       "      fill: #FFFFFF;\n",
       "    }\n",
       "  </style>\n",
       "\n",
       "      <script>\n",
       "        const buttonEl =\n",
       "          document.querySelector('#df-9886983d-842c-45e9-93a3-d5742d47648b button.colab-df-convert');\n",
       "        buttonEl.style.display =\n",
       "          google.colab.kernel.accessAllowed ? 'block' : 'none';\n",
       "\n",
       "        async function convertToInteractive(key) {\n",
       "          const element = document.querySelector('#df-9886983d-842c-45e9-93a3-d5742d47648b');\n",
       "          const dataTable =\n",
       "            await google.colab.kernel.invokeFunction('convertToInteractive',\n",
       "                                                     [key], {});\n",
       "          if (!dataTable) return;\n",
       "\n",
       "          const docLinkHtml = 'Like what you see? Visit the ' +\n",
       "            '<a target=\"_blank\" href=https://colab.research.google.com/notebooks/data_table.ipynb>data table notebook</a>'\n",
       "            + ' to learn more about interactive tables.';\n",
       "          element.innerHTML = '';\n",
       "          dataTable['output_type'] = 'display_data';\n",
       "          await google.colab.output.renderOutput(dataTable, element);\n",
       "          const docLink = document.createElement('div');\n",
       "          docLink.innerHTML = docLinkHtml;\n",
       "          element.appendChild(docLink);\n",
       "        }\n",
       "      </script>\n",
       "    </div>\n",
       "  </div>\n",
       "  "
      ],
      "text/plain": [
       "   Age  Attrition     BusinessTravel              Department EducationField  \\\n",
       "0   41          1      Travel_Rarely                   Sales  Life Sciences   \n",
       "1   49          0  Travel_Frequently  Research & Development  Life Sciences   \n",
       "2   37          1      Travel_Rarely  Research & Development          Other   \n",
       "3   33          0  Travel_Frequently  Research & Development  Life Sciences   \n",
       "4   27          0      Travel_Rarely  Research & Development        Medical   \n",
       "\n",
       "   EnvironmentSatisfaction  Gender  JobInvolvement  JobLevel  JobSatisfaction  \\\n",
       "0                        2  Female               3         2                4   \n",
       "1                        3    Male               2         2                2   \n",
       "2                        4    Male               2         1                3   \n",
       "3                        4  Female               3         1                3   \n",
       "4                        1    Male               3         1                2   \n",
       "\n",
       "  MaritalStatus  MonthlyIncome OverTime  TotalWorkingYears  WorkLifeBalance  \\\n",
       "0        Single           5993      Yes                  8                1   \n",
       "1       Married           5130       No                 10                3   \n",
       "2        Single           2090      Yes                  7                3   \n",
       "3       Married           2909      Yes                  8                3   \n",
       "4       Married           3468       No                  6                3   \n",
       "\n",
       "   YearsAtCompany  YearsInCurrentRole  YearsSinceLastPromotion  \\\n",
       "0               6                   4                        0   \n",
       "1              10                   7                        1   \n",
       "2               0                   0                        0   \n",
       "3               8                   7                        3   \n",
       "4               2                   2                        2   \n",
       "\n",
       "   YearsWithCurrManager  DistanceFromHome  \n",
       "0                     5                 1  \n",
       "1                     7                 8  \n",
       "2                     0                 2  \n",
       "3                     0                 3  \n",
       "4                     2                 2  "
      ]
     },
     "execution_count": 33,
     "metadata": {},
     "output_type": "execute_result"
    }
   ],
   "source": [
    "attrition.head()"
   ]
  },
  {
   "cell_type": "code",
   "execution_count": 34,
   "id": "52a58769",
   "metadata": {
    "colab": {
     "base_uri": "https://localhost:8080/",
     "height": 364
    },
    "id": "52a58769",
    "outputId": "135a778f-8798-49d1-b778-01d04ed17c84"
   },
   "outputs": [
    {
     "data": {
      "text/html": [
       "\n",
       "  <div id=\"df-ab69c815-b18e-4a83-8c84-1a5a2a6bc479\">\n",
       "    <div class=\"colab-df-container\">\n",
       "      <div>\n",
       "<style scoped>\n",
       "    .dataframe tbody tr th:only-of-type {\n",
       "        vertical-align: middle;\n",
       "    }\n",
       "\n",
       "    .dataframe tbody tr th {\n",
       "        vertical-align: top;\n",
       "    }\n",
       "\n",
       "    .dataframe thead th {\n",
       "        text-align: right;\n",
       "    }\n",
       "</style>\n",
       "<table border=\"1\" class=\"dataframe\">\n",
       "  <thead>\n",
       "    <tr style=\"text-align: right;\">\n",
       "      <th></th>\n",
       "      <th>Age</th>\n",
       "      <th>Attrition</th>\n",
       "      <th>EnvironmentSatisfaction</th>\n",
       "      <th>JobInvolvement</th>\n",
       "      <th>JobLevel</th>\n",
       "      <th>JobSatisfaction</th>\n",
       "      <th>MonthlyIncome</th>\n",
       "      <th>TotalWorkingYears</th>\n",
       "      <th>WorkLifeBalance</th>\n",
       "      <th>YearsAtCompany</th>\n",
       "      <th>YearsInCurrentRole</th>\n",
       "      <th>YearsSinceLastPromotion</th>\n",
       "      <th>YearsWithCurrManager</th>\n",
       "      <th>DistanceFromHome</th>\n",
       "    </tr>\n",
       "  </thead>\n",
       "  <tbody>\n",
       "    <tr>\n",
       "      <th>count</th>\n",
       "      <td>1470.000000</td>\n",
       "      <td>1470.000000</td>\n",
       "      <td>1470.000000</td>\n",
       "      <td>1470.000000</td>\n",
       "      <td>1470.000000</td>\n",
       "      <td>1470.000000</td>\n",
       "      <td>1470.000000</td>\n",
       "      <td>1470.000000</td>\n",
       "      <td>1470.000000</td>\n",
       "      <td>1470.000000</td>\n",
       "      <td>1470.000000</td>\n",
       "      <td>1470.000000</td>\n",
       "      <td>1470.000000</td>\n",
       "      <td>1470.000000</td>\n",
       "    </tr>\n",
       "    <tr>\n",
       "      <th>mean</th>\n",
       "      <td>36.923810</td>\n",
       "      <td>0.161224</td>\n",
       "      <td>2.721769</td>\n",
       "      <td>2.729932</td>\n",
       "      <td>2.063946</td>\n",
       "      <td>2.728571</td>\n",
       "      <td>6502.931293</td>\n",
       "      <td>11.279592</td>\n",
       "      <td>2.761224</td>\n",
       "      <td>7.008163</td>\n",
       "      <td>4.229252</td>\n",
       "      <td>2.187755</td>\n",
       "      <td>4.123129</td>\n",
       "      <td>9.192517</td>\n",
       "    </tr>\n",
       "    <tr>\n",
       "      <th>std</th>\n",
       "      <td>9.135373</td>\n",
       "      <td>0.367863</td>\n",
       "      <td>1.093082</td>\n",
       "      <td>0.711561</td>\n",
       "      <td>1.106940</td>\n",
       "      <td>1.102846</td>\n",
       "      <td>4707.956783</td>\n",
       "      <td>7.780782</td>\n",
       "      <td>0.706476</td>\n",
       "      <td>6.126525</td>\n",
       "      <td>3.623137</td>\n",
       "      <td>3.222430</td>\n",
       "      <td>3.568136</td>\n",
       "      <td>8.106864</td>\n",
       "    </tr>\n",
       "    <tr>\n",
       "      <th>min</th>\n",
       "      <td>18.000000</td>\n",
       "      <td>0.000000</td>\n",
       "      <td>1.000000</td>\n",
       "      <td>1.000000</td>\n",
       "      <td>1.000000</td>\n",
       "      <td>1.000000</td>\n",
       "      <td>1009.000000</td>\n",
       "      <td>0.000000</td>\n",
       "      <td>1.000000</td>\n",
       "      <td>0.000000</td>\n",
       "      <td>0.000000</td>\n",
       "      <td>0.000000</td>\n",
       "      <td>0.000000</td>\n",
       "      <td>1.000000</td>\n",
       "    </tr>\n",
       "    <tr>\n",
       "      <th>25%</th>\n",
       "      <td>30.000000</td>\n",
       "      <td>0.000000</td>\n",
       "      <td>2.000000</td>\n",
       "      <td>2.000000</td>\n",
       "      <td>1.000000</td>\n",
       "      <td>2.000000</td>\n",
       "      <td>2911.000000</td>\n",
       "      <td>6.000000</td>\n",
       "      <td>2.000000</td>\n",
       "      <td>3.000000</td>\n",
       "      <td>2.000000</td>\n",
       "      <td>0.000000</td>\n",
       "      <td>2.000000</td>\n",
       "      <td>2.000000</td>\n",
       "    </tr>\n",
       "    <tr>\n",
       "      <th>50%</th>\n",
       "      <td>36.000000</td>\n",
       "      <td>0.000000</td>\n",
       "      <td>3.000000</td>\n",
       "      <td>3.000000</td>\n",
       "      <td>2.000000</td>\n",
       "      <td>3.000000</td>\n",
       "      <td>4919.000000</td>\n",
       "      <td>10.000000</td>\n",
       "      <td>3.000000</td>\n",
       "      <td>5.000000</td>\n",
       "      <td>3.000000</td>\n",
       "      <td>1.000000</td>\n",
       "      <td>3.000000</td>\n",
       "      <td>7.000000</td>\n",
       "    </tr>\n",
       "    <tr>\n",
       "      <th>75%</th>\n",
       "      <td>43.000000</td>\n",
       "      <td>0.000000</td>\n",
       "      <td>4.000000</td>\n",
       "      <td>3.000000</td>\n",
       "      <td>3.000000</td>\n",
       "      <td>4.000000</td>\n",
       "      <td>8379.000000</td>\n",
       "      <td>15.000000</td>\n",
       "      <td>3.000000</td>\n",
       "      <td>9.000000</td>\n",
       "      <td>7.000000</td>\n",
       "      <td>3.000000</td>\n",
       "      <td>7.000000</td>\n",
       "      <td>14.000000</td>\n",
       "    </tr>\n",
       "    <tr>\n",
       "      <th>max</th>\n",
       "      <td>60.000000</td>\n",
       "      <td>1.000000</td>\n",
       "      <td>4.000000</td>\n",
       "      <td>4.000000</td>\n",
       "      <td>5.000000</td>\n",
       "      <td>4.000000</td>\n",
       "      <td>19999.000000</td>\n",
       "      <td>40.000000</td>\n",
       "      <td>4.000000</td>\n",
       "      <td>40.000000</td>\n",
       "      <td>18.000000</td>\n",
       "      <td>15.000000</td>\n",
       "      <td>17.000000</td>\n",
       "      <td>29.000000</td>\n",
       "    </tr>\n",
       "  </tbody>\n",
       "</table>\n",
       "</div>\n",
       "      <button class=\"colab-df-convert\" onclick=\"convertToInteractive('df-ab69c815-b18e-4a83-8c84-1a5a2a6bc479')\"\n",
       "              title=\"Convert this dataframe to an interactive table.\"\n",
       "              style=\"display:none;\">\n",
       "        \n",
       "  <svg xmlns=\"http://www.w3.org/2000/svg\" height=\"24px\"viewBox=\"0 0 24 24\"\n",
       "       width=\"24px\">\n",
       "    <path d=\"M0 0h24v24H0V0z\" fill=\"none\"/>\n",
       "    <path d=\"M18.56 5.44l.94 2.06.94-2.06 2.06-.94-2.06-.94-.94-2.06-.94 2.06-2.06.94zm-11 1L8.5 8.5l.94-2.06 2.06-.94-2.06-.94L8.5 2.5l-.94 2.06-2.06.94zm10 10l.94 2.06.94-2.06 2.06-.94-2.06-.94-.94-2.06-.94 2.06-2.06.94z\"/><path d=\"M17.41 7.96l-1.37-1.37c-.4-.4-.92-.59-1.43-.59-.52 0-1.04.2-1.43.59L10.3 9.45l-7.72 7.72c-.78.78-.78 2.05 0 2.83L4 21.41c.39.39.9.59 1.41.59.51 0 1.02-.2 1.41-.59l7.78-7.78 2.81-2.81c.8-.78.8-2.07 0-2.86zM5.41 20L4 18.59l7.72-7.72 1.47 1.35L5.41 20z\"/>\n",
       "  </svg>\n",
       "      </button>\n",
       "      \n",
       "  <style>\n",
       "    .colab-df-container {\n",
       "      display:flex;\n",
       "      flex-wrap:wrap;\n",
       "      gap: 12px;\n",
       "    }\n",
       "\n",
       "    .colab-df-convert {\n",
       "      background-color: #E8F0FE;\n",
       "      border: none;\n",
       "      border-radius: 50%;\n",
       "      cursor: pointer;\n",
       "      display: none;\n",
       "      fill: #1967D2;\n",
       "      height: 32px;\n",
       "      padding: 0 0 0 0;\n",
       "      width: 32px;\n",
       "    }\n",
       "\n",
       "    .colab-df-convert:hover {\n",
       "      background-color: #E2EBFA;\n",
       "      box-shadow: 0px 1px 2px rgba(60, 64, 67, 0.3), 0px 1px 3px 1px rgba(60, 64, 67, 0.15);\n",
       "      fill: #174EA6;\n",
       "    }\n",
       "\n",
       "    [theme=dark] .colab-df-convert {\n",
       "      background-color: #3B4455;\n",
       "      fill: #D2E3FC;\n",
       "    }\n",
       "\n",
       "    [theme=dark] .colab-df-convert:hover {\n",
       "      background-color: #434B5C;\n",
       "      box-shadow: 0px 1px 3px 1px rgba(0, 0, 0, 0.15);\n",
       "      filter: drop-shadow(0px 1px 2px rgba(0, 0, 0, 0.3));\n",
       "      fill: #FFFFFF;\n",
       "    }\n",
       "  </style>\n",
       "\n",
       "      <script>\n",
       "        const buttonEl =\n",
       "          document.querySelector('#df-ab69c815-b18e-4a83-8c84-1a5a2a6bc479 button.colab-df-convert');\n",
       "        buttonEl.style.display =\n",
       "          google.colab.kernel.accessAllowed ? 'block' : 'none';\n",
       "\n",
       "        async function convertToInteractive(key) {\n",
       "          const element = document.querySelector('#df-ab69c815-b18e-4a83-8c84-1a5a2a6bc479');\n",
       "          const dataTable =\n",
       "            await google.colab.kernel.invokeFunction('convertToInteractive',\n",
       "                                                     [key], {});\n",
       "          if (!dataTable) return;\n",
       "\n",
       "          const docLinkHtml = 'Like what you see? Visit the ' +\n",
       "            '<a target=\"_blank\" href=https://colab.research.google.com/notebooks/data_table.ipynb>data table notebook</a>'\n",
       "            + ' to learn more about interactive tables.';\n",
       "          element.innerHTML = '';\n",
       "          dataTable['output_type'] = 'display_data';\n",
       "          await google.colab.output.renderOutput(dataTable, element);\n",
       "          const docLink = document.createElement('div');\n",
       "          docLink.innerHTML = docLinkHtml;\n",
       "          element.appendChild(docLink);\n",
       "        }\n",
       "      </script>\n",
       "    </div>\n",
       "  </div>\n",
       "  "
      ],
      "text/plain": [
       "               Age    Attrition  EnvironmentSatisfaction  JobInvolvement  \\\n",
       "count  1470.000000  1470.000000              1470.000000     1470.000000   \n",
       "mean     36.923810     0.161224                 2.721769        2.729932   \n",
       "std       9.135373     0.367863                 1.093082        0.711561   \n",
       "min      18.000000     0.000000                 1.000000        1.000000   \n",
       "25%      30.000000     0.000000                 2.000000        2.000000   \n",
       "50%      36.000000     0.000000                 3.000000        3.000000   \n",
       "75%      43.000000     0.000000                 4.000000        3.000000   \n",
       "max      60.000000     1.000000                 4.000000        4.000000   \n",
       "\n",
       "          JobLevel  JobSatisfaction  MonthlyIncome  TotalWorkingYears  \\\n",
       "count  1470.000000      1470.000000    1470.000000        1470.000000   \n",
       "mean      2.063946         2.728571    6502.931293          11.279592   \n",
       "std       1.106940         1.102846    4707.956783           7.780782   \n",
       "min       1.000000         1.000000    1009.000000           0.000000   \n",
       "25%       1.000000         2.000000    2911.000000           6.000000   \n",
       "50%       2.000000         3.000000    4919.000000          10.000000   \n",
       "75%       3.000000         4.000000    8379.000000          15.000000   \n",
       "max       5.000000         4.000000   19999.000000          40.000000   \n",
       "\n",
       "       WorkLifeBalance  YearsAtCompany  YearsInCurrentRole  \\\n",
       "count      1470.000000     1470.000000         1470.000000   \n",
       "mean          2.761224        7.008163            4.229252   \n",
       "std           0.706476        6.126525            3.623137   \n",
       "min           1.000000        0.000000            0.000000   \n",
       "25%           2.000000        3.000000            2.000000   \n",
       "50%           3.000000        5.000000            3.000000   \n",
       "75%           3.000000        9.000000            7.000000   \n",
       "max           4.000000       40.000000           18.000000   \n",
       "\n",
       "       YearsSinceLastPromotion  YearsWithCurrManager  DistanceFromHome  \n",
       "count              1470.000000           1470.000000       1470.000000  \n",
       "mean                  2.187755              4.123129          9.192517  \n",
       "std                   3.222430              3.568136          8.106864  \n",
       "min                   0.000000              0.000000          1.000000  \n",
       "25%                   0.000000              2.000000          2.000000  \n",
       "50%                   1.000000              3.000000          7.000000  \n",
       "75%                   3.000000              7.000000         14.000000  \n",
       "max                  15.000000             17.000000         29.000000  "
      ]
     },
     "execution_count": 34,
     "metadata": {},
     "output_type": "execute_result"
    }
   ],
   "source": [
    "attrition.describe()"
   ]
  },
  {
   "cell_type": "code",
   "execution_count": 35,
   "id": "e591f7b6",
   "metadata": {
    "colab": {
     "base_uri": "https://localhost:8080/"
    },
    "id": "e591f7b6",
    "outputId": "bbbb57a4-c4c0-4172-e59c-c398782c261a"
   },
   "outputs": [
    {
     "data": {
      "text/plain": [
       "Age                         int64\n",
       "Attrition                   int64\n",
       "BusinessTravel             object\n",
       "Department                 object\n",
       "EducationField             object\n",
       "EnvironmentSatisfaction     int64\n",
       "Gender                     object\n",
       "JobInvolvement              int64\n",
       "JobLevel                    int64\n",
       "JobSatisfaction             int64\n",
       "MaritalStatus              object\n",
       "MonthlyIncome               int64\n",
       "OverTime                   object\n",
       "TotalWorkingYears           int64\n",
       "WorkLifeBalance             int64\n",
       "YearsAtCompany              int64\n",
       "YearsInCurrentRole          int64\n",
       "YearsSinceLastPromotion     int64\n",
       "YearsWithCurrManager        int64\n",
       "DistanceFromHome            int64\n",
       "dtype: object"
      ]
     },
     "execution_count": 35,
     "metadata": {},
     "output_type": "execute_result"
    }
   ],
   "source": [
    "attrition.dtypes ## To know the data type of the variables in the dataset"
   ]
  },
  {
   "cell_type": "code",
   "execution_count": 36,
   "id": "a3142c21",
   "metadata": {
    "colab": {
     "base_uri": "https://localhost:8080/"
    },
    "id": "a3142c21",
    "outputId": "21193091-196e-41a5-9e4d-415a2418e80c"
   },
   "outputs": [
    {
     "data": {
      "text/plain": [
       "Age                        0\n",
       "Attrition                  0\n",
       "BusinessTravel             0\n",
       "Department                 0\n",
       "EducationField             0\n",
       "EnvironmentSatisfaction    0\n",
       "Gender                     0\n",
       "JobInvolvement             0\n",
       "JobLevel                   0\n",
       "JobSatisfaction            0\n",
       "MaritalStatus              0\n",
       "MonthlyIncome              0\n",
       "OverTime                   0\n",
       "TotalWorkingYears          0\n",
       "WorkLifeBalance            0\n",
       "YearsAtCompany             0\n",
       "YearsInCurrentRole         0\n",
       "YearsSinceLastPromotion    0\n",
       "YearsWithCurrManager       0\n",
       "DistanceFromHome           0\n",
       "dtype: int64"
      ]
     },
     "execution_count": 36,
     "metadata": {},
     "output_type": "execute_result"
    }
   ],
   "source": [
    "attrition.isnull().sum() ## To check null values in the dataset\n",
    "\n",
    "# There is no null value in the dataset"
   ]
  },
  {
   "cell_type": "markdown",
   "id": "c91c5657",
   "metadata": {
    "id": "c91c5657"
   },
   "source": [
    "## Exploratory Data Analysis\n",
    "\n",
    "## I. Univariate Analysis"
   ]
  },
  {
   "cell_type": "markdown",
   "id": "94ee8b45",
   "metadata": {
    "id": "94ee8b45"
   },
   "source": [
    "### 1. Age"
   ]
  },
  {
   "cell_type": "code",
   "execution_count": 37,
   "id": "81610158",
   "metadata": {
    "colab": {
     "base_uri": "https://localhost:8080/",
     "height": 296
    },
    "id": "81610158",
    "outputId": "44a30812-df7a-492d-f5d4-aad0715684e7"
   },
   "outputs": [
    {
     "data": {
      "text/plain": [
       "<matplotlib.axes._subplots.AxesSubplot at 0x7f7d69cd1090>"
      ]
     },
     "execution_count": 37,
     "metadata": {},
     "output_type": "execute_result"
    },
    {
     "data": {
      "image/png": "[encoded data removed]",
      "text/plain": [
       "<Figure size 432x288 with 1 Axes>"
      ]
     },
     "metadata": {
      "needs_background": "light"
     },
     "output_type": "display_data"
    }
   ],
   "source": [
    "sns.boxplot(attrition['Age'])"
   ]
  },
  {
   "cell_type": "code",
   "execution_count": 38,
   "id": "79b21f83",
   "metadata": {
    "colab": {
     "base_uri": "https://localhost:8080/",
     "height": 374
    },
    "id": "79b21f83",
    "outputId": "5232b84e-991d-4445-fc6b-120a2849fb35"
   },
   "outputs": [
    {
     "data": {
      "text/plain": [
       "Text(0.5, 0, 'Age')"
      ]
     },
     "execution_count": 38,
     "metadata": {},
     "output_type": "execute_result"
    },
    {
     "data": {
      "image/png": "[encoded data removed]",
      "text/plain": [
       "<Figure size 1440x1800 with 1 Axes>"
      ]
     },
     "metadata": {
      "needs_background": "light"
     },
     "output_type": "display_data"
    }
   ],
   "source": [
    "plt.figure(figsize= (20,25))\n",
    "plt.subplot(4,2,1)\n",
    "plt.hist(attrition.Age, edgecolor = 'black', alpha = 0.7)\n",
    "plt.xlabel('Age')"
   ]
  },
  {
   "cell_type": "code",
   "execution_count": 39,
   "id": "3e9122c3",
   "metadata": {
    "colab": {
     "base_uri": "https://localhost:8080/"
    },
    "id": "3e9122c3",
    "outputId": "ceef206d-c7ba-4a94-c04b-037c68c0aa43"
   },
   "outputs": [
    {
     "data": {
      "text/plain": [
       "count    1470.000000\n",
       "mean       36.923810\n",
       "std         9.135373\n",
       "min        18.000000\n",
       "25%        30.000000\n",
       "50%        36.000000\n",
       "75%        43.000000\n",
       "max        60.000000\n",
       "Name: Age, dtype: float64"
      ]
     },
     "execution_count": 39,
     "metadata": {},
     "output_type": "execute_result"
    }
   ],
   "source": [
    "attrition.Age.describe()"
   ]
  },
  {
   "cell_type": "markdown",
   "id": "071c1c81",
   "metadata": {
    "id": "071c1c81"
   },
   "source": [
    "#### Observation\n",
    "\n",
    "- Age variable represents age of the employees ranging from 18-60 years\n",
    "\n",
    "- Avg age of the employees and median age of the employees is approx 36.92 years and 36 years respectively\n",
    "\n",
    "- 50% of employees is aged between 18 to 36 years\n",
    "\n",
    "- Only 25% of employees is aged > 43 years\n",
    "\n",
    "- No presence of outliers"
   ]
  },
  {
   "cell_type": "markdown",
   "id": "c98922f9",
   "metadata": {
    "id": "c98922f9"
   },
   "source": [
    "### 2. Attrition"
   ]
  },
  {
   "cell_type": "code",
   "execution_count": 40,
   "id": "b2369fd8",
   "metadata": {
    "colab": {
     "base_uri": "https://localhost:8080/",
     "height": 248
    },
    "id": "b2369fd8",
    "outputId": "efa5796f-b067-404b-b0be-b595529c2d5b"
   },
   "outputs": [
    {
     "data": {
      "image/png": "[encoded data removed]",
      "text/plain": [
       "<Figure size 432x288 with 1 Axes>"
      ]
     },
     "metadata": {},
     "output_type": "display_data"
    }
   ],
   "source": [
    "attr_rate=pd.crosstab(attrition.Attrition,columns=\"Count\")\n",
    "attr_rate\n",
    "label_attr_rate=[\"0\",\"1\"]\n",
    "value_attr_rate=[237,1233]\n",
    "\n",
    "plt.pie(value_attr_rate,labels=label_attr_rate,autopct=\"%0.2F%%\",colors=[\"Grey\",\"Orange\"],explode=[0.12,0])\n",
    "plt.show()"
   ]
  },
  {
   "cell_type": "markdown",
   "id": "e0ab672b",
   "metadata": {
    "id": "e0ab672b"
   },
   "source": [
    "#### Observation\n",
    "\n",
    "- Attrition variable consists of two values \"0\" and \"1\" where \"1\" refers to attrition i.e employess who left the organisation and \"0\" refers to employees stayed in organisation\n",
    "\n",
    "- It is a categorical variable; Scale of measurement is Nominal in nature\n",
    "\n",
    "- Attrition rate i.e % of employees who left the organisation is 16.12% "
   ]
  },
  {
   "cell_type": "markdown",
   "id": "e7a2e867",
   "metadata": {
    "id": "e7a2e867"
   },
   "source": [
    "### 3. Business Travel"
   ]
  },
  {
   "cell_type": "code",
   "execution_count": 41,
   "id": "66530c7f",
   "metadata": {
    "colab": {
     "base_uri": "https://localhost:8080/",
     "height": 248
    },
    "id": "66530c7f",
    "outputId": "eb7d27b2-d2d1-48b2-da69-a0c1f500cbe7"
   },
   "outputs": [
    {
     "data": {
      "image/png": "[encoded data removed]",
      "text/plain": [
       "<Figure size 432x288 with 1 Axes>"
      ]
     },
     "metadata": {},
     "output_type": "display_data"
    }
   ],
   "source": [
    "#donut\n",
    "Non_Travel=150/1470*100\n",
    "Travel_Frequently=277/1470*100\n",
    "Travel_Rarely=1043/1470*100\n",
    "\n",
    "\n",
    "labels = [\"Non_Travel\",\"Travel_Frequently\",\"Travel_Rarely\"]\n",
    "sizes = [Non_Travel,Travel_Frequently,Travel_Rarely]\n",
    "plt.pie(sizes, labels=labels, autopct='%1.1f%%')\n",
    "plt.axis('equal')\n",
    "circle = plt.Circle(xy=(0,0), radius=0.75, facecolor='white')\n",
    "plt.gca().add_artist(circle)\n",
    "plt.show()"
   ]
  },
  {
   "cell_type": "markdown",
   "id": "f4f6e6e5",
   "metadata": {
    "id": "f4f6e6e5"
   },
   "source": [
    "#### Observation\n",
    "\n",
    "- Variable \"Business Travel\" comprises categories - Non Travel/Travel frequenty/Travel Rarely \n",
    "- It is a categorical variable; Scale of measurement is Ordinal in nature \n",
    "- 89.8% of total employess travels for business purpose out of which 20.98% travels frequently"
   ]
  },
  {
   "cell_type": "markdown",
   "id": "3e6a6cb3",
   "metadata": {
    "id": "3e6a6cb3"
   },
   "source": [
    "### 4. Department"
   ]
  },
  {
   "cell_type": "code",
   "execution_count": 42,
   "id": "ab8e2c47",
   "metadata": {
    "colab": {
     "base_uri": "https://localhost:8080/",
     "height": 312
    },
    "id": "ab8e2c47",
    "outputId": "71445a63-44f2-46c5-9351-7d133aed6b4d",
    "scrolled": true
   },
   "outputs": [
    {
     "data": {
      "text/plain": [
       "Text(0.5, 0, 'No of employees')"
      ]
     },
     "execution_count": 42,
     "metadata": {},
     "output_type": "execute_result"
    },
    {
     "data": {
      "image/png": "[encoded data removed]",
      "text/plain": [
       "<Figure size 432x288 with 1 Axes>"
      ]
     },
     "metadata": {
      "needs_background": "light"
     },
     "output_type": "display_data"
    }
   ],
   "source": [
    "x = ['Human Resource','Research & Development', 'Sales']\n",
    "y = [63,961,446]\n",
    "\n",
    "fig, ax = plt.subplots()    \n",
    "width = 0.75 \n",
    "\n",
    "for i, v in enumerate(y):\n",
    "    ax.text(v + 3, i + .25, str(v), fontweight='bold')\n",
    "    \n",
    "ind = np.arange(len(y))  # the x locations for the groups\n",
    "ax.barh(ind, y, width, color=\"Orange\")\n",
    "ax.set_yticks(ind+width/2)\n",
    "ax.set_yticklabels(x, minor=False)\n",
    "plt.title('Department')\n",
    "plt.xlabel('No of employees')\n",
    "#plt.ylabel('')      \n",
    "###plt.show()"
   ]
  },
  {
   "cell_type": "code",
   "execution_count": 43,
   "id": "413f90cc",
   "metadata": {
    "colab": {
     "base_uri": "https://localhost:8080/",
     "height": 175
    },
    "id": "413f90cc",
    "outputId": "3fa19c92-47f4-45f5-c03e-332f238f414f",
    "scrolled": true
   },
   "outputs": [
    {
     "data": {
      "text/html": [
       "\n",
       "  <div id=\"df-65f5007a-5737-44ca-8661-696bbe4c9445\">\n",
       "    <div class=\"colab-df-container\">\n",
       "      <div>\n",
       "<style scoped>\n",
       "    .dataframe tbody tr th:only-of-type {\n",
       "        vertical-align: middle;\n",
       "    }\n",
       "\n",
       "    .dataframe tbody tr th {\n",
       "        vertical-align: top;\n",
       "    }\n",
       "\n",
       "    .dataframe thead th {\n",
       "        text-align: right;\n",
       "    }\n",
       "</style>\n",
       "<table border=\"1\" class=\"dataframe\">\n",
       "  <thead>\n",
       "    <tr style=\"text-align: right;\">\n",
       "      <th>col_0</th>\n",
       "      <th>Percentage</th>\n",
       "    </tr>\n",
       "    <tr>\n",
       "      <th>Department</th>\n",
       "      <th></th>\n",
       "    </tr>\n",
       "  </thead>\n",
       "  <tbody>\n",
       "    <tr>\n",
       "      <th>Human Resources</th>\n",
       "      <td>4.29</td>\n",
       "    </tr>\n",
       "    <tr>\n",
       "      <th>Research &amp; Development</th>\n",
       "      <td>65.37</td>\n",
       "    </tr>\n",
       "    <tr>\n",
       "      <th>Sales</th>\n",
       "      <td>30.34</td>\n",
       "    </tr>\n",
       "  </tbody>\n",
       "</table>\n",
       "</div>\n",
       "      <button class=\"colab-df-convert\" onclick=\"convertToInteractive('df-65f5007a-5737-44ca-8661-696bbe4c9445')\"\n",
       "              title=\"Convert this dataframe to an interactive table.\"\n",
       "              style=\"display:none;\">\n",
       "        \n",
       "  <svg xmlns=\"http://www.w3.org/2000/svg\" height=\"24px\"viewBox=\"0 0 24 24\"\n",
       "       width=\"24px\">\n",
       "    <path d=\"M0 0h24v24H0V0z\" fill=\"none\"/>\n",
       "    <path d=\"M18.56 5.44l.94 2.06.94-2.06 2.06-.94-2.06-.94-.94-2.06-.94 2.06-2.06.94zm-11 1L8.5 8.5l.94-2.06 2.06-.94-2.06-.94L8.5 2.5l-.94 2.06-2.06.94zm10 10l.94 2.06.94-2.06 2.06-.94-2.06-.94-.94-2.06-.94 2.06-2.06.94z\"/><path d=\"M17.41 7.96l-1.37-1.37c-.4-.4-.92-.59-1.43-.59-.52 0-1.04.2-1.43.59L10.3 9.45l-7.72 7.72c-.78.78-.78 2.05 0 2.83L4 21.41c.39.39.9.59 1.41.59.51 0 1.02-.2 1.41-.59l7.78-7.78 2.81-2.81c.8-.78.8-2.07 0-2.86zM5.41 20L4 18.59l7.72-7.72 1.47 1.35L5.41 20z\"/>\n",
       "  </svg>\n",
       "      </button>\n",
       "      \n",
       "  <style>\n",
       "    .colab-df-container {\n",
       "      display:flex;\n",
       "      flex-wrap:wrap;\n",
       "      gap: 12px;\n",
       "    }\n",
       "\n",
       "    .colab-df-convert {\n",
       "      background-color: #E8F0FE;\n",
       "      border: none;\n",
       "      border-radius: 50%;\n",
       "      cursor: pointer;\n",
       "      display: none;\n",
       "      fill: #1967D2;\n",
       "      height: 32px;\n",
       "      padding: 0 0 0 0;\n",
       "      width: 32px;\n",
       "    }\n",
       "\n",
       "    .colab-df-convert:hover {\n",
       "      background-color: #E2EBFA;\n",
       "      box-shadow: 0px 1px 2px rgba(60, 64, 67, 0.3), 0px 1px 3px 1px rgba(60, 64, 67, 0.15);\n",
       "      fill: #174EA6;\n",
       "    }\n",
       "\n",
       "    [theme=dark] .colab-df-convert {\n",
       "      background-color: #3B4455;\n",
       "      fill: #D2E3FC;\n",
       "    }\n",
       "\n",
       "    [theme=dark] .colab-df-convert:hover {\n",
       "      background-color: #434B5C;\n",
       "      box-shadow: 0px 1px 3px 1px rgba(0, 0, 0, 0.15);\n",
       "      filter: drop-shadow(0px 1px 2px rgba(0, 0, 0, 0.3));\n",
       "      fill: #FFFFFF;\n",
       "    }\n",
       "  </style>\n",
       "\n",
       "      <script>\n",
       "        const buttonEl =\n",
       "          document.querySelector('#df-65f5007a-5737-44ca-8661-696bbe4c9445 button.colab-df-convert');\n",
       "        buttonEl.style.display =\n",
       "          google.colab.kernel.accessAllowed ? 'block' : 'none';\n",
       "\n",
       "        async function convertToInteractive(key) {\n",
       "          const element = document.querySelector('#df-65f5007a-5737-44ca-8661-696bbe4c9445');\n",
       "          const dataTable =\n",
       "            await google.colab.kernel.invokeFunction('convertToInteractive',\n",
       "                                                     [key], {});\n",
       "          if (!dataTable) return;\n",
       "\n",
       "          const docLinkHtml = 'Like what you see? Visit the ' +\n",
       "            '<a target=\"_blank\" href=https://colab.research.google.com/notebooks/data_table.ipynb>data table notebook</a>'\n",
       "            + ' to learn more about interactive tables.';\n",
       "          element.innerHTML = '';\n",
       "          dataTable['output_type'] = 'display_data';\n",
       "          await google.colab.output.renderOutput(dataTable, element);\n",
       "          const docLink = document.createElement('div');\n",
       "          docLink.innerHTML = docLinkHtml;\n",
       "          element.appendChild(docLink);\n",
       "        }\n",
       "      </script>\n",
       "    </div>\n",
       "  </div>\n",
       "  "
      ],
      "text/plain": [
       "col_0                   Percentage\n",
       "Department                        \n",
       "Human Resources               4.29\n",
       "Research & Development       65.37\n",
       "Sales                        30.34"
      ]
     },
     "execution_count": 43,
     "metadata": {},
     "output_type": "execute_result"
    }
   ],
   "source": [
    "n=len(attrition)\n",
    "tab = pd.crosstab(attrition.Department, columns=\"Percentage\")\n",
    "round((tab/n*100),2)"
   ]
  },
  {
   "cell_type": "markdown",
   "id": "56e93b4d",
   "metadata": {
    "id": "56e93b4d"
   },
   "source": [
    "#### Observation\n",
    "\n",
    "- Variable \"Department\" is consists of Human resources, Resources & Development, Sales\n",
    "\n",
    "- It is categorical variable; Scale of measurement is Nominal in nature\n",
    "\n",
    "- 65.37% employees is part of R & D department followed by Sales dept with 30.34% \n",
    "\n",
    "- Basis data it can be inferred that organization is a Research & development based organisation\n",
    "\n",
    "- Very less no. of employess seen in Human resources with 4.29%"
   ]
  },
  {
   "cell_type": "markdown",
   "id": "6b53a71a",
   "metadata": {
    "id": "6b53a71a"
   },
   "source": [
    "### 5. Education Field"
   ]
  },
  {
   "cell_type": "code",
   "execution_count": 44,
   "id": "ce20de7d",
   "metadata": {
    "colab": {
     "base_uri": "https://localhost:8080/",
     "height": 361
    },
    "id": "ce20de7d",
    "outputId": "270b1875-7f65-40e9-fe6c-41da6932b0b0"
   },
   "outputs": [
    {
     "data": {
      "image/png": "[encoded data removed]",
      "text/plain": [
       "<Figure size 576x288 with 1 Axes>"
      ]
     },
     "metadata": {
      "needs_background": "light"
     },
     "output_type": "display_data"
    }
   ],
   "source": [
    "attrition.EducationField.value_counts().plot(kind='bar', figsize=(8,4), color='pink', rot=45)\n",
    "plt.title('EducationFields', fontsize=14)\n",
    "plt.xlabel('EducationFields', fontsize=14)\n",
    "plt.ylabel('No of employees', fontsize=14)\n",
    "plt.grid(False)\n",
    "plt.show()"
   ]
  },
  {
   "cell_type": "code",
   "execution_count": 45,
   "id": "28e83def",
   "metadata": {
    "colab": {
     "base_uri": "https://localhost:8080/",
     "height": 340
    },
    "id": "28e83def",
    "outputId": "29faff16-c8dd-40e8-a4b2-baba7213849f"
   },
   "outputs": [
    {
     "data": {
      "text/html": [
       "\n",
       "  <div id=\"df-a70af51b-7394-4cd5-8330-eb3eb58e84c1\">\n",
       "    <div class=\"colab-df-container\">\n",
       "      <div>\n",
       "<style scoped>\n",
       "    .dataframe tbody tr th:only-of-type {\n",
       "        vertical-align: middle;\n",
       "    }\n",
       "\n",
       "    .dataframe tbody tr th {\n",
       "        vertical-align: top;\n",
       "    }\n",
       "\n",
       "    .dataframe thead th {\n",
       "        text-align: right;\n",
       "    }\n",
       "</style>\n",
       "<table border=\"1\" class=\"dataframe\">\n",
       "  <thead>\n",
       "    <tr style=\"text-align: right;\">\n",
       "      <th></th>\n",
       "      <th>Age</th>\n",
       "      <th>Attrition</th>\n",
       "      <th>BusinessTravel</th>\n",
       "      <th>Department</th>\n",
       "      <th>EducationField</th>\n",
       "      <th>EnvironmentSatisfaction</th>\n",
       "      <th>Gender</th>\n",
       "      <th>JobInvolvement</th>\n",
       "      <th>JobLevel</th>\n",
       "      <th>JobSatisfaction</th>\n",
       "      <th>MaritalStatus</th>\n",
       "      <th>MonthlyIncome</th>\n",
       "      <th>OverTime</th>\n",
       "      <th>TotalWorkingYears</th>\n",
       "      <th>WorkLifeBalance</th>\n",
       "      <th>YearsAtCompany</th>\n",
       "      <th>YearsInCurrentRole</th>\n",
       "      <th>YearsSinceLastPromotion</th>\n",
       "      <th>YearsWithCurrManager</th>\n",
       "      <th>DistanceFromHome</th>\n",
       "    </tr>\n",
       "  </thead>\n",
       "  <tbody>\n",
       "    <tr>\n",
       "      <th>0</th>\n",
       "      <td>41</td>\n",
       "      <td>1</td>\n",
       "      <td>Travel_Rarely</td>\n",
       "      <td>Sales</td>\n",
       "      <td>Life Sciences</td>\n",
       "      <td>2</td>\n",
       "      <td>Female</td>\n",
       "      <td>3</td>\n",
       "      <td>2</td>\n",
       "      <td>4</td>\n",
       "      <td>Single</td>\n",
       "      <td>5993</td>\n",
       "      <td>Yes</td>\n",
       "      <td>8</td>\n",
       "      <td>1</td>\n",
       "      <td>6</td>\n",
       "      <td>4</td>\n",
       "      <td>0</td>\n",
       "      <td>5</td>\n",
       "      <td>1</td>\n",
       "    </tr>\n",
       "    <tr>\n",
       "      <th>1</th>\n",
       "      <td>49</td>\n",
       "      <td>0</td>\n",
       "      <td>Travel_Frequently</td>\n",
       "      <td>Research &amp; Development</td>\n",
       "      <td>Life Sciences</td>\n",
       "      <td>3</td>\n",
       "      <td>Male</td>\n",
       "      <td>2</td>\n",
       "      <td>2</td>\n",
       "      <td>2</td>\n",
       "      <td>Married</td>\n",
       "      <td>5130</td>\n",
       "      <td>No</td>\n",
       "      <td>10</td>\n",
       "      <td>3</td>\n",
       "      <td>10</td>\n",
       "      <td>7</td>\n",
       "      <td>1</td>\n",
       "      <td>7</td>\n",
       "      <td>8</td>\n",
       "    </tr>\n",
       "    <tr>\n",
       "      <th>2</th>\n",
       "      <td>37</td>\n",
       "      <td>1</td>\n",
       "      <td>Travel_Rarely</td>\n",
       "      <td>Research &amp; Development</td>\n",
       "      <td>Other</td>\n",
       "      <td>4</td>\n",
       "      <td>Male</td>\n",
       "      <td>2</td>\n",
       "      <td>1</td>\n",
       "      <td>3</td>\n",
       "      <td>Single</td>\n",
       "      <td>2090</td>\n",
       "      <td>Yes</td>\n",
       "      <td>7</td>\n",
       "      <td>3</td>\n",
       "      <td>0</td>\n",
       "      <td>0</td>\n",
       "      <td>0</td>\n",
       "      <td>0</td>\n",
       "      <td>2</td>\n",
       "    </tr>\n",
       "    <tr>\n",
       "      <th>3</th>\n",
       "      <td>33</td>\n",
       "      <td>0</td>\n",
       "      <td>Travel_Frequently</td>\n",
       "      <td>Research &amp; Development</td>\n",
       "      <td>Life Sciences</td>\n",
       "      <td>4</td>\n",
       "      <td>Female</td>\n",
       "      <td>3</td>\n",
       "      <td>1</td>\n",
       "      <td>3</td>\n",
       "      <td>Married</td>\n",
       "      <td>2909</td>\n",
       "      <td>Yes</td>\n",
       "      <td>8</td>\n",
       "      <td>3</td>\n",
       "      <td>8</td>\n",
       "      <td>7</td>\n",
       "      <td>3</td>\n",
       "      <td>0</td>\n",
       "      <td>3</td>\n",
       "    </tr>\n",
       "    <tr>\n",
       "      <th>4</th>\n",
       "      <td>27</td>\n",
       "      <td>0</td>\n",
       "      <td>Travel_Rarely</td>\n",
       "      <td>Research &amp; Development</td>\n",
       "      <td>Medical</td>\n",
       "      <td>1</td>\n",
       "      <td>Male</td>\n",
       "      <td>3</td>\n",
       "      <td>1</td>\n",
       "      <td>2</td>\n",
       "      <td>Married</td>\n",
       "      <td>3468</td>\n",
       "      <td>No</td>\n",
       "      <td>6</td>\n",
       "      <td>3</td>\n",
       "      <td>2</td>\n",
       "      <td>2</td>\n",
       "      <td>2</td>\n",
       "      <td>2</td>\n",
       "      <td>2</td>\n",
       "    </tr>\n",
       "  </tbody>\n",
       "</table>\n",
       "</div>\n",
       "      <button class=\"colab-df-convert\" onclick=\"convertToInteractive('df-a70af51b-7394-4cd5-8330-eb3eb58e84c1')\"\n",
       "              title=\"Convert this dataframe to an interactive table.\"\n",
       "              style=\"display:none;\">\n",
       "        \n",
       "  <svg xmlns=\"http://www.w3.org/2000/svg\" height=\"24px\"viewBox=\"0 0 24 24\"\n",
       "       width=\"24px\">\n",
       "    <path d=\"M0 0h24v24H0V0z\" fill=\"none\"/>\n",
       "    <path d=\"M18.56 5.44l.94 2.06.94-2.06 2.06-.94-2.06-.94-.94-2.06-.94 2.06-2.06.94zm-11 1L8.5 8.5l.94-2.06 2.06-.94-2.06-.94L8.5 2.5l-.94 2.06-2.06.94zm10 10l.94 2.06.94-2.06 2.06-.94-2.06-.94-.94-2.06-.94 2.06-2.06.94z\"/><path d=\"M17.41 7.96l-1.37-1.37c-.4-.4-.92-.59-1.43-.59-.52 0-1.04.2-1.43.59L10.3 9.45l-7.72 7.72c-.78.78-.78 2.05 0 2.83L4 21.41c.39.39.9.59 1.41.59.51 0 1.02-.2 1.41-.59l7.78-7.78 2.81-2.81c.8-.78.8-2.07 0-2.86zM5.41 20L4 18.59l7.72-7.72 1.47 1.35L5.41 20z\"/>\n",
       "  </svg>\n",
       "      </button>\n",
       "      \n",
       "  <style>\n",
       "    .colab-df-container {\n",
       "      display:flex;\n",
       "      flex-wrap:wrap;\n",
       "      gap: 12px;\n",
       "    }\n",
       "\n",
       "    .colab-df-convert {\n",
       "      background-color: #E8F0FE;\n",
       "      border: none;\n",
       "      border-radius: 50%;\n",
       "      cursor: pointer;\n",
       "      display: none;\n",
       "      fill: #1967D2;\n",
       "      height: 32px;\n",
       "      padding: 0 0 0 0;\n",
       "      width: 32px;\n",
       "    }\n",
       "\n",
       "    .colab-df-convert:hover {\n",
       "      background-color: #E2EBFA;\n",
       "      box-shadow: 0px 1px 2px rgba(60, 64, 67, 0.3), 0px 1px 3px 1px rgba(60, 64, 67, 0.15);\n",
       "      fill: #174EA6;\n",
       "    }\n",
       "\n",
       "    [theme=dark] .colab-df-convert {\n",
       "      background-color: #3B4455;\n",
       "      fill: #D2E3FC;\n",
       "    }\n",
       "\n",
       "    [theme=dark] .colab-df-convert:hover {\n",
       "      background-color: #434B5C;\n",
       "      box-shadow: 0px 1px 3px 1px rgba(0, 0, 0, 0.15);\n",
       "      filter: drop-shadow(0px 1px 2px rgba(0, 0, 0, 0.3));\n",
       "      fill: #FFFFFF;\n",
       "    }\n",
       "  </style>\n",
       "\n",
       "      <script>\n",
       "        const buttonEl =\n",
       "          document.querySelector('#df-a70af51b-7394-4cd5-8330-eb3eb58e84c1 button.colab-df-convert');\n",
       "        buttonEl.style.display =\n",
       "          google.colab.kernel.accessAllowed ? 'block' : 'none';\n",
       "\n",
       "        async function convertToInteractive(key) {\n",
       "          const element = document.querySelector('#df-a70af51b-7394-4cd5-8330-eb3eb58e84c1');\n",
       "          const dataTable =\n",
       "            await google.colab.kernel.invokeFunction('convertToInteractive',\n",
       "                                                     [key], {});\n",
       "          if (!dataTable) return;\n",
       "\n",
       "          const docLinkHtml = 'Like what you see? Visit the ' +\n",
       "            '<a target=\"_blank\" href=https://colab.research.google.com/notebooks/data_table.ipynb>data table notebook</a>'\n",
       "            + ' to learn more about interactive tables.';\n",
       "          element.innerHTML = '';\n",
       "          dataTable['output_type'] = 'display_data';\n",
       "          await google.colab.output.renderOutput(dataTable, element);\n",
       "          const docLink = document.createElement('div');\n",
       "          docLink.innerHTML = docLinkHtml;\n",
       "          element.appendChild(docLink);\n",
       "        }\n",
       "      </script>\n",
       "    </div>\n",
       "  </div>\n",
       "  "
      ],
      "text/plain": [
       "   Age  Attrition     BusinessTravel              Department EducationField  \\\n",
       "0   41          1      Travel_Rarely                   Sales  Life Sciences   \n",
       "1   49          0  Travel_Frequently  Research & Development  Life Sciences   \n",
       "2   37          1      Travel_Rarely  Research & Development          Other   \n",
       "3   33          0  Travel_Frequently  Research & Development  Life Sciences   \n",
       "4   27          0      Travel_Rarely  Research & Development        Medical   \n",
       "\n",
       "   EnvironmentSatisfaction  Gender  JobInvolvement  JobLevel  JobSatisfaction  \\\n",
       "0                        2  Female               3         2                4   \n",
       "1                        3    Male               2         2                2   \n",
       "2                        4    Male               2         1                3   \n",
       "3                        4  Female               3         1                3   \n",
       "4                        1    Male               3         1                2   \n",
       "\n",
       "  MaritalStatus  MonthlyIncome OverTime  TotalWorkingYears  WorkLifeBalance  \\\n",
       "0        Single           5993      Yes                  8                1   \n",
       "1       Married           5130       No                 10                3   \n",
       "2        Single           2090      Yes                  7                3   \n",
       "3       Married           2909      Yes                  8                3   \n",
       "4       Married           3468       No                  6                3   \n",
       "\n",
       "   YearsAtCompany  YearsInCurrentRole  YearsSinceLastPromotion  \\\n",
       "0               6                   4                        0   \n",
       "1              10                   7                        1   \n",
       "2               0                   0                        0   \n",
       "3               8                   7                        3   \n",
       "4               2                   2                        2   \n",
       "\n",
       "   YearsWithCurrManager  DistanceFromHome  \n",
       "0                     5                 1  \n",
       "1                     7                 8  \n",
       "2                     0                 2  \n",
       "3                     0                 3  \n",
       "4                     2                 2  "
      ]
     },
     "execution_count": 45,
     "metadata": {},
     "output_type": "execute_result"
    }
   ],
   "source": [
    "attrition.head() "
   ]
  },
  {
   "cell_type": "code",
   "execution_count": 46,
   "id": "db2d5639",
   "metadata": {
    "id": "db2d5639"
   },
   "outputs": [],
   "source": [
    "n=len(attrition)"
   ]
  },
  {
   "cell_type": "code",
   "execution_count": 47,
   "id": "2fcc84d1",
   "metadata": {
    "colab": {
     "base_uri": "https://localhost:8080/",
     "height": 269
    },
    "id": "2fcc84d1",
    "outputId": "56b7956d-20b3-4a63-dbc6-ea58bf0d66a3"
   },
   "outputs": [
    {
     "data": {
      "text/html": [
       "\n",
       "  <div id=\"df-5511b84e-a078-4b33-846c-db546ee4ee66\">\n",
       "    <div class=\"colab-df-container\">\n",
       "      <div>\n",
       "<style scoped>\n",
       "    .dataframe tbody tr th:only-of-type {\n",
       "        vertical-align: middle;\n",
       "    }\n",
       "\n",
       "    .dataframe tbody tr th {\n",
       "        vertical-align: top;\n",
       "    }\n",
       "\n",
       "    .dataframe thead th {\n",
       "        text-align: right;\n",
       "    }\n",
       "</style>\n",
       "<table border=\"1\" class=\"dataframe\">\n",
       "  <thead>\n",
       "    <tr style=\"text-align: right;\">\n",
       "      <th>col_0</th>\n",
       "      <th>Percentage</th>\n",
       "    </tr>\n",
       "    <tr>\n",
       "      <th>EducationField</th>\n",
       "      <th></th>\n",
       "    </tr>\n",
       "  </thead>\n",
       "  <tbody>\n",
       "    <tr>\n",
       "      <th>Human Resources</th>\n",
       "      <td>1.84</td>\n",
       "    </tr>\n",
       "    <tr>\n",
       "      <th>Life Sciences</th>\n",
       "      <td>41.22</td>\n",
       "    </tr>\n",
       "    <tr>\n",
       "      <th>Marketing</th>\n",
       "      <td>10.82</td>\n",
       "    </tr>\n",
       "    <tr>\n",
       "      <th>Medical</th>\n",
       "      <td>31.56</td>\n",
       "    </tr>\n",
       "    <tr>\n",
       "      <th>Other</th>\n",
       "      <td>5.58</td>\n",
       "    </tr>\n",
       "    <tr>\n",
       "      <th>Technical Degree</th>\n",
       "      <td>8.98</td>\n",
       "    </tr>\n",
       "  </tbody>\n",
       "</table>\n",
       "</div>\n",
       "      <button class=\"colab-df-convert\" onclick=\"convertToInteractive('df-5511b84e-a078-4b33-846c-db546ee4ee66')\"\n",
       "              title=\"Convert this dataframe to an interactive table.\"\n",
       "              style=\"display:none;\">\n",
       "        \n",
       "  <svg xmlns=\"http://www.w3.org/2000/svg\" height=\"24px\"viewBox=\"0 0 24 24\"\n",
       "       width=\"24px\">\n",
       "    <path d=\"M0 0h24v24H0V0z\" fill=\"none\"/>\n",
       "    <path d=\"M18.56 5.44l.94 2.06.94-2.06 2.06-.94-2.06-.94-.94-2.06-.94 2.06-2.06.94zm-11 1L8.5 8.5l.94-2.06 2.06-.94-2.06-.94L8.5 2.5l-.94 2.06-2.06.94zm10 10l.94 2.06.94-2.06 2.06-.94-2.06-.94-.94-2.06-.94 2.06-2.06.94z\"/><path d=\"M17.41 7.96l-1.37-1.37c-.4-.4-.92-.59-1.43-.59-.52 0-1.04.2-1.43.59L10.3 9.45l-7.72 7.72c-.78.78-.78 2.05 0 2.83L4 21.41c.39.39.9.59 1.41.59.51 0 1.02-.2 1.41-.59l7.78-7.78 2.81-2.81c.8-.78.8-2.07 0-2.86zM5.41 20L4 18.59l7.72-7.72 1.47 1.35L5.41 20z\"/>\n",
       "  </svg>\n",
       "      </button>\n",
       "      \n",
       "  <style>\n",
       "    .colab-df-container {\n",
       "      display:flex;\n",
       "      flex-wrap:wrap;\n",
       "      gap: 12px;\n",
       "    }\n",
       "\n",
       "    .colab-df-convert {\n",
       "      background-color: #E8F0FE;\n",
       "      border: none;\n",
       "      border-radius: 50%;\n",
       "      cursor: pointer;\n",
       "      display: none;\n",
       "      fill: #1967D2;\n",
       "      height: 32px;\n",
       "      padding: 0 0 0 0;\n",
       "      width: 32px;\n",
       "    }\n",
       "\n",
       "    .colab-df-convert:hover {\n",
       "      background-color: #E2EBFA;\n",
       "      box-shadow: 0px 1px 2px rgba(60, 64, 67, 0.3), 0px 1px 3px 1px rgba(60, 64, 67, 0.15);\n",
       "      fill: #174EA6;\n",
       "    }\n",
       "\n",
       "    [theme=dark] .colab-df-convert {\n",
       "      background-color: #3B4455;\n",
       "      fill: #D2E3FC;\n",
       "    }\n",
       "\n",
       "    [theme=dark] .colab-df-convert:hover {\n",
       "      background-color: #434B5C;\n",
       "      box-shadow: 0px 1px 3px 1px rgba(0, 0, 0, 0.15);\n",
       "      filter: drop-shadow(0px 1px 2px rgba(0, 0, 0, 0.3));\n",
       "      fill: #FFFFFF;\n",
       "    }\n",
       "  </style>\n",
       "\n",
       "      <script>\n",
       "        const buttonEl =\n",
       "          document.querySelector('#df-5511b84e-a078-4b33-846c-db546ee4ee66 button.colab-df-convert');\n",
       "        buttonEl.style.display =\n",
       "          google.colab.kernel.accessAllowed ? 'block' : 'none';\n",
       "\n",
       "        async function convertToInteractive(key) {\n",
       "          const element = document.querySelector('#df-5511b84e-a078-4b33-846c-db546ee4ee66');\n",
       "          const dataTable =\n",
       "            await google.colab.kernel.invokeFunction('convertToInteractive',\n",
       "                                                     [key], {});\n",
       "          if (!dataTable) return;\n",
       "\n",
       "          const docLinkHtml = 'Like what you see? Visit the ' +\n",
       "            '<a target=\"_blank\" href=https://colab.research.google.com/notebooks/data_table.ipynb>data table notebook</a>'\n",
       "            + ' to learn more about interactive tables.';\n",
       "          element.innerHTML = '';\n",
       "          dataTable['output_type'] = 'display_data';\n",
       "          await google.colab.output.renderOutput(dataTable, element);\n",
       "          const docLink = document.createElement('div');\n",
       "          docLink.innerHTML = docLinkHtml;\n",
       "          element.appendChild(docLink);\n",
       "        }\n",
       "      </script>\n",
       "    </div>\n",
       "  </div>\n",
       "  "
      ],
      "text/plain": [
       "col_0             Percentage\n",
       "EducationField              \n",
       "Human Resources         1.84\n",
       "Life Sciences          41.22\n",
       "Marketing              10.82\n",
       "Medical                31.56\n",
       "Other                   5.58\n",
       "Technical Degree        8.98"
      ]
     },
     "execution_count": 47,
     "metadata": {},
     "output_type": "execute_result"
    }
   ],
   "source": [
    "tab1 = pd.crosstab(attrition.EducationField, columns=\"Percentage\")\n",
    "round((tab1/n*100),2)"
   ]
  },
  {
   "cell_type": "markdown",
   "id": "48d95e9f",
   "metadata": {
    "id": "48d95e9f"
   },
   "source": [
    "#### Observation\n",
    "\n",
    "- Variable \"Education\" comprises of values - Human Resources,Life sciences,Marketing,Medical,Other,Technical degree\n",
    "- It is categorical variable; Scale of measurement is Nominal in nature\n",
    "- Majority employees comes from an education background of Life sciences 41.22% followed by Medical with 31.56% & Marketing 10.82%\n",
    "- Based on Department variable, it indicates that organisation is involved in a field related to Science research and development, the data confirms that a vast majority of employees, i.e.approx 72%, have an educational background in life sciences and medicine. \n",
    "The remaining employees come with technical, marketing, HR or other degrees\n",
    "\n",
    "- Only 1.84% of total employeees come with a degree in Human resources"
   ]
  },
  {
   "cell_type": "markdown",
   "id": "11350576",
   "metadata": {
    "id": "11350576"
   },
   "source": [
    "### 6. Environmental Satisfaction"
   ]
  },
  {
   "cell_type": "code",
   "execution_count": 48,
   "id": "bffcdba6",
   "metadata": {
    "colab": {
     "base_uri": "https://localhost:8080/",
     "height": 515
    },
    "id": "bffcdba6",
    "outputId": "2890fa73-4686-4054-a452-af5bdde7aefd"
   },
   "outputs": [
    {
     "data": {
      "text/plain": [
       "{'bodies': [<matplotlib.collections.PolyCollection at 0x7f7d693c7150>],\n",
       " 'cbars': <matplotlib.collections.LineCollection at 0x7f7d6940b4d0>,\n",
       " 'cmaxes': <matplotlib.collections.LineCollection at 0x7f7d695422d0>,\n",
       " 'cmedians': <matplotlib.collections.LineCollection at 0x7f7d693c76d0>,\n",
       " 'cmins': <matplotlib.collections.LineCollection at 0x7f7d693c7290>}"
      ]
     },
     "execution_count": 48,
     "metadata": {},
     "output_type": "execute_result"
    },
    {
     "data": {
      "image/png": "[encoded data removed]",
      "text/plain": [
       "<Figure size 504x504 with 1 Axes>"
      ]
     },
     "metadata": {
      "needs_background": "light"
     },
     "output_type": "display_data"
    }
   ],
   "source": [
    "plt.figure(figsize=(7,7))\n",
    "plt.violinplot(attrition.EnvironmentSatisfaction, showmedians=True)"
   ]
  },
  {
   "cell_type": "code",
   "execution_count": 49,
   "id": "a0815591",
   "metadata": {
    "colab": {
     "base_uri": "https://localhost:8080/",
     "height": 302
    },
    "id": "a0815591",
    "outputId": "13009111-5ca3-4021-ea71-911e257ac9bd"
   },
   "outputs": [
    {
     "data": {
      "image/png": "[encoded data removed]",
      "text/plain": [
       "<Figure size 576x288 with 1 Axes>"
      ]
     },
     "metadata": {
      "needs_background": "light"
     },
     "output_type": "display_data"
    }
   ],
   "source": [
    "attrition.EnvironmentSatisfaction.value_counts().plot(kind='bar', figsize=(8,4), color='pink', rot=45)\n",
    "plt.title('Environmental Satisfaction', fontsize=14)\n",
    "plt.xlabel('Environmental Satisfaction', fontsize=14)\n",
    "plt.ylabel('No of employees', fontsize=14)\n",
    "plt.grid(False)\n",
    "plt.show()"
   ]
  },
  {
   "cell_type": "code",
   "execution_count": 50,
   "id": "88df2a5c",
   "metadata": {
    "colab": {
     "base_uri": "https://localhost:8080/",
     "height": 206
    },
    "id": "88df2a5c",
    "outputId": "2560d50a-8be5-4fa2-84bf-5636745c1016"
   },
   "outputs": [
    {
     "data": {
      "text/html": [
       "\n",
       "  <div id=\"df-0af680d7-4e06-4368-9bd7-4c1d90648062\">\n",
       "    <div class=\"colab-df-container\">\n",
       "      <div>\n",
       "<style scoped>\n",
       "    .dataframe tbody tr th:only-of-type {\n",
       "        vertical-align: middle;\n",
       "    }\n",
       "\n",
       "    .dataframe tbody tr th {\n",
       "        vertical-align: top;\n",
       "    }\n",
       "\n",
       "    .dataframe thead th {\n",
       "        text-align: right;\n",
       "    }\n",
       "</style>\n",
       "<table border=\"1\" class=\"dataframe\">\n",
       "  <thead>\n",
       "    <tr style=\"text-align: right;\">\n",
       "      <th>col_0</th>\n",
       "      <th>Percentage</th>\n",
       "    </tr>\n",
       "    <tr>\n",
       "      <th>EnvironmentSatisfaction</th>\n",
       "      <th></th>\n",
       "    </tr>\n",
       "  </thead>\n",
       "  <tbody>\n",
       "    <tr>\n",
       "      <th>1</th>\n",
       "      <td>19.32</td>\n",
       "    </tr>\n",
       "    <tr>\n",
       "      <th>2</th>\n",
       "      <td>19.52</td>\n",
       "    </tr>\n",
       "    <tr>\n",
       "      <th>3</th>\n",
       "      <td>30.82</td>\n",
       "    </tr>\n",
       "    <tr>\n",
       "      <th>4</th>\n",
       "      <td>30.34</td>\n",
       "    </tr>\n",
       "  </tbody>\n",
       "</table>\n",
       "</div>\n",
       "      <button class=\"colab-df-convert\" onclick=\"convertToInteractive('df-0af680d7-4e06-4368-9bd7-4c1d90648062')\"\n",
       "              title=\"Convert this dataframe to an interactive table.\"\n",
       "              style=\"display:none;\">\n",
       "        \n",
       "  <svg xmlns=\"http://www.w3.org/2000/svg\" height=\"24px\"viewBox=\"0 0 24 24\"\n",
       "       width=\"24px\">\n",
       "    <path d=\"M0 0h24v24H0V0z\" fill=\"none\"/>\n",
       "    <path d=\"M18.56 5.44l.94 2.06.94-2.06 2.06-.94-2.06-.94-.94-2.06-.94 2.06-2.06.94zm-11 1L8.5 8.5l.94-2.06 2.06-.94-2.06-.94L8.5 2.5l-.94 2.06-2.06.94zm10 10l.94 2.06.94-2.06 2.06-.94-2.06-.94-.94-2.06-.94 2.06-2.06.94z\"/><path d=\"M17.41 7.96l-1.37-1.37c-.4-.4-.92-.59-1.43-.59-.52 0-1.04.2-1.43.59L10.3 9.45l-7.72 7.72c-.78.78-.78 2.05 0 2.83L4 21.41c.39.39.9.59 1.41.59.51 0 1.02-.2 1.41-.59l7.78-7.78 2.81-2.81c.8-.78.8-2.07 0-2.86zM5.41 20L4 18.59l7.72-7.72 1.47 1.35L5.41 20z\"/>\n",
       "  </svg>\n",
       "      </button>\n",
       "      \n",
       "  <style>\n",
       "    .colab-df-container {\n",
       "      display:flex;\n",
       "      flex-wrap:wrap;\n",
       "      gap: 12px;\n",
       "    }\n",
       "\n",
       "    .colab-df-convert {\n",
       "      background-color: #E8F0FE;\n",
       "      border: none;\n",
       "      border-radius: 50%;\n",
       "      cursor: pointer;\n",
       "      display: none;\n",
       "      fill: #1967D2;\n",
       "      height: 32px;\n",
       "      padding: 0 0 0 0;\n",
       "      width: 32px;\n",
       "    }\n",
       "\n",
       "    .colab-df-convert:hover {\n",
       "      background-color: #E2EBFA;\n",
       "      box-shadow: 0px 1px 2px rgba(60, 64, 67, 0.3), 0px 1px 3px 1px rgba(60, 64, 67, 0.15);\n",
       "      fill: #174EA6;\n",
       "    }\n",
       "\n",
       "    [theme=dark] .colab-df-convert {\n",
       "      background-color: #3B4455;\n",
       "      fill: #D2E3FC;\n",
       "    }\n",
       "\n",
       "    [theme=dark] .colab-df-convert:hover {\n",
       "      background-color: #434B5C;\n",
       "      box-shadow: 0px 1px 3px 1px rgba(0, 0, 0, 0.15);\n",
       "      filter: drop-shadow(0px 1px 2px rgba(0, 0, 0, 0.3));\n",
       "      fill: #FFFFFF;\n",
       "    }\n",
       "  </style>\n",
       "\n",
       "      <script>\n",
       "        const buttonEl =\n",
       "          document.querySelector('#df-0af680d7-4e06-4368-9bd7-4c1d90648062 button.colab-df-convert');\n",
       "        buttonEl.style.display =\n",
       "          google.colab.kernel.accessAllowed ? 'block' : 'none';\n",
       "\n",
       "        async function convertToInteractive(key) {\n",
       "          const element = document.querySelector('#df-0af680d7-4e06-4368-9bd7-4c1d90648062');\n",
       "          const dataTable =\n",
       "            await google.colab.kernel.invokeFunction('convertToInteractive',\n",
       "                                                     [key], {});\n",
       "          if (!dataTable) return;\n",
       "\n",
       "          const docLinkHtml = 'Like what you see? Visit the ' +\n",
       "            '<a target=\"_blank\" href=https://colab.research.google.com/notebooks/data_table.ipynb>data table notebook</a>'\n",
       "            + ' to learn more about interactive tables.';\n",
       "          element.innerHTML = '';\n",
       "          dataTable['output_type'] = 'display_data';\n",
       "          await google.colab.output.renderOutput(dataTable, element);\n",
       "          const docLink = document.createElement('div');\n",
       "          docLink.innerHTML = docLinkHtml;\n",
       "          element.appendChild(docLink);\n",
       "        }\n",
       "      </script>\n",
       "    </div>\n",
       "  </div>\n",
       "  "
      ],
      "text/plain": [
       "col_0                    Percentage\n",
       "EnvironmentSatisfaction            \n",
       "1                             19.32\n",
       "2                             19.52\n",
       "3                             30.82\n",
       "4                             30.34"
      ]
     },
     "execution_count": 50,
     "metadata": {},
     "output_type": "execute_result"
    }
   ],
   "source": [
    "tab2 = pd.crosstab(attrition.EnvironmentSatisfaction, columns=\"Percentage\")\n",
    "round((tab2/n*100),2)"
   ]
  },
  {
   "cell_type": "markdown",
   "id": "25560b65",
   "metadata": {
    "id": "25560b65"
   },
   "source": [
    "#### Observation\n",
    "\n",
    "- Variable \"Environment Satisfaction\" consists of values ranging from 1 to 4; \n",
    "- 1 representing low environmental satisfaction level & 4 representing high environmental satisfaction\n",
    "- It is a categorical variable; Scale of measurement is Ordinal in nature\n",
    "- 61.16% employees experience a higher level of environment satisfaction whereas 38% employees feel discontented with the organization's environment which is high"
   ]
  },
  {
   "cell_type": "markdown",
   "id": "7cd84b40",
   "metadata": {
    "id": "7cd84b40"
   },
   "source": [
    "### 7. Gender"
   ]
  },
  {
   "cell_type": "code",
   "execution_count": 51,
   "id": "54cf2880",
   "metadata": {
    "colab": {
     "base_uri": "https://localhost:8080/",
     "height": 248
    },
    "id": "54cf2880",
    "outputId": "8150c7fd-7bf0-4357-dc11-317a8eab048c",
    "scrolled": true
   },
   "outputs": [
    {
     "data": {
      "image/png": "[encoded data removed]",
      "text/plain": [
       "<Figure size 432x288 with 1 Axes>"
      ]
     },
     "metadata": {},
     "output_type": "display_data"
    }
   ],
   "source": [
    "male = 882/1470*100\n",
    "female = 588/1470*100\n",
    "\n",
    "labels = ['male','female']\n",
    "sizes = [male, female]\n",
    "plt.pie(sizes, labels=labels, autopct='%1.1f%%')\n",
    "plt.axis('equal')\n",
    "circle = plt.Circle(xy=(0,0), radius=0.75, facecolor='white')\n",
    "plt.gca().add_artist(circle)\n",
    "plt.show()"
   ]
  },
  {
   "cell_type": "code",
   "execution_count": 52,
   "id": "829c5d6c",
   "metadata": {
    "colab": {
     "base_uri": "https://localhost:8080/",
     "height": 143
    },
    "id": "829c5d6c",
    "outputId": "06fb5011-0a46-4700-b1c8-092cdf139c7b"
   },
   "outputs": [
    {
     "data": {
      "text/html": [
       "\n",
       "  <div id=\"df-98b47cb7-2519-452d-962d-f32a5b3c415a\">\n",
       "    <div class=\"colab-df-container\">\n",
       "      <div>\n",
       "<style scoped>\n",
       "    .dataframe tbody tr th:only-of-type {\n",
       "        vertical-align: middle;\n",
       "    }\n",
       "\n",
       "    .dataframe tbody tr th {\n",
       "        vertical-align: top;\n",
       "    }\n",
       "\n",
       "    .dataframe thead th {\n",
       "        text-align: right;\n",
       "    }\n",
       "</style>\n",
       "<table border=\"1\" class=\"dataframe\">\n",
       "  <thead>\n",
       "    <tr style=\"text-align: right;\">\n",
       "      <th>col_0</th>\n",
       "      <th>Percentage</th>\n",
       "    </tr>\n",
       "    <tr>\n",
       "      <th>Gender</th>\n",
       "      <th></th>\n",
       "    </tr>\n",
       "  </thead>\n",
       "  <tbody>\n",
       "    <tr>\n",
       "      <th>Female</th>\n",
       "      <td>588</td>\n",
       "    </tr>\n",
       "    <tr>\n",
       "      <th>Male</th>\n",
       "      <td>882</td>\n",
       "    </tr>\n",
       "  </tbody>\n",
       "</table>\n",
       "</div>\n",
       "      <button class=\"colab-df-convert\" onclick=\"convertToInteractive('df-98b47cb7-2519-452d-962d-f32a5b3c415a')\"\n",
       "              title=\"Convert this dataframe to an interactive table.\"\n",
       "              style=\"display:none;\">\n",
       "        \n",
       "  <svg xmlns=\"http://www.w3.org/2000/svg\" height=\"24px\"viewBox=\"0 0 24 24\"\n",
       "       width=\"24px\">\n",
       "    <path d=\"M0 0h24v24H0V0z\" fill=\"none\"/>\n",
       "    <path d=\"M18.56 5.44l.94 2.06.94-2.06 2.06-.94-2.06-.94-.94-2.06-.94 2.06-2.06.94zm-11 1L8.5 8.5l.94-2.06 2.06-.94-2.06-.94L8.5 2.5l-.94 2.06-2.06.94zm10 10l.94 2.06.94-2.06 2.06-.94-2.06-.94-.94-2.06-.94 2.06-2.06.94z\"/><path d=\"M17.41 7.96l-1.37-1.37c-.4-.4-.92-.59-1.43-.59-.52 0-1.04.2-1.43.59L10.3 9.45l-7.72 7.72c-.78.78-.78 2.05 0 2.83L4 21.41c.39.39.9.59 1.41.59.51 0 1.02-.2 1.41-.59l7.78-7.78 2.81-2.81c.8-.78.8-2.07 0-2.86zM5.41 20L4 18.59l7.72-7.72 1.47 1.35L5.41 20z\"/>\n",
       "  </svg>\n",
       "      </button>\n",
       "      \n",
       "  <style>\n",
       "    .colab-df-container {\n",
       "      display:flex;\n",
       "      flex-wrap:wrap;\n",
       "      gap: 12px;\n",
       "    }\n",
       "\n",
       "    .colab-df-convert {\n",
       "      background-color: #E8F0FE;\n",
       "      border: none;\n",
       "      border-radius: 50%;\n",
       "      cursor: pointer;\n",
       "      display: none;\n",
       "      fill: #1967D2;\n",
       "      height: 32px;\n",
       "      padding: 0 0 0 0;\n",
       "      width: 32px;\n",
       "    }\n",
       "\n",
       "    .colab-df-convert:hover {\n",
       "      background-color: #E2EBFA;\n",
       "      box-shadow: 0px 1px 2px rgba(60, 64, 67, 0.3), 0px 1px 3px 1px rgba(60, 64, 67, 0.15);\n",
       "      fill: #174EA6;\n",
       "    }\n",
       "\n",
       "    [theme=dark] .colab-df-convert {\n",
       "      background-color: #3B4455;\n",
       "      fill: #D2E3FC;\n",
       "    }\n",
       "\n",
       "    [theme=dark] .colab-df-convert:hover {\n",
       "      background-color: #434B5C;\n",
       "      box-shadow: 0px 1px 3px 1px rgba(0, 0, 0, 0.15);\n",
       "      filter: drop-shadow(0px 1px 2px rgba(0, 0, 0, 0.3));\n",
       "      fill: #FFFFFF;\n",
       "    }\n",
       "  </style>\n",
       "\n",
       "      <script>\n",
       "        const buttonEl =\n",
       "          document.querySelector('#df-98b47cb7-2519-452d-962d-f32a5b3c415a button.colab-df-convert');\n",
       "        buttonEl.style.display =\n",
       "          google.colab.kernel.accessAllowed ? 'block' : 'none';\n",
       "\n",
       "        async function convertToInteractive(key) {\n",
       "          const element = document.querySelector('#df-98b47cb7-2519-452d-962d-f32a5b3c415a');\n",
       "          const dataTable =\n",
       "            await google.colab.kernel.invokeFunction('convertToInteractive',\n",
       "                                                     [key], {});\n",
       "          if (!dataTable) return;\n",
       "\n",
       "          const docLinkHtml = 'Like what you see? Visit the ' +\n",
       "            '<a target=\"_blank\" href=https://colab.research.google.com/notebooks/data_table.ipynb>data table notebook</a>'\n",
       "            + ' to learn more about interactive tables.';\n",
       "          element.innerHTML = '';\n",
       "          dataTable['output_type'] = 'display_data';\n",
       "          await google.colab.output.renderOutput(dataTable, element);\n",
       "          const docLink = document.createElement('div');\n",
       "          docLink.innerHTML = docLinkHtml;\n",
       "          element.appendChild(docLink);\n",
       "        }\n",
       "      </script>\n",
       "    </div>\n",
       "  </div>\n",
       "  "
      ],
      "text/plain": [
       "col_0   Percentage\n",
       "Gender            \n",
       "Female         588\n",
       "Male           882"
      ]
     },
     "execution_count": 52,
     "metadata": {},
     "output_type": "execute_result"
    }
   ],
   "source": [
    "tab3 = pd.crosstab(attrition.Gender, columns=\"Percentage\")\n",
    "tab3"
   ]
  },
  {
   "cell_type": "markdown",
   "id": "bb21fb59",
   "metadata": {
    "id": "bb21fb59"
   },
   "source": [
    "- Variable \"Gender\" consists of value \"Male & \"Female\"\n",
    "- It is categorical variable; Scale of measurement is nominal in nature\n",
    "- Ratio of male to female employees is 60:40 "
   ]
  },
  {
   "cell_type": "markdown",
   "id": "8d9af048",
   "metadata": {
    "id": "8d9af048"
   },
   "source": [
    "### 8. Job Involvement"
   ]
  },
  {
   "cell_type": "code",
   "execution_count": 53,
   "id": "e23aa943",
   "metadata": {
    "colab": {
     "base_uri": "https://localhost:8080/",
     "height": 295
    },
    "id": "e23aa943",
    "outputId": "3d1d9c45-cc00-4027-e5db-2bd95a7f9cf4"
   },
   "outputs": [
    {
     "data": {
      "image/png": "[encoded data removed]",
      "text/plain": [
       "<Figure size 432x288 with 1 Axes>"
      ]
     },
     "metadata": {
      "needs_background": "light"
     },
     "output_type": "display_data"
    }
   ],
   "source": [
    "labels = 'L1', 'L2','L3','L4'\n",
    "sizes = [83,375,868,144]\n",
    "  \n",
    "plt.plot(labels, sizes,color='Blue', marker='o')\n",
    "plt.title('Job Involvement')\n",
    "plt.xlabel('levels')\n",
    "plt.ylabel('Employees')\n",
    "plt.grid(True)\n",
    "plt.show()"
   ]
  },
  {
   "cell_type": "code",
   "execution_count": 54,
   "id": "6cc65171",
   "metadata": {
    "colab": {
     "base_uri": "https://localhost:8080/",
     "height": 206
    },
    "id": "6cc65171",
    "outputId": "81ac174b-5232-41fa-f7ea-0b372e3c7003"
   },
   "outputs": [
    {
     "data": {
      "text/html": [
       "\n",
       "  <div id=\"df-c00c4f51-e864-4e66-b531-cab0c747478b\">\n",
       "    <div class=\"colab-df-container\">\n",
       "      <div>\n",
       "<style scoped>\n",
       "    .dataframe tbody tr th:only-of-type {\n",
       "        vertical-align: middle;\n",
       "    }\n",
       "\n",
       "    .dataframe tbody tr th {\n",
       "        vertical-align: top;\n",
       "    }\n",
       "\n",
       "    .dataframe thead th {\n",
       "        text-align: right;\n",
       "    }\n",
       "</style>\n",
       "<table border=\"1\" class=\"dataframe\">\n",
       "  <thead>\n",
       "    <tr style=\"text-align: right;\">\n",
       "      <th>col_0</th>\n",
       "      <th>count</th>\n",
       "    </tr>\n",
       "    <tr>\n",
       "      <th>JobInvolvement</th>\n",
       "      <th></th>\n",
       "    </tr>\n",
       "  </thead>\n",
       "  <tbody>\n",
       "    <tr>\n",
       "      <th>1</th>\n",
       "      <td>83</td>\n",
       "    </tr>\n",
       "    <tr>\n",
       "      <th>2</th>\n",
       "      <td>375</td>\n",
       "    </tr>\n",
       "    <tr>\n",
       "      <th>3</th>\n",
       "      <td>868</td>\n",
       "    </tr>\n",
       "    <tr>\n",
       "      <th>4</th>\n",
       "      <td>144</td>\n",
       "    </tr>\n",
       "  </tbody>\n",
       "</table>\n",
       "</div>\n",
       "      <button class=\"colab-df-convert\" onclick=\"convertToInteractive('df-c00c4f51-e864-4e66-b531-cab0c747478b')\"\n",
       "              title=\"Convert this dataframe to an interactive table.\"\n",
       "              style=\"display:none;\">\n",
       "        \n",
       "  <svg xmlns=\"http://www.w3.org/2000/svg\" height=\"24px\"viewBox=\"0 0 24 24\"\n",
       "       width=\"24px\">\n",
       "    <path d=\"M0 0h24v24H0V0z\" fill=\"none\"/>\n",
       "    <path d=\"M18.56 5.44l.94 2.06.94-2.06 2.06-.94-2.06-.94-.94-2.06-.94 2.06-2.06.94zm-11 1L8.5 8.5l.94-2.06 2.06-.94-2.06-.94L8.5 2.5l-.94 2.06-2.06.94zm10 10l.94 2.06.94-2.06 2.06-.94-2.06-.94-.94-2.06-.94 2.06-2.06.94z\"/><path d=\"M17.41 7.96l-1.37-1.37c-.4-.4-.92-.59-1.43-.59-.52 0-1.04.2-1.43.59L10.3 9.45l-7.72 7.72c-.78.78-.78 2.05 0 2.83L4 21.41c.39.39.9.59 1.41.59.51 0 1.02-.2 1.41-.59l7.78-7.78 2.81-2.81c.8-.78.8-2.07 0-2.86zM5.41 20L4 18.59l7.72-7.72 1.47 1.35L5.41 20z\"/>\n",
       "  </svg>\n",
       "      </button>\n",
       "      \n",
       "  <style>\n",
       "    .colab-df-container {\n",
       "      display:flex;\n",
       "      flex-wrap:wrap;\n",
       "      gap: 12px;\n",
       "    }\n",
       "\n",
       "    .colab-df-convert {\n",
       "      background-color: #E8F0FE;\n",
       "      border: none;\n",
       "      border-radius: 50%;\n",
       "      cursor: pointer;\n",
       "      display: none;\n",
       "      fill: #1967D2;\n",
       "      height: 32px;\n",
       "      padding: 0 0 0 0;\n",
       "      width: 32px;\n",
       "    }\n",
       "\n",
       "    .colab-df-convert:hover {\n",
       "      background-color: #E2EBFA;\n",
       "      box-shadow: 0px 1px 2px rgba(60, 64, 67, 0.3), 0px 1px 3px 1px rgba(60, 64, 67, 0.15);\n",
       "      fill: #174EA6;\n",
       "    }\n",
       "\n",
       "    [theme=dark] .colab-df-convert {\n",
       "      background-color: #3B4455;\n",
       "      fill: #D2E3FC;\n",
       "    }\n",
       "\n",
       "    [theme=dark] .colab-df-convert:hover {\n",
       "      background-color: #434B5C;\n",
       "      box-shadow: 0px 1px 3px 1px rgba(0, 0, 0, 0.15);\n",
       "      filter: drop-shadow(0px 1px 2px rgba(0, 0, 0, 0.3));\n",
       "      fill: #FFFFFF;\n",
       "    }\n",
       "  </style>\n",
       "\n",
       "      <script>\n",
       "        const buttonEl =\n",
       "          document.querySelector('#df-c00c4f51-e864-4e66-b531-cab0c747478b button.colab-df-convert');\n",
       "        buttonEl.style.display =\n",
       "          google.colab.kernel.accessAllowed ? 'block' : 'none';\n",
       "\n",
       "        async function convertToInteractive(key) {\n",
       "          const element = document.querySelector('#df-c00c4f51-e864-4e66-b531-cab0c747478b');\n",
       "          const dataTable =\n",
       "            await google.colab.kernel.invokeFunction('convertToInteractive',\n",
       "                                                     [key], {});\n",
       "          if (!dataTable) return;\n",
       "\n",
       "          const docLinkHtml = 'Like what you see? Visit the ' +\n",
       "            '<a target=\"_blank\" href=https://colab.research.google.com/notebooks/data_table.ipynb>data table notebook</a>'\n",
       "            + ' to learn more about interactive tables.';\n",
       "          element.innerHTML = '';\n",
       "          dataTable['output_type'] = 'display_data';\n",
       "          await google.colab.output.renderOutput(dataTable, element);\n",
       "          const docLink = document.createElement('div');\n",
       "          docLink.innerHTML = docLinkHtml;\n",
       "          element.appendChild(docLink);\n",
       "        }\n",
       "      </script>\n",
       "    </div>\n",
       "  </div>\n",
       "  "
      ],
      "text/plain": [
       "col_0           count\n",
       "JobInvolvement       \n",
       "1                  83\n",
       "2                 375\n",
       "3                 868\n",
       "4                 144"
      ]
     },
     "execution_count": 54,
     "metadata": {},
     "output_type": "execute_result"
    }
   ],
   "source": [
    "tab4= pd.crosstab(attrition.JobInvolvement, columns='count')\n",
    "tab4\n"
   ]
  },
  {
   "cell_type": "code",
   "execution_count": 55,
   "id": "a4544e80",
   "metadata": {
    "colab": {
     "base_uri": "https://localhost:8080/",
     "height": 206
    },
    "id": "a4544e80",
    "outputId": "d068fd63-96e9-4053-a467-52e2214425b3"
   },
   "outputs": [
    {
     "data": {
      "text/html": [
       "\n",
       "  <div id=\"df-cb4cd9d8-87bf-407f-bc28-caf759b8d59f\">\n",
       "    <div class=\"colab-df-container\">\n",
       "      <div>\n",
       "<style scoped>\n",
       "    .dataframe tbody tr th:only-of-type {\n",
       "        vertical-align: middle;\n",
       "    }\n",
       "\n",
       "    .dataframe tbody tr th {\n",
       "        vertical-align: top;\n",
       "    }\n",
       "\n",
       "    .dataframe thead th {\n",
       "        text-align: right;\n",
       "    }\n",
       "</style>\n",
       "<table border=\"1\" class=\"dataframe\">\n",
       "  <thead>\n",
       "    <tr style=\"text-align: right;\">\n",
       "      <th>col_0</th>\n",
       "      <th>Percentage</th>\n",
       "    </tr>\n",
       "    <tr>\n",
       "      <th>JobInvolvement</th>\n",
       "      <th></th>\n",
       "    </tr>\n",
       "  </thead>\n",
       "  <tbody>\n",
       "    <tr>\n",
       "      <th>1</th>\n",
       "      <td>5.65</td>\n",
       "    </tr>\n",
       "    <tr>\n",
       "      <th>2</th>\n",
       "      <td>25.51</td>\n",
       "    </tr>\n",
       "    <tr>\n",
       "      <th>3</th>\n",
       "      <td>59.05</td>\n",
       "    </tr>\n",
       "    <tr>\n",
       "      <th>4</th>\n",
       "      <td>9.80</td>\n",
       "    </tr>\n",
       "  </tbody>\n",
       "</table>\n",
       "</div>\n",
       "      <button class=\"colab-df-convert\" onclick=\"convertToInteractive('df-cb4cd9d8-87bf-407f-bc28-caf759b8d59f')\"\n",
       "              title=\"Convert this dataframe to an interactive table.\"\n",
       "              style=\"display:none;\">\n",
       "        \n",
       "  <svg xmlns=\"http://www.w3.org/2000/svg\" height=\"24px\"viewBox=\"0 0 24 24\"\n",
       "       width=\"24px\">\n",
       "    <path d=\"M0 0h24v24H0V0z\" fill=\"none\"/>\n",
       "    <path d=\"M18.56 5.44l.94 2.06.94-2.06 2.06-.94-2.06-.94-.94-2.06-.94 2.06-2.06.94zm-11 1L8.5 8.5l.94-2.06 2.06-.94-2.06-.94L8.5 2.5l-.94 2.06-2.06.94zm10 10l.94 2.06.94-2.06 2.06-.94-2.06-.94-.94-2.06-.94 2.06-2.06.94z\"/><path d=\"M17.41 7.96l-1.37-1.37c-.4-.4-.92-.59-1.43-.59-.52 0-1.04.2-1.43.59L10.3 9.45l-7.72 7.72c-.78.78-.78 2.05 0 2.83L4 21.41c.39.39.9.59 1.41.59.51 0 1.02-.2 1.41-.59l7.78-7.78 2.81-2.81c.8-.78.8-2.07 0-2.86zM5.41 20L4 18.59l7.72-7.72 1.47 1.35L5.41 20z\"/>\n",
       "  </svg>\n",
       "      </button>\n",
       "      \n",
       "  <style>\n",
       "    .colab-df-container {\n",
       "      display:flex;\n",
       "      flex-wrap:wrap;\n",
       "      gap: 12px;\n",
       "    }\n",
       "\n",
       "    .colab-df-convert {\n",
       "      background-color: #E8F0FE;\n",
       "      border: none;\n",
       "      border-radius: 50%;\n",
       "      cursor: pointer;\n",
       "      display: none;\n",
       "      fill: #1967D2;\n",
       "      height: 32px;\n",
       "      padding: 0 0 0 0;\n",
       "      width: 32px;\n",
       "    }\n",
       "\n",
       "    .colab-df-convert:hover {\n",
       "      background-color: #E2EBFA;\n",
       "      box-shadow: 0px 1px 2px rgba(60, 64, 67, 0.3), 0px 1px 3px 1px rgba(60, 64, 67, 0.15);\n",
       "      fill: #174EA6;\n",
       "    }\n",
       "\n",
       "    [theme=dark] .colab-df-convert {\n",
       "      background-color: #3B4455;\n",
       "      fill: #D2E3FC;\n",
       "    }\n",
       "\n",
       "    [theme=dark] .colab-df-convert:hover {\n",
       "      background-color: #434B5C;\n",
       "      box-shadow: 0px 1px 3px 1px rgba(0, 0, 0, 0.15);\n",
       "      filter: drop-shadow(0px 1px 2px rgba(0, 0, 0, 0.3));\n",
       "      fill: #FFFFFF;\n",
       "    }\n",
       "  </style>\n",
       "\n",
       "      <script>\n",
       "        const buttonEl =\n",
       "          document.querySelector('#df-cb4cd9d8-87bf-407f-bc28-caf759b8d59f button.colab-df-convert');\n",
       "        buttonEl.style.display =\n",
       "          google.colab.kernel.accessAllowed ? 'block' : 'none';\n",
       "\n",
       "        async function convertToInteractive(key) {\n",
       "          const element = document.querySelector('#df-cb4cd9d8-87bf-407f-bc28-caf759b8d59f');\n",
       "          const dataTable =\n",
       "            await google.colab.kernel.invokeFunction('convertToInteractive',\n",
       "                                                     [key], {});\n",
       "          if (!dataTable) return;\n",
       "\n",
       "          const docLinkHtml = 'Like what you see? Visit the ' +\n",
       "            '<a target=\"_blank\" href=https://colab.research.google.com/notebooks/data_table.ipynb>data table notebook</a>'\n",
       "            + ' to learn more about interactive tables.';\n",
       "          element.innerHTML = '';\n",
       "          dataTable['output_type'] = 'display_data';\n",
       "          await google.colab.output.renderOutput(dataTable, element);\n",
       "          const docLink = document.createElement('div');\n",
       "          docLink.innerHTML = docLinkHtml;\n",
       "          element.appendChild(docLink);\n",
       "        }\n",
       "      </script>\n",
       "    </div>\n",
       "  </div>\n",
       "  "
      ],
      "text/plain": [
       "col_0           Percentage\n",
       "JobInvolvement            \n",
       "1                     5.65\n",
       "2                    25.51\n",
       "3                    59.05\n",
       "4                     9.80"
      ]
     },
     "execution_count": 55,
     "metadata": {},
     "output_type": "execute_result"
    }
   ],
   "source": [
    "tab4 = pd.crosstab(attrition.JobInvolvement, columns=\"Percentage\")\n",
    "round((tab4/n*100),2)"
   ]
  },
  {
   "cell_type": "markdown",
   "id": "9f5f6aea",
   "metadata": {
    "id": "9f5f6aea"
   },
   "source": [
    "#### Observation\n",
    "\n",
    "- It is categorical variable; Scale of measurement is Ordinal in nature\n",
    "- Variable \"Job involvement\" consists of values ranging from 1 to 4; \n",
    "- 1 representing low job involvement level & 4 representing high job involvement\n",
    "- It is assumed that this rating is assigned by Supervisor \n",
    "- It is  observed that substantial no. of employees (68.84%) is rated with 3&4 indicating greater job involvement "
   ]
  },
  {
   "cell_type": "markdown",
   "id": "d2302a6c",
   "metadata": {
    "id": "d2302a6c"
   },
   "source": [
    "### 9. Job level"
   ]
  },
  {
   "cell_type": "code",
   "execution_count": 56,
   "id": "a81c5e10",
   "metadata": {
    "colab": {
     "base_uri": "https://localhost:8080/",
     "height": 302
    },
    "id": "a81c5e10",
    "outputId": "a14c03fe-4888-4fe6-a71f-18fb0203bb25"
   },
   "outputs": [
    {
     "data": {
      "image/png": "[encoded data removed]",
      "text/plain": [
       "<Figure size 576x288 with 1 Axes>"
      ]
     },
     "metadata": {
      "needs_background": "light"
     },
     "output_type": "display_data"
    }
   ],
   "source": [
    "attrition.JobLevel.value_counts().plot(kind='bar', figsize=(8,4), color='green', rot=45)\n",
    "plt.title('Job Level', fontsize=14)\n",
    "plt.xlabel('Job Level', fontsize=14)\n",
    "plt.ylabel('No of employees', fontsize=14)\n",
    "plt.grid(False)\n",
    "plt.show()"
   ]
  },
  {
   "cell_type": "code",
   "execution_count": 57,
   "id": "dd553e6b",
   "metadata": {
    "colab": {
     "base_uri": "https://localhost:8080/",
     "height": 165
    },
    "id": "dd553e6b",
    "outputId": "5475e616-e5a2-4dd8-d634-f0ad1c35028b"
   },
   "outputs": [
    {
     "ename": "NameError",
     "evalue": "ignored",
     "output_type": "error",
     "traceback": [
      "\u001b[0;31m---------------------------------------------------------------------------\u001b[0m",
      "\u001b[0;31mNameError\u001b[0m                                 Traceback (most recent call last)",
      "\u001b[0;32m<ipython-input-57-41be8dc3ac2c>\u001b[0m in \u001b[0;36m<module>\u001b[0;34m()\u001b[0m\n\u001b[0;32m----> 1\u001b[0;31m \u001b[0mround\u001b[0m\u001b[0;34m(\u001b[0m\u001b[0;34m(\u001b[0m\u001b[0mtab5\u001b[0m\u001b[0;34m/\u001b[0m\u001b[0mn\u001b[0m\u001b[0;34m*\u001b[0m\u001b[0;36m100\u001b[0m\u001b[0;34m)\u001b[0m\u001b[0;34m,\u001b[0m\u001b[0;36m2\u001b[0m\u001b[0;34m)\u001b[0m\u001b[0;34m\u001b[0m\u001b[0;34m\u001b[0m\u001b[0m\n\u001b[0m",
      "\u001b[0;31mNameError\u001b[0m: name 'tab5' is not defined"
     ]
    }
   ],
   "source": [
    "round((tab5/n*100),2)"
   ]
  },
  {
   "cell_type": "code",
   "execution_count": 59,
   "id": "b3ddf474",
   "metadata": {
    "colab": {
     "base_uri": "https://localhost:8080/",
     "height": 237
    },
    "id": "b3ddf474",
    "outputId": "c6db6a17-7ef3-4de8-8ed9-4da1e853358b"
   },
   "outputs": [
    {
     "data": {
      "text/html": [
       "\n",
       "  <div id=\"df-741f369f-52d6-447c-b828-76c1714d5241\">\n",
       "    <div class=\"colab-df-container\">\n",
       "      <div>\n",
       "<style scoped>\n",
       "    .dataframe tbody tr th:only-of-type {\n",
       "        vertical-align: middle;\n",
       "    }\n",
       "\n",
       "    .dataframe tbody tr th {\n",
       "        vertical-align: top;\n",
       "    }\n",
       "\n",
       "    .dataframe thead th {\n",
       "        text-align: right;\n",
       "    }\n",
       "</style>\n",
       "<table border=\"1\" class=\"dataframe\">\n",
       "  <thead>\n",
       "    <tr style=\"text-align: right;\">\n",
       "      <th>col_0</th>\n",
       "      <th>count</th>\n",
       "    </tr>\n",
       "    <tr>\n",
       "      <th>JobLevel</th>\n",
       "      <th></th>\n",
       "    </tr>\n",
       "  </thead>\n",
       "  <tbody>\n",
       "    <tr>\n",
       "      <th>1</th>\n",
       "      <td>36.94</td>\n",
       "    </tr>\n",
       "    <tr>\n",
       "      <th>2</th>\n",
       "      <td>36.33</td>\n",
       "    </tr>\n",
       "    <tr>\n",
       "      <th>3</th>\n",
       "      <td>14.83</td>\n",
       "    </tr>\n",
       "    <tr>\n",
       "      <th>4</th>\n",
       "      <td>7.21</td>\n",
       "    </tr>\n",
       "    <tr>\n",
       "      <th>5</th>\n",
       "      <td>4.69</td>\n",
       "    </tr>\n",
       "  </tbody>\n",
       "</table>\n",
       "</div>\n",
       "      <button class=\"colab-df-convert\" onclick=\"convertToInteractive('df-741f369f-52d6-447c-b828-76c1714d5241')\"\n",
       "              title=\"Convert this dataframe to an interactive table.\"\n",
       "              style=\"display:none;\">\n",
       "        \n",
       "  <svg xmlns=\"http://www.w3.org/2000/svg\" height=\"24px\"viewBox=\"0 0 24 24\"\n",
       "       width=\"24px\">\n",
       "    <path d=\"M0 0h24v24H0V0z\" fill=\"none\"/>\n",
       "    <path d=\"M18.56 5.44l.94 2.06.94-2.06 2.06-.94-2.06-.94-.94-2.06-.94 2.06-2.06.94zm-11 1L8.5 8.5l.94-2.06 2.06-.94-2.06-.94L8.5 2.5l-.94 2.06-2.06.94zm10 10l.94 2.06.94-2.06 2.06-.94-2.06-.94-.94-2.06-.94 2.06-2.06.94z\"/><path d=\"M17.41 7.96l-1.37-1.37c-.4-.4-.92-.59-1.43-.59-.52 0-1.04.2-1.43.59L10.3 9.45l-7.72 7.72c-.78.78-.78 2.05 0 2.83L4 21.41c.39.39.9.59 1.41.59.51 0 1.02-.2 1.41-.59l7.78-7.78 2.81-2.81c.8-.78.8-2.07 0-2.86zM5.41 20L4 18.59l7.72-7.72 1.47 1.35L5.41 20z\"/>\n",
       "  </svg>\n",
       "      </button>\n",
       "      \n",
       "  <style>\n",
       "    .colab-df-container {\n",
       "      display:flex;\n",
       "      flex-wrap:wrap;\n",
       "      gap: 12px;\n",
       "    }\n",
       "\n",
       "    .colab-df-convert {\n",
       "      background-color: #E8F0FE;\n",
       "      border: none;\n",
       "      border-radius: 50%;\n",
       "      cursor: pointer;\n",
       "      display: none;\n",
       "      fill: #1967D2;\n",
       "      height: 32px;\n",
       "      padding: 0 0 0 0;\n",
       "      width: 32px;\n",
       "    }\n",
       "\n",
       "    .colab-df-convert:hover {\n",
       "      background-color: #E2EBFA;\n",
       "      box-shadow: 0px 1px 2px rgba(60, 64, 67, 0.3), 0px 1px 3px 1px rgba(60, 64, 67, 0.15);\n",
       "      fill: #174EA6;\n",
       "    }\n",
       "\n",
       "    [theme=dark] .colab-df-convert {\n",
       "      background-color: #3B4455;\n",
       "      fill: #D2E3FC;\n",
       "    }\n",
       "\n",
       "    [theme=dark] .colab-df-convert:hover {\n",
       "      background-color: #434B5C;\n",
       "      box-shadow: 0px 1px 3px 1px rgba(0, 0, 0, 0.15);\n",
       "      filter: drop-shadow(0px 1px 2px rgba(0, 0, 0, 0.3));\n",
       "      fill: #FFFFFF;\n",
       "    }\n",
       "  </style>\n",
       "\n",
       "      <script>\n",
       "        const buttonEl =\n",
       "          document.querySelector('#df-741f369f-52d6-447c-b828-76c1714d5241 button.colab-df-convert');\n",
       "        buttonEl.style.display =\n",
       "          google.colab.kernel.accessAllowed ? 'block' : 'none';\n",
       "\n",
       "        async function convertToInteractive(key) {\n",
       "          const element = document.querySelector('#df-741f369f-52d6-447c-b828-76c1714d5241');\n",
       "          const dataTable =\n",
       "            await google.colab.kernel.invokeFunction('convertToInteractive',\n",
       "                                                     [key], {});\n",
       "          if (!dataTable) return;\n",
       "\n",
       "          const docLinkHtml = 'Like what you see? Visit the ' +\n",
       "            '<a target=\"_blank\" href=https://colab.research.google.com/notebooks/data_table.ipynb>data table notebook</a>'\n",
       "            + ' to learn more about interactive tables.';\n",
       "          element.innerHTML = '';\n",
       "          dataTable['output_type'] = 'display_data';\n",
       "          await google.colab.output.renderOutput(dataTable, element);\n",
       "          const docLink = document.createElement('div');\n",
       "          docLink.innerHTML = docLinkHtml;\n",
       "          element.appendChild(docLink);\n",
       "        }\n",
       "      </script>\n",
       "    </div>\n",
       "  </div>\n",
       "  "
      ],
      "text/plain": [
       "col_0     count\n",
       "JobLevel       \n",
       "1         36.94\n",
       "2         36.33\n",
       "3         14.83\n",
       "4          7.21\n",
       "5          4.69"
      ]
     },
     "execution_count": 59,
     "metadata": {},
     "output_type": "execute_result"
    }
   ],
   "source": [
    "tab5= pd.crosstab(attrition.JobLevel, columns=\"count\")\n",
    "round((tab5/n*100),2)"
   ]
  },
  {
   "cell_type": "markdown",
   "id": "d4b9efeb",
   "metadata": {
    "id": "d4b9efeb"
   },
   "source": [
    "#### Observation\n",
    "\n",
    "- It is a categorical variable whose scale of measurement is ordinal in nature\n",
    "- Variable \"Job level\" consists of values ranging from 1 to 5; 1 being the lowest designation and 5 being the most senior designation\n",
    "- Approx 73% of the employees are at lower levels of organizational hierarchy, i.e. levels 1 and 2\n",
    "- This is in accordance with typical management hierarchy structure where there are few employees in Top management level(4.69%) "
   ]
  },
  {
   "cell_type": "markdown",
   "id": "8a15a243",
   "metadata": {
    "id": "8a15a243"
   },
   "source": [
    "### 10. Job Satisfaction"
   ]
  },
  {
   "cell_type": "code",
   "execution_count": 60,
   "id": "917981c7",
   "metadata": {
    "colab": {
     "base_uri": "https://localhost:8080/",
     "height": 295
    },
    "id": "917981c7",
    "outputId": "7be1d3c8-575a-4cac-939d-2313ee6863c5"
   },
   "outputs": [
    {
     "data": {
      "image/png": "[encoded data removed]",
      "text/plain": [
       "<Figure size 432x288 with 1 Axes>"
      ]
     },
     "metadata": {
      "needs_background": "light"
     },
     "output_type": "display_data"
    }
   ],
   "source": [
    "levels = 'L1', 'L2','L3','L4'\n",
    "sizes = [289,280,442,459]\n",
    "  \n",
    "plt.plot(levels, sizes,color='Blue', marker='o')\n",
    "plt.title('Job satisfaction')\n",
    "plt.xlabel('levels')\n",
    "plt.ylabel('Employees')\n",
    "plt.grid(True)\n",
    "plt.show()"
   ]
  },
  {
   "cell_type": "code",
   "execution_count": 61,
   "id": "ba826bab",
   "metadata": {
    "colab": {
     "base_uri": "https://localhost:8080/",
     "height": 206
    },
    "id": "ba826bab",
    "outputId": "b17f35a4-5875-4ccc-cc56-1a407e07ae70"
   },
   "outputs": [
    {
     "data": {
      "text/html": [
       "\n",
       "  <div id=\"df-b4de4098-b60b-4cba-9349-86c1f61e1b53\">\n",
       "    <div class=\"colab-df-container\">\n",
       "      <div>\n",
       "<style scoped>\n",
       "    .dataframe tbody tr th:only-of-type {\n",
       "        vertical-align: middle;\n",
       "    }\n",
       "\n",
       "    .dataframe tbody tr th {\n",
       "        vertical-align: top;\n",
       "    }\n",
       "\n",
       "    .dataframe thead th {\n",
       "        text-align: right;\n",
       "    }\n",
       "</style>\n",
       "<table border=\"1\" class=\"dataframe\">\n",
       "  <thead>\n",
       "    <tr style=\"text-align: right;\">\n",
       "      <th>col_0</th>\n",
       "      <th>counts</th>\n",
       "    </tr>\n",
       "    <tr>\n",
       "      <th>JobSatisfaction</th>\n",
       "      <th></th>\n",
       "    </tr>\n",
       "  </thead>\n",
       "  <tbody>\n",
       "    <tr>\n",
       "      <th>1</th>\n",
       "      <td>289</td>\n",
       "    </tr>\n",
       "    <tr>\n",
       "      <th>2</th>\n",
       "      <td>280</td>\n",
       "    </tr>\n",
       "    <tr>\n",
       "      <th>3</th>\n",
       "      <td>442</td>\n",
       "    </tr>\n",
       "    <tr>\n",
       "      <th>4</th>\n",
       "      <td>459</td>\n",
       "    </tr>\n",
       "  </tbody>\n",
       "</table>\n",
       "</div>\n",
       "      <button class=\"colab-df-convert\" onclick=\"convertToInteractive('df-b4de4098-b60b-4cba-9349-86c1f61e1b53')\"\n",
       "              title=\"Convert this dataframe to an interactive table.\"\n",
       "              style=\"display:none;\">\n",
       "        \n",
       "  <svg xmlns=\"http://www.w3.org/2000/svg\" height=\"24px\"viewBox=\"0 0 24 24\"\n",
       "       width=\"24px\">\n",
       "    <path d=\"M0 0h24v24H0V0z\" fill=\"none\"/>\n",
       "    <path d=\"M18.56 5.44l.94 2.06.94-2.06 2.06-.94-2.06-.94-.94-2.06-.94 2.06-2.06.94zm-11 1L8.5 8.5l.94-2.06 2.06-.94-2.06-.94L8.5 2.5l-.94 2.06-2.06.94zm10 10l.94 2.06.94-2.06 2.06-.94-2.06-.94-.94-2.06-.94 2.06-2.06.94z\"/><path d=\"M17.41 7.96l-1.37-1.37c-.4-.4-.92-.59-1.43-.59-.52 0-1.04.2-1.43.59L10.3 9.45l-7.72 7.72c-.78.78-.78 2.05 0 2.83L4 21.41c.39.39.9.59 1.41.59.51 0 1.02-.2 1.41-.59l7.78-7.78 2.81-2.81c.8-.78.8-2.07 0-2.86zM5.41 20L4 18.59l7.72-7.72 1.47 1.35L5.41 20z\"/>\n",
       "  </svg>\n",
       "      </button>\n",
       "      \n",
       "  <style>\n",
       "    .colab-df-container {\n",
       "      display:flex;\n",
       "      flex-wrap:wrap;\n",
       "      gap: 12px;\n",
       "    }\n",
       "\n",
       "    .colab-df-convert {\n",
       "      background-color: #E8F0FE;\n",
       "      border: none;\n",
       "      border-radius: 50%;\n",
       "      cursor: pointer;\n",
       "      display: none;\n",
       "      fill: #1967D2;\n",
       "      height: 32px;\n",
       "      padding: 0 0 0 0;\n",
       "      width: 32px;\n",
       "    }\n",
       "\n",
       "    .colab-df-convert:hover {\n",
       "      background-color: #E2EBFA;\n",
       "      box-shadow: 0px 1px 2px rgba(60, 64, 67, 0.3), 0px 1px 3px 1px rgba(60, 64, 67, 0.15);\n",
       "      fill: #174EA6;\n",
       "    }\n",
       "\n",
       "    [theme=dark] .colab-df-convert {\n",
       "      background-color: #3B4455;\n",
       "      fill: #D2E3FC;\n",
       "    }\n",
       "\n",
       "    [theme=dark] .colab-df-convert:hover {\n",
       "      background-color: #434B5C;\n",
       "      box-shadow: 0px 1px 3px 1px rgba(0, 0, 0, 0.15);\n",
       "      filter: drop-shadow(0px 1px 2px rgba(0, 0, 0, 0.3));\n",
       "      fill: #FFFFFF;\n",
       "    }\n",
       "  </style>\n",
       "\n",
       "      <script>\n",
       "        const buttonEl =\n",
       "          document.querySelector('#df-b4de4098-b60b-4cba-9349-86c1f61e1b53 button.colab-df-convert');\n",
       "        buttonEl.style.display =\n",
       "          google.colab.kernel.accessAllowed ? 'block' : 'none';\n",
       "\n",
       "        async function convertToInteractive(key) {\n",
       "          const element = document.querySelector('#df-b4de4098-b60b-4cba-9349-86c1f61e1b53');\n",
       "          const dataTable =\n",
       "            await google.colab.kernel.invokeFunction('convertToInteractive',\n",
       "                                                     [key], {});\n",
       "          if (!dataTable) return;\n",
       "\n",
       "          const docLinkHtml = 'Like what you see? Visit the ' +\n",
       "            '<a target=\"_blank\" href=https://colab.research.google.com/notebooks/data_table.ipynb>data table notebook</a>'\n",
       "            + ' to learn more about interactive tables.';\n",
       "          element.innerHTML = '';\n",
       "          dataTable['output_type'] = 'display_data';\n",
       "          await google.colab.output.renderOutput(dataTable, element);\n",
       "          const docLink = document.createElement('div');\n",
       "          docLink.innerHTML = docLinkHtml;\n",
       "          element.appendChild(docLink);\n",
       "        }\n",
       "      </script>\n",
       "    </div>\n",
       "  </div>\n",
       "  "
      ],
      "text/plain": [
       "col_0            counts\n",
       "JobSatisfaction        \n",
       "1                   289\n",
       "2                   280\n",
       "3                   442\n",
       "4                   459"
      ]
     },
     "execution_count": 61,
     "metadata": {},
     "output_type": "execute_result"
    }
   ],
   "source": [
    "tab6=pd.crosstab(attrition.JobSatisfaction, columns=\"counts\")\n",
    "tab6"
   ]
  },
  {
   "cell_type": "code",
   "execution_count": 62,
   "id": "7b69cf7e",
   "metadata": {
    "colab": {
     "base_uri": "https://localhost:8080/",
     "height": 206
    },
    "id": "7b69cf7e",
    "outputId": "44e2bcbf-947e-44ee-e027-bdf611631429"
   },
   "outputs": [
    {
     "data": {
      "text/html": [
       "\n",
       "  <div id=\"df-15d5b3e9-fb8c-48e7-bae3-866fca1e5804\">\n",
       "    <div class=\"colab-df-container\">\n",
       "      <div>\n",
       "<style scoped>\n",
       "    .dataframe tbody tr th:only-of-type {\n",
       "        vertical-align: middle;\n",
       "    }\n",
       "\n",
       "    .dataframe tbody tr th {\n",
       "        vertical-align: top;\n",
       "    }\n",
       "\n",
       "    .dataframe thead th {\n",
       "        text-align: right;\n",
       "    }\n",
       "</style>\n",
       "<table border=\"1\" class=\"dataframe\">\n",
       "  <thead>\n",
       "    <tr style=\"text-align: right;\">\n",
       "      <th>col_0</th>\n",
       "      <th>counts</th>\n",
       "    </tr>\n",
       "    <tr>\n",
       "      <th>JobSatisfaction</th>\n",
       "      <th></th>\n",
       "    </tr>\n",
       "  </thead>\n",
       "  <tbody>\n",
       "    <tr>\n",
       "      <th>1</th>\n",
       "      <td>19.66</td>\n",
       "    </tr>\n",
       "    <tr>\n",
       "      <th>2</th>\n",
       "      <td>19.05</td>\n",
       "    </tr>\n",
       "    <tr>\n",
       "      <th>3</th>\n",
       "      <td>30.07</td>\n",
       "    </tr>\n",
       "    <tr>\n",
       "      <th>4</th>\n",
       "      <td>31.22</td>\n",
       "    </tr>\n",
       "  </tbody>\n",
       "</table>\n",
       "</div>\n",
       "      <button class=\"colab-df-convert\" onclick=\"convertToInteractive('df-15d5b3e9-fb8c-48e7-bae3-866fca1e5804')\"\n",
       "              title=\"Convert this dataframe to an interactive table.\"\n",
       "              style=\"display:none;\">\n",
       "        \n",
       "  <svg xmlns=\"http://www.w3.org/2000/svg\" height=\"24px\"viewBox=\"0 0 24 24\"\n",
       "       width=\"24px\">\n",
       "    <path d=\"M0 0h24v24H0V0z\" fill=\"none\"/>\n",
       "    <path d=\"M18.56 5.44l.94 2.06.94-2.06 2.06-.94-2.06-.94-.94-2.06-.94 2.06-2.06.94zm-11 1L8.5 8.5l.94-2.06 2.06-.94-2.06-.94L8.5 2.5l-.94 2.06-2.06.94zm10 10l.94 2.06.94-2.06 2.06-.94-2.06-.94-.94-2.06-.94 2.06-2.06.94z\"/><path d=\"M17.41 7.96l-1.37-1.37c-.4-.4-.92-.59-1.43-.59-.52 0-1.04.2-1.43.59L10.3 9.45l-7.72 7.72c-.78.78-.78 2.05 0 2.83L4 21.41c.39.39.9.59 1.41.59.51 0 1.02-.2 1.41-.59l7.78-7.78 2.81-2.81c.8-.78.8-2.07 0-2.86zM5.41 20L4 18.59l7.72-7.72 1.47 1.35L5.41 20z\"/>\n",
       "  </svg>\n",
       "      </button>\n",
       "      \n",
       "  <style>\n",
       "    .colab-df-container {\n",
       "      display:flex;\n",
       "      flex-wrap:wrap;\n",
       "      gap: 12px;\n",
       "    }\n",
       "\n",
       "    .colab-df-convert {\n",
       "      background-color: #E8F0FE;\n",
       "      border: none;\n",
       "      border-radius: 50%;\n",
       "      cursor: pointer;\n",
       "      display: none;\n",
       "      fill: #1967D2;\n",
       "      height: 32px;\n",
       "      padding: 0 0 0 0;\n",
       "      width: 32px;\n",
       "    }\n",
       "\n",
       "    .colab-df-convert:hover {\n",
       "      background-color: #E2EBFA;\n",
       "      box-shadow: 0px 1px 2px rgba(60, 64, 67, 0.3), 0px 1px 3px 1px rgba(60, 64, 67, 0.15);\n",
       "      fill: #174EA6;\n",
       "    }\n",
       "\n",
       "    [theme=dark] .colab-df-convert {\n",
       "      background-color: #3B4455;\n",
       "      fill: #D2E3FC;\n",
       "    }\n",
       "\n",
       "    [theme=dark] .colab-df-convert:hover {\n",
       "      background-color: #434B5C;\n",
       "      box-shadow: 0px 1px 3px 1px rgba(0, 0, 0, 0.15);\n",
       "      filter: drop-shadow(0px 1px 2px rgba(0, 0, 0, 0.3));\n",
       "      fill: #FFFFFF;\n",
       "    }\n",
       "  </style>\n",
       "\n",
       "      <script>\n",
       "        const buttonEl =\n",
       "          document.querySelector('#df-15d5b3e9-fb8c-48e7-bae3-866fca1e5804 button.colab-df-convert');\n",
       "        buttonEl.style.display =\n",
       "          google.colab.kernel.accessAllowed ? 'block' : 'none';\n",
       "\n",
       "        async function convertToInteractive(key) {\n",
       "          const element = document.querySelector('#df-15d5b3e9-fb8c-48e7-bae3-866fca1e5804');\n",
       "          const dataTable =\n",
       "            await google.colab.kernel.invokeFunction('convertToInteractive',\n",
       "                                                     [key], {});\n",
       "          if (!dataTable) return;\n",
       "\n",
       "          const docLinkHtml = 'Like what you see? Visit the ' +\n",
       "            '<a target=\"_blank\" href=https://colab.research.google.com/notebooks/data_table.ipynb>data table notebook</a>'\n",
       "            + ' to learn more about interactive tables.';\n",
       "          element.innerHTML = '';\n",
       "          dataTable['output_type'] = 'display_data';\n",
       "          await google.colab.output.renderOutput(dataTable, element);\n",
       "          const docLink = document.createElement('div');\n",
       "          docLink.innerHTML = docLinkHtml;\n",
       "          element.appendChild(docLink);\n",
       "        }\n",
       "      </script>\n",
       "    </div>\n",
       "  </div>\n",
       "  "
      ],
      "text/plain": [
       "col_0            counts\n",
       "JobSatisfaction        \n",
       "1                 19.66\n",
       "2                 19.05\n",
       "3                 30.07\n",
       "4                 31.22"
      ]
     },
     "execution_count": 62,
     "metadata": {},
     "output_type": "execute_result"
    }
   ],
   "source": [
    "round((tab6/n*100),2)"
   ]
  },
  {
   "cell_type": "markdown",
   "id": "6648b80f",
   "metadata": {
    "id": "6648b80f"
   },
   "source": [
    "#### Observation\n",
    "\n",
    "- It is a  categorical variable; Scale of measurement is Ordinal in nature\n",
    "- Variable \"Job satisfaction\" consists of values ranging from 1 to 4;\n",
    "- 1 representing low job satisfaction level & 4 representing high job satisfaction level\n",
    "- 61.29% of the employees experience higher levels of job satisfaction (i.e. they have given ranks of 3 & 4)\n",
    "- 61% of employees has both Job as well as Environmental satisfaction"
   ]
  },
  {
   "cell_type": "markdown",
   "id": "688f6caf",
   "metadata": {
    "id": "688f6caf"
   },
   "source": [
    "### 11. Marital status"
   ]
  },
  {
   "cell_type": "code",
   "execution_count": 63,
   "id": "e6ddc7ec",
   "metadata": {
    "colab": {
     "base_uri": "https://localhost:8080/",
     "height": 248
    },
    "id": "e6ddc7ec",
    "outputId": "2748a391-3206-46e4-8883-f80cfc36574f"
   },
   "outputs": [
    {
     "data": {
      "image/png": "[encoded data removed]",
      "text/plain": [
       "<Figure size 432x288 with 1 Axes>"
      ]
     },
     "metadata": {},
     "output_type": "display_data"
    }
   ],
   "source": [
    "Single = 327/1470*100\n",
    "Married = 673/1470*100\n",
    "Divorced = 470/1470*100\n",
    "\n",
    "labels = ['Single', 'Married','Divorced']\n",
    "sizes = [Single, Married,Divorced]\n",
    "plt.pie(sizes, labels=labels, autopct='%1.1f%%')\n",
    "plt.axis('equal')\n",
    "circle = plt.Circle(xy=(0,0), radius=0.75, facecolor='white')\n",
    "plt.gca().add_artist(circle)\n",
    "plt.show()"
   ]
  },
  {
   "cell_type": "code",
   "execution_count": 64,
   "id": "7575ed0f",
   "metadata": {
    "colab": {
     "base_uri": "https://localhost:8080/",
     "height": 175
    },
    "id": "7575ed0f",
    "outputId": "54c48d88-47f5-4db4-f91f-c8a3397cd8bc"
   },
   "outputs": [
    {
     "data": {
      "text/html": [
       "\n",
       "  <div id=\"df-8937737e-b9ac-49cc-b03c-3c454c55193a\">\n",
       "    <div class=\"colab-df-container\">\n",
       "      <div>\n",
       "<style scoped>\n",
       "    .dataframe tbody tr th:only-of-type {\n",
       "        vertical-align: middle;\n",
       "    }\n",
       "\n",
       "    .dataframe tbody tr th {\n",
       "        vertical-align: top;\n",
       "    }\n",
       "\n",
       "    .dataframe thead th {\n",
       "        text-align: right;\n",
       "    }\n",
       "</style>\n",
       "<table border=\"1\" class=\"dataframe\">\n",
       "  <thead>\n",
       "    <tr style=\"text-align: right;\">\n",
       "      <th>col_0</th>\n",
       "      <th>Counts</th>\n",
       "    </tr>\n",
       "    <tr>\n",
       "      <th>MaritalStatus</th>\n",
       "      <th></th>\n",
       "    </tr>\n",
       "  </thead>\n",
       "  <tbody>\n",
       "    <tr>\n",
       "      <th>Divorced</th>\n",
       "      <td>327</td>\n",
       "    </tr>\n",
       "    <tr>\n",
       "      <th>Married</th>\n",
       "      <td>673</td>\n",
       "    </tr>\n",
       "    <tr>\n",
       "      <th>Single</th>\n",
       "      <td>470</td>\n",
       "    </tr>\n",
       "  </tbody>\n",
       "</table>\n",
       "</div>\n",
       "      <button class=\"colab-df-convert\" onclick=\"convertToInteractive('df-8937737e-b9ac-49cc-b03c-3c454c55193a')\"\n",
       "              title=\"Convert this dataframe to an interactive table.\"\n",
       "              style=\"display:none;\">\n",
       "        \n",
       "  <svg xmlns=\"http://www.w3.org/2000/svg\" height=\"24px\"viewBox=\"0 0 24 24\"\n",
       "       width=\"24px\">\n",
       "    <path d=\"M0 0h24v24H0V0z\" fill=\"none\"/>\n",
       "    <path d=\"M18.56 5.44l.94 2.06.94-2.06 2.06-.94-2.06-.94-.94-2.06-.94 2.06-2.06.94zm-11 1L8.5 8.5l.94-2.06 2.06-.94-2.06-.94L8.5 2.5l-.94 2.06-2.06.94zm10 10l.94 2.06.94-2.06 2.06-.94-2.06-.94-.94-2.06-.94 2.06-2.06.94z\"/><path d=\"M17.41 7.96l-1.37-1.37c-.4-.4-.92-.59-1.43-.59-.52 0-1.04.2-1.43.59L10.3 9.45l-7.72 7.72c-.78.78-.78 2.05 0 2.83L4 21.41c.39.39.9.59 1.41.59.51 0 1.02-.2 1.41-.59l7.78-7.78 2.81-2.81c.8-.78.8-2.07 0-2.86zM5.41 20L4 18.59l7.72-7.72 1.47 1.35L5.41 20z\"/>\n",
       "  </svg>\n",
       "      </button>\n",
       "      \n",
       "  <style>\n",
       "    .colab-df-container {\n",
       "      display:flex;\n",
       "      flex-wrap:wrap;\n",
       "      gap: 12px;\n",
       "    }\n",
       "\n",
       "    .colab-df-convert {\n",
       "      background-color: #E8F0FE;\n",
       "      border: none;\n",
       "      border-radius: 50%;\n",
       "      cursor: pointer;\n",
       "      display: none;\n",
       "      fill: #1967D2;\n",
       "      height: 32px;\n",
       "      padding: 0 0 0 0;\n",
       "      width: 32px;\n",
       "    }\n",
       "\n",
       "    .colab-df-convert:hover {\n",
       "      background-color: #E2EBFA;\n",
       "      box-shadow: 0px 1px 2px rgba(60, 64, 67, 0.3), 0px 1px 3px 1px rgba(60, 64, 67, 0.15);\n",
       "      fill: #174EA6;\n",
       "    }\n",
       "\n",
       "    [theme=dark] .colab-df-convert {\n",
       "      background-color: #3B4455;\n",
       "      fill: #D2E3FC;\n",
       "    }\n",
       "\n",
       "    [theme=dark] .colab-df-convert:hover {\n",
       "      background-color: #434B5C;\n",
       "      box-shadow: 0px 1px 3px 1px rgba(0, 0, 0, 0.15);\n",
       "      filter: drop-shadow(0px 1px 2px rgba(0, 0, 0, 0.3));\n",
       "      fill: #FFFFFF;\n",
       "    }\n",
       "  </style>\n",
       "\n",
       "      <script>\n",
       "        const buttonEl =\n",
       "          document.querySelector('#df-8937737e-b9ac-49cc-b03c-3c454c55193a button.colab-df-convert');\n",
       "        buttonEl.style.display =\n",
       "          google.colab.kernel.accessAllowed ? 'block' : 'none';\n",
       "\n",
       "        async function convertToInteractive(key) {\n",
       "          const element = document.querySelector('#df-8937737e-b9ac-49cc-b03c-3c454c55193a');\n",
       "          const dataTable =\n",
       "            await google.colab.kernel.invokeFunction('convertToInteractive',\n",
       "                                                     [key], {});\n",
       "          if (!dataTable) return;\n",
       "\n",
       "          const docLinkHtml = 'Like what you see? Visit the ' +\n",
       "            '<a target=\"_blank\" href=https://colab.research.google.com/notebooks/data_table.ipynb>data table notebook</a>'\n",
       "            + ' to learn more about interactive tables.';\n",
       "          element.innerHTML = '';\n",
       "          dataTable['output_type'] = 'display_data';\n",
       "          await google.colab.output.renderOutput(dataTable, element);\n",
       "          const docLink = document.createElement('div');\n",
       "          docLink.innerHTML = docLinkHtml;\n",
       "          element.appendChild(docLink);\n",
       "        }\n",
       "      </script>\n",
       "    </div>\n",
       "  </div>\n",
       "  "
      ],
      "text/plain": [
       "col_0          Counts\n",
       "MaritalStatus        \n",
       "Divorced          327\n",
       "Married           673\n",
       "Single            470"
      ]
     },
     "execution_count": 64,
     "metadata": {},
     "output_type": "execute_result"
    }
   ],
   "source": [
    "tab7=pd.crosstab(attrition.MaritalStatus,columns=\"Counts\")\n",
    "tab7"
   ]
  },
  {
   "cell_type": "code",
   "execution_count": 65,
   "id": "c84519c7",
   "metadata": {
    "colab": {
     "base_uri": "https://localhost:8080/",
     "height": 175
    },
    "id": "c84519c7",
    "outputId": "f94d896e-4fa4-4779-874b-c402514be16a"
   },
   "outputs": [
    {
     "data": {
      "text/html": [
       "\n",
       "  <div id=\"df-3a11f6cf-4fec-4a4e-aa54-3bc886fc81bd\">\n",
       "    <div class=\"colab-df-container\">\n",
       "      <div>\n",
       "<style scoped>\n",
       "    .dataframe tbody tr th:only-of-type {\n",
       "        vertical-align: middle;\n",
       "    }\n",
       "\n",
       "    .dataframe tbody tr th {\n",
       "        vertical-align: top;\n",
       "    }\n",
       "\n",
       "    .dataframe thead th {\n",
       "        text-align: right;\n",
       "    }\n",
       "</style>\n",
       "<table border=\"1\" class=\"dataframe\">\n",
       "  <thead>\n",
       "    <tr style=\"text-align: right;\">\n",
       "      <th>col_0</th>\n",
       "      <th>Counts</th>\n",
       "    </tr>\n",
       "    <tr>\n",
       "      <th>MaritalStatus</th>\n",
       "      <th></th>\n",
       "    </tr>\n",
       "  </thead>\n",
       "  <tbody>\n",
       "    <tr>\n",
       "      <th>Divorced</th>\n",
       "      <td>22.24</td>\n",
       "    </tr>\n",
       "    <tr>\n",
       "      <th>Married</th>\n",
       "      <td>45.78</td>\n",
       "    </tr>\n",
       "    <tr>\n",
       "      <th>Single</th>\n",
       "      <td>31.97</td>\n",
       "    </tr>\n",
       "  </tbody>\n",
       "</table>\n",
       "</div>\n",
       "      <button class=\"colab-df-convert\" onclick=\"convertToInteractive('df-3a11f6cf-4fec-4a4e-aa54-3bc886fc81bd')\"\n",
       "              title=\"Convert this dataframe to an interactive table.\"\n",
       "              style=\"display:none;\">\n",
       "        \n",
       "  <svg xmlns=\"http://www.w3.org/2000/svg\" height=\"24px\"viewBox=\"0 0 24 24\"\n",
       "       width=\"24px\">\n",
       "    <path d=\"M0 0h24v24H0V0z\" fill=\"none\"/>\n",
       "    <path d=\"M18.56 5.44l.94 2.06.94-2.06 2.06-.94-2.06-.94-.94-2.06-.94 2.06-2.06.94zm-11 1L8.5 8.5l.94-2.06 2.06-.94-2.06-.94L8.5 2.5l-.94 2.06-2.06.94zm10 10l.94 2.06.94-2.06 2.06-.94-2.06-.94-.94-2.06-.94 2.06-2.06.94z\"/><path d=\"M17.41 7.96l-1.37-1.37c-.4-.4-.92-.59-1.43-.59-.52 0-1.04.2-1.43.59L10.3 9.45l-7.72 7.72c-.78.78-.78 2.05 0 2.83L4 21.41c.39.39.9.59 1.41.59.51 0 1.02-.2 1.41-.59l7.78-7.78 2.81-2.81c.8-.78.8-2.07 0-2.86zM5.41 20L4 18.59l7.72-7.72 1.47 1.35L5.41 20z\"/>\n",
       "  </svg>\n",
       "      </button>\n",
       "      \n",
       "  <style>\n",
       "    .colab-df-container {\n",
       "      display:flex;\n",
       "      flex-wrap:wrap;\n",
       "      gap: 12px;\n",
       "    }\n",
       "\n",
       "    .colab-df-convert {\n",
       "      background-color: #E8F0FE;\n",
       "      border: none;\n",
       "      border-radius: 50%;\n",
       "      cursor: pointer;\n",
       "      display: none;\n",
       "      fill: #1967D2;\n",
       "      height: 32px;\n",
       "      padding: 0 0 0 0;\n",
       "      width: 32px;\n",
       "    }\n",
       "\n",
       "    .colab-df-convert:hover {\n",
       "      background-color: #E2EBFA;\n",
       "      box-shadow: 0px 1px 2px rgba(60, 64, 67, 0.3), 0px 1px 3px 1px rgba(60, 64, 67, 0.15);\n",
       "      fill: #174EA6;\n",
       "    }\n",
       "\n",
       "    [theme=dark] .colab-df-convert {\n",
       "      background-color: #3B4455;\n",
       "      fill: #D2E3FC;\n",
       "    }\n",
       "\n",
       "    [theme=dark] .colab-df-convert:hover {\n",
       "      background-color: #434B5C;\n",
       "      box-shadow: 0px 1px 3px 1px rgba(0, 0, 0, 0.15);\n",
       "      filter: drop-shadow(0px 1px 2px rgba(0, 0, 0, 0.3));\n",
       "      fill: #FFFFFF;\n",
       "    }\n",
       "  </style>\n",
       "\n",
       "      <script>\n",
       "        const buttonEl =\n",
       "          document.querySelector('#df-3a11f6cf-4fec-4a4e-aa54-3bc886fc81bd button.colab-df-convert');\n",
       "        buttonEl.style.display =\n",
       "          google.colab.kernel.accessAllowed ? 'block' : 'none';\n",
       "\n",
       "        async function convertToInteractive(key) {\n",
       "          const element = document.querySelector('#df-3a11f6cf-4fec-4a4e-aa54-3bc886fc81bd');\n",
       "          const dataTable =\n",
       "            await google.colab.kernel.invokeFunction('convertToInteractive',\n",
       "                                                     [key], {});\n",
       "          if (!dataTable) return;\n",
       "\n",
       "          const docLinkHtml = 'Like what you see? Visit the ' +\n",
       "            '<a target=\"_blank\" href=https://colab.research.google.com/notebooks/data_table.ipynb>data table notebook</a>'\n",
       "            + ' to learn more about interactive tables.';\n",
       "          element.innerHTML = '';\n",
       "          dataTable['output_type'] = 'display_data';\n",
       "          await google.colab.output.renderOutput(dataTable, element);\n",
       "          const docLink = document.createElement('div');\n",
       "          docLink.innerHTML = docLinkHtml;\n",
       "          element.appendChild(docLink);\n",
       "        }\n",
       "      </script>\n",
       "    </div>\n",
       "  </div>\n",
       "  "
      ],
      "text/plain": [
       "col_0          Counts\n",
       "MaritalStatus        \n",
       "Divorced        22.24\n",
       "Married         45.78\n",
       "Single          31.97"
      ]
     },
     "execution_count": 65,
     "metadata": {},
     "output_type": "execute_result"
    }
   ],
   "source": [
    "round((tab7/n*100),2)"
   ]
  },
  {
   "cell_type": "markdown",
   "id": "51b3c07a",
   "metadata": {
    "id": "51b3c07a"
   },
   "source": [
    "#### Observation\n",
    "- It is a categorical variable; Scale of measurement is Nominal in nature \n",
    "- Variable \"Marital status\" comprises of values - Married/Single/Divorced\n",
    "- Majority of employees, i.e., 45.78% are married followed with single population of 31.97%; \n",
    "- There is a sizeable divorced population, i.e., 22.24%, which could be related with age, higher job involvement and overtime "
   ]
  },
  {
   "cell_type": "markdown",
   "id": "dce581c1",
   "metadata": {
    "id": "dce581c1"
   },
   "source": [
    "### 12. Overtime"
   ]
  },
  {
   "cell_type": "code",
   "execution_count": 66,
   "id": "3095b474",
   "metadata": {
    "colab": {
     "base_uri": "https://localhost:8080/",
     "height": 295
    },
    "id": "3095b474",
    "outputId": "5d348322-1240-4a0e-deae-0a22e0ed76e4"
   },
   "outputs": [
    {
     "data": {
      "image/png": "[encoded data removed]",
      "text/plain": [
       "<Figure size 720x288 with 1 Axes>"
      ]
     },
     "metadata": {
      "needs_background": "light"
     },
     "output_type": "display_data"
    }
   ],
   "source": [
    "attrition.OverTime.value_counts().plot(kind='bar', figsize=(10,4),rot=0, color = ['Orange', 'Grey'] )\n",
    "plt.xlabel('Overtime')\n",
    "plt.title('Overtime')\n",
    "plt.show()"
   ]
  },
  {
   "cell_type": "code",
   "execution_count": 67,
   "id": "018e1131",
   "metadata": {
    "colab": {
     "base_uri": "https://localhost:8080/"
    },
    "id": "018e1131",
    "outputId": "43e4d1e3-9df7-4479-8a9a-7fb350983cf4"
   },
   "outputs": [
    {
     "data": {
      "text/plain": [
       "(col_0     count\n",
       " OverTime       \n",
       " No         1054\n",
       " Yes         416, col_0     count\n",
       " OverTime       \n",
       " No         71.7\n",
       " Yes        28.3)"
      ]
     },
     "execution_count": 67,
     "metadata": {},
     "output_type": "execute_result"
    }
   ],
   "source": [
    "tab8=pd.crosstab(attrition.OverTime,columns=\"count\")\n",
    "tab8, round((tab8/n*100),2)"
   ]
  },
  {
   "cell_type": "markdown",
   "id": "87154002",
   "metadata": {
    "id": "87154002"
   },
   "source": [
    "#### Observation\n",
    "\n",
    "- It is categorical variable, Scale of measurement is Nominal in nature \n",
    "- Variable \"Overtime\" comprises of binary values - Yes/No\n",
    "- 28.3% of employees is doing overtime beyond their stipulatemd work hours"
   ]
  },
  {
   "cell_type": "markdown",
   "id": "93352240",
   "metadata": {
    "id": "93352240"
   },
   "source": [
    "### 13. Work Life Balance"
   ]
  },
  {
   "cell_type": "code",
   "execution_count": 68,
   "id": "252c85b7",
   "metadata": {
    "colab": {
     "base_uri": "https://localhost:8080/",
     "height": 295
    },
    "id": "252c85b7",
    "outputId": "21c380a7-8d08-4bd6-e712-45cc714d8980"
   },
   "outputs": [
    {
     "data": {
      "image/png": "[encoded data removed]",
      "text/plain": [
       "<Figure size 432x288 with 1 Axes>"
      ]
     },
     "metadata": {
      "needs_background": "light"
     },
     "output_type": "display_data"
    }
   ],
   "source": [
    "levels = 'L1', 'L2','L3','L4'\n",
    "sizes = [80, 344, 893, 153]\n",
    "plt.plot(levels, sizes,color='Blue', marker='o')\n",
    "plt.title('worklifebalance')\n",
    "plt.xlabel('levels')\n",
    "plt.ylabel('Employees')\n",
    "plt.grid(True)\n",
    "plt.show()"
   ]
  },
  {
   "cell_type": "code",
   "execution_count": 69,
   "id": "6f7b63b9",
   "metadata": {
    "colab": {
     "base_uri": "https://localhost:8080/",
     "height": 340
    },
    "id": "6f7b63b9",
    "outputId": "9ab423a4-6df4-45b4-81a9-85c6ff57d0cd"
   },
   "outputs": [
    {
     "data": {
      "text/html": [
       "\n",
       "  <div id=\"df-8f986ef5-26af-4a65-9b46-3614962672e7\">\n",
       "    <div class=\"colab-df-container\">\n",
       "      <div>\n",
       "<style scoped>\n",
       "    .dataframe tbody tr th:only-of-type {\n",
       "        vertical-align: middle;\n",
       "    }\n",
       "\n",
       "    .dataframe tbody tr th {\n",
       "        vertical-align: top;\n",
       "    }\n",
       "\n",
       "    .dataframe thead th {\n",
       "        text-align: right;\n",
       "    }\n",
       "</style>\n",
       "<table border=\"1\" class=\"dataframe\">\n",
       "  <thead>\n",
       "    <tr style=\"text-align: right;\">\n",
       "      <th></th>\n",
       "      <th>Age</th>\n",
       "      <th>Attrition</th>\n",
       "      <th>BusinessTravel</th>\n",
       "      <th>Department</th>\n",
       "      <th>EducationField</th>\n",
       "      <th>EnvironmentSatisfaction</th>\n",
       "      <th>Gender</th>\n",
       "      <th>JobInvolvement</th>\n",
       "      <th>JobLevel</th>\n",
       "      <th>JobSatisfaction</th>\n",
       "      <th>MaritalStatus</th>\n",
       "      <th>MonthlyIncome</th>\n",
       "      <th>OverTime</th>\n",
       "      <th>TotalWorkingYears</th>\n",
       "      <th>WorkLifeBalance</th>\n",
       "      <th>YearsAtCompany</th>\n",
       "      <th>YearsInCurrentRole</th>\n",
       "      <th>YearsSinceLastPromotion</th>\n",
       "      <th>YearsWithCurrManager</th>\n",
       "      <th>DistanceFromHome</th>\n",
       "    </tr>\n",
       "  </thead>\n",
       "  <tbody>\n",
       "    <tr>\n",
       "      <th>0</th>\n",
       "      <td>41</td>\n",
       "      <td>1</td>\n",
       "      <td>Travel_Rarely</td>\n",
       "      <td>Sales</td>\n",
       "      <td>Life Sciences</td>\n",
       "      <td>2</td>\n",
       "      <td>Female</td>\n",
       "      <td>3</td>\n",
       "      <td>2</td>\n",
       "      <td>4</td>\n",
       "      <td>Single</td>\n",
       "      <td>5993</td>\n",
       "      <td>Yes</td>\n",
       "      <td>8</td>\n",
       "      <td>1</td>\n",
       "      <td>6</td>\n",
       "      <td>4</td>\n",
       "      <td>0</td>\n",
       "      <td>5</td>\n",
       "      <td>1</td>\n",
       "    </tr>\n",
       "    <tr>\n",
       "      <th>1</th>\n",
       "      <td>49</td>\n",
       "      <td>0</td>\n",
       "      <td>Travel_Frequently</td>\n",
       "      <td>Research &amp; Development</td>\n",
       "      <td>Life Sciences</td>\n",
       "      <td>3</td>\n",
       "      <td>Male</td>\n",
       "      <td>2</td>\n",
       "      <td>2</td>\n",
       "      <td>2</td>\n",
       "      <td>Married</td>\n",
       "      <td>5130</td>\n",
       "      <td>No</td>\n",
       "      <td>10</td>\n",
       "      <td>3</td>\n",
       "      <td>10</td>\n",
       "      <td>7</td>\n",
       "      <td>1</td>\n",
       "      <td>7</td>\n",
       "      <td>8</td>\n",
       "    </tr>\n",
       "    <tr>\n",
       "      <th>2</th>\n",
       "      <td>37</td>\n",
       "      <td>1</td>\n",
       "      <td>Travel_Rarely</td>\n",
       "      <td>Research &amp; Development</td>\n",
       "      <td>Other</td>\n",
       "      <td>4</td>\n",
       "      <td>Male</td>\n",
       "      <td>2</td>\n",
       "      <td>1</td>\n",
       "      <td>3</td>\n",
       "      <td>Single</td>\n",
       "      <td>2090</td>\n",
       "      <td>Yes</td>\n",
       "      <td>7</td>\n",
       "      <td>3</td>\n",
       "      <td>0</td>\n",
       "      <td>0</td>\n",
       "      <td>0</td>\n",
       "      <td>0</td>\n",
       "      <td>2</td>\n",
       "    </tr>\n",
       "    <tr>\n",
       "      <th>3</th>\n",
       "      <td>33</td>\n",
       "      <td>0</td>\n",
       "      <td>Travel_Frequently</td>\n",
       "      <td>Research &amp; Development</td>\n",
       "      <td>Life Sciences</td>\n",
       "      <td>4</td>\n",
       "      <td>Female</td>\n",
       "      <td>3</td>\n",
       "      <td>1</td>\n",
       "      <td>3</td>\n",
       "      <td>Married</td>\n",
       "      <td>2909</td>\n",
       "      <td>Yes</td>\n",
       "      <td>8</td>\n",
       "      <td>3</td>\n",
       "      <td>8</td>\n",
       "      <td>7</td>\n",
       "      <td>3</td>\n",
       "      <td>0</td>\n",
       "      <td>3</td>\n",
       "    </tr>\n",
       "    <tr>\n",
       "      <th>4</th>\n",
       "      <td>27</td>\n",
       "      <td>0</td>\n",
       "      <td>Travel_Rarely</td>\n",
       "      <td>Research &amp; Development</td>\n",
       "      <td>Medical</td>\n",
       "      <td>1</td>\n",
       "      <td>Male</td>\n",
       "      <td>3</td>\n",
       "      <td>1</td>\n",
       "      <td>2</td>\n",
       "      <td>Married</td>\n",
       "      <td>3468</td>\n",
       "      <td>No</td>\n",
       "      <td>6</td>\n",
       "      <td>3</td>\n",
       "      <td>2</td>\n",
       "      <td>2</td>\n",
       "      <td>2</td>\n",
       "      <td>2</td>\n",
       "      <td>2</td>\n",
       "    </tr>\n",
       "  </tbody>\n",
       "</table>\n",
       "</div>\n",
       "      <button class=\"colab-df-convert\" onclick=\"convertToInteractive('df-8f986ef5-26af-4a65-9b46-3614962672e7')\"\n",
       "              title=\"Convert this dataframe to an interactive table.\"\n",
       "              style=\"display:none;\">\n",
       "        \n",
       "  <svg xmlns=\"http://www.w3.org/2000/svg\" height=\"24px\"viewBox=\"0 0 24 24\"\n",
       "       width=\"24px\">\n",
       "    <path d=\"M0 0h24v24H0V0z\" fill=\"none\"/>\n",
       "    <path d=\"M18.56 5.44l.94 2.06.94-2.06 2.06-.94-2.06-.94-.94-2.06-.94 2.06-2.06.94zm-11 1L8.5 8.5l.94-2.06 2.06-.94-2.06-.94L8.5 2.5l-.94 2.06-2.06.94zm10 10l.94 2.06.94-2.06 2.06-.94-2.06-.94-.94-2.06-.94 2.06-2.06.94z\"/><path d=\"M17.41 7.96l-1.37-1.37c-.4-.4-.92-.59-1.43-.59-.52 0-1.04.2-1.43.59L10.3 9.45l-7.72 7.72c-.78.78-.78 2.05 0 2.83L4 21.41c.39.39.9.59 1.41.59.51 0 1.02-.2 1.41-.59l7.78-7.78 2.81-2.81c.8-.78.8-2.07 0-2.86zM5.41 20L4 18.59l7.72-7.72 1.47 1.35L5.41 20z\"/>\n",
       "  </svg>\n",
       "      </button>\n",
       "      \n",
       "  <style>\n",
       "    .colab-df-container {\n",
       "      display:flex;\n",
       "      flex-wrap:wrap;\n",
       "      gap: 12px;\n",
       "    }\n",
       "\n",
       "    .colab-df-convert {\n",
       "      background-color: #E8F0FE;\n",
       "      border: none;\n",
       "      border-radius: 50%;\n",
       "      cursor: pointer;\n",
       "      display: none;\n",
       "      fill: #1967D2;\n",
       "      height: 32px;\n",
       "      padding: 0 0 0 0;\n",
       "      width: 32px;\n",
       "    }\n",
       "\n",
       "    .colab-df-convert:hover {\n",
       "      background-color: #E2EBFA;\n",
       "      box-shadow: 0px 1px 2px rgba(60, 64, 67, 0.3), 0px 1px 3px 1px rgba(60, 64, 67, 0.15);\n",
       "      fill: #174EA6;\n",
       "    }\n",
       "\n",
       "    [theme=dark] .colab-df-convert {\n",
       "      background-color: #3B4455;\n",
       "      fill: #D2E3FC;\n",
       "    }\n",
       "\n",
       "    [theme=dark] .colab-df-convert:hover {\n",
       "      background-color: #434B5C;\n",
       "      box-shadow: 0px 1px 3px 1px rgba(0, 0, 0, 0.15);\n",
       "      filter: drop-shadow(0px 1px 2px rgba(0, 0, 0, 0.3));\n",
       "      fill: #FFFFFF;\n",
       "    }\n",
       "  </style>\n",
       "\n",
       "      <script>\n",
       "        const buttonEl =\n",
       "          document.querySelector('#df-8f986ef5-26af-4a65-9b46-3614962672e7 button.colab-df-convert');\n",
       "        buttonEl.style.display =\n",
       "          google.colab.kernel.accessAllowed ? 'block' : 'none';\n",
       "\n",
       "        async function convertToInteractive(key) {\n",
       "          const element = document.querySelector('#df-8f986ef5-26af-4a65-9b46-3614962672e7');\n",
       "          const dataTable =\n",
       "            await google.colab.kernel.invokeFunction('convertToInteractive',\n",
       "                                                     [key], {});\n",
       "          if (!dataTable) return;\n",
       "\n",
       "          const docLinkHtml = 'Like what you see? Visit the ' +\n",
       "            '<a target=\"_blank\" href=https://colab.research.google.com/notebooks/data_table.ipynb>data table notebook</a>'\n",
       "            + ' to learn more about interactive tables.';\n",
       "          element.innerHTML = '';\n",
       "          dataTable['output_type'] = 'display_data';\n",
       "          await google.colab.output.renderOutput(dataTable, element);\n",
       "          const docLink = document.createElement('div');\n",
       "          docLink.innerHTML = docLinkHtml;\n",
       "          element.appendChild(docLink);\n",
       "        }\n",
       "      </script>\n",
       "    </div>\n",
       "  </div>\n",
       "  "
      ],
      "text/plain": [
       "   Age  Attrition     BusinessTravel              Department EducationField  \\\n",
       "0   41          1      Travel_Rarely                   Sales  Life Sciences   \n",
       "1   49          0  Travel_Frequently  Research & Development  Life Sciences   \n",
       "2   37          1      Travel_Rarely  Research & Development          Other   \n",
       "3   33          0  Travel_Frequently  Research & Development  Life Sciences   \n",
       "4   27          0      Travel_Rarely  Research & Development        Medical   \n",
       "\n",
       "   EnvironmentSatisfaction  Gender  JobInvolvement  JobLevel  JobSatisfaction  \\\n",
       "0                        2  Female               3         2                4   \n",
       "1                        3    Male               2         2                2   \n",
       "2                        4    Male               2         1                3   \n",
       "3                        4  Female               3         1                3   \n",
       "4                        1    Male               3         1                2   \n",
       "\n",
       "  MaritalStatus  MonthlyIncome OverTime  TotalWorkingYears  WorkLifeBalance  \\\n",
       "0        Single           5993      Yes                  8                1   \n",
       "1       Married           5130       No                 10                3   \n",
       "2        Single           2090      Yes                  7                3   \n",
       "3       Married           2909      Yes                  8                3   \n",
       "4       Married           3468       No                  6                3   \n",
       "\n",
       "   YearsAtCompany  YearsInCurrentRole  YearsSinceLastPromotion  \\\n",
       "0               6                   4                        0   \n",
       "1              10                   7                        1   \n",
       "2               0                   0                        0   \n",
       "3               8                   7                        3   \n",
       "4               2                   2                        2   \n",
       "\n",
       "   YearsWithCurrManager  DistanceFromHome  \n",
       "0                     5                 1  \n",
       "1                     7                 8  \n",
       "2                     0                 2  \n",
       "3                     0                 3  \n",
       "4                     2                 2  "
      ]
     },
     "execution_count": 69,
     "metadata": {},
     "output_type": "execute_result"
    }
   ],
   "source": [
    "attrition.head()"
   ]
  },
  {
   "cell_type": "code",
   "execution_count": 70,
   "id": "f2d52386",
   "metadata": {
    "colab": {
     "base_uri": "https://localhost:8080/"
    },
    "id": "f2d52386",
    "outputId": "a6c66398-28a9-4b5f-af08-154bb87fe585"
   },
   "outputs": [
    {
     "data": {
      "text/plain": [
       "(col_0            counts\n",
       " WorkLifeBalance        \n",
       " 1                    80\n",
       " 2                   344\n",
       " 3                   893\n",
       " 4                   153, col_0            counts\n",
       " WorkLifeBalance        \n",
       " 1                  5.44\n",
       " 2                 23.40\n",
       " 3                 60.75\n",
       " 4                 10.41)"
      ]
     },
     "execution_count": 70,
     "metadata": {},
     "output_type": "execute_result"
    }
   ],
   "source": [
    "tab9=pd.crosstab(attrition.WorkLifeBalance,columns=\"counts\")\n",
    "tab9, round((tab9/n*100),2)"
   ]
  },
  {
   "cell_type": "markdown",
   "id": "fd38b8b1",
   "metadata": {
    "id": "fd38b8b1"
   },
   "source": [
    "#### Observation\n",
    "\n",
    "- It is categorical variable; Scale of measurement is Ordinal in nature \n",
    "- Variable \"Overtime\" comprises of 4 levels - 1 being the lowest, 4 being the highest \n",
    "- 71% of the employees claim to have a high work life balance. "
   ]
  },
  {
   "cell_type": "markdown",
   "id": "23faf77c",
   "metadata": {
    "id": "23faf77c"
   },
   "source": [
    "### 14. Monthly Income"
   ]
  },
  {
   "cell_type": "code",
   "execution_count": 71,
   "id": "e1e62000",
   "metadata": {
    "colab": {
     "base_uri": "https://localhost:8080/",
     "height": 296
    },
    "id": "e1e62000",
    "outputId": "b49381a9-16f7-4359-c5c0-8617d68c10ca"
   },
   "outputs": [
    {
     "data": {
      "text/plain": [
       "<matplotlib.axes._subplots.AxesSubplot at 0x7f7d69347a90>"
      ]
     },
     "execution_count": 71,
     "metadata": {},
     "output_type": "execute_result"
    },
    {
     "data": {
      "image/png": "[encoded data removed]",
      "text/plain": [
       "<Figure size 432x288 with 1 Axes>"
      ]
     },
     "metadata": {
      "needs_background": "light"
     },
     "output_type": "display_data"
    }
   ],
   "source": [
    "sns.boxplot(attrition[\"MonthlyIncome\"])"
   ]
  },
  {
   "cell_type": "code",
   "execution_count": 72,
   "id": "6d6fb5a0",
   "metadata": {
    "colab": {
     "base_uri": "https://localhost:8080/"
    },
    "id": "6d6fb5a0",
    "outputId": "08d6748d-95f3-48a5-e263-64c210b0e0e3",
    "scrolled": true
   },
   "outputs": [
    {
     "data": {
      "text/plain": [
       "(count     1470.000000\n",
       " mean      6502.931293\n",
       " std       4707.956783\n",
       " min       1009.000000\n",
       " 25%       2911.000000\n",
       " 50%       4919.000000\n",
       " 75%       8379.000000\n",
       " max      19999.000000\n",
       " Name: MonthlyIncome, dtype: float64, 17821.349999999995)"
      ]
     },
     "execution_count": 72,
     "metadata": {},
     "output_type": "execute_result"
    }
   ],
   "source": [
    "attrition.MonthlyIncome.describe(), np.quantile(attrition.MonthlyIncome,0.95)"
   ]
  },
  {
   "cell_type": "code",
   "execution_count": 73,
   "id": "26d0c0c8",
   "metadata": {
    "colab": {
     "base_uri": "https://localhost:8080/",
     "height": 298
    },
    "id": "26d0c0c8",
    "outputId": "662cad18-5b8f-4d37-8b15-9f77263ca2c9"
   },
   "outputs": [
    {
     "data": {
      "image/png": "[encoded data removed]",
      "text/plain": [
       "<Figure size 720x288 with 1 Axes>"
      ]
     },
     "metadata": {
      "needs_background": "light"
     },
     "output_type": "display_data"
    }
   ],
   "source": [
    "attrition.hist(column=\"MonthlyIncome\", grid=False , figsize=(10,4), color=\"Orange\" , edgecolor=\"black\")\n",
    "\n",
    "plt.xlabel(\"Monthly income\" , fontsize=12)\n",
    "plt.xticks(attrition.MonthlyIncome)\n",
    "\n",
    "plt.show()\n"
   ]
  },
  {
   "cell_type": "code",
   "execution_count": 74,
   "id": "f5e73d8b",
   "metadata": {
    "id": "f5e73d8b"
   },
   "outputs": [],
   "source": [
    "def find_outliers_IQR(attrition):\n",
    "    q1=attrition.quantile(0.25)\n",
    "    q3=attrition.quantile(0.75)\n",
    "    IQR=q3-q1\n",
    "    outliers = attrition[((attrition<(q1-1.5*IQR)) | (attrition>(q3+1.5*IQR)))]\n",
    "    return outliers"
   ]
  },
  {
   "cell_type": "code",
   "execution_count": 75,
   "id": "98d66266",
   "metadata": {
    "colab": {
     "base_uri": "https://localhost:8080/"
    },
    "id": "98d66266",
    "outputId": "fa473add-1484-4562-8f65-e12997b358b0"
   },
   "outputs": [
    {
     "name": "stdout",
     "output_type": "stream",
     "text": [
      "number of outliers: 114\n",
      "max outlier value: 19999\n",
      "min outlier value: 16595\n",
      "Total outlier (%):7.755102040816326\n"
     ]
    }
   ],
   "source": [
    "outliers = find_outliers_IQR(attrition[\"MonthlyIncome\"])\n",
    "\n",
    "print(\"number of outliers: \"+ str(len(outliers)))\n",
    "\n",
    "print(\"max outlier value: \"+ str(outliers.max()))\n",
    "\n",
    "print(\"min outlier value: \"+ str(outliers.min()))\n",
    "\n",
    "print(\"Total outlier (%):\" + str(len(outliers)/len(attrition)*100))"
   ]
  },
  {
   "cell_type": "markdown",
   "id": "fea4ef61",
   "metadata": {
    "id": "fea4ef61"
   },
   "source": [
    "\n",
    "#### Observation\n",
    "\n",
    "- Average monthly income of an employee in this organisation is approx 6503\n",
    "- Large standard deviation observed, which implies that values are distributed across a larger range. \n",
    "- Mean is larger than the  median therefore indicating a skewed distribution towards the right\n",
    "- 50% of employees earns less than 4919 which is even less than the avg salary of 6503 whereas only 5% of the employees earns between 17.8K to 20K"
   ]
  },
  {
   "cell_type": "markdown",
   "id": "7acaecca",
   "metadata": {
    "id": "7acaecca"
   },
   "source": [
    "### 15. Total working years & Years at Company"
   ]
  },
  {
   "cell_type": "code",
   "execution_count": 76,
   "id": "81cbc3a3",
   "metadata": {
    "colab": {
     "base_uri": "https://localhost:8080/",
     "height": 296
    },
    "id": "81cbc3a3",
    "outputId": "98d19022-b006-4316-d9ae-f33fb7621f37"
   },
   "outputs": [
    {
     "data": {
      "text/plain": [
       "<matplotlib.axes._subplots.AxesSubplot at 0x7f7d6860d250>"
      ]
     },
     "execution_count": 76,
     "metadata": {},
     "output_type": "execute_result"
    },
    {
     "data": {
      "image/png": "[encoded data removed]",
      "text/plain": [
       "<Figure size 432x288 with 1 Axes>"
      ]
     },
     "metadata": {
      "needs_background": "light"
     },
     "output_type": "display_data"
    }
   ],
   "source": [
    "sns.boxplot(attrition[\"TotalWorkingYears\"])"
   ]
  },
  {
   "cell_type": "code",
   "execution_count": 77,
   "id": "30aa4612",
   "metadata": {
    "colab": {
     "base_uri": "https://localhost:8080/",
     "height": 296
    },
    "id": "30aa4612",
    "outputId": "87327aa6-a77b-4578-ac64-60ed6be5ebb0"
   },
   "outputs": [
    {
     "data": {
      "text/plain": [
       "<matplotlib.axes._subplots.AxesSubplot at 0x7f7d68449c10>"
      ]
     },
     "execution_count": 77,
     "metadata": {},
     "output_type": "execute_result"
    },
    {
     "data": {
      "image/png": "[encoded data removed]",
      "text/plain": [
       "<Figure size 432x288 with 1 Axes>"
      ]
     },
     "metadata": {
      "needs_background": "light"
     },
     "output_type": "display_data"
    }
   ],
   "source": [
    "sns.boxplot(attrition[\"YearsAtCompany\"])"
   ]
  },
  {
   "cell_type": "code",
   "execution_count": 78,
   "id": "cb50ad69",
   "metadata": {
    "colab": {
     "base_uri": "https://localhost:8080/",
     "height": 579
    },
    "id": "cb50ad69",
    "outputId": "3346d349-14aa-4eba-b408-9e23f248ff21"
   },
   "outputs": [
    {
     "data": {
      "image/png": "[encoded data removed]",
      "text/plain": [
       "<Figure size 720x288 with 1 Axes>"
      ]
     },
     "metadata": {
      "needs_background": "light"
     },
     "output_type": "display_data"
    },
    {
     "data": {
      "image/png": "[encoded data removed]",
      "text/plain": [
       "<Figure size 720x288 with 1 Axes>"
      ]
     },
     "metadata": {
      "needs_background": "light"
     },
     "output_type": "display_data"
    }
   ],
   "source": [
    "attrition.hist(column=\"TotalWorkingYears\", grid=False , figsize=(10,4), color=\"Green\" , edgecolor=\"black\")\n",
    "\n",
    "plt.xlabel(\"Total Experience\" , fontsize=12)\n",
    "plt.ylabel(\"No.of employees\" , fontsize=14)\n",
    "plt.xticks(attrition.TotalWorkingYears)\n",
    "\n",
    "plt.show()\n",
    "\n",
    "\n",
    "attrition.hist(column=\"YearsAtCompany\", grid=False , figsize=(10,4), color=\"Green\" , edgecolor=\"black\")\n",
    "\n",
    "plt.xlabel(\"Current Exp in Company\" , fontsize=12)\n",
    "plt.ylabel(\"No.of employees\" , fontsize=14)\n",
    "plt.xticks(attrition.YearsAtCompany)\n",
    "\n",
    "plt.show()"
   ]
  },
  {
   "cell_type": "code",
   "execution_count": 79,
   "id": "507bb8a6",
   "metadata": {
    "colab": {
     "base_uri": "https://localhost:8080/"
    },
    "id": "507bb8a6",
    "outputId": "521c5087-d026-4b81-fd75-ffac217b770f"
   },
   "outputs": [
    {
     "name": "stdout",
     "output_type": "stream",
     "text": [
      "number of outliers: 63\n",
      "max outlier value: 40\n",
      "min outlier value: 29\n",
      "Total outlier (%):4.285714285714286\n"
     ]
    }
   ],
   "source": [
    "outliers = find_outliers_IQR(attrition[\"TotalWorkingYears\"])\n",
    "\n",
    "print(\"number of outliers: \"+ str(len(outliers)))\n",
    "\n",
    "print(\"max outlier value: \"+ str(outliers.max()))\n",
    "\n",
    "print(\"min outlier value: \"+ str(outliers.min()))\n",
    "\n",
    "print(\"Total outlier (%):\" + str(len(outliers)/len(attrition)*100))"
   ]
  },
  {
   "cell_type": "code",
   "execution_count": 80,
   "id": "eb2dc85f",
   "metadata": {
    "colab": {
     "base_uri": "https://localhost:8080/"
    },
    "id": "eb2dc85f",
    "outputId": "d1d36dd5-a14a-41c0-df36-ee7a34aef456"
   },
   "outputs": [
    {
     "name": "stdout",
     "output_type": "stream",
     "text": [
      "number of outliers: 104\n",
      "max outlier value: 40\n",
      "min outlier value: 19\n",
      "Total outlier (%):7.07482993197279\n"
     ]
    }
   ],
   "source": [
    "outliers = find_outliers_IQR(attrition[\"YearsAtCompany\"])\n",
    "\n",
    "print(\"number of outliers: \"+ str(len(outliers)))\n",
    "\n",
    "print(\"max outlier value: \"+ str(outliers.max()))\n",
    "\n",
    "print(\"min outlier value: \"+ str(outliers.min()))\n",
    "\n",
    "print(\"Total outlier (%):\" + str(len(outliers)/len(attrition)*100))"
   ]
  },
  {
   "cell_type": "code",
   "execution_count": 81,
   "id": "7696c509",
   "metadata": {
    "colab": {
     "base_uri": "https://localhost:8080/"
    },
    "id": "7696c509",
    "outputId": "7defa57e-8546-4c08-b33e-79ea72d9cbbc"
   },
   "outputs": [
    {
     "data": {
      "text/plain": [
       "(count    1470.000000\n",
       " mean       11.279592\n",
       " std         7.780782\n",
       " min         0.000000\n",
       " 25%         6.000000\n",
       " 50%        10.000000\n",
       " 75%        15.000000\n",
       " max        40.000000\n",
       " Name: TotalWorkingYears, dtype: float64, count    1470.000000\n",
       " mean        7.008163\n",
       " std         6.126525\n",
       " min         0.000000\n",
       " 25%         3.000000\n",
       " 50%         5.000000\n",
       " 75%         9.000000\n",
       " max        40.000000\n",
       " Name: YearsAtCompany, dtype: float64)"
      ]
     },
     "execution_count": 81,
     "metadata": {},
     "output_type": "execute_result"
    }
   ],
   "source": [
    "attrition.TotalWorkingYears.describe() , attrition.YearsAtCompany.describe()"
   ]
  },
  {
   "cell_type": "markdown",
   "id": "a25a5a28",
   "metadata": {
    "id": "a25a5a28"
   },
   "source": [
    "#### Observation - Total Working Years\n",
    "- Variable \"total working years\" refers to employees total work experience till date comprising of current as well as previous experience \n",
    "- It is a numerical variable and scale of measurement is continuous in nature\n",
    "- Avg total experience of an employee is approx 11years\n",
    "- 50% of the employees have a total work ex of less than 10 years \n",
    "- Mean is higher than median which implies distribution of total working years is skewed towards right \n",
    "- Only 25% of the employees have worked for more than 15 years\n",
    "- Only 5% of the employees have work ex of less than 1 year which means the proportion of hiring freshers is less int he company and they prefer hiring resources with high mid or high experience\n",
    "- Presence of outlier of 4 % observed in the said variable and max outlier is 40 years"
   ]
  },
  {
   "cell_type": "markdown",
   "id": "18e7070f",
   "metadata": {
    "id": "18e7070f"
   },
   "source": [
    "#### Observation -  Years at company\n",
    "\n",
    "- Variable \"Years at company\" refers to employees' no.of years of experience with the current organisation\n",
    "- It is a numerical variable and scale of measurement is continuous in nature\n",
    "- Avg experience of employees with the current organisation is 7 years \n",
    "- 50% of employees have total experience less than 5 years\n",
    "- Only 25% employees have total experience more than 9 years \n",
    "- This organisation seems to be min 40 years old considering there is one osbervation stating current experience with the company is 40 years which could be that this particualr employee was part of the organisation since inception\n",
    "- Presence of outlier of 7% observed with max outlier value of 40 years"
   ]
  },
  {
   "cell_type": "markdown",
   "id": "c8b943ee",
   "metadata": {
    "id": "c8b943ee"
   },
   "source": [
    "### 16. Years in current role"
   ]
  },
  {
   "cell_type": "code",
   "execution_count": 3,
   "id": "5916de2f",
   "metadata": {
    "id": "5916de2f"
   },
   "outputs": [
    {
     "data": {
      "text/plain": [
       "count    1470.000000\n",
       "mean        4.229252\n",
       "std         3.623137\n",
       "min         0.000000\n",
       "25%         2.000000\n",
       "50%         3.000000\n",
       "75%         7.000000\n",
       "max        18.000000\n",
       "Name: YearsInCurrentRole, dtype: float64"
      ]
     },
     "execution_count": 3,
     "metadata": {},
     "output_type": "execute_result"
    }
   ],
   "source": [
    "attrition.YearsInCurrentRole.describe()"
   ]
  },
  {
   "cell_type": "code",
   "execution_count": 4,
   "id": "b01dd67e",
   "metadata": {
    "id": "b01dd67e",
    "scrolled": true
   },
   "outputs": [
    {
     "data": {
      "text/plain": [
       "<AxesSubplot:xlabel='YearsInCurrentRole'>"
      ]
     },
     "execution_count": 4,
     "metadata": {},
     "output_type": "execute_result"
    },
    {
     "data": {
      "image/png": "[encoded data removed]",
      "text/plain": [
       "<Figure size 432x288 with 1 Axes>"
      ]
     },
     "metadata": {
      "needs_background": "light"
     },
     "output_type": "display_data"
    }
   ],
   "source": [
    "sns.boxplot(attrition[\"YearsInCurrentRole\"])"
   ]
  },
  {
   "cell_type": "code",
   "execution_count": 5,
   "id": "1766afc7",
   "metadata": {
    "id": "1766afc7"
   },
   "outputs": [
    {
     "data": {
      "image/png": "[encoded data removed]",
      "text/plain": [
       "<Figure size 1080x288 with 1 Axes>"
      ]
     },
     "metadata": {
      "needs_background": "light"
     },
     "output_type": "display_data"
    }
   ],
   "source": [
    "attrition.hist(column=\"YearsInCurrentRole\", grid = False, figsize=(15,4), color=\"grey\", edgecolor=\"black\")\n",
    "plt.xlabel(\"YearsInCurrentRole\")\n",
    "\n",
    "plt.xticks(attrition.YearsInCurrentRole)\n",
    "plt.title(\"Years In Current Role\", fontsize=12)\n",
    "\n",
    "plt.xlabel(\"Yrs in current role\", fontsize=12)\n",
    "plt.ylabel(\"No. of employees\" , fontsize=14)\n",
    "\n",
    "plt.show()"
   ]
  },
  {
   "cell_type": "markdown",
   "id": "7b4b5aca",
   "metadata": {
    "id": "7b4b5aca"
   },
   "source": [
    "## Observation\n",
    "\n",
    "- Variable \"Years in current role\" refers to no. of years an employee has worked in his current role /designation\n",
    "- Avg years of employees working in their current role is 4.2 years which gives an indication that employees are not motivated with elevation in the their position or given new challenging roles \n",
    "- 50% of the employees have less than 3 years of experience in their current role/designation\n",
    "- It is observed that data is positively skewed towards lower no. of years in current role\n",
    "- 25% of employees is assocaiated with their current role in the company for >7 years which again could be contributing to attrition rate since employees are associated with their current roles for longer years with no learning curve "
   ]
  },
  {
   "cell_type": "markdown",
   "id": "2aabd80d",
   "metadata": {
    "id": "2aabd80d"
   },
   "source": [
    "### 17. Years in last promotion"
   ]
  },
  {
   "cell_type": "code",
   "execution_count": 6,
   "id": "74927782",
   "metadata": {
    "id": "74927782"
   },
   "outputs": [
    {
     "data": {
      "text/plain": [
       "<AxesSubplot:xlabel='YearsSinceLastPromotion'>"
      ]
     },
     "execution_count": 6,
     "metadata": {},
     "output_type": "execute_result"
    },
    {
     "data": {
      "image/png": "[encoded data removed]",
      "text/plain": [
       "<Figure size 432x288 with 1 Axes>"
      ]
     },
     "metadata": {
      "needs_background": "light"
     },
     "output_type": "display_data"
    }
   ],
   "source": [
    "sns.boxplot(attrition[\"YearsSinceLastPromotion\"])"
   ]
  },
  {
   "cell_type": "code",
   "execution_count": 7,
   "id": "1bfaac5c",
   "metadata": {
    "id": "1bfaac5c"
   },
   "outputs": [
    {
     "data": {
      "image/png": "[encoded data removed]",
      "text/plain": [
       "<Figure size 720x288 with 1 Axes>"
      ]
     },
     "metadata": {
      "needs_background": "light"
     },
     "output_type": "display_data"
    }
   ],
   "source": [
    "attrition.hist(column=\"YearsSinceLastPromotion\", grid=False , figsize=(10,4), color=\"Green\" , edgecolor=\"black\")\n",
    "\n",
    "plt.xlabel(\"Last promotion(in yrs)\" , fontsize=12)\n",
    "plt.ylabel(\"No.of employees\" , fontsize=14)\n",
    "plt.xticks(attrition.YearsSinceLastPromotion)\n",
    "\n",
    "\n",
    "plt.show()"
   ]
  },
  {
   "cell_type": "code",
   "execution_count": 8,
   "id": "db10250a",
   "metadata": {
    "id": "db10250a"
   },
   "outputs": [
    {
     "data": {
      "text/plain": [
       "count    1470.000000\n",
       "mean        2.187755\n",
       "std         3.222430\n",
       "min         0.000000\n",
       "25%         0.000000\n",
       "50%         1.000000\n",
       "75%         3.000000\n",
       "max        15.000000\n",
       "Name: YearsSinceLastPromotion, dtype: float64"
      ]
     },
     "execution_count": 8,
     "metadata": {},
     "output_type": "execute_result"
    }
   ],
   "source": [
    "attrition.YearsSinceLastPromotion.describe()"
   ]
  },
  {
   "cell_type": "markdown",
   "id": "69deadb4",
   "metadata": {
    "id": "69deadb4"
   },
   "source": [
    "#### Observation \n",
    "\n",
    "- Variable \"YearsSinceLastPromotion\" refers to no. of years of employees who got their last promotion\n",
    "- Avg years of employees getting promotion is 2.18 years\n",
    "- 50% of employees got their last promotion in less than 1 year; \n",
    "- 75% of employees got their last promotion in less than 3 years; \n",
    "- This shows that company used to motivate and acknowledge employees for their work and promote them however it does not corroborate with\n",
    "the fact inferred from variable \"YearsInCurrentRole\" as avg years of employees working in their current role is 4.2 years "
   ]
  },
  {
   "cell_type": "markdown",
   "id": "92df3d7c",
   "metadata": {
    "id": "92df3d7c"
   },
   "source": [
    "### 18. Years With Curr Manager"
   ]
  },
  {
   "cell_type": "code",
   "execution_count": 9,
   "id": "5f075920",
   "metadata": {
    "id": "5f075920"
   },
   "outputs": [
    {
     "data": {
      "text/plain": [
       "count    1470.000000\n",
       "mean        4.123129\n",
       "std         3.568136\n",
       "min         0.000000\n",
       "25%         2.000000\n",
       "50%         3.000000\n",
       "75%         7.000000\n",
       "max        17.000000\n",
       "Name: YearsWithCurrManager, dtype: float64"
      ]
     },
     "execution_count": 9,
     "metadata": {},
     "output_type": "execute_result"
    }
   ],
   "source": [
    "attrition.YearsWithCurrManager.describe()"
   ]
  },
  {
   "cell_type": "code",
   "execution_count": 10,
   "id": "c5fffc60",
   "metadata": {
    "id": "c5fffc60"
   },
   "outputs": [
    {
     "data": {
      "text/plain": [
       "<AxesSubplot:xlabel='YearsWithCurrManager'>"
      ]
     },
     "execution_count": 10,
     "metadata": {},
     "output_type": "execute_result"
    },
    {
     "data": {
      "image/png": "[encoded data removed]",
      "text/plain": [
       "<Figure size 432x288 with 1 Axes>"
      ]
     },
     "metadata": {
      "needs_background": "light"
     },
     "output_type": "display_data"
    }
   ],
   "source": [
    "sns.boxplot(attrition[\"YearsWithCurrManager\"])"
   ]
  },
  {
   "cell_type": "code",
   "execution_count": 11,
   "id": "e16e8f19",
   "metadata": {
    "id": "e16e8f19"
   },
   "outputs": [
    {
     "data": {
      "image/png": "[encoded data removed]",
      "text/plain": [
       "<Figure size 720x288 with 1 Axes>"
      ]
     },
     "metadata": {
      "needs_background": "light"
     },
     "output_type": "display_data"
    }
   ],
   "source": [
    "attrition.hist(column=\"YearsWithCurrManager\", grid=False , figsize=(10,4) , edgecolor=\"black\")    \n",
    "plt.xlabel(\"Years with current manager\" , fontsize=12)\n",
    "plt.ylabel(\"No.of employees\" , fontsize=14)\n",
    "plt.xticks(attrition.YearsWithCurrManager)\n",
    "\n",
    "plt.show()"
   ]
  },
  {
   "cell_type": "markdown",
   "id": "2848791f",
   "metadata": {
    "id": "2848791f"
   },
   "source": [
    "#### Observation\n",
    "\n",
    "- Variable \"YearsWithCurrManager\" refer to no. of years an employee has worked with his current manager/supervisor\n",
    "- It is a numerical variable and scale of measurement is continuous in nature\n",
    "- majority of employees have worked with current manager at least 2 years\n",
    "- Atleast 25% of employees in the organisation have worked with current manager for more than 11 years    "
   ]
  },
  {
   "cell_type": "code",
   "execution_count": 12,
   "id": "f21443bf",
   "metadata": {
    "id": "f21443bf"
   },
   "outputs": [
    {
     "data": {
      "text/html": [
       "<div>\n",
       "<style scoped>\n",
       "    .dataframe tbody tr th:only-of-type {\n",
       "        vertical-align: middle;\n",
       "    }\n",
       "\n",
       "    .dataframe tbody tr th {\n",
       "        vertical-align: top;\n",
       "    }\n",
       "\n",
       "    .dataframe thead th {\n",
       "        text-align: right;\n",
       "    }\n",
       "</style>\n",
       "<table border=\"1\" class=\"dataframe\">\n",
       "  <thead>\n",
       "    <tr style=\"text-align: right;\">\n",
       "      <th></th>\n",
       "      <th>Age</th>\n",
       "      <th>Attrition</th>\n",
       "      <th>BusinessTravel</th>\n",
       "      <th>Department</th>\n",
       "      <th>EducationField</th>\n",
       "      <th>EnvironmentSatisfaction</th>\n",
       "      <th>Gender</th>\n",
       "      <th>JobInvolvement</th>\n",
       "      <th>JobLevel</th>\n",
       "      <th>JobSatisfaction</th>\n",
       "      <th>...</th>\n",
       "      <th>MonthlyIncome</th>\n",
       "      <th>OverTime</th>\n",
       "      <th>TotalWorkingYears</th>\n",
       "      <th>WorkLifeBalance</th>\n",
       "      <th>YearsAtCompany</th>\n",
       "      <th>YearsInCurrentRole</th>\n",
       "      <th>YearsSinceLastPromotion</th>\n",
       "      <th>YearsWithCurrManager</th>\n",
       "      <th>DistanceFromHome</th>\n",
       "      <th>DistFromOffice</th>\n",
       "    </tr>\n",
       "  </thead>\n",
       "  <tbody>\n",
       "    <tr>\n",
       "      <th>0</th>\n",
       "      <td>41</td>\n",
       "      <td>1</td>\n",
       "      <td>Travel_Rarely</td>\n",
       "      <td>Sales</td>\n",
       "      <td>Life Sciences</td>\n",
       "      <td>2</td>\n",
       "      <td>Female</td>\n",
       "      <td>3</td>\n",
       "      <td>2</td>\n",
       "      <td>4</td>\n",
       "      <td>...</td>\n",
       "      <td>5993</td>\n",
       "      <td>Yes</td>\n",
       "      <td>8</td>\n",
       "      <td>1</td>\n",
       "      <td>6</td>\n",
       "      <td>4</td>\n",
       "      <td>0</td>\n",
       "      <td>5</td>\n",
       "      <td>1</td>\n",
       "      <td>1.5</td>\n",
       "    </tr>\n",
       "    <tr>\n",
       "      <th>1</th>\n",
       "      <td>49</td>\n",
       "      <td>0</td>\n",
       "      <td>Travel_Frequently</td>\n",
       "      <td>Research &amp; Development</td>\n",
       "      <td>Life Sciences</td>\n",
       "      <td>3</td>\n",
       "      <td>Male</td>\n",
       "      <td>2</td>\n",
       "      <td>2</td>\n",
       "      <td>2</td>\n",
       "      <td>...</td>\n",
       "      <td>5130</td>\n",
       "      <td>No</td>\n",
       "      <td>10</td>\n",
       "      <td>3</td>\n",
       "      <td>10</td>\n",
       "      <td>7</td>\n",
       "      <td>1</td>\n",
       "      <td>7</td>\n",
       "      <td>8</td>\n",
       "      <td>8.5</td>\n",
       "    </tr>\n",
       "    <tr>\n",
       "      <th>2</th>\n",
       "      <td>37</td>\n",
       "      <td>1</td>\n",
       "      <td>Travel_Rarely</td>\n",
       "      <td>Research &amp; Development</td>\n",
       "      <td>Other</td>\n",
       "      <td>4</td>\n",
       "      <td>Male</td>\n",
       "      <td>2</td>\n",
       "      <td>1</td>\n",
       "      <td>3</td>\n",
       "      <td>...</td>\n",
       "      <td>2090</td>\n",
       "      <td>Yes</td>\n",
       "      <td>7</td>\n",
       "      <td>3</td>\n",
       "      <td>0</td>\n",
       "      <td>0</td>\n",
       "      <td>0</td>\n",
       "      <td>0</td>\n",
       "      <td>2</td>\n",
       "      <td>2.5</td>\n",
       "    </tr>\n",
       "    <tr>\n",
       "      <th>3</th>\n",
       "      <td>33</td>\n",
       "      <td>0</td>\n",
       "      <td>Travel_Frequently</td>\n",
       "      <td>Research &amp; Development</td>\n",
       "      <td>Life Sciences</td>\n",
       "      <td>4</td>\n",
       "      <td>Female</td>\n",
       "      <td>3</td>\n",
       "      <td>1</td>\n",
       "      <td>3</td>\n",
       "      <td>...</td>\n",
       "      <td>2909</td>\n",
       "      <td>Yes</td>\n",
       "      <td>8</td>\n",
       "      <td>3</td>\n",
       "      <td>8</td>\n",
       "      <td>7</td>\n",
       "      <td>3</td>\n",
       "      <td>0</td>\n",
       "      <td>3</td>\n",
       "      <td>3.5</td>\n",
       "    </tr>\n",
       "    <tr>\n",
       "      <th>4</th>\n",
       "      <td>27</td>\n",
       "      <td>0</td>\n",
       "      <td>Travel_Rarely</td>\n",
       "      <td>Research &amp; Development</td>\n",
       "      <td>Medical</td>\n",
       "      <td>1</td>\n",
       "      <td>Male</td>\n",
       "      <td>3</td>\n",
       "      <td>1</td>\n",
       "      <td>2</td>\n",
       "      <td>...</td>\n",
       "      <td>3468</td>\n",
       "      <td>No</td>\n",
       "      <td>6</td>\n",
       "      <td>3</td>\n",
       "      <td>2</td>\n",
       "      <td>2</td>\n",
       "      <td>2</td>\n",
       "      <td>2</td>\n",
       "      <td>2</td>\n",
       "      <td>2.5</td>\n",
       "    </tr>\n",
       "  </tbody>\n",
       "</table>\n",
       "<p>5 rows × 21 columns</p>\n",
       "</div>"
      ],
      "text/plain": [
       "   Age  Attrition     BusinessTravel              Department EducationField  \\\n",
       "0   41          1      Travel_Rarely                   Sales  Life Sciences   \n",
       "1   49          0  Travel_Frequently  Research & Development  Life Sciences   \n",
       "2   37          1      Travel_Rarely  Research & Development          Other   \n",
       "3   33          0  Travel_Frequently  Research & Development  Life Sciences   \n",
       "4   27          0      Travel_Rarely  Research & Development        Medical   \n",
       "\n",
       "   EnvironmentSatisfaction  Gender  JobInvolvement  JobLevel  JobSatisfaction  \\\n",
       "0                        2  Female               3         2                4   \n",
       "1                        3    Male               2         2                2   \n",
       "2                        4    Male               2         1                3   \n",
       "3                        4  Female               3         1                3   \n",
       "4                        1    Male               3         1                2   \n",
       "\n",
       "   ... MonthlyIncome  OverTime TotalWorkingYears  WorkLifeBalance  \\\n",
       "0  ...          5993       Yes                 8                1   \n",
       "1  ...          5130        No                10                3   \n",
       "2  ...          2090       Yes                 7                3   \n",
       "3  ...          2909       Yes                 8                3   \n",
       "4  ...          3468        No                 6                3   \n",
       "\n",
       "   YearsAtCompany  YearsInCurrentRole  YearsSinceLastPromotion  \\\n",
       "0               6                   4                        0   \n",
       "1              10                   7                        1   \n",
       "2               0                   0                        0   \n",
       "3               8                   7                        3   \n",
       "4               2                   2                        2   \n",
       "\n",
       "   YearsWithCurrManager  DistanceFromHome  DistFromOffice  \n",
       "0                     5                 1             1.5  \n",
       "1                     7                 8             8.5  \n",
       "2                     0                 2             2.5  \n",
       "3                     0                 3             3.5  \n",
       "4                     2                 2             2.5  \n",
       "\n",
       "[5 rows x 21 columns]"
      ]
     },
     "execution_count": 12,
     "metadata": {},
     "output_type": "execute_result"
    }
   ],
   "source": [
    "attrition.head()"
   ]
  },
  {
   "cell_type": "markdown",
   "id": "02fbcc55",
   "metadata": {
    "id": "02fbcc55"
   },
   "source": [
    "### 19. Distance from home"
   ]
  },
  {
   "cell_type": "code",
   "execution_count": 13,
   "id": "dac0cb36",
   "metadata": {
    "id": "dac0cb36"
   },
   "outputs": [
    {
     "data": {
      "text/plain": [
       "<AxesSubplot:xlabel='DistanceFromHome'>"
      ]
     },
     "execution_count": 13,
     "metadata": {},
     "output_type": "execute_result"
    },
    {
     "data": {
      "image/png": "[encoded data removed]",
      "text/plain": [
       "<Figure size 432x288 with 1 Axes>"
      ]
     },
     "metadata": {
      "needs_background": "light"
     },
     "output_type": "display_data"
    }
   ],
   "source": [
    "sns.boxplot(attrition[\"DistanceFromHome\"])"
   ]
  },
  {
   "cell_type": "code",
   "execution_count": 14,
   "id": "eb9b3ebf",
   "metadata": {
    "id": "eb9b3ebf"
   },
   "outputs": [
    {
     "data": {
      "image/png": "[encoded data removed]",
      "text/plain": [
       "<Figure size 720x288 with 1 Axes>"
      ]
     },
     "metadata": {
      "needs_background": "light"
     },
     "output_type": "display_data"
    }
   ],
   "source": [
    "attrition.hist(column=\"DistanceFromHome\", grid=False , figsize=(10,4) , edgecolor=\"black\")    \n",
    "plt.xlabel(\"Distance from Home\" , fontsize=12)\n",
    "plt.ylabel(\"No.of employees\" , fontsize=14)\n",
    "plt.xticks(attrition.DistanceFromHome)\n",
    "\n",
    "plt.show()"
   ]
  },
  {
   "cell_type": "code",
   "execution_count": 15,
   "id": "4778ff9a",
   "metadata": {
    "id": "4778ff9a",
    "scrolled": true
   },
   "outputs": [
    {
     "data": {
      "text/plain": [
       "count    1470.000000\n",
       "mean        9.192517\n",
       "std         8.106864\n",
       "min         1.000000\n",
       "25%         2.000000\n",
       "50%         7.000000\n",
       "75%        14.000000\n",
       "max        29.000000\n",
       "Name: DistanceFromHome, dtype: float64"
      ]
     },
     "execution_count": 15,
     "metadata": {},
     "output_type": "execute_result"
    }
   ],
   "source": [
    "attrition.DistanceFromHome.describe()"
   ]
  },
  {
   "cell_type": "code",
   "execution_count": 16,
   "id": "f63d3470",
   "metadata": {
    "id": "f63d3470"
   },
   "outputs": [
    {
     "data": {
      "text/html": [
       "<div>\n",
       "<style scoped>\n",
       "    .dataframe tbody tr th:only-of-type {\n",
       "        vertical-align: middle;\n",
       "    }\n",
       "\n",
       "    .dataframe tbody tr th {\n",
       "        vertical-align: top;\n",
       "    }\n",
       "\n",
       "    .dataframe thead th {\n",
       "        text-align: right;\n",
       "    }\n",
       "</style>\n",
       "<table border=\"1\" class=\"dataframe\">\n",
       "  <thead>\n",
       "    <tr style=\"text-align: right;\">\n",
       "      <th></th>\n",
       "      <th>Age</th>\n",
       "      <th>Attrition</th>\n",
       "      <th>BusinessTravel</th>\n",
       "      <th>Department</th>\n",
       "      <th>EducationField</th>\n",
       "      <th>EnvironmentSatisfaction</th>\n",
       "      <th>Gender</th>\n",
       "      <th>JobInvolvement</th>\n",
       "      <th>JobLevel</th>\n",
       "      <th>JobSatisfaction</th>\n",
       "      <th>...</th>\n",
       "      <th>MonthlyIncome</th>\n",
       "      <th>OverTime</th>\n",
       "      <th>TotalWorkingYears</th>\n",
       "      <th>WorkLifeBalance</th>\n",
       "      <th>YearsAtCompany</th>\n",
       "      <th>YearsInCurrentRole</th>\n",
       "      <th>YearsSinceLastPromotion</th>\n",
       "      <th>YearsWithCurrManager</th>\n",
       "      <th>DistanceFromHome</th>\n",
       "      <th>DistFromOffice</th>\n",
       "    </tr>\n",
       "  </thead>\n",
       "  <tbody>\n",
       "    <tr>\n",
       "      <th>1465</th>\n",
       "      <td>36</td>\n",
       "      <td>0</td>\n",
       "      <td>Travel_Frequently</td>\n",
       "      <td>Research &amp; Development</td>\n",
       "      <td>Medical</td>\n",
       "      <td>3</td>\n",
       "      <td>Male</td>\n",
       "      <td>4</td>\n",
       "      <td>2</td>\n",
       "      <td>4</td>\n",
       "      <td>...</td>\n",
       "      <td>2571</td>\n",
       "      <td>No</td>\n",
       "      <td>17</td>\n",
       "      <td>3</td>\n",
       "      <td>5</td>\n",
       "      <td>2</td>\n",
       "      <td>0</td>\n",
       "      <td>3</td>\n",
       "      <td>23</td>\n",
       "      <td>23.5</td>\n",
       "    </tr>\n",
       "    <tr>\n",
       "      <th>1466</th>\n",
       "      <td>39</td>\n",
       "      <td>0</td>\n",
       "      <td>Travel_Rarely</td>\n",
       "      <td>Research &amp; Development</td>\n",
       "      <td>Medical</td>\n",
       "      <td>4</td>\n",
       "      <td>Male</td>\n",
       "      <td>2</td>\n",
       "      <td>3</td>\n",
       "      <td>1</td>\n",
       "      <td>...</td>\n",
       "      <td>9991</td>\n",
       "      <td>No</td>\n",
       "      <td>9</td>\n",
       "      <td>3</td>\n",
       "      <td>7</td>\n",
       "      <td>7</td>\n",
       "      <td>1</td>\n",
       "      <td>7</td>\n",
       "      <td>6</td>\n",
       "      <td>6.5</td>\n",
       "    </tr>\n",
       "    <tr>\n",
       "      <th>1467</th>\n",
       "      <td>27</td>\n",
       "      <td>0</td>\n",
       "      <td>Travel_Rarely</td>\n",
       "      <td>Research &amp; Development</td>\n",
       "      <td>Life Sciences</td>\n",
       "      <td>2</td>\n",
       "      <td>Male</td>\n",
       "      <td>4</td>\n",
       "      <td>2</td>\n",
       "      <td>2</td>\n",
       "      <td>...</td>\n",
       "      <td>6142</td>\n",
       "      <td>Yes</td>\n",
       "      <td>6</td>\n",
       "      <td>3</td>\n",
       "      <td>6</td>\n",
       "      <td>2</td>\n",
       "      <td>0</td>\n",
       "      <td>3</td>\n",
       "      <td>4</td>\n",
       "      <td>4.5</td>\n",
       "    </tr>\n",
       "    <tr>\n",
       "      <th>1468</th>\n",
       "      <td>49</td>\n",
       "      <td>0</td>\n",
       "      <td>Travel_Frequently</td>\n",
       "      <td>Sales</td>\n",
       "      <td>Medical</td>\n",
       "      <td>4</td>\n",
       "      <td>Male</td>\n",
       "      <td>2</td>\n",
       "      <td>2</td>\n",
       "      <td>2</td>\n",
       "      <td>...</td>\n",
       "      <td>5390</td>\n",
       "      <td>No</td>\n",
       "      <td>17</td>\n",
       "      <td>2</td>\n",
       "      <td>9</td>\n",
       "      <td>6</td>\n",
       "      <td>0</td>\n",
       "      <td>8</td>\n",
       "      <td>2</td>\n",
       "      <td>2.5</td>\n",
       "    </tr>\n",
       "    <tr>\n",
       "      <th>1469</th>\n",
       "      <td>34</td>\n",
       "      <td>0</td>\n",
       "      <td>Travel_Rarely</td>\n",
       "      <td>Research &amp; Development</td>\n",
       "      <td>Medical</td>\n",
       "      <td>2</td>\n",
       "      <td>Male</td>\n",
       "      <td>4</td>\n",
       "      <td>2</td>\n",
       "      <td>3</td>\n",
       "      <td>...</td>\n",
       "      <td>4404</td>\n",
       "      <td>No</td>\n",
       "      <td>6</td>\n",
       "      <td>4</td>\n",
       "      <td>4</td>\n",
       "      <td>3</td>\n",
       "      <td>1</td>\n",
       "      <td>2</td>\n",
       "      <td>8</td>\n",
       "      <td>8.5</td>\n",
       "    </tr>\n",
       "  </tbody>\n",
       "</table>\n",
       "<p>5 rows × 21 columns</p>\n",
       "</div>"
      ],
      "text/plain": [
       "      Age  Attrition     BusinessTravel              Department  \\\n",
       "1465   36          0  Travel_Frequently  Research & Development   \n",
       "1466   39          0      Travel_Rarely  Research & Development   \n",
       "1467   27          0      Travel_Rarely  Research & Development   \n",
       "1468   49          0  Travel_Frequently                   Sales   \n",
       "1469   34          0      Travel_Rarely  Research & Development   \n",
       "\n",
       "     EducationField  EnvironmentSatisfaction Gender  JobInvolvement  JobLevel  \\\n",
       "1465        Medical                        3   Male               4         2   \n",
       "1466        Medical                        4   Male               2         3   \n",
       "1467  Life Sciences                        2   Male               4         2   \n",
       "1468        Medical                        4   Male               2         2   \n",
       "1469        Medical                        2   Male               4         2   \n",
       "\n",
       "      JobSatisfaction  ... MonthlyIncome  OverTime TotalWorkingYears  \\\n",
       "1465                4  ...          2571        No                17   \n",
       "1466                1  ...          9991        No                 9   \n",
       "1467                2  ...          6142       Yes                 6   \n",
       "1468                2  ...          5390        No                17   \n",
       "1469                3  ...          4404        No                 6   \n",
       "\n",
       "      WorkLifeBalance  YearsAtCompany  YearsInCurrentRole  \\\n",
       "1465                3               5                   2   \n",
       "1466                3               7                   7   \n",
       "1467                3               6                   2   \n",
       "1468                2               9                   6   \n",
       "1469                4               4                   3   \n",
       "\n",
       "      YearsSinceLastPromotion  YearsWithCurrManager  DistanceFromHome  \\\n",
       "1465                        0                     3                23   \n",
       "1466                        1                     7                 6   \n",
       "1467                        0                     3                 4   \n",
       "1468                        0                     8                 2   \n",
       "1469                        1                     2                 8   \n",
       "\n",
       "      DistFromOffice  \n",
       "1465            23.5  \n",
       "1466             6.5  \n",
       "1467             4.5  \n",
       "1468             2.5  \n",
       "1469             8.5  \n",
       "\n",
       "[5 rows x 21 columns]"
      ]
     },
     "execution_count": 16,
     "metadata": {},
     "output_type": "execute_result"
    }
   ],
   "source": [
    "attrition.tail()"
   ]
  },
  {
   "cell_type": "markdown",
   "id": "d06545ea",
   "metadata": {
    "id": "d06545ea"
   },
   "source": [
    "#### Observation\n",
    "\n",
    "- Max distance travelled by an employee for office is 29kms and minimum is 1km\n",
    "- Avg distance from 10km from the company\n",
    "- 25% employees live upto 14 km farther from the company"
   ]
  },
  {
   "cell_type": "markdown",
   "id": "6e015b42",
   "metadata": {
    "id": "6e015b42"
   },
   "source": [
    "Note: Dropping Distance from office variable as it looks same as Distance from Home only difference observed is 0.5 increase in distance"
   ]
  },
  {
   "cell_type": "code",
   "execution_count": 17,
   "id": "2d0250d5",
   "metadata": {
    "id": "2d0250d5"
   },
   "outputs": [
    {
     "data": {
      "text/html": [
       "<div>\n",
       "<style scoped>\n",
       "    .dataframe tbody tr th:only-of-type {\n",
       "        vertical-align: middle;\n",
       "    }\n",
       "\n",
       "    .dataframe tbody tr th {\n",
       "        vertical-align: top;\n",
       "    }\n",
       "\n",
       "    .dataframe thead th {\n",
       "        text-align: right;\n",
       "    }\n",
       "</style>\n",
       "<table border=\"1\" class=\"dataframe\">\n",
       "  <thead>\n",
       "    <tr style=\"text-align: right;\">\n",
       "      <th></th>\n",
       "      <th>Age</th>\n",
       "      <th>Attrition</th>\n",
       "      <th>BusinessTravel</th>\n",
       "      <th>Department</th>\n",
       "      <th>EducationField</th>\n",
       "      <th>EnvironmentSatisfaction</th>\n",
       "      <th>Gender</th>\n",
       "      <th>JobInvolvement</th>\n",
       "      <th>JobLevel</th>\n",
       "      <th>JobSatisfaction</th>\n",
       "      <th>...</th>\n",
       "      <th>MonthlyIncome</th>\n",
       "      <th>OverTime</th>\n",
       "      <th>TotalWorkingYears</th>\n",
       "      <th>WorkLifeBalance</th>\n",
       "      <th>YearsAtCompany</th>\n",
       "      <th>YearsInCurrentRole</th>\n",
       "      <th>YearsSinceLastPromotion</th>\n",
       "      <th>YearsWithCurrManager</th>\n",
       "      <th>DistanceFromHome</th>\n",
       "      <th>DistFromOffice</th>\n",
       "    </tr>\n",
       "  </thead>\n",
       "  <tbody>\n",
       "    <tr>\n",
       "      <th>0</th>\n",
       "      <td>41</td>\n",
       "      <td>1</td>\n",
       "      <td>Travel_Rarely</td>\n",
       "      <td>Sales</td>\n",
       "      <td>Life Sciences</td>\n",
       "      <td>2</td>\n",
       "      <td>Female</td>\n",
       "      <td>3</td>\n",
       "      <td>2</td>\n",
       "      <td>4</td>\n",
       "      <td>...</td>\n",
       "      <td>5993</td>\n",
       "      <td>Yes</td>\n",
       "      <td>8</td>\n",
       "      <td>1</td>\n",
       "      <td>6</td>\n",
       "      <td>4</td>\n",
       "      <td>0</td>\n",
       "      <td>5</td>\n",
       "      <td>1</td>\n",
       "      <td>1.5</td>\n",
       "    </tr>\n",
       "    <tr>\n",
       "      <th>1</th>\n",
       "      <td>49</td>\n",
       "      <td>0</td>\n",
       "      <td>Travel_Frequently</td>\n",
       "      <td>Research &amp; Development</td>\n",
       "      <td>Life Sciences</td>\n",
       "      <td>3</td>\n",
       "      <td>Male</td>\n",
       "      <td>2</td>\n",
       "      <td>2</td>\n",
       "      <td>2</td>\n",
       "      <td>...</td>\n",
       "      <td>5130</td>\n",
       "      <td>No</td>\n",
       "      <td>10</td>\n",
       "      <td>3</td>\n",
       "      <td>10</td>\n",
       "      <td>7</td>\n",
       "      <td>1</td>\n",
       "      <td>7</td>\n",
       "      <td>8</td>\n",
       "      <td>8.5</td>\n",
       "    </tr>\n",
       "    <tr>\n",
       "      <th>2</th>\n",
       "      <td>37</td>\n",
       "      <td>1</td>\n",
       "      <td>Travel_Rarely</td>\n",
       "      <td>Research &amp; Development</td>\n",
       "      <td>Other</td>\n",
       "      <td>4</td>\n",
       "      <td>Male</td>\n",
       "      <td>2</td>\n",
       "      <td>1</td>\n",
       "      <td>3</td>\n",
       "      <td>...</td>\n",
       "      <td>2090</td>\n",
       "      <td>Yes</td>\n",
       "      <td>7</td>\n",
       "      <td>3</td>\n",
       "      <td>0</td>\n",
       "      <td>0</td>\n",
       "      <td>0</td>\n",
       "      <td>0</td>\n",
       "      <td>2</td>\n",
       "      <td>2.5</td>\n",
       "    </tr>\n",
       "    <tr>\n",
       "      <th>3</th>\n",
       "      <td>33</td>\n",
       "      <td>0</td>\n",
       "      <td>Travel_Frequently</td>\n",
       "      <td>Research &amp; Development</td>\n",
       "      <td>Life Sciences</td>\n",
       "      <td>4</td>\n",
       "      <td>Female</td>\n",
       "      <td>3</td>\n",
       "      <td>1</td>\n",
       "      <td>3</td>\n",
       "      <td>...</td>\n",
       "      <td>2909</td>\n",
       "      <td>Yes</td>\n",
       "      <td>8</td>\n",
       "      <td>3</td>\n",
       "      <td>8</td>\n",
       "      <td>7</td>\n",
       "      <td>3</td>\n",
       "      <td>0</td>\n",
       "      <td>3</td>\n",
       "      <td>3.5</td>\n",
       "    </tr>\n",
       "    <tr>\n",
       "      <th>4</th>\n",
       "      <td>27</td>\n",
       "      <td>0</td>\n",
       "      <td>Travel_Rarely</td>\n",
       "      <td>Research &amp; Development</td>\n",
       "      <td>Medical</td>\n",
       "      <td>1</td>\n",
       "      <td>Male</td>\n",
       "      <td>3</td>\n",
       "      <td>1</td>\n",
       "      <td>2</td>\n",
       "      <td>...</td>\n",
       "      <td>3468</td>\n",
       "      <td>No</td>\n",
       "      <td>6</td>\n",
       "      <td>3</td>\n",
       "      <td>2</td>\n",
       "      <td>2</td>\n",
       "      <td>2</td>\n",
       "      <td>2</td>\n",
       "      <td>2</td>\n",
       "      <td>2.5</td>\n",
       "    </tr>\n",
       "  </tbody>\n",
       "</table>\n",
       "<p>5 rows × 21 columns</p>\n",
       "</div>"
      ],
      "text/plain": [
       "   Age  Attrition     BusinessTravel              Department EducationField  \\\n",
       "0   41          1      Travel_Rarely                   Sales  Life Sciences   \n",
       "1   49          0  Travel_Frequently  Research & Development  Life Sciences   \n",
       "2   37          1      Travel_Rarely  Research & Development          Other   \n",
       "3   33          0  Travel_Frequently  Research & Development  Life Sciences   \n",
       "4   27          0      Travel_Rarely  Research & Development        Medical   \n",
       "\n",
       "   EnvironmentSatisfaction  Gender  JobInvolvement  JobLevel  JobSatisfaction  \\\n",
       "0                        2  Female               3         2                4   \n",
       "1                        3    Male               2         2                2   \n",
       "2                        4    Male               2         1                3   \n",
       "3                        4  Female               3         1                3   \n",
       "4                        1    Male               3         1                2   \n",
       "\n",
       "   ... MonthlyIncome  OverTime TotalWorkingYears  WorkLifeBalance  \\\n",
       "0  ...          5993       Yes                 8                1   \n",
       "1  ...          5130        No                10                3   \n",
       "2  ...          2090       Yes                 7                3   \n",
       "3  ...          2909       Yes                 8                3   \n",
       "4  ...          3468        No                 6                3   \n",
       "\n",
       "   YearsAtCompany  YearsInCurrentRole  YearsSinceLastPromotion  \\\n",
       "0               6                   4                        0   \n",
       "1              10                   7                        1   \n",
       "2               0                   0                        0   \n",
       "3               8                   7                        3   \n",
       "4               2                   2                        2   \n",
       "\n",
       "   YearsWithCurrManager  DistanceFromHome  DistFromOffice  \n",
       "0                     5                 1             1.5  \n",
       "1                     7                 8             8.5  \n",
       "2                     0                 2             2.5  \n",
       "3                     0                 3             3.5  \n",
       "4                     2                 2             2.5  \n",
       "\n",
       "[5 rows x 21 columns]"
      ]
     },
     "execution_count": 17,
     "metadata": {},
     "output_type": "execute_result"
    }
   ],
   "source": [
    "attrition.head()"
   ]
  },
  {
   "cell_type": "markdown",
   "id": "b85609ad",
   "metadata": {
    "id": "b85609ad"
   },
   "source": [
    "## Bi-variate analysis"
   ]
  },
  {
   "cell_type": "markdown",
   "id": "1415ebca",
   "metadata": {
    "id": "1415ebca"
   },
   "source": [
    "## I. Categorical Variables with respect to Attrition"
   ]
  },
  {
   "cell_type": "code",
   "execution_count": null,
   "id": "ef463a06",
   "metadata": {
    "id": "ef463a06"
   },
   "outputs": [],
   "source": [
    "data=attrition[['Attrition','BusinessTravel','Department','EducationField',\n",
    "       'EnvironmentSatisfaction', 'Gender', 'JobInvolvement', 'JobLevel',\n",
    "       'JobSatisfaction', 'MaritalStatus', 'OverTime','WorkLifeBalance']]"
   ]
  },
  {
   "cell_type": "code",
   "execution_count": null,
   "id": "8a72aabd",
   "metadata": {
    "id": "8a72aabd"
   },
   "outputs": [],
   "source": [
    "# Plotting how every  categorical feature correlate with the \"target\"\n",
    "plt.figure(figsize=(36,36), facecolor='white')\n",
    "plotnumber = 1\n",
    "sns.set()\n",
    "for column in data:\n",
    "    if plotnumber<=16 :\n",
    "        ax = plt.subplot(4,4,plotnumber)\n",
    "        sns.countplot(x=data[column].dropna(axis=0)\n",
    "                        ,hue=data.Attrition)\n",
    "        plt.xlabel(column,fontsize=20)\n",
    "        plt.ylabel('Attrition',fontsize=20)\n",
    "    plotnumber+=1\n",
    "plt.tight_layout()"
   ]
  },
  {
   "cell_type": "markdown",
   "id": "2b38d85c",
   "metadata": {
    "id": "2b38d85c"
   },
   "source": [
    "## Insights from Bi-Variate Analysis - Categorical variables with respect to Attrition(Target variable)"
   ]
  },
  {
   "cell_type": "markdown",
   "id": "43823fac",
   "metadata": {
    "id": "43823fac"
   },
   "source": [
    "### Ques 1 - Business Travel : Whether frequent business travel is causing high attrition rate \n",
    "\n",
    "### Rationale: It could be that if employees are frequently traveling they may be spending less time at home"
   ]
  },
  {
   "cell_type": "code",
   "execution_count": null,
   "id": "6ca0ead5",
   "metadata": {
    "id": "6ca0ead5"
   },
   "outputs": [],
   "source": [
    "BT =pd.crosstab(attrition.BusinessTravel, columns=attrition.Attrition)\n",
    "BT"
   ]
  },
  {
   "cell_type": "code",
   "execution_count": null,
   "id": "a24f4c88",
   "metadata": {
    "id": "a24f4c88"
   },
   "outputs": [],
   "source": [
    "BT_coltotal=BT.sum(axis=1)\n",
    "BT_coltotal"
   ]
  },
  {
   "cell_type": "code",
   "execution_count": null,
   "id": "02701d92",
   "metadata": {
    "id": "02701d92"
   },
   "outputs": [],
   "source": [
    "# Column Total'\n",
    "BT.div(BT_coltotal,axis=0)*100"
   ]
  },
  {
   "cell_type": "code",
   "execution_count": null,
   "id": "d3477aef",
   "metadata": {
    "id": "d3477aef"
   },
   "outputs": [],
   "source": [
    "BT1 =pd.crosstab(attrition.Attrition, columns=attrition.BusinessTravel)\n",
    "BT1"
   ]
  },
  {
   "cell_type": "code",
   "execution_count": null,
   "id": "2ecea193",
   "metadata": {
    "id": "2ecea193"
   },
   "outputs": [],
   "source": [
    "# Row Total\n",
    "BT_rowtotal =BT1.sum(axis=1)"
   ]
  },
  {
   "cell_type": "code",
   "execution_count": null,
   "id": "cfaa5f8e",
   "metadata": {
    "id": "cfaa5f8e"
   },
   "outputs": [],
   "source": [
    "BT1.div(BT_rowtotal,axis=0)*100"
   ]
  },
  {
   "cell_type": "markdown",
   "id": "df4fff32",
   "metadata": {
    "id": "df4fff32"
   },
   "source": [
    "### Observation: \n",
    "Most no. of employees in the company belongs Travel_rarely category; \n",
    "\n",
    "However, Based on the row(%) proportion, we observe that attrition rate is high for those employees who tarvel frequently for business purpose  "
   ]
  },
  {
   "cell_type": "markdown",
   "id": "5e1e6b28",
   "metadata": {
    "id": "5e1e6b28"
   },
   "source": [
    "### Ques 2. - Department :  Whether any particular department is witnessing high attrition \n",
    "\n",
    "### Rationale: It is important to analyse departmentwise attrition rate to see if there are underlying reasons causing attrition rate in a particular department\n"
   ]
  },
  {
   "cell_type": "code",
   "execution_count": 18,
   "id": "a0b00bb4",
   "metadata": {
    "id": "a0b00bb4"
   },
   "outputs": [
    {
     "data": {
      "text/html": [
       "<div>\n",
       "<style scoped>\n",
       "    .dataframe tbody tr th:only-of-type {\n",
       "        vertical-align: middle;\n",
       "    }\n",
       "\n",
       "    .dataframe tbody tr th {\n",
       "        vertical-align: top;\n",
       "    }\n",
       "\n",
       "    .dataframe thead th {\n",
       "        text-align: right;\n",
       "    }\n",
       "</style>\n",
       "<table border=\"1\" class=\"dataframe\">\n",
       "  <thead>\n",
       "    <tr style=\"text-align: right;\">\n",
       "      <th>Department</th>\n",
       "      <th>Human Resources</th>\n",
       "      <th>Research &amp; Development</th>\n",
       "      <th>Sales</th>\n",
       "    </tr>\n",
       "    <tr>\n",
       "      <th>Attrition</th>\n",
       "      <th></th>\n",
       "      <th></th>\n",
       "      <th></th>\n",
       "    </tr>\n",
       "  </thead>\n",
       "  <tbody>\n",
       "    <tr>\n",
       "      <th>0</th>\n",
       "      <td>51</td>\n",
       "      <td>828</td>\n",
       "      <td>354</td>\n",
       "    </tr>\n",
       "    <tr>\n",
       "      <th>1</th>\n",
       "      <td>12</td>\n",
       "      <td>133</td>\n",
       "      <td>92</td>\n",
       "    </tr>\n",
       "  </tbody>\n",
       "</table>\n",
       "</div>"
      ],
      "text/plain": [
       "Department  Human Resources  Research & Development  Sales\n",
       "Attrition                                                 \n",
       "0                        51                     828    354\n",
       "1                        12                     133     92"
      ]
     },
     "execution_count": 18,
     "metadata": {},
     "output_type": "execute_result"
    }
   ],
   "source": [
    "table =pd.crosstab(attrition.Attrition, columns=attrition.Department)\n",
    "table"
   ]
  },
  {
   "cell_type": "code",
   "execution_count": 19,
   "id": "7c1d377a",
   "metadata": {
    "id": "7c1d377a"
   },
   "outputs": [
    {
     "data": {
      "text/plain": [
       "0.6503401360544218"
      ]
     },
     "execution_count": 19,
     "metadata": {},
     "output_type": "execute_result"
    }
   ],
   "source": [
    "(823+133)/1470"
   ]
  },
  {
   "cell_type": "code",
   "execution_count": 20,
   "id": "265aa01d",
   "metadata": {
    "id": "265aa01d"
   },
   "outputs": [
    {
     "data": {
      "text/plain": [
       "Department\n",
       "Human Resources            63\n",
       "Research & Development    961\n",
       "Sales                     446\n",
       "dtype: int64"
      ]
     },
     "execution_count": 20,
     "metadata": {},
     "output_type": "execute_result"
    }
   ],
   "source": [
    "coltotal=table.sum(axis=0)\n",
    "coltotal"
   ]
  },
  {
   "cell_type": "code",
   "execution_count": 21,
   "id": "c37187b7",
   "metadata": {
    "id": "c37187b7"
   },
   "outputs": [
    {
     "data": {
      "text/html": [
       "<div>\n",
       "<style scoped>\n",
       "    .dataframe tbody tr th:only-of-type {\n",
       "        vertical-align: middle;\n",
       "    }\n",
       "\n",
       "    .dataframe tbody tr th {\n",
       "        vertical-align: top;\n",
       "    }\n",
       "\n",
       "    .dataframe thead th {\n",
       "        text-align: right;\n",
       "    }\n",
       "</style>\n",
       "<table border=\"1\" class=\"dataframe\">\n",
       "  <thead>\n",
       "    <tr style=\"text-align: right;\">\n",
       "      <th>Department</th>\n",
       "      <th>Human Resources</th>\n",
       "      <th>Research &amp; Development</th>\n",
       "      <th>Sales</th>\n",
       "    </tr>\n",
       "    <tr>\n",
       "      <th>Attrition</th>\n",
       "      <th></th>\n",
       "      <th></th>\n",
       "      <th></th>\n",
       "    </tr>\n",
       "  </thead>\n",
       "  <tbody>\n",
       "    <tr>\n",
       "      <th>0</th>\n",
       "      <td>80.952381</td>\n",
       "      <td>86.16025</td>\n",
       "      <td>79.372197</td>\n",
       "    </tr>\n",
       "    <tr>\n",
       "      <th>1</th>\n",
       "      <td>19.047619</td>\n",
       "      <td>13.83975</td>\n",
       "      <td>20.627803</td>\n",
       "    </tr>\n",
       "  </tbody>\n",
       "</table>\n",
       "</div>"
      ],
      "text/plain": [
       "Department  Human Resources  Research & Development      Sales\n",
       "Attrition                                                     \n",
       "0                 80.952381                86.16025  79.372197\n",
       "1                 19.047619                13.83975  20.627803"
      ]
     },
     "execution_count": 21,
     "metadata": {},
     "output_type": "execute_result"
    }
   ],
   "source": [
    "table.div(coltotal,axis=1)*100 ## Column Total"
   ]
  },
  {
   "cell_type": "markdown",
   "id": "35f36e5f",
   "metadata": {
    "id": "35f36e5f"
   },
   "source": [
    "### Observation: \n",
    "Most no. of employees in the company are from research development department(65%) \n",
    "\n",
    "However, Based on the column(%) proportion, we observe that attrition rate is high for employees from Sales and Human Resources department despite less strength in the respective departmemt;\n",
    "\n",
    "This becomes imperative to explore more as to why the attrition rate is high in aforesaid departments in multivariate analysis"
   ]
  },
  {
   "cell_type": "code",
   "execution_count": null,
   "id": "cc026b84",
   "metadata": {
    "id": "cc026b84"
   },
   "outputs": [],
   "source": []
  },
  {
   "cell_type": "markdown",
   "id": "3e0d0570",
   "metadata": {
    "id": "3e0d0570"
   },
   "source": [
    "### Ques 3. - Gender:  Whether attrition rate is high for female employees\n",
    "\n",
    "### Rationale: Intuitively and traditionally it was observed that  female employees usualy leave jobs and take a sabbatical from employment due personal commitments towards family"
   ]
  },
  {
   "cell_type": "code",
   "execution_count": 22,
   "id": "7f6a858d",
   "metadata": {
    "id": "7f6a858d"
   },
   "outputs": [
    {
     "data": {
      "text/html": [
       "<div>\n",
       "<style scoped>\n",
       "    .dataframe tbody tr th:only-of-type {\n",
       "        vertical-align: middle;\n",
       "    }\n",
       "\n",
       "    .dataframe tbody tr th {\n",
       "        vertical-align: top;\n",
       "    }\n",
       "\n",
       "    .dataframe thead th {\n",
       "        text-align: right;\n",
       "    }\n",
       "</style>\n",
       "<table border=\"1\" class=\"dataframe\">\n",
       "  <thead>\n",
       "    <tr style=\"text-align: right;\">\n",
       "      <th>Attrition</th>\n",
       "      <th>0</th>\n",
       "      <th>1</th>\n",
       "    </tr>\n",
       "    <tr>\n",
       "      <th>Gender</th>\n",
       "      <th></th>\n",
       "      <th></th>\n",
       "    </tr>\n",
       "  </thead>\n",
       "  <tbody>\n",
       "    <tr>\n",
       "      <th>Female</th>\n",
       "      <td>501</td>\n",
       "      <td>87</td>\n",
       "    </tr>\n",
       "    <tr>\n",
       "      <th>Male</th>\n",
       "      <td>732</td>\n",
       "      <td>150</td>\n",
       "    </tr>\n",
       "  </tbody>\n",
       "</table>\n",
       "</div>"
      ],
      "text/plain": [
       "Attrition    0    1\n",
       "Gender             \n",
       "Female     501   87\n",
       "Male       732  150"
      ]
     },
     "execution_count": 22,
     "metadata": {},
     "output_type": "execute_result"
    }
   ],
   "source": [
    "gen =pd.crosstab(attrition.Gender, columns=attrition.Attrition)\n",
    "gen"
   ]
  },
  {
   "cell_type": "code",
   "execution_count": 23,
   "id": "5427a364",
   "metadata": {
    "id": "5427a364"
   },
   "outputs": [
    {
     "data": {
      "text/plain": [
       "0.6"
      ]
     },
     "execution_count": 23,
     "metadata": {},
     "output_type": "execute_result"
    }
   ],
   "source": [
    "(732+150)/1470"
   ]
  },
  {
   "cell_type": "code",
   "execution_count": 24,
   "id": "c5bfdf0c",
   "metadata": {
    "id": "c5bfdf0c"
   },
   "outputs": [
    {
     "data": {
      "text/plain": [
       "Attrition\n",
       "0    1233\n",
       "1     237\n",
       "dtype: int64"
      ]
     },
     "execution_count": 24,
     "metadata": {},
     "output_type": "execute_result"
    }
   ],
   "source": [
    "gen_coltotal=gen.sum(axis=0)\n",
    "gen_coltotal"
   ]
  },
  {
   "cell_type": "code",
   "execution_count": 25,
   "id": "776bc157",
   "metadata": {
    "id": "776bc157"
   },
   "outputs": [
    {
     "data": {
      "text/html": [
       "<div>\n",
       "<style scoped>\n",
       "    .dataframe tbody tr th:only-of-type {\n",
       "        vertical-align: middle;\n",
       "    }\n",
       "\n",
       "    .dataframe tbody tr th {\n",
       "        vertical-align: top;\n",
       "    }\n",
       "\n",
       "    .dataframe thead th {\n",
       "        text-align: right;\n",
       "    }\n",
       "</style>\n",
       "<table border=\"1\" class=\"dataframe\">\n",
       "  <thead>\n",
       "    <tr style=\"text-align: right;\">\n",
       "      <th>Attrition</th>\n",
       "      <th>0</th>\n",
       "      <th>1</th>\n",
       "    </tr>\n",
       "    <tr>\n",
       "      <th>Gender</th>\n",
       "      <th></th>\n",
       "      <th></th>\n",
       "    </tr>\n",
       "  </thead>\n",
       "  <tbody>\n",
       "    <tr>\n",
       "      <th>Female</th>\n",
       "      <td>40.632603</td>\n",
       "      <td>36.708861</td>\n",
       "    </tr>\n",
       "    <tr>\n",
       "      <th>Male</th>\n",
       "      <td>59.367397</td>\n",
       "      <td>63.291139</td>\n",
       "    </tr>\n",
       "  </tbody>\n",
       "</table>\n",
       "</div>"
      ],
      "text/plain": [
       "Attrition          0          1\n",
       "Gender                         \n",
       "Female     40.632603  36.708861\n",
       "Male       59.367397  63.291139"
      ]
     },
     "execution_count": 25,
     "metadata": {},
     "output_type": "execute_result"
    }
   ],
   "source": [
    "gen.div(gen_coltotal,axis=1)*100 ## Column Total"
   ]
  },
  {
   "cell_type": "markdown",
   "id": "94e39643",
   "metadata": {
    "id": "94e39643"
   },
   "source": [
    "### Observation\n",
    "\n",
    "Ratio of male and female in the company is 60:40; \n",
    "Attrition rate is high for male employees as compared to female employees considering propertion of male employees is also high;\n",
    "\n",
    "\n"
   ]
  },
  {
   "cell_type": "code",
   "execution_count": null,
   "id": "13febf49",
   "metadata": {
    "id": "13febf49"
   },
   "outputs": [],
   "source": []
  },
  {
   "cell_type": "markdown",
   "id": "08d8bec4",
   "metadata": {
    "id": "08d8bec4"
   },
   "source": [
    "### Ques 4-\n",
    "\n",
    "### a. Work life balance:  Whether employees who are leaving the organisation are the ones who experience least satisfcation in job, work life balance, environment,job involvement\n",
    "\n",
    "### Rationale:  Intuitvely employees tend to leave the organization if the work culture and environment is not right \n"
   ]
  },
  {
   "cell_type": "code",
   "execution_count": 26,
   "id": "569d5d3e",
   "metadata": {
    "id": "569d5d3e"
   },
   "outputs": [
    {
     "data": {
      "text/html": [
       "<div>\n",
       "<style scoped>\n",
       "    .dataframe tbody tr th:only-of-type {\n",
       "        vertical-align: middle;\n",
       "    }\n",
       "\n",
       "    .dataframe tbody tr th {\n",
       "        vertical-align: top;\n",
       "    }\n",
       "\n",
       "    .dataframe thead th {\n",
       "        text-align: right;\n",
       "    }\n",
       "</style>\n",
       "<table border=\"1\" class=\"dataframe\">\n",
       "  <thead>\n",
       "    <tr style=\"text-align: right;\">\n",
       "      <th>WorkLifeBalance</th>\n",
       "      <th>1</th>\n",
       "      <th>2</th>\n",
       "      <th>3</th>\n",
       "      <th>4</th>\n",
       "    </tr>\n",
       "    <tr>\n",
       "      <th>Attrition</th>\n",
       "      <th></th>\n",
       "      <th></th>\n",
       "      <th></th>\n",
       "      <th></th>\n",
       "    </tr>\n",
       "  </thead>\n",
       "  <tbody>\n",
       "    <tr>\n",
       "      <th>0</th>\n",
       "      <td>55</td>\n",
       "      <td>286</td>\n",
       "      <td>766</td>\n",
       "      <td>126</td>\n",
       "    </tr>\n",
       "    <tr>\n",
       "      <th>1</th>\n",
       "      <td>25</td>\n",
       "      <td>58</td>\n",
       "      <td>127</td>\n",
       "      <td>27</td>\n",
       "    </tr>\n",
       "  </tbody>\n",
       "</table>\n",
       "</div>"
      ],
      "text/plain": [
       "WorkLifeBalance   1    2    3    4\n",
       "Attrition                         \n",
       "0                55  286  766  126\n",
       "1                25   58  127   27"
      ]
     },
     "execution_count": 26,
     "metadata": {},
     "output_type": "execute_result"
    }
   ],
   "source": [
    "WLB =pd.crosstab(attrition.Attrition, columns=attrition.WorkLifeBalance)\n",
    "WLB"
   ]
  },
  {
   "cell_type": "code",
   "execution_count": 27,
   "id": "37cc6d69",
   "metadata": {
    "id": "37cc6d69"
   },
   "outputs": [
    {
     "data": {
      "text/plain": [
       "WorkLifeBalance\n",
       "1     80\n",
       "2    344\n",
       "3    893\n",
       "4    153\n",
       "dtype: int64"
      ]
     },
     "execution_count": 27,
     "metadata": {},
     "output_type": "execute_result"
    }
   ],
   "source": [
    "WLB_coltotal=WLB.sum(axis=0)\n",
    "WLB_coltotal"
   ]
  },
  {
   "cell_type": "code",
   "execution_count": 28,
   "id": "dfc2ed50",
   "metadata": {
    "id": "dfc2ed50"
   },
   "outputs": [
    {
     "data": {
      "text/html": [
       "<div>\n",
       "<style scoped>\n",
       "    .dataframe tbody tr th:only-of-type {\n",
       "        vertical-align: middle;\n",
       "    }\n",
       "\n",
       "    .dataframe tbody tr th {\n",
       "        vertical-align: top;\n",
       "    }\n",
       "\n",
       "    .dataframe thead th {\n",
       "        text-align: right;\n",
       "    }\n",
       "</style>\n",
       "<table border=\"1\" class=\"dataframe\">\n",
       "  <thead>\n",
       "    <tr style=\"text-align: right;\">\n",
       "      <th>WorkLifeBalance</th>\n",
       "      <th>1</th>\n",
       "      <th>2</th>\n",
       "      <th>3</th>\n",
       "      <th>4</th>\n",
       "    </tr>\n",
       "    <tr>\n",
       "      <th>Attrition</th>\n",
       "      <th></th>\n",
       "      <th></th>\n",
       "      <th></th>\n",
       "      <th></th>\n",
       "    </tr>\n",
       "  </thead>\n",
       "  <tbody>\n",
       "    <tr>\n",
       "      <th>0</th>\n",
       "      <td>68.75</td>\n",
       "      <td>83.139535</td>\n",
       "      <td>85.778275</td>\n",
       "      <td>82.352941</td>\n",
       "    </tr>\n",
       "    <tr>\n",
       "      <th>1</th>\n",
       "      <td>31.25</td>\n",
       "      <td>16.860465</td>\n",
       "      <td>14.221725</td>\n",
       "      <td>17.647059</td>\n",
       "    </tr>\n",
       "  </tbody>\n",
       "</table>\n",
       "</div>"
      ],
      "text/plain": [
       "WorkLifeBalance      1          2          3          4\n",
       "Attrition                                              \n",
       "0                68.75  83.139535  85.778275  82.352941\n",
       "1                31.25  16.860465  14.221725  17.647059"
      ]
     },
     "execution_count": 28,
     "metadata": {},
     "output_type": "execute_result"
    }
   ],
   "source": [
    "WLB.div(WLB_coltotal,axis=1)*100"
   ]
  },
  {
   "cell_type": "code",
   "execution_count": null,
   "id": "e927dcd2",
   "metadata": {
    "id": "e927dcd2"
   },
   "outputs": [],
   "source": []
  },
  {
   "cell_type": "markdown",
   "id": "bee7b394",
   "metadata": {
    "id": "bee7b394"
   },
   "source": [
    "### Observation\n",
    "\n",
    "High attrition rate observed for employees who rated 1 for work life balance. Rating 1 is represented as poor work life balance.\n",
    "This is justifiable as employer culture is vital for employees sustenance;\n",
    "\n",
    "However, it is observed that cumulative of approx 32% employees have given good rating of 3 & 4 to the company and have left the company which is alarming and must be probed in further"
   ]
  },
  {
   "cell_type": "markdown",
   "id": "bcfb1700",
   "metadata": {
    "id": "bcfb1700"
   },
   "source": [
    "###  Ques 4(b)- Job satisfaction:  Whether employees who are leaving the organisation are the ones who experience least satisfcation in job, work life balance, environment,job involvement\n",
    "\n",
    "### Rationale:  Intuitvely employees tend to leave the organization if the work culture and environment is not right\n"
   ]
  },
  {
   "cell_type": "code",
   "execution_count": 29,
   "id": "3e5432d1",
   "metadata": {
    "id": "3e5432d1"
   },
   "outputs": [
    {
     "data": {
      "text/html": [
       "<div>\n",
       "<style scoped>\n",
       "    .dataframe tbody tr th:only-of-type {\n",
       "        vertical-align: middle;\n",
       "    }\n",
       "\n",
       "    .dataframe tbody tr th {\n",
       "        vertical-align: top;\n",
       "    }\n",
       "\n",
       "    .dataframe thead th {\n",
       "        text-align: right;\n",
       "    }\n",
       "</style>\n",
       "<table border=\"1\" class=\"dataframe\">\n",
       "  <thead>\n",
       "    <tr style=\"text-align: right;\">\n",
       "      <th>JobSatisfaction</th>\n",
       "      <th>1</th>\n",
       "      <th>2</th>\n",
       "      <th>3</th>\n",
       "      <th>4</th>\n",
       "    </tr>\n",
       "    <tr>\n",
       "      <th>Attrition</th>\n",
       "      <th></th>\n",
       "      <th></th>\n",
       "      <th></th>\n",
       "      <th></th>\n",
       "    </tr>\n",
       "  </thead>\n",
       "  <tbody>\n",
       "    <tr>\n",
       "      <th>0</th>\n",
       "      <td>223</td>\n",
       "      <td>234</td>\n",
       "      <td>369</td>\n",
       "      <td>407</td>\n",
       "    </tr>\n",
       "    <tr>\n",
       "      <th>1</th>\n",
       "      <td>66</td>\n",
       "      <td>46</td>\n",
       "      <td>73</td>\n",
       "      <td>52</td>\n",
       "    </tr>\n",
       "  </tbody>\n",
       "</table>\n",
       "</div>"
      ],
      "text/plain": [
       "JobSatisfaction    1    2    3    4\n",
       "Attrition                          \n",
       "0                223  234  369  407\n",
       "1                 66   46   73   52"
      ]
     },
     "execution_count": 29,
     "metadata": {},
     "output_type": "execute_result"
    }
   ],
   "source": [
    "JS =pd.crosstab(attrition.Attrition, columns=attrition.JobSatisfaction)\n",
    "JS"
   ]
  },
  {
   "cell_type": "code",
   "execution_count": 30,
   "id": "0iH7BiXpzOBE",
   "metadata": {
    "id": "0iH7BiXpzOBE"
   },
   "outputs": [
    {
     "data": {
      "text/plain": [
       "JobSatisfaction\n",
       "1    289\n",
       "2    280\n",
       "3    442\n",
       "4    459\n",
       "dtype: int64"
      ]
     },
     "execution_count": 30,
     "metadata": {},
     "output_type": "execute_result"
    }
   ],
   "source": [
    "JS_coltotal=JS.sum(axis=0)\n",
    "JS_coltotal"
   ]
  },
  {
   "cell_type": "code",
   "execution_count": 31,
   "id": "wWx8rGmRzOBE",
   "metadata": {
    "id": "wWx8rGmRzOBE"
   },
   "outputs": [
    {
     "data": {
      "text/html": [
       "<div>\n",
       "<style scoped>\n",
       "    .dataframe tbody tr th:only-of-type {\n",
       "        vertical-align: middle;\n",
       "    }\n",
       "\n",
       "    .dataframe tbody tr th {\n",
       "        vertical-align: top;\n",
       "    }\n",
       "\n",
       "    .dataframe thead th {\n",
       "        text-align: right;\n",
       "    }\n",
       "</style>\n",
       "<table border=\"1\" class=\"dataframe\">\n",
       "  <thead>\n",
       "    <tr style=\"text-align: right;\">\n",
       "      <th>JobSatisfaction</th>\n",
       "      <th>1</th>\n",
       "      <th>2</th>\n",
       "      <th>3</th>\n",
       "      <th>4</th>\n",
       "    </tr>\n",
       "    <tr>\n",
       "      <th>Attrition</th>\n",
       "      <th></th>\n",
       "      <th></th>\n",
       "      <th></th>\n",
       "      <th></th>\n",
       "    </tr>\n",
       "  </thead>\n",
       "  <tbody>\n",
       "    <tr>\n",
       "      <th>0</th>\n",
       "      <td>77.16263</td>\n",
       "      <td>83.571429</td>\n",
       "      <td>83.484163</td>\n",
       "      <td>88.671024</td>\n",
       "    </tr>\n",
       "    <tr>\n",
       "      <th>1</th>\n",
       "      <td>22.83737</td>\n",
       "      <td>16.428571</td>\n",
       "      <td>16.515837</td>\n",
       "      <td>11.328976</td>\n",
       "    </tr>\n",
       "  </tbody>\n",
       "</table>\n",
       "</div>"
      ],
      "text/plain": [
       "JobSatisfaction         1          2          3          4\n",
       "Attrition                                                 \n",
       "0                77.16263  83.571429  83.484163  88.671024\n",
       "1                22.83737  16.428571  16.515837  11.328976"
      ]
     },
     "execution_count": 31,
     "metadata": {},
     "output_type": "execute_result"
    }
   ],
   "source": [
    "JS.div(JS_coltotal,axis=1)*100"
   ]
  },
  {
   "cell_type": "markdown",
   "id": "oRzmerLI4OTM",
   "metadata": {
    "id": "oRzmerLI4OTM"
   },
   "source": [
    "### Observation\n",
    "\n",
    "We have again observed that attrition rate is high for employees who rated 1(22.8%) which is the lowest; "
   ]
  },
  {
   "cell_type": "code",
   "execution_count": null,
   "id": "5144d572",
   "metadata": {
    "id": "5144d572"
   },
   "outputs": [],
   "source": []
  },
  {
   "cell_type": "markdown",
   "id": "cgrWhSTH4WCT",
   "metadata": {
    "id": "cgrWhSTH4WCT"
   },
   "source": [
    "###  Ques 4(c)- Environment satisfaction:  Whether employees who are leaving the organisation are the ones who experience least satisfaction in job, work life balance, environment,job involvement\n",
    "\n",
    "### Rationale:  Intuitvely employees tend to leave the organization if the work culture and environment is not right\n"
   ]
  },
  {
   "cell_type": "code",
   "execution_count": 32,
   "id": "c8c00a11",
   "metadata": {
    "id": "c8c00a11"
   },
   "outputs": [
    {
     "data": {
      "text/html": [
       "<div>\n",
       "<style scoped>\n",
       "    .dataframe tbody tr th:only-of-type {\n",
       "        vertical-align: middle;\n",
       "    }\n",
       "\n",
       "    .dataframe tbody tr th {\n",
       "        vertical-align: top;\n",
       "    }\n",
       "\n",
       "    .dataframe thead th {\n",
       "        text-align: right;\n",
       "    }\n",
       "</style>\n",
       "<table border=\"1\" class=\"dataframe\">\n",
       "  <thead>\n",
       "    <tr style=\"text-align: right;\">\n",
       "      <th>EnvironmentSatisfaction</th>\n",
       "      <th>1</th>\n",
       "      <th>2</th>\n",
       "      <th>3</th>\n",
       "      <th>4</th>\n",
       "    </tr>\n",
       "    <tr>\n",
       "      <th>Attrition</th>\n",
       "      <th></th>\n",
       "      <th></th>\n",
       "      <th></th>\n",
       "      <th></th>\n",
       "    </tr>\n",
       "  </thead>\n",
       "  <tbody>\n",
       "    <tr>\n",
       "      <th>0</th>\n",
       "      <td>212</td>\n",
       "      <td>244</td>\n",
       "      <td>391</td>\n",
       "      <td>386</td>\n",
       "    </tr>\n",
       "    <tr>\n",
       "      <th>1</th>\n",
       "      <td>72</td>\n",
       "      <td>43</td>\n",
       "      <td>62</td>\n",
       "      <td>60</td>\n",
       "    </tr>\n",
       "  </tbody>\n",
       "</table>\n",
       "</div>"
      ],
      "text/plain": [
       "EnvironmentSatisfaction    1    2    3    4\n",
       "Attrition                                  \n",
       "0                        212  244  391  386\n",
       "1                         72   43   62   60"
      ]
     },
     "execution_count": 32,
     "metadata": {},
     "output_type": "execute_result"
    }
   ],
   "source": [
    "ES =pd.crosstab(attrition.Attrition, columns=attrition.EnvironmentSatisfaction)\n",
    "ES"
   ]
  },
  {
   "cell_type": "code",
   "execution_count": 33,
   "id": "3LF0cqnM6IB-",
   "metadata": {
    "id": "3LF0cqnM6IB-"
   },
   "outputs": [
    {
     "data": {
      "text/plain": [
       "EnvironmentSatisfaction\n",
       "1    284\n",
       "2    287\n",
       "3    453\n",
       "4    446\n",
       "dtype: int64"
      ]
     },
     "execution_count": 33,
     "metadata": {},
     "output_type": "execute_result"
    }
   ],
   "source": [
    "ES_coltotal=ES.sum(axis=0)\n",
    "ES_coltotal"
   ]
  },
  {
   "cell_type": "code",
   "execution_count": 34,
   "id": "aqHiDh7C6IB-",
   "metadata": {
    "id": "aqHiDh7C6IB-"
   },
   "outputs": [
    {
     "data": {
      "text/html": [
       "<div>\n",
       "<style scoped>\n",
       "    .dataframe tbody tr th:only-of-type {\n",
       "        vertical-align: middle;\n",
       "    }\n",
       "\n",
       "    .dataframe tbody tr th {\n",
       "        vertical-align: top;\n",
       "    }\n",
       "\n",
       "    .dataframe thead th {\n",
       "        text-align: right;\n",
       "    }\n",
       "</style>\n",
       "<table border=\"1\" class=\"dataframe\">\n",
       "  <thead>\n",
       "    <tr style=\"text-align: right;\">\n",
       "      <th>EnvironmentSatisfaction</th>\n",
       "      <th>1</th>\n",
       "      <th>2</th>\n",
       "      <th>3</th>\n",
       "      <th>4</th>\n",
       "    </tr>\n",
       "    <tr>\n",
       "      <th>Attrition</th>\n",
       "      <th></th>\n",
       "      <th></th>\n",
       "      <th></th>\n",
       "      <th></th>\n",
       "    </tr>\n",
       "  </thead>\n",
       "  <tbody>\n",
       "    <tr>\n",
       "      <th>0</th>\n",
       "      <td>74.647887</td>\n",
       "      <td>85.017422</td>\n",
       "      <td>86.313466</td>\n",
       "      <td>86.547085</td>\n",
       "    </tr>\n",
       "    <tr>\n",
       "      <th>1</th>\n",
       "      <td>25.352113</td>\n",
       "      <td>14.982578</td>\n",
       "      <td>13.686534</td>\n",
       "      <td>13.452915</td>\n",
       "    </tr>\n",
       "  </tbody>\n",
       "</table>\n",
       "</div>"
      ],
      "text/plain": [
       "EnvironmentSatisfaction          1          2          3          4\n",
       "Attrition                                                          \n",
       "0                        74.647887  85.017422  86.313466  86.547085\n",
       "1                        25.352113  14.982578  13.686534  13.452915"
      ]
     },
     "execution_count": 34,
     "metadata": {},
     "output_type": "execute_result"
    }
   ],
   "source": [
    "ES.div(ES_coltotal,axis=1)*100"
   ]
  },
  {
   "cell_type": "markdown",
   "id": "npTD2bre6bfx",
   "metadata": {
    "id": "npTD2bre6bfx"
   },
   "source": [
    "### Observation\n",
    "Attrition rate is high for employees who rated 1(25.35%)"
   ]
  },
  {
   "cell_type": "code",
   "execution_count": 35,
   "id": "353c9c88",
   "metadata": {
    "id": "353c9c88"
   },
   "outputs": [
    {
     "data": {
      "text/html": [
       "<div>\n",
       "<style scoped>\n",
       "    .dataframe tbody tr th:only-of-type {\n",
       "        vertical-align: middle;\n",
       "    }\n",
       "\n",
       "    .dataframe tbody tr th {\n",
       "        vertical-align: top;\n",
       "    }\n",
       "\n",
       "    .dataframe thead th {\n",
       "        text-align: right;\n",
       "    }\n",
       "</style>\n",
       "<table border=\"1\" class=\"dataframe\">\n",
       "  <thead>\n",
       "    <tr style=\"text-align: right;\">\n",
       "      <th></th>\n",
       "      <th>Age</th>\n",
       "      <th>Attrition</th>\n",
       "      <th>BusinessTravel</th>\n",
       "      <th>Department</th>\n",
       "      <th>EducationField</th>\n",
       "      <th>EnvironmentSatisfaction</th>\n",
       "      <th>Gender</th>\n",
       "      <th>JobInvolvement</th>\n",
       "      <th>JobLevel</th>\n",
       "      <th>JobSatisfaction</th>\n",
       "      <th>...</th>\n",
       "      <th>MonthlyIncome</th>\n",
       "      <th>OverTime</th>\n",
       "      <th>TotalWorkingYears</th>\n",
       "      <th>WorkLifeBalance</th>\n",
       "      <th>YearsAtCompany</th>\n",
       "      <th>YearsInCurrentRole</th>\n",
       "      <th>YearsSinceLastPromotion</th>\n",
       "      <th>YearsWithCurrManager</th>\n",
       "      <th>DistanceFromHome</th>\n",
       "      <th>DistFromOffice</th>\n",
       "    </tr>\n",
       "  </thead>\n",
       "  <tbody>\n",
       "    <tr>\n",
       "      <th>0</th>\n",
       "      <td>41</td>\n",
       "      <td>1</td>\n",
       "      <td>Travel_Rarely</td>\n",
       "      <td>Sales</td>\n",
       "      <td>Life Sciences</td>\n",
       "      <td>2</td>\n",
       "      <td>Female</td>\n",
       "      <td>3</td>\n",
       "      <td>2</td>\n",
       "      <td>4</td>\n",
       "      <td>...</td>\n",
       "      <td>5993</td>\n",
       "      <td>Yes</td>\n",
       "      <td>8</td>\n",
       "      <td>1</td>\n",
       "      <td>6</td>\n",
       "      <td>4</td>\n",
       "      <td>0</td>\n",
       "      <td>5</td>\n",
       "      <td>1</td>\n",
       "      <td>1.5</td>\n",
       "    </tr>\n",
       "    <tr>\n",
       "      <th>1</th>\n",
       "      <td>49</td>\n",
       "      <td>0</td>\n",
       "      <td>Travel_Frequently</td>\n",
       "      <td>Research &amp; Development</td>\n",
       "      <td>Life Sciences</td>\n",
       "      <td>3</td>\n",
       "      <td>Male</td>\n",
       "      <td>2</td>\n",
       "      <td>2</td>\n",
       "      <td>2</td>\n",
       "      <td>...</td>\n",
       "      <td>5130</td>\n",
       "      <td>No</td>\n",
       "      <td>10</td>\n",
       "      <td>3</td>\n",
       "      <td>10</td>\n",
       "      <td>7</td>\n",
       "      <td>1</td>\n",
       "      <td>7</td>\n",
       "      <td>8</td>\n",
       "      <td>8.5</td>\n",
       "    </tr>\n",
       "    <tr>\n",
       "      <th>2</th>\n",
       "      <td>37</td>\n",
       "      <td>1</td>\n",
       "      <td>Travel_Rarely</td>\n",
       "      <td>Research &amp; Development</td>\n",
       "      <td>Other</td>\n",
       "      <td>4</td>\n",
       "      <td>Male</td>\n",
       "      <td>2</td>\n",
       "      <td>1</td>\n",
       "      <td>3</td>\n",
       "      <td>...</td>\n",
       "      <td>2090</td>\n",
       "      <td>Yes</td>\n",
       "      <td>7</td>\n",
       "      <td>3</td>\n",
       "      <td>0</td>\n",
       "      <td>0</td>\n",
       "      <td>0</td>\n",
       "      <td>0</td>\n",
       "      <td>2</td>\n",
       "      <td>2.5</td>\n",
       "    </tr>\n",
       "    <tr>\n",
       "      <th>3</th>\n",
       "      <td>33</td>\n",
       "      <td>0</td>\n",
       "      <td>Travel_Frequently</td>\n",
       "      <td>Research &amp; Development</td>\n",
       "      <td>Life Sciences</td>\n",
       "      <td>4</td>\n",
       "      <td>Female</td>\n",
       "      <td>3</td>\n",
       "      <td>1</td>\n",
       "      <td>3</td>\n",
       "      <td>...</td>\n",
       "      <td>2909</td>\n",
       "      <td>Yes</td>\n",
       "      <td>8</td>\n",
       "      <td>3</td>\n",
       "      <td>8</td>\n",
       "      <td>7</td>\n",
       "      <td>3</td>\n",
       "      <td>0</td>\n",
       "      <td>3</td>\n",
       "      <td>3.5</td>\n",
       "    </tr>\n",
       "    <tr>\n",
       "      <th>4</th>\n",
       "      <td>27</td>\n",
       "      <td>0</td>\n",
       "      <td>Travel_Rarely</td>\n",
       "      <td>Research &amp; Development</td>\n",
       "      <td>Medical</td>\n",
       "      <td>1</td>\n",
       "      <td>Male</td>\n",
       "      <td>3</td>\n",
       "      <td>1</td>\n",
       "      <td>2</td>\n",
       "      <td>...</td>\n",
       "      <td>3468</td>\n",
       "      <td>No</td>\n",
       "      <td>6</td>\n",
       "      <td>3</td>\n",
       "      <td>2</td>\n",
       "      <td>2</td>\n",
       "      <td>2</td>\n",
       "      <td>2</td>\n",
       "      <td>2</td>\n",
       "      <td>2.5</td>\n",
       "    </tr>\n",
       "  </tbody>\n",
       "</table>\n",
       "<p>5 rows × 21 columns</p>\n",
       "</div>"
      ],
      "text/plain": [
       "   Age  Attrition     BusinessTravel              Department EducationField  \\\n",
       "0   41          1      Travel_Rarely                   Sales  Life Sciences   \n",
       "1   49          0  Travel_Frequently  Research & Development  Life Sciences   \n",
       "2   37          1      Travel_Rarely  Research & Development          Other   \n",
       "3   33          0  Travel_Frequently  Research & Development  Life Sciences   \n",
       "4   27          0      Travel_Rarely  Research & Development        Medical   \n",
       "\n",
       "   EnvironmentSatisfaction  Gender  JobInvolvement  JobLevel  JobSatisfaction  \\\n",
       "0                        2  Female               3         2                4   \n",
       "1                        3    Male               2         2                2   \n",
       "2                        4    Male               2         1                3   \n",
       "3                        4  Female               3         1                3   \n",
       "4                        1    Male               3         1                2   \n",
       "\n",
       "   ... MonthlyIncome  OverTime TotalWorkingYears  WorkLifeBalance  \\\n",
       "0  ...          5993       Yes                 8                1   \n",
       "1  ...          5130        No                10                3   \n",
       "2  ...          2090       Yes                 7                3   \n",
       "3  ...          2909       Yes                 8                3   \n",
       "4  ...          3468        No                 6                3   \n",
       "\n",
       "   YearsAtCompany  YearsInCurrentRole  YearsSinceLastPromotion  \\\n",
       "0               6                   4                        0   \n",
       "1              10                   7                        1   \n",
       "2               0                   0                        0   \n",
       "3               8                   7                        3   \n",
       "4               2                   2                        2   \n",
       "\n",
       "   YearsWithCurrManager  DistanceFromHome  DistFromOffice  \n",
       "0                     5                 1             1.5  \n",
       "1                     7                 8             8.5  \n",
       "2                     0                 2             2.5  \n",
       "3                     0                 3             3.5  \n",
       "4                     2                 2             2.5  \n",
       "\n",
       "[5 rows x 21 columns]"
      ]
     },
     "execution_count": 35,
     "metadata": {},
     "output_type": "execute_result"
    }
   ],
   "source": [
    "attrition.head()"
   ]
  },
  {
   "cell_type": "markdown",
   "id": "R6Vf0CpF7Gxr",
   "metadata": {
    "id": "R6Vf0CpF7Gxr"
   },
   "source": [
    "###  Ques 4(d)- Job Involvment:  Whether employees who are leaving the organisation are the ones who experience least satisfaction in job, work life balance, environment,job involvement\n",
    "\n",
    "#### Rationale:  Intuitvely employees tend to leave the organization if the work culture and environment is not right\n"
   ]
  },
  {
   "cell_type": "code",
   "execution_count": 36,
   "id": "xxiJToZw7X0y",
   "metadata": {
    "id": "xxiJToZw7X0y"
   },
   "outputs": [
    {
     "data": {
      "text/html": [
       "<div>\n",
       "<style scoped>\n",
       "    .dataframe tbody tr th:only-of-type {\n",
       "        vertical-align: middle;\n",
       "    }\n",
       "\n",
       "    .dataframe tbody tr th {\n",
       "        vertical-align: top;\n",
       "    }\n",
       "\n",
       "    .dataframe thead th {\n",
       "        text-align: right;\n",
       "    }\n",
       "</style>\n",
       "<table border=\"1\" class=\"dataframe\">\n",
       "  <thead>\n",
       "    <tr style=\"text-align: right;\">\n",
       "      <th>JobInvolvement</th>\n",
       "      <th>1</th>\n",
       "      <th>2</th>\n",
       "      <th>3</th>\n",
       "      <th>4</th>\n",
       "    </tr>\n",
       "    <tr>\n",
       "      <th>Attrition</th>\n",
       "      <th></th>\n",
       "      <th></th>\n",
       "      <th></th>\n",
       "      <th></th>\n",
       "    </tr>\n",
       "  </thead>\n",
       "  <tbody>\n",
       "    <tr>\n",
       "      <th>0</th>\n",
       "      <td>55</td>\n",
       "      <td>304</td>\n",
       "      <td>743</td>\n",
       "      <td>131</td>\n",
       "    </tr>\n",
       "    <tr>\n",
       "      <th>1</th>\n",
       "      <td>28</td>\n",
       "      <td>71</td>\n",
       "      <td>125</td>\n",
       "      <td>13</td>\n",
       "    </tr>\n",
       "  </tbody>\n",
       "</table>\n",
       "</div>"
      ],
      "text/plain": [
       "JobInvolvement   1    2    3    4\n",
       "Attrition                        \n",
       "0               55  304  743  131\n",
       "1               28   71  125   13"
      ]
     },
     "execution_count": 36,
     "metadata": {},
     "output_type": "execute_result"
    }
   ],
   "source": [
    "JI =pd.crosstab(attrition.Attrition, columns=attrition.JobInvolvement)\n",
    "JI"
   ]
  },
  {
   "cell_type": "code",
   "execution_count": 37,
   "id": "DWGTmzq97X0z",
   "metadata": {
    "id": "DWGTmzq97X0z"
   },
   "outputs": [
    {
     "data": {
      "text/plain": [
       "JobInvolvement\n",
       "1     83\n",
       "2    375\n",
       "3    868\n",
       "4    144\n",
       "dtype: int64"
      ]
     },
     "execution_count": 37,
     "metadata": {},
     "output_type": "execute_result"
    }
   ],
   "source": [
    "JI_coltotal=JI.sum(axis=0)\n",
    "JI_coltotal"
   ]
  },
  {
   "cell_type": "code",
   "execution_count": 38,
   "id": "rESD4Rel7X0z",
   "metadata": {
    "id": "rESD4Rel7X0z"
   },
   "outputs": [
    {
     "data": {
      "text/html": [
       "<div>\n",
       "<style scoped>\n",
       "    .dataframe tbody tr th:only-of-type {\n",
       "        vertical-align: middle;\n",
       "    }\n",
       "\n",
       "    .dataframe tbody tr th {\n",
       "        vertical-align: top;\n",
       "    }\n",
       "\n",
       "    .dataframe thead th {\n",
       "        text-align: right;\n",
       "    }\n",
       "</style>\n",
       "<table border=\"1\" class=\"dataframe\">\n",
       "  <thead>\n",
       "    <tr style=\"text-align: right;\">\n",
       "      <th>JobInvolvement</th>\n",
       "      <th>1</th>\n",
       "      <th>2</th>\n",
       "      <th>3</th>\n",
       "      <th>4</th>\n",
       "    </tr>\n",
       "    <tr>\n",
       "      <th>Attrition</th>\n",
       "      <th></th>\n",
       "      <th></th>\n",
       "      <th></th>\n",
       "      <th></th>\n",
       "    </tr>\n",
       "  </thead>\n",
       "  <tbody>\n",
       "    <tr>\n",
       "      <th>0</th>\n",
       "      <td>66.26506</td>\n",
       "      <td>81.066667</td>\n",
       "      <td>85.599078</td>\n",
       "      <td>90.972222</td>\n",
       "    </tr>\n",
       "    <tr>\n",
       "      <th>1</th>\n",
       "      <td>33.73494</td>\n",
       "      <td>18.933333</td>\n",
       "      <td>14.400922</td>\n",
       "      <td>9.027778</td>\n",
       "    </tr>\n",
       "  </tbody>\n",
       "</table>\n",
       "</div>"
      ],
      "text/plain": [
       "JobInvolvement         1          2          3          4\n",
       "Attrition                                                \n",
       "0               66.26506  81.066667  85.599078  90.972222\n",
       "1               33.73494  18.933333  14.400922   9.027778"
      ]
     },
     "execution_count": 38,
     "metadata": {},
     "output_type": "execute_result"
    }
   ],
   "source": [
    "JI.div(JI_coltotal,axis=1)*100"
   ]
  },
  {
   "cell_type": "code",
   "execution_count": null,
   "id": "9a7f54ab",
   "metadata": {
    "id": "9a7f54ab"
   },
   "outputs": [],
   "source": []
  },
  {
   "cell_type": "markdown",
   "id": "IVSOA3GY7smJ",
   "metadata": {
    "id": "IVSOA3GY7smJ"
   },
   "source": [
    "### Observation\n",
    "i. Attrition rate is high given ratings for employees who got rated 1 i.e 33%. \n",
    "\n",
    "\n",
    "ii. Attrition rate is high for employees who got rated 3 i.e 52.7% given attrition"
   ]
  },
  {
   "cell_type": "markdown",
   "id": "QsvLUDGd4ie4",
   "metadata": {
    "id": "QsvLUDGd4ie4"
   },
   "source": [
    "###  Ques 5- Marital Status:  Whether more married employees are leaving the organisation as compared to single employees\n",
    "\n",
    "#### Rationale: Intuitvely again post marriage, responsibilty increases of an individual so there could be possibility that married people are facing issues of work life balance or any other factors"
   ]
  },
  {
   "cell_type": "code",
   "execution_count": 39,
   "id": "Hn3WoQcn80bG",
   "metadata": {
    "id": "Hn3WoQcn80bG"
   },
   "outputs": [
    {
     "data": {
      "text/html": [
       "<div>\n",
       "<style scoped>\n",
       "    .dataframe tbody tr th:only-of-type {\n",
       "        vertical-align: middle;\n",
       "    }\n",
       "\n",
       "    .dataframe tbody tr th {\n",
       "        vertical-align: top;\n",
       "    }\n",
       "\n",
       "    .dataframe thead th {\n",
       "        text-align: right;\n",
       "    }\n",
       "</style>\n",
       "<table border=\"1\" class=\"dataframe\">\n",
       "  <thead>\n",
       "    <tr style=\"text-align: right;\">\n",
       "      <th>MaritalStatus</th>\n",
       "      <th>Divorced</th>\n",
       "      <th>Married</th>\n",
       "      <th>Single</th>\n",
       "    </tr>\n",
       "    <tr>\n",
       "      <th>Attrition</th>\n",
       "      <th></th>\n",
       "      <th></th>\n",
       "      <th></th>\n",
       "    </tr>\n",
       "  </thead>\n",
       "  <tbody>\n",
       "    <tr>\n",
       "      <th>0</th>\n",
       "      <td>294</td>\n",
       "      <td>589</td>\n",
       "      <td>350</td>\n",
       "    </tr>\n",
       "    <tr>\n",
       "      <th>1</th>\n",
       "      <td>33</td>\n",
       "      <td>84</td>\n",
       "      <td>120</td>\n",
       "    </tr>\n",
       "  </tbody>\n",
       "</table>\n",
       "</div>"
      ],
      "text/plain": [
       "MaritalStatus  Divorced  Married  Single\n",
       "Attrition                               \n",
       "0                   294      589     350\n",
       "1                    33       84     120"
      ]
     },
     "execution_count": 39,
     "metadata": {},
     "output_type": "execute_result"
    }
   ],
   "source": [
    "MS =pd.crosstab(attrition.Attrition, columns=attrition.MaritalStatus)\n",
    "MS"
   ]
  },
  {
   "cell_type": "code",
   "execution_count": 40,
   "id": "EgxRhbSR80bL",
   "metadata": {
    "id": "EgxRhbSR80bL"
   },
   "outputs": [
    {
     "data": {
      "text/plain": [
       "MaritalStatus\n",
       "Divorced    327\n",
       "Married     673\n",
       "Single      470\n",
       "dtype: int64"
      ]
     },
     "execution_count": 40,
     "metadata": {},
     "output_type": "execute_result"
    }
   ],
   "source": [
    "MS_coltotal=MS.sum(axis=0)\n",
    "MS_coltotal"
   ]
  },
  {
   "cell_type": "code",
   "execution_count": 41,
   "id": "2npGB83q80bN",
   "metadata": {
    "id": "2npGB83q80bN"
   },
   "outputs": [
    {
     "data": {
      "text/html": [
       "<div>\n",
       "<style scoped>\n",
       "    .dataframe tbody tr th:only-of-type {\n",
       "        vertical-align: middle;\n",
       "    }\n",
       "\n",
       "    .dataframe tbody tr th {\n",
       "        vertical-align: top;\n",
       "    }\n",
       "\n",
       "    .dataframe thead th {\n",
       "        text-align: right;\n",
       "    }\n",
       "</style>\n",
       "<table border=\"1\" class=\"dataframe\">\n",
       "  <thead>\n",
       "    <tr style=\"text-align: right;\">\n",
       "      <th>MaritalStatus</th>\n",
       "      <th>Divorced</th>\n",
       "      <th>Married</th>\n",
       "      <th>Single</th>\n",
       "    </tr>\n",
       "    <tr>\n",
       "      <th>Attrition</th>\n",
       "      <th></th>\n",
       "      <th></th>\n",
       "      <th></th>\n",
       "    </tr>\n",
       "  </thead>\n",
       "  <tbody>\n",
       "    <tr>\n",
       "      <th>0</th>\n",
       "      <td>89.908257</td>\n",
       "      <td>87.518574</td>\n",
       "      <td>74.468085</td>\n",
       "    </tr>\n",
       "    <tr>\n",
       "      <th>1</th>\n",
       "      <td>10.091743</td>\n",
       "      <td>12.481426</td>\n",
       "      <td>25.531915</td>\n",
       "    </tr>\n",
       "  </tbody>\n",
       "</table>\n",
       "</div>"
      ],
      "text/plain": [
       "MaritalStatus   Divorced    Married     Single\n",
       "Attrition                                     \n",
       "0              89.908257  87.518574  74.468085\n",
       "1              10.091743  12.481426  25.531915"
      ]
     },
     "execution_count": 41,
     "metadata": {},
     "output_type": "execute_result"
    }
   ],
   "source": [
    "MS.div(MS_coltotal,axis=1)*100"
   ]
  },
  {
   "cell_type": "markdown",
   "id": "hkS6bpF3_vDj",
   "metadata": {
    "id": "hkS6bpF3_vDj"
   },
   "source": [
    "### Observation: \n",
    "Most no. of employees in the company who is married (45%) \n",
    "\n",
    "However, employees who left the company given Single is highest with 17.8% \n",
    "\n",
    "This indicates single employees are switching more companies for better prospects"
   ]
  },
  {
   "cell_type": "code",
   "execution_count": 42,
   "id": "5hHv6L7HEQyv",
   "metadata": {
    "id": "5hHv6L7HEQyv"
   },
   "outputs": [
    {
     "data": {
      "image/png": "[encoded data removed]",
      "text/plain": [
       "<Figure size 864x864 with 8 Axes>"
      ]
     },
     "metadata": {},
     "output_type": "display_data"
    }
   ],
   "source": [
    "# Plotting al numerical variables with the target variable\n",
    "sns.set\n",
    "column_num= attrition[['Age', 'MonthlyIncome','TotalWorkingYears', 'YearsAtCompany',\n",
    "       'YearsInCurrentRole', 'YearsSinceLastPromotion', 'YearsWithCurrManager','DistanceFromHome']]\n",
    "\n",
    "plt.figure(figsize=(12,12), facecolor='white')\n",
    "plotnumber = 1\n",
    "\n",
    "for column in column_num:\n",
    "    if plotnumber<=16 :\n",
    "        ax = plt.subplot(3,3,plotnumber)\n",
    "        sns.boxplot(x=\"Attrition\",y=column_num[column],hue=\"Attrition\",data=attrition)\n",
    "        plt.ylabel(column,fontsize=15)\n",
    "        plt.xlabel('Attrition',fontsize=15)\n",
    "    plotnumber+=1\n",
    "plt.tight_layout()"
   ]
  },
  {
   "cell_type": "code",
   "execution_count": null,
   "id": "DSFdDNL2JDIk",
   "metadata": {
    "id": "DSFdDNL2JDIk"
   },
   "outputs": [],
   "source": []
  },
  {
   "cell_type": "markdown",
   "id": "ZL7ZzRcOJWto",
   "metadata": {
    "id": "ZL7ZzRcOJWto"
   },
   "source": [
    "### Ques 6 - Age: Whether more young employees are leaving the organisation\n",
    "\n",
    "#### Rationale: Young employees generally dont stay in one organisation for longer period and tend to switch jobs for better monetary terms\n",
    "\n",
    "\n"
   ]
  },
  {
   "cell_type": "code",
   "execution_count": 43,
   "id": "JubH6iLXKrOU",
   "metadata": {
    "id": "JubH6iLXKrOU"
   },
   "outputs": [
    {
     "data": {
      "text/plain": [
       "<AxesSubplot:xlabel='Attrition', ylabel='Age'>"
      ]
     },
     "execution_count": 43,
     "metadata": {},
     "output_type": "execute_result"
    },
    {
     "data": {
      "image/png": "[encoded data removed]",
      "text/plain": [
       "<Figure size 432x288 with 1 Axes>"
      ]
     },
     "metadata": {
      "needs_background": "light"
     },
     "output_type": "display_data"
    }
   ],
   "source": [
    " sns.boxplot(x=\"Attrition\",y=\"Age\",hue=\"Attrition\",data=attrition)"
   ]
  },
  {
   "cell_type": "markdown",
   "id": "db9ffc4b",
   "metadata": {
    "id": "db9ffc4b"
   },
   "source": [
    "Observation: \n",
    "- Employees below 30 years are leaving the company \n",
    "- Avg years of employee leaving the company is less than that of employees staying in the company\n",
    "- This indicates that younger employees roughly b/w (28-38 years) from the organisation is leaving the company and this could be for better prospects by switching jobs"
   ]
  },
  {
   "cell_type": "markdown",
   "id": "cdcj3PFgK3bc",
   "metadata": {
    "id": "cdcj3PFgK3bc"
   },
   "source": [
    "### Ques 7 - Monthly income: Whether employees are leaving company due to low income\n",
    "\n",
    "#### Rationale: Eventually employees is motivated if compensation is good otherwise employees will look for opportunity outside the company for their monetary growth\n",
    "\n",
    "\n"
   ]
  },
  {
   "cell_type": "code",
   "execution_count": 44,
   "id": "W3sOB8ehK2rS",
   "metadata": {
    "id": "W3sOB8ehK2rS"
   },
   "outputs": [
    {
     "data": {
      "text/plain": [
       "<AxesSubplot:xlabel='Attrition', ylabel='MonthlyIncome'>"
      ]
     },
     "execution_count": 44,
     "metadata": {},
     "output_type": "execute_result"
    },
    {
     "data": {
      "image/png": "[encoded data removed]",
      "text/plain": [
       "<Figure size 432x288 with 1 Axes>"
      ]
     },
     "metadata": {
      "needs_background": "light"
     },
     "output_type": "display_data"
    }
   ],
   "source": [
    " sns.boxplot(x=\"Attrition\",y=\"MonthlyIncome\",hue=\"Attrition\",data=attrition)"
   ]
  },
  {
   "cell_type": "markdown",
   "id": "5Wh7r4FSMLBO",
   "metadata": {
    "id": "5Wh7r4FSMLBO"
   },
   "source": [
    "Observation: \n",
    "- It is observed that data for attrition i.e employees of left the company is rightly skewed towards lower income\n",
    "- Avg income of employees of left the company is lower than the employees who stayed in the company\n",
    "- This indicates that monthly income could have contributed towards attrition rate "
   ]
  },
  {
   "cell_type": "code",
   "execution_count": null,
   "id": "1QohTZPzK2zZ",
   "metadata": {
    "id": "1QohTZPzK2zZ"
   },
   "outputs": [],
   "source": []
  },
  {
   "cell_type": "markdown",
   "id": "43f8myQKP_XP",
   "metadata": {
    "id": "43f8myQKP_XP"
   },
   "source": [
    "### Ques 8 - Distance from Home: Whether employees are leaving company due long distance from office\n",
    "\n",
    "#### Rationale: Employees may have issue due to long distance as there would be increase in travel time\n",
    "\n",
    "\n"
   ]
  },
  {
   "cell_type": "code",
   "execution_count": 45,
   "id": "iGGZdUs_P_XQ",
   "metadata": {
    "id": "iGGZdUs_P_XQ"
   },
   "outputs": [
    {
     "data": {
      "text/plain": [
       "<AxesSubplot:xlabel='Attrition', ylabel='DistanceFromHome'>"
      ]
     },
     "execution_count": 45,
     "metadata": {},
     "output_type": "execute_result"
    },
    {
     "data": {
      "image/png": "[encoded data removed]",
      "text/plain": [
       "<Figure size 432x288 with 1 Axes>"
      ]
     },
     "metadata": {
      "needs_background": "light"
     },
     "output_type": "display_data"
    }
   ],
   "source": [
    " sns.boxplot(x=\"Attrition\",y=\"DistanceFromHome\",hue=\"Attrition\",data=attrition)"
   ]
  },
  {
   "cell_type": "markdown",
   "id": "FEBxpg9cP_XQ",
   "metadata": {
    "id": "FEBxpg9cP_XQ"
   },
   "source": [
    "Observation: \n",
    "- It is observed that employees who left the company traveled from far away places than who is staying in the company\n",
    "- Avg distance of employees is slightly higher than the employees who stayed in the company"
   ]
  },
  {
   "cell_type": "code",
   "execution_count": null,
   "id": "1qa63uzTeY40",
   "metadata": {
    "id": "1qa63uzTeY40"
   },
   "outputs": [],
   "source": []
  },
  {
   "cell_type": "code",
   "execution_count": 48,
   "id": "eX4M3WTEe4U3",
   "metadata": {
    "id": "eX4M3WTEe4U3"
   },
   "outputs": [],
   "source": [
    "import pandas as pd\n",
    "import numpy as np\n",
    "import matplotlib.pyplot as plt\n",
    "import seaborn as sns\n",
    "from scipy.stats import norm\n",
    "import warnings\n",
    "warnings.filterwarnings(\"ignore\")"
   ]
  },
  {
   "cell_type": "code",
   "execution_count": 47,
   "id": "TZSPBC3ce4cH",
   "metadata": {
    "id": "TZSPBC3ce4cH"
   },
   "outputs": [],
   "source": [
    "attrition = pd.read_csv(\"https://raw.githubusercontent.com/HimKant/Datasets/main/attrition.csv\")"
   ]
  },
  {
   "cell_type": "code",
   "execution_count": 49,
   "id": "5bbe0624",
   "metadata": {},
   "outputs": [],
   "source": [
    "attrition = pd.read_csv(\"C:\\\\Users\\\\alaghvk\\\\Downloads\\\\IML class\\\\EDA\\\\Attrition-Data\\\\attrition.csv\")"
   ]
  },
  {
   "cell_type": "markdown",
   "id": "0acb43ad",
   "metadata": {
    "id": "0acb43ad"
   },
   "source": [
    "## Feature Transformation"
   ]
  },
  {
   "cell_type": "code",
   "execution_count": 50,
   "id": "52edab96",
   "metadata": {
    "id": "52edab96"
   },
   "outputs": [],
   "source": [
    "att1=attrition.copy()"
   ]
  },
  {
   "cell_type": "markdown",
   "id": "c301576a",
   "metadata": {
    "id": "c301576a"
   },
   "source": [
    "### I. Transformation of Categorical variable into binary variable"
   ]
  },
  {
   "cell_type": "code",
   "execution_count": 66,
   "id": "5a299d88",
   "metadata": {
    "id": "5a299d88"
   },
   "outputs": [],
   "source": [
    "##This is performed for the ease of model fitting and accuracy\n",
    "\n",
    "att1.Gender=att1.Gender.map({'Male':1,'Female':0})\n",
    "att1.OverTime=att1.OverTime.map({'Yes':1 , 'No':0})\n"
   ]
  },
  {
   "cell_type": "markdown",
   "id": "HshQ2Cpt4vU4",
   "metadata": {
    "id": "HshQ2Cpt4vU4"
   },
   "source": [
    "### II. One hot encoding\n",
    "\n"
   ]
  },
  {
   "cell_type": "code",
   "execution_count": 63,
   "id": "af31e78d",
   "metadata": {
    "id": "af31e78d"
   },
   "outputs": [],
   "source": [
    "# Creating dummy value for variable region same as one hot encoding\n",
    "\n",
    "dummy=pd.get_dummies(att1[\"Department\"])\n",
    "dummy1=pd.get_dummies(att1[\"EducationField\"])\n",
    "dummy2=pd.get_dummies(att1[\"MaritalStatus\"])"
   ]
  },
  {
   "cell_type": "code",
   "execution_count": 64,
   "id": "1050a6f7",
   "metadata": {
    "id": "1050a6f7"
   },
   "outputs": [],
   "source": [
    "att1 = pd.concat([att1, dummy], axis=1)\n",
    "att1 = pd.concat([att1, dummy1], axis=1)\n",
    "att1 = pd.concat([att1, dummy2], axis=1)"
   ]
  },
  {
   "cell_type": "code",
   "execution_count": 65,
   "id": "ze6YQAXBq1Kj",
   "metadata": {
    "id": "ze6YQAXBq1Kj"
   },
   "outputs": [],
   "source": [
    "dummy3=pd.get_dummies(att1[\"BusinessTravel\"])\n",
    "att1 = pd.concat([att1, dummy3], axis=1)"
   ]
  },
  {
   "cell_type": "code",
   "execution_count": 8,
   "id": "K7UheWMEq03j",
   "metadata": {
    "id": "K7UheWMEq03j"
   },
   "outputs": [],
   "source": [
    "# att1.BusinessTravel =att1.BusinessTravel.map({'Travel_Frequently': 2, 'Travel_Rarely':1, 'Non-Travel':0})"
   ]
  },
  {
   "cell_type": "code",
   "execution_count": 9,
   "id": "_a-yNR9YSWpp",
   "metadata": {
    "colab": {
     "base_uri": "https://localhost:8080/",
     "height": 386
    },
    "id": "_a-yNR9YSWpp",
    "outputId": "52f8694f-cea3-4c57-bb60-b78d4b14e89a"
   },
   "outputs": [
    {
     "data": {
      "text/html": [
       "\n",
       "  <div id=\"df-aafa47e9-c5b6-445d-88b1-d1ea0cdf8e32\">\n",
       "    <div class=\"colab-df-container\">\n",
       "      <div>\n",
       "<style scoped>\n",
       "    .dataframe tbody tr th:only-of-type {\n",
       "        vertical-align: middle;\n",
       "    }\n",
       "\n",
       "    .dataframe tbody tr th {\n",
       "        vertical-align: top;\n",
       "    }\n",
       "\n",
       "    .dataframe thead th {\n",
       "        text-align: right;\n",
       "    }\n",
       "</style>\n",
       "<table border=\"1\" class=\"dataframe\">\n",
       "  <thead>\n",
       "    <tr style=\"text-align: right;\">\n",
       "      <th></th>\n",
       "      <th>Age</th>\n",
       "      <th>Attrition</th>\n",
       "      <th>BusinessTravel</th>\n",
       "      <th>Department</th>\n",
       "      <th>EducationField</th>\n",
       "      <th>EnvironmentSatisfaction</th>\n",
       "      <th>Gender</th>\n",
       "      <th>JobInvolvement</th>\n",
       "      <th>JobLevel</th>\n",
       "      <th>JobSatisfaction</th>\n",
       "      <th>...</th>\n",
       "      <th>Marketing</th>\n",
       "      <th>Medical</th>\n",
       "      <th>Other</th>\n",
       "      <th>Technical Degree</th>\n",
       "      <th>Divorced</th>\n",
       "      <th>Married</th>\n",
       "      <th>Single</th>\n",
       "      <th>Non-Travel</th>\n",
       "      <th>Travel_Frequently</th>\n",
       "      <th>Travel_Rarely</th>\n",
       "    </tr>\n",
       "  </thead>\n",
       "  <tbody>\n",
       "    <tr>\n",
       "      <th>0</th>\n",
       "      <td>41</td>\n",
       "      <td>1</td>\n",
       "      <td>Travel_Rarely</td>\n",
       "      <td>Sales</td>\n",
       "      <td>Life Sciences</td>\n",
       "      <td>2</td>\n",
       "      <td>0</td>\n",
       "      <td>3</td>\n",
       "      <td>2</td>\n",
       "      <td>4</td>\n",
       "      <td>...</td>\n",
       "      <td>0</td>\n",
       "      <td>0</td>\n",
       "      <td>0</td>\n",
       "      <td>0</td>\n",
       "      <td>0</td>\n",
       "      <td>0</td>\n",
       "      <td>1</td>\n",
       "      <td>0</td>\n",
       "      <td>0</td>\n",
       "      <td>1</td>\n",
       "    </tr>\n",
       "    <tr>\n",
       "      <th>1</th>\n",
       "      <td>49</td>\n",
       "      <td>0</td>\n",
       "      <td>Travel_Frequently</td>\n",
       "      <td>Research &amp; Development</td>\n",
       "      <td>Life Sciences</td>\n",
       "      <td>3</td>\n",
       "      <td>1</td>\n",
       "      <td>2</td>\n",
       "      <td>2</td>\n",
       "      <td>2</td>\n",
       "      <td>...</td>\n",
       "      <td>0</td>\n",
       "      <td>0</td>\n",
       "      <td>0</td>\n",
       "      <td>0</td>\n",
       "      <td>0</td>\n",
       "      <td>1</td>\n",
       "      <td>0</td>\n",
       "      <td>0</td>\n",
       "      <td>1</td>\n",
       "      <td>0</td>\n",
       "    </tr>\n",
       "    <tr>\n",
       "      <th>2</th>\n",
       "      <td>37</td>\n",
       "      <td>1</td>\n",
       "      <td>Travel_Rarely</td>\n",
       "      <td>Research &amp; Development</td>\n",
       "      <td>Other</td>\n",
       "      <td>4</td>\n",
       "      <td>1</td>\n",
       "      <td>2</td>\n",
       "      <td>1</td>\n",
       "      <td>3</td>\n",
       "      <td>...</td>\n",
       "      <td>0</td>\n",
       "      <td>0</td>\n",
       "      <td>1</td>\n",
       "      <td>0</td>\n",
       "      <td>0</td>\n",
       "      <td>0</td>\n",
       "      <td>1</td>\n",
       "      <td>0</td>\n",
       "      <td>0</td>\n",
       "      <td>1</td>\n",
       "    </tr>\n",
       "    <tr>\n",
       "      <th>3</th>\n",
       "      <td>33</td>\n",
       "      <td>0</td>\n",
       "      <td>Travel_Frequently</td>\n",
       "      <td>Research &amp; Development</td>\n",
       "      <td>Life Sciences</td>\n",
       "      <td>4</td>\n",
       "      <td>0</td>\n",
       "      <td>3</td>\n",
       "      <td>1</td>\n",
       "      <td>3</td>\n",
       "      <td>...</td>\n",
       "      <td>0</td>\n",
       "      <td>0</td>\n",
       "      <td>0</td>\n",
       "      <td>0</td>\n",
       "      <td>0</td>\n",
       "      <td>1</td>\n",
       "      <td>0</td>\n",
       "      <td>0</td>\n",
       "      <td>1</td>\n",
       "      <td>0</td>\n",
       "    </tr>\n",
       "    <tr>\n",
       "      <th>4</th>\n",
       "      <td>27</td>\n",
       "      <td>0</td>\n",
       "      <td>Travel_Rarely</td>\n",
       "      <td>Research &amp; Development</td>\n",
       "      <td>Medical</td>\n",
       "      <td>1</td>\n",
       "      <td>1</td>\n",
       "      <td>3</td>\n",
       "      <td>1</td>\n",
       "      <td>2</td>\n",
       "      <td>...</td>\n",
       "      <td>0</td>\n",
       "      <td>1</td>\n",
       "      <td>0</td>\n",
       "      <td>0</td>\n",
       "      <td>0</td>\n",
       "      <td>1</td>\n",
       "      <td>0</td>\n",
       "      <td>0</td>\n",
       "      <td>0</td>\n",
       "      <td>1</td>\n",
       "    </tr>\n",
       "  </tbody>\n",
       "</table>\n",
       "<p>5 rows × 35 columns</p>\n",
       "</div>\n",
       "      <button class=\"colab-df-convert\" onclick=\"convertToInteractive('df-aafa47e9-c5b6-445d-88b1-d1ea0cdf8e32')\"\n",
       "              title=\"Convert this dataframe to an interactive table.\"\n",
       "              style=\"display:none;\">\n",
       "        \n",
       "  <svg xmlns=\"http://www.w3.org/2000/svg\" height=\"24px\"viewBox=\"0 0 24 24\"\n",
       "       width=\"24px\">\n",
       "    <path d=\"M0 0h24v24H0V0z\" fill=\"none\"/>\n",
       "    <path d=\"M18.56 5.44l.94 2.06.94-2.06 2.06-.94-2.06-.94-.94-2.06-.94 2.06-2.06.94zm-11 1L8.5 8.5l.94-2.06 2.06-.94-2.06-.94L8.5 2.5l-.94 2.06-2.06.94zm10 10l.94 2.06.94-2.06 2.06-.94-2.06-.94-.94-2.06-.94 2.06-2.06.94z\"/><path d=\"M17.41 7.96l-1.37-1.37c-.4-.4-.92-.59-1.43-.59-.52 0-1.04.2-1.43.59L10.3 9.45l-7.72 7.72c-.78.78-.78 2.05 0 2.83L4 21.41c.39.39.9.59 1.41.59.51 0 1.02-.2 1.41-.59l7.78-7.78 2.81-2.81c.8-.78.8-2.07 0-2.86zM5.41 20L4 18.59l7.72-7.72 1.47 1.35L5.41 20z\"/>\n",
       "  </svg>\n",
       "      </button>\n",
       "      \n",
       "  <style>\n",
       "    .colab-df-container {\n",
       "      display:flex;\n",
       "      flex-wrap:wrap;\n",
       "      gap: 12px;\n",
       "    }\n",
       "\n",
       "    .colab-df-convert {\n",
       "      background-color: #E8F0FE;\n",
       "      border: none;\n",
       "      border-radius: 50%;\n",
       "      cursor: pointer;\n",
       "      display: none;\n",
       "      fill: #1967D2;\n",
       "      height: 32px;\n",
       "      padding: 0 0 0 0;\n",
       "      width: 32px;\n",
       "    }\n",
       "\n",
       "    .colab-df-convert:hover {\n",
       "      background-color: #E2EBFA;\n",
       "      box-shadow: 0px 1px 2px rgba(60, 64, 67, 0.3), 0px 1px 3px 1px rgba(60, 64, 67, 0.15);\n",
       "      fill: #174EA6;\n",
       "    }\n",
       "\n",
       "    [theme=dark] .colab-df-convert {\n",
       "      background-color: #3B4455;\n",
       "      fill: #D2E3FC;\n",
       "    }\n",
       "\n",
       "    [theme=dark] .colab-df-convert:hover {\n",
       "      background-color: #434B5C;\n",
       "      box-shadow: 0px 1px 3px 1px rgba(0, 0, 0, 0.15);\n",
       "      filter: drop-shadow(0px 1px 2px rgba(0, 0, 0, 0.3));\n",
       "      fill: #FFFFFF;\n",
       "    }\n",
       "  </style>\n",
       "\n",
       "      <script>\n",
       "        const buttonEl =\n",
       "          document.querySelector('#df-aafa47e9-c5b6-445d-88b1-d1ea0cdf8e32 button.colab-df-convert');\n",
       "        buttonEl.style.display =\n",
       "          google.colab.kernel.accessAllowed ? 'block' : 'none';\n",
       "\n",
       "        async function convertToInteractive(key) {\n",
       "          const element = document.querySelector('#df-aafa47e9-c5b6-445d-88b1-d1ea0cdf8e32');\n",
       "          const dataTable =\n",
       "            await google.colab.kernel.invokeFunction('convertToInteractive',\n",
       "                                                     [key], {});\n",
       "          if (!dataTable) return;\n",
       "\n",
       "          const docLinkHtml = 'Like what you see? Visit the ' +\n",
       "            '<a target=\"_blank\" href=https://colab.research.google.com/notebooks/data_table.ipynb>data table notebook</a>'\n",
       "            + ' to learn more about interactive tables.';\n",
       "          element.innerHTML = '';\n",
       "          dataTable['output_type'] = 'display_data';\n",
       "          await google.colab.output.renderOutput(dataTable, element);\n",
       "          const docLink = document.createElement('div');\n",
       "          docLink.innerHTML = docLinkHtml;\n",
       "          element.appendChild(docLink);\n",
       "        }\n",
       "      </script>\n",
       "    </div>\n",
       "  </div>\n",
       "  "
      ],
      "text/plain": [
       "   Age  Attrition     BusinessTravel              Department EducationField  \\\n",
       "0   41          1      Travel_Rarely                   Sales  Life Sciences   \n",
       "1   49          0  Travel_Frequently  Research & Development  Life Sciences   \n",
       "2   37          1      Travel_Rarely  Research & Development          Other   \n",
       "3   33          0  Travel_Frequently  Research & Development  Life Sciences   \n",
       "4   27          0      Travel_Rarely  Research & Development        Medical   \n",
       "\n",
       "   EnvironmentSatisfaction  Gender  JobInvolvement  JobLevel  JobSatisfaction  \\\n",
       "0                        2       0               3         2                4   \n",
       "1                        3       1               2         2                2   \n",
       "2                        4       1               2         1                3   \n",
       "3                        4       0               3         1                3   \n",
       "4                        1       1               3         1                2   \n",
       "\n",
       "   ... Marketing  Medical  Other  Technical Degree  Divorced  Married  Single  \\\n",
       "0  ...         0        0      0                 0         0        0       1   \n",
       "1  ...         0        0      0                 0         0        1       0   \n",
       "2  ...         0        0      1                 0         0        0       1   \n",
       "3  ...         0        0      0                 0         0        1       0   \n",
       "4  ...         0        1      0                 0         0        1       0   \n",
       "\n",
       "   Non-Travel  Travel_Frequently  Travel_Rarely  \n",
       "0           0                  0              1  \n",
       "1           0                  1              0  \n",
       "2           0                  0              1  \n",
       "3           0                  1              0  \n",
       "4           0                  0              1  \n",
       "\n",
       "[5 rows x 35 columns]"
      ]
     },
     "execution_count": 9,
     "metadata": {},
     "output_type": "execute_result"
    }
   ],
   "source": [
    "att1.head()"
   ]
  },
  {
   "cell_type": "markdown",
   "id": "0928718e",
   "metadata": {
    "id": "0928718e"
   },
   "source": [
    "### III. Aggregation of variables"
   ]
  },
  {
   "cell_type": "code",
   "execution_count": 53,
   "id": "747a1116",
   "metadata": {
    "id": "747a1116"
   },
   "outputs": [],
   "source": [
    "#Total spendings on various items\n",
    "att1[\"CompanyCulture\"] = att1[\"EnvironmentSatisfaction\"]+ att1[\"JobSatisfaction\"]+ att1[\"WorkLifeBalance\"]"
   ]
  },
  {
   "cell_type": "markdown",
   "id": "t5bkHspd5b8D",
   "metadata": {
    "id": "t5bkHspd5b8D"
   },
   "source": [
    "### IV. Binning variables"
   ]
  },
  {
   "cell_type": "code",
   "execution_count": 197,
   "id": "6e73r3QV2hGA",
   "metadata": {
    "colab": {
     "base_uri": "https://localhost:8080/"
    },
    "id": "6e73r3QV2hGA",
    "outputId": "b3f811b4-99bb-4723-f426-317765f5d870"
   },
   "outputs": [
    {
     "name": "stdout",
     "output_type": "stream",
     "text": [
      "   Age  Attrition     BusinessTravel              Department EducationField  \\\n",
      "0   41          1      Travel_Rarely                   Sales  Life Sciences   \n",
      "1   49          0  Travel_Frequently  Research & Development  Life Sciences   \n",
      "2   37          1      Travel_Rarely  Research & Development          Other   \n",
      "3   33          0  Travel_Frequently  Research & Development  Life Sciences   \n",
      "4   27          0      Travel_Rarely  Research & Development        Medical   \n",
      "\n",
      "   EnvironmentSatisfaction  Gender  JobInvolvement  JobLevel  JobSatisfaction  \\\n",
      "0                        2       0               3         2                4   \n",
      "1                        3       1               2         2                2   \n",
      "2                        4       1               2         1                3   \n",
      "3                        4       0               3         1                3   \n",
      "4                        1       1               3         1                2   \n",
      "\n",
      "   ... Marketing  Medical  Other  Technical Degree  Divorced  Married  Single  \\\n",
      "0  ...         0        0      0                 0         0        0       1   \n",
      "1  ...         0        0      0                 0         0        1       0   \n",
      "2  ...         0        0      1                 0         0        0       1   \n",
      "3  ...         0        0      0                 0         0        1       0   \n",
      "4  ...         0        1      0                 0         0        1       0   \n",
      "\n",
      "   Non-Travel  Travel_Frequently  Travel_Rarely  \n",
      "0           0                  0              1  \n",
      "1           0                  1              0  \n",
      "2           0                  0              1  \n",
      "3           0                  1              0  \n",
      "4           0                  0              1  \n",
      "\n",
      "[5 rows x 46 columns]\n"
     ]
    }
   ],
   "source": [
    "# Binning of BMI variable with numerical labels\n",
    "\n",
    "att1['AgeGroup']=pd.cut(x=att1[\"Age\"], bins=[18,30,42,60],\n",
    "                        labels=[\"Young\",\"Middle-Aged\",\"High-aged\",])\n",
    "print(att1.head())"
   ]
  },
  {
   "cell_type": "code",
   "execution_count": 198,
   "id": "bdHuJAfjlS2R",
   "metadata": {
    "colab": {
     "base_uri": "https://localhost:8080/"
    },
    "id": "bdHuJAfjlS2R",
    "outputId": "477b9aee-2c50-49eb-b6be-f469e59ddf44"
   },
   "outputs": [
    {
     "name": "stdout",
     "output_type": "stream",
     "text": [
      "   Age  Attrition     BusinessTravel              Department EducationField  \\\n",
      "0   41          1      Travel_Rarely                   Sales  Life Sciences   \n",
      "1   49          0  Travel_Frequently  Research & Development  Life Sciences   \n",
      "2   37          1      Travel_Rarely  Research & Development          Other   \n",
      "3   33          0  Travel_Frequently  Research & Development  Life Sciences   \n",
      "4   27          0      Travel_Rarely  Research & Development        Medical   \n",
      "\n",
      "   EnvironmentSatisfaction  Gender  JobInvolvement  JobLevel  JobSatisfaction  \\\n",
      "0                        2       0               3         2                4   \n",
      "1                        3       1               2         2                2   \n",
      "2                        4       1               2         1                3   \n",
      "3                        4       0               3         1                3   \n",
      "4                        1       1               3         1                2   \n",
      "\n",
      "   ... Marketing  Medical  Other  Technical Degree  Divorced  Married  Single  \\\n",
      "0  ...         0        0      0                 0         0        0       1   \n",
      "1  ...         0        0      0                 0         0        1       0   \n",
      "2  ...         0        0      1                 0         0        0       1   \n",
      "3  ...         0        0      0                 0         0        1       0   \n",
      "4  ...         0        1      0                 0         0        1       0   \n",
      "\n",
      "   Non-Travel  Travel_Frequently  Travel_Rarely  \n",
      "0           0                  0              1  \n",
      "1           0                  1              0  \n",
      "2           0                  0              1  \n",
      "3           0                  1              0  \n",
      "4           0                  0              1  \n",
      "\n",
      "[5 rows x 46 columns]\n"
     ]
    }
   ],
   "source": [
    "att1['IncomeGroup']=pd.cut(x=att1['MonthlyIncome'], bins=[1000,6500,12000,17000],\n",
    "                           labels=[\"Low\",\"Medium\",\"High\",])\n",
    "print(att1.head())"
   ]
  },
  {
   "cell_type": "code",
   "execution_count": 199,
   "id": "ljHUhfsqSfnf",
   "metadata": {
    "id": "ljHUhfsqSfnf"
   },
   "outputs": [],
   "source": [
    "att1['Junior']=np.where(att1.JobLevel==1,1,0) "
   ]
  },
  {
   "cell_type": "code",
   "execution_count": 200,
   "id": "cpj3peqhn_co",
   "metadata": {
    "id": "cpj3peqhn_co"
   },
   "outputs": [],
   "source": [
    "# Creating dummy value for variable region same as one hot encoding\n",
    "\n",
    "dummy4=pd.get_dummies(att1[\"IncomeGroup\"])\n",
    "dummy5=pd.get_dummies(att1[\"AgeGroup\"])"
   ]
  },
  {
   "cell_type": "code",
   "execution_count": 201,
   "id": "UFxi7SZDn_cp",
   "metadata": {
    "id": "UFxi7SZDn_cp"
   },
   "outputs": [],
   "source": [
    "att1 = pd.concat([att1, dummy4], axis=1)\n",
    "att1 = pd.concat([att1, dummy5], axis=1)\n"
   ]
  },
  {
   "cell_type": "markdown",
   "id": "d6ace747",
   "metadata": {
    "id": "d6ace747"
   },
   "source": [
    "## Model fitting through Decision Tree"
   ]
  },
  {
   "cell_type": "markdown",
   "id": "9929e5ec",
   "metadata": {
    "id": "9929e5ec"
   },
   "source": [
    "#### Import libraries"
   ]
  },
  {
   "cell_type": "code",
   "execution_count": 59,
   "id": "1bc1dc9f",
   "metadata": {
    "id": "1bc1dc9f"
   },
   "outputs": [],
   "source": [
    "import numpy as np\n",
    "import pandas as pd\n",
    "import matplotlib.pyplot as plt\n",
    "\n",
    "#For test-train split\n",
    "from sklearn.model_selection import train_test_split\n",
    "\n",
    "#For fitting regression tree\n",
    "from sklearn.tree import DecisionTreeClassifier\n",
    "\n",
    "#For plotting a decision tree\n",
    "from sklearn import tree\n",
    "\n",
    "#for cross validation\n",
    "from sklearn.model_selection import cross_val_score\n",
    "\n",
    "#To create a confusion matrix\n",
    "from sklearn.metrics import confusion_matrix"
   ]
  },
  {
   "cell_type": "code",
   "execution_count": 19,
   "id": "447f0d03",
   "metadata": {
    "colab": {
     "base_uri": "https://localhost:8080/",
     "height": 404
    },
    "id": "447f0d03",
    "outputId": "1b5608ca-0164-4f64-ccfa-6703950892e1"
   },
   "outputs": [
    {
     "data": {
      "text/html": [
       "\n",
       "  <div id=\"df-b2ed0297-423c-48ac-ac57-43c73bdf27c9\">\n",
       "    <div class=\"colab-df-container\">\n",
       "      <div>\n",
       "<style scoped>\n",
       "    .dataframe tbody tr th:only-of-type {\n",
       "        vertical-align: middle;\n",
       "    }\n",
       "\n",
       "    .dataframe tbody tr th {\n",
       "        vertical-align: top;\n",
       "    }\n",
       "\n",
       "    .dataframe thead th {\n",
       "        text-align: right;\n",
       "    }\n",
       "</style>\n",
       "<table border=\"1\" class=\"dataframe\">\n",
       "  <thead>\n",
       "    <tr style=\"text-align: right;\">\n",
       "      <th></th>\n",
       "      <th>Age</th>\n",
       "      <th>Attrition</th>\n",
       "      <th>BusinessTravel</th>\n",
       "      <th>Department</th>\n",
       "      <th>EducationField</th>\n",
       "      <th>EnvironmentSatisfaction</th>\n",
       "      <th>Gender</th>\n",
       "      <th>JobInvolvement</th>\n",
       "      <th>JobLevel</th>\n",
       "      <th>JobSatisfaction</th>\n",
       "      <th>...</th>\n",
       "      <th>CompanyCulture</th>\n",
       "      <th>AgeGroup</th>\n",
       "      <th>IncomeGroup</th>\n",
       "      <th>Junior</th>\n",
       "      <th>Low</th>\n",
       "      <th>Medium</th>\n",
       "      <th>High</th>\n",
       "      <th>Young</th>\n",
       "      <th>Middle-Aged</th>\n",
       "      <th>High-aged</th>\n",
       "    </tr>\n",
       "  </thead>\n",
       "  <tbody>\n",
       "    <tr>\n",
       "      <th>1465</th>\n",
       "      <td>36</td>\n",
       "      <td>0</td>\n",
       "      <td>Travel_Frequently</td>\n",
       "      <td>Research &amp; Development</td>\n",
       "      <td>Medical</td>\n",
       "      <td>3</td>\n",
       "      <td>1</td>\n",
       "      <td>4</td>\n",
       "      <td>2</td>\n",
       "      <td>4</td>\n",
       "      <td>...</td>\n",
       "      <td>10</td>\n",
       "      <td>Middle-Aged</td>\n",
       "      <td>Low</td>\n",
       "      <td>0</td>\n",
       "      <td>1</td>\n",
       "      <td>0</td>\n",
       "      <td>0</td>\n",
       "      <td>0</td>\n",
       "      <td>1</td>\n",
       "      <td>0</td>\n",
       "    </tr>\n",
       "    <tr>\n",
       "      <th>1466</th>\n",
       "      <td>39</td>\n",
       "      <td>0</td>\n",
       "      <td>Travel_Rarely</td>\n",
       "      <td>Research &amp; Development</td>\n",
       "      <td>Medical</td>\n",
       "      <td>4</td>\n",
       "      <td>1</td>\n",
       "      <td>2</td>\n",
       "      <td>3</td>\n",
       "      <td>1</td>\n",
       "      <td>...</td>\n",
       "      <td>8</td>\n",
       "      <td>Middle-Aged</td>\n",
       "      <td>Medium</td>\n",
       "      <td>0</td>\n",
       "      <td>0</td>\n",
       "      <td>1</td>\n",
       "      <td>0</td>\n",
       "      <td>0</td>\n",
       "      <td>1</td>\n",
       "      <td>0</td>\n",
       "    </tr>\n",
       "    <tr>\n",
       "      <th>1467</th>\n",
       "      <td>27</td>\n",
       "      <td>0</td>\n",
       "      <td>Travel_Rarely</td>\n",
       "      <td>Research &amp; Development</td>\n",
       "      <td>Life Sciences</td>\n",
       "      <td>2</td>\n",
       "      <td>1</td>\n",
       "      <td>4</td>\n",
       "      <td>2</td>\n",
       "      <td>2</td>\n",
       "      <td>...</td>\n",
       "      <td>7</td>\n",
       "      <td>Young</td>\n",
       "      <td>Low</td>\n",
       "      <td>0</td>\n",
       "      <td>1</td>\n",
       "      <td>0</td>\n",
       "      <td>0</td>\n",
       "      <td>1</td>\n",
       "      <td>0</td>\n",
       "      <td>0</td>\n",
       "    </tr>\n",
       "    <tr>\n",
       "      <th>1468</th>\n",
       "      <td>49</td>\n",
       "      <td>0</td>\n",
       "      <td>Travel_Frequently</td>\n",
       "      <td>Sales</td>\n",
       "      <td>Medical</td>\n",
       "      <td>4</td>\n",
       "      <td>1</td>\n",
       "      <td>2</td>\n",
       "      <td>2</td>\n",
       "      <td>2</td>\n",
       "      <td>...</td>\n",
       "      <td>8</td>\n",
       "      <td>High-aged</td>\n",
       "      <td>Low</td>\n",
       "      <td>0</td>\n",
       "      <td>1</td>\n",
       "      <td>0</td>\n",
       "      <td>0</td>\n",
       "      <td>0</td>\n",
       "      <td>0</td>\n",
       "      <td>1</td>\n",
       "    </tr>\n",
       "    <tr>\n",
       "      <th>1469</th>\n",
       "      <td>34</td>\n",
       "      <td>0</td>\n",
       "      <td>Travel_Rarely</td>\n",
       "      <td>Research &amp; Development</td>\n",
       "      <td>Medical</td>\n",
       "      <td>2</td>\n",
       "      <td>1</td>\n",
       "      <td>4</td>\n",
       "      <td>2</td>\n",
       "      <td>3</td>\n",
       "      <td>...</td>\n",
       "      <td>9</td>\n",
       "      <td>Middle-Aged</td>\n",
       "      <td>Low</td>\n",
       "      <td>0</td>\n",
       "      <td>1</td>\n",
       "      <td>0</td>\n",
       "      <td>0</td>\n",
       "      <td>0</td>\n",
       "      <td>1</td>\n",
       "      <td>0</td>\n",
       "    </tr>\n",
       "  </tbody>\n",
       "</table>\n",
       "<p>5 rows × 45 columns</p>\n",
       "</div>\n",
       "      <button class=\"colab-df-convert\" onclick=\"convertToInteractive('df-b2ed0297-423c-48ac-ac57-43c73bdf27c9')\"\n",
       "              title=\"Convert this dataframe to an interactive table.\"\n",
       "              style=\"display:none;\">\n",
       "        \n",
       "  <svg xmlns=\"http://www.w3.org/2000/svg\" height=\"24px\"viewBox=\"0 0 24 24\"\n",
       "       width=\"24px\">\n",
       "    <path d=\"M0 0h24v24H0V0z\" fill=\"none\"/>\n",
       "    <path d=\"M18.56 5.44l.94 2.06.94-2.06 2.06-.94-2.06-.94-.94-2.06-.94 2.06-2.06.94zm-11 1L8.5 8.5l.94-2.06 2.06-.94-2.06-.94L8.5 2.5l-.94 2.06-2.06.94zm10 10l.94 2.06.94-2.06 2.06-.94-2.06-.94-.94-2.06-.94 2.06-2.06.94z\"/><path d=\"M17.41 7.96l-1.37-1.37c-.4-.4-.92-.59-1.43-.59-.52 0-1.04.2-1.43.59L10.3 9.45l-7.72 7.72c-.78.78-.78 2.05 0 2.83L4 21.41c.39.39.9.59 1.41.59.51 0 1.02-.2 1.41-.59l7.78-7.78 2.81-2.81c.8-.78.8-2.07 0-2.86zM5.41 20L4 18.59l7.72-7.72 1.47 1.35L5.41 20z\"/>\n",
       "  </svg>\n",
       "      </button>\n",
       "      \n",
       "  <style>\n",
       "    .colab-df-container {\n",
       "      display:flex;\n",
       "      flex-wrap:wrap;\n",
       "      gap: 12px;\n",
       "    }\n",
       "\n",
       "    .colab-df-convert {\n",
       "      background-color: #E8F0FE;\n",
       "      border: none;\n",
       "      border-radius: 50%;\n",
       "      cursor: pointer;\n",
       "      display: none;\n",
       "      fill: #1967D2;\n",
       "      height: 32px;\n",
       "      padding: 0 0 0 0;\n",
       "      width: 32px;\n",
       "    }\n",
       "\n",
       "    .colab-df-convert:hover {\n",
       "      background-color: #E2EBFA;\n",
       "      box-shadow: 0px 1px 2px rgba(60, 64, 67, 0.3), 0px 1px 3px 1px rgba(60, 64, 67, 0.15);\n",
       "      fill: #174EA6;\n",
       "    }\n",
       "\n",
       "    [theme=dark] .colab-df-convert {\n",
       "      background-color: #3B4455;\n",
       "      fill: #D2E3FC;\n",
       "    }\n",
       "\n",
       "    [theme=dark] .colab-df-convert:hover {\n",
       "      background-color: #434B5C;\n",
       "      box-shadow: 0px 1px 3px 1px rgba(0, 0, 0, 0.15);\n",
       "      filter: drop-shadow(0px 1px 2px rgba(0, 0, 0, 0.3));\n",
       "      fill: #FFFFFF;\n",
       "    }\n",
       "  </style>\n",
       "\n",
       "      <script>\n",
       "        const buttonEl =\n",
       "          document.querySelector('#df-b2ed0297-423c-48ac-ac57-43c73bdf27c9 button.colab-df-convert');\n",
       "        buttonEl.style.display =\n",
       "          google.colab.kernel.accessAllowed ? 'block' : 'none';\n",
       "\n",
       "        async function convertToInteractive(key) {\n",
       "          const element = document.querySelector('#df-b2ed0297-423c-48ac-ac57-43c73bdf27c9');\n",
       "          const dataTable =\n",
       "            await google.colab.kernel.invokeFunction('convertToInteractive',\n",
       "                                                     [key], {});\n",
       "          if (!dataTable) return;\n",
       "\n",
       "          const docLinkHtml = 'Like what you see? Visit the ' +\n",
       "            '<a target=\"_blank\" href=https://colab.research.google.com/notebooks/data_table.ipynb>data table notebook</a>'\n",
       "            + ' to learn more about interactive tables.';\n",
       "          element.innerHTML = '';\n",
       "          dataTable['output_type'] = 'display_data';\n",
       "          await google.colab.output.renderOutput(dataTable, element);\n",
       "          const docLink = document.createElement('div');\n",
       "          docLink.innerHTML = docLinkHtml;\n",
       "          element.appendChild(docLink);\n",
       "        }\n",
       "      </script>\n",
       "    </div>\n",
       "  </div>\n",
       "  "
      ],
      "text/plain": [
       "      Age  Attrition     BusinessTravel              Department  \\\n",
       "1465   36          0  Travel_Frequently  Research & Development   \n",
       "1466   39          0      Travel_Rarely  Research & Development   \n",
       "1467   27          0      Travel_Rarely  Research & Development   \n",
       "1468   49          0  Travel_Frequently                   Sales   \n",
       "1469   34          0      Travel_Rarely  Research & Development   \n",
       "\n",
       "     EducationField  EnvironmentSatisfaction  Gender  JobInvolvement  \\\n",
       "1465        Medical                        3       1               4   \n",
       "1466        Medical                        4       1               2   \n",
       "1467  Life Sciences                        2       1               4   \n",
       "1468        Medical                        4       1               2   \n",
       "1469        Medical                        2       1               4   \n",
       "\n",
       "      JobLevel  JobSatisfaction  ... CompanyCulture     AgeGroup  IncomeGroup  \\\n",
       "1465         2                4  ...             10  Middle-Aged          Low   \n",
       "1466         3                1  ...              8  Middle-Aged       Medium   \n",
       "1467         2                2  ...              7        Young          Low   \n",
       "1468         2                2  ...              8    High-aged          Low   \n",
       "1469         2                3  ...              9  Middle-Aged          Low   \n",
       "\n",
       "      Junior  Low  Medium  High  Young  Middle-Aged  High-aged  \n",
       "1465       0    1       0     0      0            1          0  \n",
       "1466       0    0       1     0      0            1          0  \n",
       "1467       0    1       0     0      1            0          0  \n",
       "1468       0    1       0     0      0            0          1  \n",
       "1469       0    1       0     0      0            1          0  \n",
       "\n",
       "[5 rows x 45 columns]"
      ]
     },
     "execution_count": 19,
     "metadata": {},
     "output_type": "execute_result"
    }
   ],
   "source": [
    "att1.tail()"
   ]
  },
  {
   "cell_type": "markdown",
   "id": "2zrvxds2quvR",
   "metadata": {
    "id": "2zrvxds2quvR"
   },
   "source": [
    "### DT Model 1  \n",
    "\n",
    "#### 1. Setting Predictors and Target variable"
   ]
  },
  {
   "cell_type": "code",
   "execution_count": 68,
   "id": "kvrUwhW5Z5D5",
   "metadata": {
    "id": "kvrUwhW5Z5D5"
   },
   "outputs": [],
   "source": [
    "X= att1 [[\"Junior\",\"TotalWorkingYears\",\"YearsInCurrentRole\",\"MonthlyIncome\",\"CompanyCulture\",\"Single\", \"Sales\",\"Human Resources\",\"Travel_Frequently\",\"OverTime\",\"DistanceFromHome\"]]\n",
    "y= att1.Attrition"
   ]
  },
  {
   "cell_type": "code",
   "execution_count": 70,
   "id": "03a063b9",
   "metadata": {
    "colab": {
     "base_uri": "https://localhost:8080/",
     "height": 206
    },
    "id": "03a063b9",
    "outputId": "fa3b3821-cc8a-4fde-848e-2d2a05244fdb"
   },
   "outputs": [
    {
     "data": {
      "text/html": [
       "<div>\n",
       "<style scoped>\n",
       "    .dataframe tbody tr th:only-of-type {\n",
       "        vertical-align: middle;\n",
       "    }\n",
       "\n",
       "    .dataframe tbody tr th {\n",
       "        vertical-align: top;\n",
       "    }\n",
       "\n",
       "    .dataframe thead th {\n",
       "        text-align: right;\n",
       "    }\n",
       "</style>\n",
       "<table border=\"1\" class=\"dataframe\">\n",
       "  <thead>\n",
       "    <tr style=\"text-align: right;\">\n",
       "      <th></th>\n",
       "      <th>Junior</th>\n",
       "      <th>TotalWorkingYears</th>\n",
       "      <th>YearsInCurrentRole</th>\n",
       "      <th>MonthlyIncome</th>\n",
       "      <th>CompanyCulture</th>\n",
       "      <th>Single</th>\n",
       "      <th>Sales</th>\n",
       "      <th>Human Resources</th>\n",
       "      <th>Human Resources</th>\n",
       "      <th>Travel_Frequently</th>\n",
       "      <th>OverTime</th>\n",
       "      <th>DistanceFromHome</th>\n",
       "    </tr>\n",
       "  </thead>\n",
       "  <tbody>\n",
       "    <tr>\n",
       "      <th>0</th>\n",
       "      <td>0</td>\n",
       "      <td>8</td>\n",
       "      <td>4</td>\n",
       "      <td>5993</td>\n",
       "      <td>7</td>\n",
       "      <td>1</td>\n",
       "      <td>1</td>\n",
       "      <td>0</td>\n",
       "      <td>0</td>\n",
       "      <td>0</td>\n",
       "      <td>1</td>\n",
       "      <td>1</td>\n",
       "    </tr>\n",
       "    <tr>\n",
       "      <th>1</th>\n",
       "      <td>0</td>\n",
       "      <td>10</td>\n",
       "      <td>7</td>\n",
       "      <td>5130</td>\n",
       "      <td>8</td>\n",
       "      <td>0</td>\n",
       "      <td>0</td>\n",
       "      <td>0</td>\n",
       "      <td>0</td>\n",
       "      <td>1</td>\n",
       "      <td>0</td>\n",
       "      <td>8</td>\n",
       "    </tr>\n",
       "    <tr>\n",
       "      <th>2</th>\n",
       "      <td>1</td>\n",
       "      <td>7</td>\n",
       "      <td>0</td>\n",
       "      <td>2090</td>\n",
       "      <td>10</td>\n",
       "      <td>1</td>\n",
       "      <td>0</td>\n",
       "      <td>0</td>\n",
       "      <td>0</td>\n",
       "      <td>0</td>\n",
       "      <td>1</td>\n",
       "      <td>2</td>\n",
       "    </tr>\n",
       "    <tr>\n",
       "      <th>3</th>\n",
       "      <td>1</td>\n",
       "      <td>8</td>\n",
       "      <td>7</td>\n",
       "      <td>2909</td>\n",
       "      <td>10</td>\n",
       "      <td>0</td>\n",
       "      <td>0</td>\n",
       "      <td>0</td>\n",
       "      <td>0</td>\n",
       "      <td>1</td>\n",
       "      <td>1</td>\n",
       "      <td>3</td>\n",
       "    </tr>\n",
       "    <tr>\n",
       "      <th>4</th>\n",
       "      <td>1</td>\n",
       "      <td>6</td>\n",
       "      <td>2</td>\n",
       "      <td>3468</td>\n",
       "      <td>6</td>\n",
       "      <td>0</td>\n",
       "      <td>0</td>\n",
       "      <td>0</td>\n",
       "      <td>0</td>\n",
       "      <td>0</td>\n",
       "      <td>0</td>\n",
       "      <td>2</td>\n",
       "    </tr>\n",
       "  </tbody>\n",
       "</table>\n",
       "</div>"
      ],
      "text/plain": [
       "   Junior  TotalWorkingYears  YearsInCurrentRole  MonthlyIncome  \\\n",
       "0       0                  8                   4           5993   \n",
       "1       0                 10                   7           5130   \n",
       "2       1                  7                   0           2090   \n",
       "3       1                  8                   7           2909   \n",
       "4       1                  6                   2           3468   \n",
       "\n",
       "   CompanyCulture  Single  Sales  Human Resources  Human Resources  \\\n",
       "0               7       1      1                0                0   \n",
       "1               8       0      0                0                0   \n",
       "2              10       1      0                0                0   \n",
       "3              10       0      0                0                0   \n",
       "4               6       0      0                0                0   \n",
       "\n",
       "   Travel_Frequently  OverTime  DistanceFromHome  \n",
       "0                  0         1                 1  \n",
       "1                  1         0                 8  \n",
       "2                  0         1                 2  \n",
       "3                  1         1                 3  \n",
       "4                  0         0                 2  "
      ]
     },
     "execution_count": 70,
     "metadata": {},
     "output_type": "execute_result"
    }
   ],
   "source": [
    "X.head()"
   ]
  },
  {
   "cell_type": "markdown",
   "id": "7dd4c683",
   "metadata": {
    "id": "7dd4c683"
   },
   "source": [
    "#### 2. Splitting dataset into train - valid - test"
   ]
  },
  {
   "cell_type": "code",
   "execution_count": 71,
   "id": "9f32b77b",
   "metadata": {
    "id": "9f32b77b"
   },
   "outputs": [],
   "source": [
    "# Train-test split\n",
    "X_train, X_test, y_train, y_test = train_test_split(X, y, test_size = 0.2)"
   ]
  },
  {
   "cell_type": "code",
   "execution_count": 72,
   "id": "ba739b20",
   "metadata": {
    "id": "ba739b20"
   },
   "outputs": [],
   "source": [
    "#Train-Validation Split\n",
    "X_train, X_valid, y_train, y_valid = train_test_split(X_train, y_train, test_size = 0.25)"
   ]
  },
  {
   "cell_type": "markdown",
   "id": "345fe49e",
   "metadata": {
    "id": "345fe49e"
   },
   "source": [
    "#### 3. Fitting a Decision Tree Classifier - Train data"
   ]
  },
  {
   "cell_type": "code",
   "execution_count": 103,
   "id": "eebefa89",
   "metadata": {
    "colab": {
     "base_uri": "https://localhost:8080/"
    },
    "id": "eebefa89",
    "outputId": "641089b8-757a-42a0-d2f8-fbd5f8a390fb",
    "scrolled": true
   },
   "outputs": [
    {
     "data": {
      "text/plain": [
       "DecisionTreeClassifier(max_depth=4, min_samples_leaf=5, random_state=100)"
      ]
     },
     "execution_count": 103,
     "metadata": {},
     "output_type": "execute_result"
    }
   ],
   "source": [
    "clf_gini = DecisionTreeClassifier(criterion = \"gini\", max_depth=4, min_samples_leaf=5, random_state = 100)\n",
    "clf_gini.fit(X_train, y_train)"
   ]
  },
  {
   "cell_type": "markdown",
   "id": "d38b487f",
   "metadata": {
    "id": "d38b487f"
   },
   "source": [
    "#### 4. Prediction - Train-Valid data"
   ]
  },
  {
   "cell_type": "code",
   "execution_count": 104,
   "id": "b2adbd65",
   "metadata": {
    "colab": {
     "base_uri": "https://localhost:8080/"
    },
    "id": "b2adbd65",
    "outputId": "f7721207-78de-4328-ac5c-6d5436838aaf",
    "scrolled": true
   },
   "outputs": [
    {
     "data": {
      "text/plain": [
       "array([0, 0, 0, 0, 1, 0, 0, 0, 0, 0, 0, 0, 0, 0, 0, 0, 0, 0, 0, 0, 0, 0,\n",
       "       0, 0, 0, 0, 0, 0, 0, 0, 0, 0, 0, 0, 0, 0, 0, 0, 0, 0, 0, 0, 0, 0,\n",
       "       0, 0, 1, 0, 0, 0, 0, 1, 0, 0, 0, 0, 0, 0, 0, 1, 0, 0, 0, 0, 0, 0,\n",
       "       0, 0, 0, 0, 0, 0, 0, 0, 0, 0, 0, 0, 0, 0, 0, 0, 0, 0, 0, 0, 0, 0,\n",
       "       0, 0, 0, 0, 0, 0, 0, 0, 0, 0, 0, 0, 0, 1, 0, 0, 0, 0, 0, 0, 0, 0,\n",
       "       0, 0, 0, 0, 0, 0, 0, 0, 0, 0, 0, 0, 0, 1, 0, 0, 0, 0, 0, 0, 0, 0,\n",
       "       0, 0, 0, 0, 0, 0, 0, 0, 0, 0, 0, 0, 0, 0, 0, 0, 0, 0, 0, 0, 0, 0,\n",
       "       0, 0, 0, 0, 0, 0, 0, 0, 0, 0, 1, 0, 0, 0, 0, 0, 0, 0, 0, 0, 0, 0,\n",
       "       0, 0, 0, 0, 0, 0, 0, 0, 0, 0, 0, 0, 0, 0, 0, 0, 1, 0, 0, 0, 0, 0,\n",
       "       0, 0, 0, 0, 0, 0, 0, 0, 0, 0, 0, 0, 0, 0, 0, 0, 0, 0, 0, 0, 0, 0,\n",
       "       0, 0, 0, 0, 0, 0, 0, 0, 0, 0, 0, 0, 0, 0, 0, 0, 0, 0, 0, 0, 0, 0,\n",
       "       0, 0, 1, 1, 0, 0, 0, 0, 0, 0, 0, 0, 0, 0, 0, 0, 0, 0, 0, 0, 0, 0,\n",
       "       0, 0, 1, 0, 0, 0, 0, 0, 0, 0, 0, 0, 0, 0, 0, 0, 0, 0, 1, 0, 0, 0,\n",
       "       0, 0, 1, 0, 0, 0, 0, 0], dtype=int64)"
      ]
     },
     "execution_count": 104,
     "metadata": {},
     "output_type": "execute_result"
    }
   ],
   "source": [
    "#Making Prediction\n",
    "y_pred = clf_gini.predict(X_valid)\n",
    "y_pred"
   ]
  },
  {
   "cell_type": "markdown",
   "id": "c8d5e6ca",
   "metadata": {
    "id": "c8d5e6ca"
   },
   "source": [
    "#### 5. Evaluation of Model Performance - Train data"
   ]
  },
  {
   "cell_type": "code",
   "execution_count": 105,
   "id": "6f212b33",
   "metadata": {
    "id": "6f212b33"
   },
   "outputs": [],
   "source": [
    "from sklearn.metrics import precision_recall_curve\n",
    "from sklearn.metrics import plot_precision_recall_curve\n",
    "from sklearn.metrics import precision_score\n",
    "from sklearn.metrics import recall_score\n",
    "from sklearn.metrics import accuracy_score"
   ]
  },
  {
   "cell_type": "code",
   "execution_count": 106,
   "id": "8adcd81f",
   "metadata": {
    "colab": {
     "base_uri": "https://localhost:8080/"
    },
    "id": "8adcd81f",
    "outputId": "5b3bf596-a41d-4142-d58b-563778cefe51",
    "scrolled": false
   },
   "outputs": [
    {
     "data": {
      "text/plain": [
       "array([[251,   5],\n",
       "       [ 30,   8]], dtype=int64)"
      ]
     },
     "execution_count": 106,
     "metadata": {},
     "output_type": "execute_result"
    }
   ],
   "source": [
    "\n",
    "### Confusion Matrix\n",
    "\n",
    "c = confusion_matrix(y_valid, y_pred)\n",
    "c"
   ]
  },
  {
   "cell_type": "code",
   "execution_count": 107,
   "id": "ba19d106",
   "metadata": {
    "colab": {
     "base_uri": "https://localhost:8080/"
    },
    "id": "ba19d106",
    "outputId": "0440395c-50bb-4fc6-8f3f-4d3b1c5c68fd",
    "scrolled": true
   },
   "outputs": [
    {
     "name": "stdout",
     "output_type": "stream",
     "text": [
      "0.8809523809523809\n"
     ]
    }
   ],
   "source": [
    "print(accuracy_score(y_valid, clf_gini.predict(X_valid)))"
   ]
  },
  {
   "cell_type": "code",
   "execution_count": 108,
   "id": "0fa18057",
   "metadata": {
    "colab": {
     "base_uri": "https://localhost:8080/"
    },
    "id": "0fa18057",
    "outputId": "912d3d25-5e8d-4778-bc9e-043416285a42",
    "scrolled": true
   },
   "outputs": [
    {
     "name": "stdout",
     "output_type": "stream",
     "text": [
      "61.53846153846154 21.052631578947366\n"
     ]
    }
   ],
   "source": [
    "## calculating precision and reall\n",
    "precision = precision_score(y_valid, y_pred)*100# (TP/TP+FP)\n",
    "recall = recall_score(y_valid, y_pred)*100 ## True positive rate (TP/TP+FN)\n",
    "\n",
    "print(precision, recall)"
   ]
  },
  {
   "cell_type": "code",
   "execution_count": 109,
   "id": "94fd6fed",
   "metadata": {
    "id": "94fd6fed"
   },
   "outputs": [],
   "source": [
    "# Checking optimal depth"
   ]
  },
  {
   "cell_type": "code",
   "execution_count": 110,
   "id": "mwbeowzhMq9b",
   "metadata": {
    "id": "mwbeowzhMq9b"
   },
   "outputs": [],
   "source": [
    "### With Decision_Tree \n",
    "Depth = np.arange(1,10)\n",
    "Acc_dt =[]\n",
    "Spec_dt = []\n",
    "\n",
    "for d in Depth:\n",
    "    # define parameters\n",
    "    clf_gini = DecisionTreeClassifier(criterion = \"gini\", max_depth=d, min_samples_leaf=5, random_state=100)\n",
    "    # fit model on training data\n",
    "    clf_gini.fit(X_train, y_train)\n",
    "    # prediction of y on validation data\n",
    "    y_pred = clf_gini.predict(X_valid)\n",
    "    #creating confusion matrix\n",
    "    cf_mat = confusion_matrix (y_valid,y_pred) \n",
    "    # calculculating accuracy\n",
    "    Acc_dt.append((cf_mat[0,0]+cf_mat[1,1])/np.sum(cf_mat)*100)\n",
    "    # calculating specificity\n",
    "    num = (cf_mat[0,0]+cf_mat[1,1])   #Total number of correct negative predictions\n",
    "    den = (np.sum(cf_mat[0,:])+np.sum(cf_mat[1,:])) #Total number of negative observations\n",
    "    Spec_dt.append(num/den)"
   ]
  },
  {
   "cell_type": "code",
   "execution_count": 111,
   "id": "53CANLGGMD70",
   "metadata": {
    "colab": {
     "base_uri": "https://localhost:8080/",
     "height": 283
    },
    "id": "53CANLGGMD70",
    "outputId": "0464c4a3-bddb-4867-9aa6-108948b1ff94"
   },
   "outputs": [
    {
     "data": {
      "image/png": "[encoded data removed]",
      "text/plain": [
       "<Figure size 432x288 with 1 Axes>"
      ]
     },
     "metadata": {
      "needs_background": "light"
     },
     "output_type": "display_data"
    }
   ],
   "source": [
    "plt.plot(Depth,np.array(Acc_dt))\n",
    "plt.xlabel(\"Value of D\")\n",
    "plt.ylabel(\"Accuracy\")\n",
    "\n",
    "plt.show()"
   ]
  },
  {
   "cell_type": "markdown",
   "id": "_K2O_xYar28d",
   "metadata": {
    "id": "_K2O_xYar28d"
   },
   "source": []
  },
  {
   "cell_type": "markdown",
   "id": "da1ac971",
   "metadata": {
    "id": "da1ac971"
   },
   "source": [
    "#### 6. Fitting Regressor tree - Test data"
   ]
  },
  {
   "cell_type": "code",
   "execution_count": 113,
   "id": "832fc07d",
   "metadata": {
    "colab": {
     "base_uri": "https://localhost:8080/"
    },
    "id": "832fc07d",
    "outputId": "f60cafa8-a843-4f0c-e0d8-049fe87f83ef"
   },
   "outputs": [
    {
     "data": {
      "text/plain": [
       "DecisionTreeClassifier(max_depth=4, min_samples_leaf=5, random_state=100)"
      ]
     },
     "execution_count": 113,
     "metadata": {},
     "output_type": "execute_result"
    }
   ],
   "source": [
    "clf_gini = DecisionTreeClassifier(criterion = \"gini\", max_depth=4, min_samples_leaf=5, random_state = 100)\n",
    "clf_gini.fit(X_test, y_test)"
   ]
  },
  {
   "cell_type": "markdown",
   "id": "b99cb91b",
   "metadata": {
    "id": "b99cb91b"
   },
   "source": [
    "#### 7. Prediction - Test data"
   ]
  },
  {
   "cell_type": "code",
   "execution_count": 114,
   "id": "b4763a17",
   "metadata": {
    "id": "b4763a17"
   },
   "outputs": [],
   "source": [
    "y_predt=clf_gini.predict(X_test)"
   ]
  },
  {
   "cell_type": "markdown",
   "id": "ff1e44ad",
   "metadata": {
    "id": "ff1e44ad"
   },
   "source": [
    "#### 8. Evaluation of model performance"
   ]
  },
  {
   "cell_type": "code",
   "execution_count": 115,
   "id": "5e4868b5",
   "metadata": {
    "colab": {
     "base_uri": "https://localhost:8080/"
    },
    "id": "5e4868b5",
    "outputId": "0d9abe1d-e433-4318-8524-6b458d12e2e5"
   },
   "outputs": [
    {
     "data": {
      "text/plain": [
       "array([[229,   9],\n",
       "       [ 24,  32]], dtype=int64)"
      ]
     },
     "execution_count": 115,
     "metadata": {},
     "output_type": "execute_result"
    }
   ],
   "source": [
    "### Confusion Matrix\n",
    "\n",
    "c = confusion_matrix(y_test, y_predt)\n",
    "c"
   ]
  },
  {
   "cell_type": "code",
   "execution_count": 116,
   "id": "HuAX10aIqJQa",
   "metadata": {
    "colab": {
     "base_uri": "https://localhost:8080/"
    },
    "id": "HuAX10aIqJQa",
    "outputId": "e36fafca-fe8a-486b-9976-addd7bc3b581"
   },
   "outputs": [
    {
     "name": "stdout",
     "output_type": "stream",
     "text": [
      "0.8877551020408163\n"
     ]
    }
   ],
   "source": [
    "print(accuracy_score(y_test, clf_gini.predict(X_test)))"
   ]
  },
  {
   "cell_type": "code",
   "execution_count": 117,
   "id": "c_ViPAWDqJQc",
   "metadata": {
    "colab": {
     "base_uri": "https://localhost:8080/"
    },
    "id": "c_ViPAWDqJQc",
    "outputId": "e720eba4-8ca7-4488-dfed-dfde6793b6e9"
   },
   "outputs": [
    {
     "name": "stdout",
     "output_type": "stream",
     "text": [
      "78.04878048780488 57.14285714285714\n"
     ]
    }
   ],
   "source": [
    "## calculating precision and reall\n",
    "precision = precision_score(y_test, y_predt)*100# (TP/TP+FP)\n",
    "recall = recall_score(y_test, y_predt)*100 ## True positive rate (TP/TP+FN)\n",
    "\n",
    "print(precision, recall)"
   ]
  },
  {
   "cell_type": "markdown",
   "id": "d4e5c46a",
   "metadata": {
    "id": "GTsei2aun7eI"
   },
   "source": [
    "### DT Model 2"
   ]
  },
  {
   "cell_type": "code",
   "execution_count": 137,
   "id": "EUz_Ut4G1hWS",
   "metadata": {
    "id": "EUz_Ut4G1hWS"
   },
   "outputs": [],
   "source": [
    "X= att1 [[\"TotalWorkingYears\",\"JobInvolvement\",\"Junior\",\"Low\",\"Young\",\"CompanyCulture\",\"Single\", \"Sales\",\"Human Resources\",\"Travel_Frequently\",\"OverTime\",\"DistanceFromHome\"]]\n",
    "y= att1.Attrition"
   ]
  },
  {
   "cell_type": "markdown",
   "id": "fa262b66",
   "metadata": {
    "id": "7dd4c683"
   },
   "source": [
    "#### 2. Splitting dataset into train - valid - test"
   ]
  },
  {
   "cell_type": "code",
   "execution_count": 138,
   "id": "9f32b77b",
   "metadata": {
    "id": "9f32b77b"
   },
   "outputs": [],
   "source": [
    "# Train-test split\n",
    "X_train, X_test, y_train, y_test = train_test_split(X, y, test_size = 0.2)"
   ]
  },
  {
   "cell_type": "code",
   "execution_count": 139,
   "id": "ba739b20",
   "metadata": {
    "id": "ba739b20"
   },
   "outputs": [],
   "source": [
    "#Train-Validation Split\n",
    "X_train, X_valid, y_train, y_valid = train_test_split(X_train, y_train, test_size = 0.25)"
   ]
  },
  {
   "cell_type": "markdown",
   "id": "345fe49e",
   "metadata": {
    "id": "345fe49e"
   },
   "source": [
    "#### 3. Fitting a Decision Tree Classifier - Train data"
   ]
  },
  {
   "cell_type": "code",
   "execution_count": 236,
   "id": "eebefa89",
   "metadata": {
    "colab": {
     "base_uri": "https://localhost:8080/"
    },
    "id": "eebefa89",
    "outputId": "641089b8-757a-42a0-d2f8-fbd5f8a390fb",
    "scrolled": true
   },
   "outputs": [
    {
     "data": {
      "text/plain": [
       "DecisionTreeClassifier(max_depth=3, min_samples_leaf=5, random_state=100)"
      ]
     },
     "execution_count": 236,
     "metadata": {},
     "output_type": "execute_result"
    }
   ],
   "source": [
    "clf_gini = DecisionTreeClassifier(criterion = \"gini\", max_depth=3, min_samples_leaf=5, random_state = 100)\n",
    "clf_gini.fit(X_train, y_train)"
   ]
  },
  {
   "cell_type": "markdown",
   "id": "d38b487f",
   "metadata": {
    "id": "d38b487f"
   },
   "source": [
    "#### 4. Prediction - Train-Valid data"
   ]
  },
  {
   "cell_type": "code",
   "execution_count": 237,
   "id": "b2adbd65",
   "metadata": {
    "colab": {
     "base_uri": "https://localhost:8080/"
    },
    "id": "b2adbd65",
    "outputId": "f7721207-78de-4328-ac5c-6d5436838aaf",
    "scrolled": true
   },
   "outputs": [
    {
     "data": {
      "text/plain": [
       "array([0, 0, 0, 0, 0, 0, 1, 0, 0, 0, 0, 0, 0, 0, 0, 0, 0, 0, 0, 0, 0, 0,\n",
       "       0, 0, 0, 0, 0, 0, 0, 0, 0, 0, 0, 0, 1, 0, 0, 0, 0, 0, 0, 0, 0, 0,\n",
       "       0, 0, 0, 0, 0, 0, 0, 1, 0, 0, 0, 0, 0, 0, 0, 0, 0, 0, 0, 0, 0, 0,\n",
       "       0, 0, 0, 1, 0, 0, 0, 1, 0, 0, 0, 0, 0, 0, 0, 0, 0, 0, 0, 0, 0, 0,\n",
       "       0, 0, 0, 0, 0, 0, 0, 0, 0, 0, 0, 0, 0, 0, 0, 0, 0, 0, 0, 0, 0, 0,\n",
       "       0, 0, 0, 1, 0, 0, 0, 0, 0, 0, 0, 0, 0, 1, 0, 1, 1, 0, 0, 0, 0, 0,\n",
       "       0, 0, 0, 0, 0, 0, 0, 0, 0, 0, 0, 0, 0, 0, 0, 0, 1, 0, 0, 0, 0, 0,\n",
       "       0, 1, 0, 0, 0, 0, 0, 0, 0, 0, 0, 0, 0, 0, 0, 0, 0, 0, 0, 0, 0, 0,\n",
       "       0, 0, 0, 0, 0, 0, 0, 0, 0, 0, 0, 0, 0, 0, 0, 0, 0, 0, 0, 0, 0, 0,\n",
       "       0, 0, 0, 0, 0, 0, 0, 0, 0, 0, 0, 0, 0, 0, 0, 0, 0, 1, 0, 0, 0, 0,\n",
       "       0, 0, 0, 0, 0, 0, 0, 0, 0, 0, 0, 0, 0, 0, 0, 0, 0, 0, 0, 0, 0, 0,\n",
       "       0, 0, 0, 0, 0, 0, 0, 0, 0, 0, 0, 0, 0, 0, 0, 0, 0, 0, 0, 0, 1, 0,\n",
       "       0, 0, 0, 0, 0, 0, 0, 0, 0, 0, 0, 1, 0, 0, 0, 0, 0, 0, 0, 0, 0, 0,\n",
       "       0, 0, 0, 1, 0, 0, 0, 0], dtype=int64)"
      ]
     },
     "execution_count": 237,
     "metadata": {},
     "output_type": "execute_result"
    }
   ],
   "source": [
    "#Making Prediction\n",
    "y_pred = clf_gini.predict(X_valid)\n",
    "y_pred"
   ]
  },
  {
   "cell_type": "markdown",
   "id": "c8d5e6ca",
   "metadata": {
    "id": "c8d5e6ca"
   },
   "source": [
    "#### 5. Evaluation of Model Performance - Train data"
   ]
  },
  {
   "cell_type": "code",
   "execution_count": 238,
   "id": "6f212b33",
   "metadata": {
    "id": "6f212b33"
   },
   "outputs": [],
   "source": [
    "from sklearn.metrics import precision_recall_curve\n",
    "from sklearn.metrics import plot_precision_recall_curve\n",
    "from sklearn.metrics import precision_score\n",
    "from sklearn.metrics import recall_score\n",
    "from sklearn.metrics import accuracy_score"
   ]
  },
  {
   "cell_type": "code",
   "execution_count": 239,
   "id": "8adcd81f",
   "metadata": {
    "colab": {
     "base_uri": "https://localhost:8080/"
    },
    "id": "8adcd81f",
    "outputId": "5b3bf596-a41d-4142-d58b-563778cefe51",
    "scrolled": false
   },
   "outputs": [
    {
     "data": {
      "text/plain": [
       "array([[247,   6],\n",
       "       [ 32,   9]], dtype=int64)"
      ]
     },
     "execution_count": 239,
     "metadata": {},
     "output_type": "execute_result"
    }
   ],
   "source": [
    "\n",
    "### Confusion Matrix\n",
    "\n",
    "c = confusion_matrix(y_valid, y_pred)\n",
    "c"
   ]
  },
  {
   "cell_type": "code",
   "execution_count": 240,
   "id": "ba19d106",
   "metadata": {
    "colab": {
     "base_uri": "https://localhost:8080/"
    },
    "id": "ba19d106",
    "outputId": "0440395c-50bb-4fc6-8f3f-4d3b1c5c68fd",
    "scrolled": false
   },
   "outputs": [
    {
     "name": "stdout",
     "output_type": "stream",
     "text": [
      "0.8707482993197279\n"
     ]
    }
   ],
   "source": [
    "print(accuracy_score(y_valid, clf_gini.predict(X_valid)))"
   ]
  },
  {
   "cell_type": "code",
   "execution_count": 241,
   "id": "0fa18057",
   "metadata": {
    "colab": {
     "base_uri": "https://localhost:8080/"
    },
    "id": "0fa18057",
    "outputId": "912d3d25-5e8d-4778-bc9e-043416285a42",
    "scrolled": true
   },
   "outputs": [
    {
     "name": "stdout",
     "output_type": "stream",
     "text": [
      "60.0 21.951219512195124\n"
     ]
    }
   ],
   "source": [
    "## calculating precision and reall\n",
    "precision = precision_score(y_valid, y_pred)*100# (TP/TP+FP)\n",
    "recall = recall_score(y_valid, y_pred)*100 ## True positive rate (TP/TP+FN)\n",
    "\n",
    "print(precision, recall)"
   ]
  },
  {
   "cell_type": "code",
   "execution_count": 242,
   "id": "94fd6fed",
   "metadata": {
    "id": "94fd6fed"
   },
   "outputs": [],
   "source": [
    "# Checking optimal depth"
   ]
  },
  {
   "cell_type": "code",
   "execution_count": 243,
   "id": "mwbeowzhMq9b",
   "metadata": {
    "id": "mwbeowzhMq9b"
   },
   "outputs": [],
   "source": [
    "### With Decision_Tree \n",
    "Depth = np.arange(1,10)\n",
    "Acc_dt =[]\n",
    "Spec_dt = []\n",
    "\n",
    "for d in Depth:\n",
    "    # define parameters\n",
    "    clf_gini = DecisionTreeClassifier(criterion = \"gini\", max_depth=d, min_samples_leaf=5, random_state=100)\n",
    "    # fit model on training data\n",
    "    clf_gini.fit(X_train, y_train)\n",
    "    # prediction of y on validation data\n",
    "    y_pred = clf_gini.predict(X_valid)\n",
    "    #creating confusion matrix\n",
    "    cf_mat = confusion_matrix (y_valid,y_pred) \n",
    "    # calculculating accuracy\n",
    "    Acc_dt.append((cf_mat[0,0]+cf_mat[1,1])/np.sum(cf_mat)*100)\n",
    "    # calculating specificity\n",
    "    num = (cf_mat[0,0]+cf_mat[1,1])   #Total number of correct negative predictions\n",
    "    den = (np.sum(cf_mat[0,:])+np.sum(cf_mat[1,:])) #Total number of negative observations\n",
    "    Spec_dt.append(num/den)"
   ]
  },
  {
   "cell_type": "code",
   "execution_count": 244,
   "id": "53CANLGGMD70",
   "metadata": {
    "colab": {
     "base_uri": "https://localhost:8080/",
     "height": 283
    },
    "id": "53CANLGGMD70",
    "outputId": "0464c4a3-bddb-4867-9aa6-108948b1ff94"
   },
   "outputs": [
    {
     "data": {
      "image/png": "[encoded data removed]",
      "text/plain": [
       "<Figure size 432x288 with 1 Axes>"
      ]
     },
     "metadata": {
      "needs_background": "light"
     },
     "output_type": "display_data"
    }
   ],
   "source": [
    "plt.plot(Depth,np.array(Acc_dt))\n",
    "plt.xlabel(\"Value of D\")\n",
    "plt.ylabel(\"Accuracy\")\n",
    "\n",
    "plt.show()"
   ]
  },
  {
   "cell_type": "markdown",
   "id": "_K2O_xYar28d",
   "metadata": {
    "id": "_K2O_xYar28d"
   },
   "source": []
  },
  {
   "cell_type": "markdown",
   "id": "da1ac971",
   "metadata": {
    "id": "da1ac971"
   },
   "source": [
    "#### 6. Fitting Regressor tree - Test data"
   ]
  },
  {
   "cell_type": "code",
   "execution_count": 245,
   "id": "832fc07d",
   "metadata": {
    "colab": {
     "base_uri": "https://localhost:8080/"
    },
    "id": "832fc07d",
    "outputId": "f60cafa8-a843-4f0c-e0d8-049fe87f83ef"
   },
   "outputs": [
    {
     "data": {
      "text/plain": [
       "DecisionTreeClassifier(max_depth=3, min_samples_leaf=5, random_state=100)"
      ]
     },
     "execution_count": 245,
     "metadata": {},
     "output_type": "execute_result"
    }
   ],
   "source": [
    "clf_gini = DecisionTreeClassifier(criterion = \"gini\", max_depth=3, min_samples_leaf=5, random_state = 100)\n",
    "clf_gini.fit(X_test, y_test)"
   ]
  },
  {
   "cell_type": "markdown",
   "id": "b99cb91b",
   "metadata": {
    "id": "b99cb91b"
   },
   "source": [
    "#### 7. Prediction - Test data"
   ]
  },
  {
   "cell_type": "code",
   "execution_count": 246,
   "id": "b4763a17",
   "metadata": {
    "id": "b4763a17"
   },
   "outputs": [],
   "source": [
    "y_predt=clf_gini.predict(X_test)"
   ]
  },
  {
   "cell_type": "markdown",
   "id": "ff1e44ad",
   "metadata": {
    "id": "ff1e44ad"
   },
   "source": [
    "#### 8. Evaluation of model performance"
   ]
  },
  {
   "cell_type": "code",
   "execution_count": 247,
   "id": "5e4868b5",
   "metadata": {
    "colab": {
     "base_uri": "https://localhost:8080/"
    },
    "id": "5e4868b5",
    "outputId": "0d9abe1d-e433-4318-8524-6b458d12e2e5"
   },
   "outputs": [
    {
     "data": {
      "text/plain": [
       "array([[241,   2],\n",
       "       [ 44,   7]], dtype=int64)"
      ]
     },
     "execution_count": 247,
     "metadata": {},
     "output_type": "execute_result"
    }
   ],
   "source": [
    "### Confusion Matrix\n",
    "\n",
    "c = confusion_matrix(y_test, y_predt)\n",
    "c"
   ]
  },
  {
   "cell_type": "code",
   "execution_count": 248,
   "id": "HuAX10aIqJQa",
   "metadata": {
    "colab": {
     "base_uri": "https://localhost:8080/"
    },
    "id": "HuAX10aIqJQa",
    "outputId": "e36fafca-fe8a-486b-9976-addd7bc3b581"
   },
   "outputs": [
    {
     "name": "stdout",
     "output_type": "stream",
     "text": [
      "0.8435374149659864\n"
     ]
    }
   ],
   "source": [
    "print(accuracy_score(y_test, clf_gini.predict(X_test)))"
   ]
  },
  {
   "cell_type": "code",
   "execution_count": 249,
   "id": "c_ViPAWDqJQc",
   "metadata": {
    "colab": {
     "base_uri": "https://localhost:8080/"
    },
    "id": "c_ViPAWDqJQc",
    "outputId": "e720eba4-8ca7-4488-dfed-dfde6793b6e9"
   },
   "outputs": [
    {
     "name": "stdout",
     "output_type": "stream",
     "text": [
      "77.77777777777779 13.725490196078432\n"
     ]
    }
   ],
   "source": [
    "## calculating precision and reall\n",
    "precision = precision_score(y_test, y_predt)*100# (TP/TP+FP)\n",
    "recall = recall_score(y_test, y_predt)*100 ## True positive rate (TP/TP+FN)\n",
    "\n",
    "print(precision, recall)"
   ]
  },
  {
   "cell_type": "markdown",
   "id": "46ad3f3b",
   "metadata": {
    "id": "GTsei2aun7eI"
   },
   "source": [
    "### DT Model 3"
   ]
  },
  {
   "cell_type": "code",
   "execution_count": 202,
   "id": "31f530d0",
   "metadata": {},
   "outputs": [
    {
     "data": {
      "text/html": [
       "<div>\n",
       "<style scoped>\n",
       "    .dataframe tbody tr th:only-of-type {\n",
       "        vertical-align: middle;\n",
       "    }\n",
       "\n",
       "    .dataframe tbody tr th {\n",
       "        vertical-align: top;\n",
       "    }\n",
       "\n",
       "    .dataframe thead th {\n",
       "        text-align: right;\n",
       "    }\n",
       "</style>\n",
       "<table border=\"1\" class=\"dataframe\">\n",
       "  <thead>\n",
       "    <tr style=\"text-align: right;\">\n",
       "      <th></th>\n",
       "      <th>Age</th>\n",
       "      <th>Attrition</th>\n",
       "      <th>BusinessTravel</th>\n",
       "      <th>Department</th>\n",
       "      <th>EducationField</th>\n",
       "      <th>EnvironmentSatisfaction</th>\n",
       "      <th>Gender</th>\n",
       "      <th>JobInvolvement</th>\n",
       "      <th>JobLevel</th>\n",
       "      <th>JobSatisfaction</th>\n",
       "      <th>...</th>\n",
       "      <th>Single</th>\n",
       "      <th>Non-Travel</th>\n",
       "      <th>Travel_Frequently</th>\n",
       "      <th>Travel_Rarely</th>\n",
       "      <th>Low</th>\n",
       "      <th>Medium</th>\n",
       "      <th>High</th>\n",
       "      <th>Young</th>\n",
       "      <th>Middle-Aged</th>\n",
       "      <th>High-aged</th>\n",
       "    </tr>\n",
       "  </thead>\n",
       "  <tbody>\n",
       "    <tr>\n",
       "      <th>0</th>\n",
       "      <td>41</td>\n",
       "      <td>1</td>\n",
       "      <td>Travel_Rarely</td>\n",
       "      <td>Sales</td>\n",
       "      <td>Life Sciences</td>\n",
       "      <td>2</td>\n",
       "      <td>0</td>\n",
       "      <td>3</td>\n",
       "      <td>2</td>\n",
       "      <td>4</td>\n",
       "      <td>...</td>\n",
       "      <td>1</td>\n",
       "      <td>0</td>\n",
       "      <td>0</td>\n",
       "      <td>1</td>\n",
       "      <td>1</td>\n",
       "      <td>0</td>\n",
       "      <td>0</td>\n",
       "      <td>0</td>\n",
       "      <td>1</td>\n",
       "      <td>0</td>\n",
       "    </tr>\n",
       "    <tr>\n",
       "      <th>1</th>\n",
       "      <td>49</td>\n",
       "      <td>0</td>\n",
       "      <td>Travel_Frequently</td>\n",
       "      <td>Research &amp; Development</td>\n",
       "      <td>Life Sciences</td>\n",
       "      <td>3</td>\n",
       "      <td>1</td>\n",
       "      <td>2</td>\n",
       "      <td>2</td>\n",
       "      <td>2</td>\n",
       "      <td>...</td>\n",
       "      <td>0</td>\n",
       "      <td>0</td>\n",
       "      <td>1</td>\n",
       "      <td>0</td>\n",
       "      <td>1</td>\n",
       "      <td>0</td>\n",
       "      <td>0</td>\n",
       "      <td>0</td>\n",
       "      <td>0</td>\n",
       "      <td>1</td>\n",
       "    </tr>\n",
       "    <tr>\n",
       "      <th>2</th>\n",
       "      <td>37</td>\n",
       "      <td>1</td>\n",
       "      <td>Travel_Rarely</td>\n",
       "      <td>Research &amp; Development</td>\n",
       "      <td>Other</td>\n",
       "      <td>4</td>\n",
       "      <td>1</td>\n",
       "      <td>2</td>\n",
       "      <td>1</td>\n",
       "      <td>3</td>\n",
       "      <td>...</td>\n",
       "      <td>1</td>\n",
       "      <td>0</td>\n",
       "      <td>0</td>\n",
       "      <td>1</td>\n",
       "      <td>1</td>\n",
       "      <td>0</td>\n",
       "      <td>0</td>\n",
       "      <td>0</td>\n",
       "      <td>1</td>\n",
       "      <td>0</td>\n",
       "    </tr>\n",
       "    <tr>\n",
       "      <th>3</th>\n",
       "      <td>33</td>\n",
       "      <td>0</td>\n",
       "      <td>Travel_Frequently</td>\n",
       "      <td>Research &amp; Development</td>\n",
       "      <td>Life Sciences</td>\n",
       "      <td>4</td>\n",
       "      <td>0</td>\n",
       "      <td>3</td>\n",
       "      <td>1</td>\n",
       "      <td>3</td>\n",
       "      <td>...</td>\n",
       "      <td>0</td>\n",
       "      <td>0</td>\n",
       "      <td>1</td>\n",
       "      <td>0</td>\n",
       "      <td>1</td>\n",
       "      <td>0</td>\n",
       "      <td>0</td>\n",
       "      <td>0</td>\n",
       "      <td>1</td>\n",
       "      <td>0</td>\n",
       "    </tr>\n",
       "    <tr>\n",
       "      <th>4</th>\n",
       "      <td>27</td>\n",
       "      <td>0</td>\n",
       "      <td>Travel_Rarely</td>\n",
       "      <td>Research &amp; Development</td>\n",
       "      <td>Medical</td>\n",
       "      <td>1</td>\n",
       "      <td>1</td>\n",
       "      <td>3</td>\n",
       "      <td>1</td>\n",
       "      <td>2</td>\n",
       "      <td>...</td>\n",
       "      <td>0</td>\n",
       "      <td>0</td>\n",
       "      <td>0</td>\n",
       "      <td>1</td>\n",
       "      <td>1</td>\n",
       "      <td>0</td>\n",
       "      <td>0</td>\n",
       "      <td>1</td>\n",
       "      <td>0</td>\n",
       "      <td>0</td>\n",
       "    </tr>\n",
       "  </tbody>\n",
       "</table>\n",
       "<p>5 rows × 52 columns</p>\n",
       "</div>"
      ],
      "text/plain": [
       "   Age  Attrition     BusinessTravel              Department EducationField  \\\n",
       "0   41          1      Travel_Rarely                   Sales  Life Sciences   \n",
       "1   49          0  Travel_Frequently  Research & Development  Life Sciences   \n",
       "2   37          1      Travel_Rarely  Research & Development          Other   \n",
       "3   33          0  Travel_Frequently  Research & Development  Life Sciences   \n",
       "4   27          0      Travel_Rarely  Research & Development        Medical   \n",
       "\n",
       "   EnvironmentSatisfaction  Gender  JobInvolvement  JobLevel  JobSatisfaction  \\\n",
       "0                        2       0               3         2                4   \n",
       "1                        3       1               2         2                2   \n",
       "2                        4       1               2         1                3   \n",
       "3                        4       0               3         1                3   \n",
       "4                        1       1               3         1                2   \n",
       "\n",
       "   ... Single  Non-Travel  Travel_Frequently  Travel_Rarely  Low  Medium  \\\n",
       "0  ...      1           0                  0              1    1       0   \n",
       "1  ...      0           0                  1              0    1       0   \n",
       "2  ...      1           0                  0              1    1       0   \n",
       "3  ...      0           0                  1              0    1       0   \n",
       "4  ...      0           0                  0              1    1       0   \n",
       "\n",
       "   High  Young  Middle-Aged  High-aged  \n",
       "0     0      0            1          0  \n",
       "1     0      0            0          1  \n",
       "2     0      0            1          0  \n",
       "3     0      0            1          0  \n",
       "4     0      1            0          0  \n",
       "\n",
       "[5 rows x 52 columns]"
      ]
     },
     "execution_count": 202,
     "metadata": {},
     "output_type": "execute_result"
    }
   ],
   "source": [
    "att1.head()"
   ]
  },
  {
   "cell_type": "code",
   "execution_count": null,
   "id": "79bf9793",
   "metadata": {},
   "outputs": [],
   "source": [
    "X= att1 [[\"Junior\",\"MonthlyIncome\",\"CompanyCulture\",\"Single\", \"Sales\",\"Human Resources\",\"Travel_Frequently\",\"OverTime\",\"DistanceFromHome\"]]\n",
    "y= att1.Attrition\n",
    "\n",
    "#87;50;26"
   ]
  },
  {
   "cell_type": "code",
   "execution_count": null,
   "id": "e3df1dd0",
   "metadata": {},
   "outputs": [],
   "source": []
  },
  {
   "cell_type": "code",
   "execution_count": 250,
   "id": "102a8415",
   "metadata": {},
   "outputs": [],
   "source": [
    "X= att1 [[\"JobInvolvement\",\"Junior\",\"Low\",\"Medium\",\"CompanyCulture\",\"Single\", \"Sales\",\"Human Resources\",\"Travel_Frequently\",\"Travel_Rarely\",\"OverTime\",\"DistanceFromHome\",\"Young\",\"TotalWorkingYears\"]]\n",
    "y= att1.Attrition\n",
    "\n",
    "#87;50;26"
   ]
  },
  {
   "cell_type": "markdown",
   "id": "7dd4c683",
   "metadata": {
    "id": "7dd4c683"
   },
   "source": [
    "#### 2. Splitting dataset into train - valid - test"
   ]
  },
  {
   "cell_type": "code",
   "execution_count": 251,
   "id": "9f32b77b",
   "metadata": {
    "id": "9f32b77b"
   },
   "outputs": [],
   "source": [
    "# Train-test split\n",
    "X_train, X_test, y_train, y_test = train_test_split(X, y, test_size = 0.2)"
   ]
  },
  {
   "cell_type": "code",
   "execution_count": 252,
   "id": "ba739b20",
   "metadata": {
    "id": "ba739b20"
   },
   "outputs": [],
   "source": [
    "#Train-Validation Split\n",
    "X_train, X_valid, y_train, y_valid = train_test_split(X_train, y_train, test_size = 0.25)"
   ]
  },
  {
   "cell_type": "markdown",
   "id": "345fe49e",
   "metadata": {
    "id": "345fe49e"
   },
   "source": [
    "#### 3. Fitting a Decision Tree Classifier - Train data"
   ]
  },
  {
   "cell_type": "code",
   "execution_count": 253,
   "id": "eebefa89",
   "metadata": {
    "colab": {
     "base_uri": "https://localhost:8080/"
    },
    "id": "eebefa89",
    "outputId": "641089b8-757a-42a0-d2f8-fbd5f8a390fb",
    "scrolled": true
   },
   "outputs": [
    {
     "data": {
      "text/plain": [
       "DecisionTreeClassifier(max_depth=5, min_samples_leaf=5, random_state=100)"
      ]
     },
     "execution_count": 253,
     "metadata": {},
     "output_type": "execute_result"
    }
   ],
   "source": [
    "clf_gini = DecisionTreeClassifier(criterion = \"gini\", max_depth=5, min_samples_leaf=5, random_state = 100)\n",
    "clf_gini.fit(X_train, y_train)"
   ]
  },
  {
   "cell_type": "markdown",
   "id": "d38b487f",
   "metadata": {
    "id": "d38b487f"
   },
   "source": [
    "#### 4. Prediction - Train-Valid data"
   ]
  },
  {
   "cell_type": "code",
   "execution_count": 254,
   "id": "b2adbd65",
   "metadata": {
    "colab": {
     "base_uri": "https://localhost:8080/"
    },
    "id": "b2adbd65",
    "outputId": "f7721207-78de-4328-ac5c-6d5436838aaf",
    "scrolled": true
   },
   "outputs": [
    {
     "data": {
      "text/plain": [
       "array([0, 0, 0, 1, 0, 0, 0, 0, 0, 0, 0, 1, 0, 0, 1, 0, 0, 1, 0, 0, 0, 0,\n",
       "       0, 0, 0, 1, 0, 0, 0, 0, 0, 0, 0, 0, 0, 0, 0, 1, 0, 0, 0, 0, 0, 0,\n",
       "       0, 0, 0, 0, 0, 0, 0, 0, 1, 0, 1, 0, 0, 0, 0, 0, 0, 1, 0, 0, 0, 0,\n",
       "       0, 0, 0, 0, 0, 0, 0, 0, 0, 0, 1, 0, 0, 0, 0, 0, 0, 0, 0, 0, 0, 0,\n",
       "       0, 0, 0, 0, 0, 0, 0, 1, 0, 0, 0, 0, 0, 0, 0, 0, 0, 0, 0, 0, 0, 0,\n",
       "       0, 0, 0, 0, 0, 0, 0, 0, 0, 0, 0, 0, 0, 0, 0, 0, 0, 0, 0, 0, 0, 0,\n",
       "       0, 0, 0, 0, 0, 0, 0, 0, 0, 0, 0, 0, 0, 0, 0, 0, 0, 0, 0, 0, 0, 0,\n",
       "       0, 0, 0, 1, 0, 0, 0, 0, 0, 0, 0, 0, 0, 0, 0, 0, 1, 0, 0, 0, 1, 0,\n",
       "       0, 0, 0, 0, 0, 0, 0, 0, 0, 1, 0, 0, 0, 0, 0, 0, 0, 0, 0, 0, 1, 0,\n",
       "       0, 0, 0, 0, 1, 0, 0, 0, 0, 0, 0, 0, 0, 0, 0, 0, 0, 0, 0, 0, 0, 0,\n",
       "       0, 0, 0, 0, 0, 0, 0, 0, 0, 0, 0, 0, 0, 0, 0, 0, 0, 0, 0, 0, 0, 0,\n",
       "       0, 1, 1, 0, 0, 0, 0, 0, 0, 0, 0, 0, 0, 0, 0, 0, 0, 0, 0, 0, 0, 0,\n",
       "       0, 0, 0, 0, 0, 0, 0, 0, 0, 0, 0, 0, 1, 0, 0, 1, 1, 0, 0, 0, 0, 0,\n",
       "       0, 0, 0, 0, 0, 0, 0, 0], dtype=int64)"
      ]
     },
     "execution_count": 254,
     "metadata": {},
     "output_type": "execute_result"
    }
   ],
   "source": [
    "#Making Prediction\n",
    "y_pred = clf_gini.predict(X_valid)\n",
    "y_pred"
   ]
  },
  {
   "cell_type": "markdown",
   "id": "c8d5e6ca",
   "metadata": {
    "id": "c8d5e6ca"
   },
   "source": [
    "#### 5. Evaluation of Model Performance - Train data"
   ]
  },
  {
   "cell_type": "code",
   "execution_count": 255,
   "id": "6f212b33",
   "metadata": {
    "id": "6f212b33"
   },
   "outputs": [],
   "source": [
    "from sklearn.metrics import precision_recall_curve\n",
    "from sklearn.metrics import plot_precision_recall_curve\n",
    "from sklearn.metrics import precision_score\n",
    "from sklearn.metrics import recall_score\n",
    "from sklearn.metrics import accuracy_score"
   ]
  },
  {
   "cell_type": "code",
   "execution_count": 256,
   "id": "8adcd81f",
   "metadata": {
    "colab": {
     "base_uri": "https://localhost:8080/"
    },
    "id": "8adcd81f",
    "outputId": "5b3bf596-a41d-4142-d58b-563778cefe51",
    "scrolled": false
   },
   "outputs": [
    {
     "data": {
      "text/plain": [
       "array([[227,  13],\n",
       "       [ 45,   9]], dtype=int64)"
      ]
     },
     "execution_count": 256,
     "metadata": {},
     "output_type": "execute_result"
    }
   ],
   "source": [
    "\n",
    "### Confusion Matrix\n",
    "\n",
    "c = confusion_matrix(y_valid, y_pred)\n",
    "c"
   ]
  },
  {
   "cell_type": "code",
   "execution_count": 257,
   "id": "ba19d106",
   "metadata": {
    "colab": {
     "base_uri": "https://localhost:8080/"
    },
    "id": "ba19d106",
    "outputId": "0440395c-50bb-4fc6-8f3f-4d3b1c5c68fd",
    "scrolled": false
   },
   "outputs": [
    {
     "name": "stdout",
     "output_type": "stream",
     "text": [
      "0.8027210884353742\n"
     ]
    }
   ],
   "source": [
    "print(accuracy_score(y_valid, clf_gini.predict(X_valid)))"
   ]
  },
  {
   "cell_type": "code",
   "execution_count": 258,
   "id": "0fa18057",
   "metadata": {
    "colab": {
     "base_uri": "https://localhost:8080/"
    },
    "id": "0fa18057",
    "outputId": "912d3d25-5e8d-4778-bc9e-043416285a42",
    "scrolled": true
   },
   "outputs": [
    {
     "name": "stdout",
     "output_type": "stream",
     "text": [
      "40.909090909090914 16.666666666666664\n"
     ]
    }
   ],
   "source": [
    "## calculating precision and reall\n",
    "precision = precision_score(y_valid, y_pred)*100# (TP/TP+FP)\n",
    "recall = recall_score(y_valid, y_pred)*100 ## True positive rate (TP/TP+FN)\n",
    "\n",
    "print(precision, recall)"
   ]
  },
  {
   "cell_type": "code",
   "execution_count": 259,
   "id": "94fd6fed",
   "metadata": {
    "id": "94fd6fed"
   },
   "outputs": [],
   "source": [
    "# Checking optimal depth"
   ]
  },
  {
   "cell_type": "code",
   "execution_count": 260,
   "id": "mwbeowzhMq9b",
   "metadata": {
    "id": "mwbeowzhMq9b"
   },
   "outputs": [],
   "source": [
    "### With Decision_Tree \n",
    "Depth = np.arange(1,10)\n",
    "Acc_dt =[]\n",
    "Spec_dt = []\n",
    "\n",
    "for d in Depth:\n",
    "    # define parameters\n",
    "    clf_gini = DecisionTreeClassifier(criterion = \"gini\", max_depth=d, min_samples_leaf=5, random_state=100)\n",
    "    # fit model on training data\n",
    "    clf_gini.fit(X_train, y_train)\n",
    "    # prediction of y on validation data\n",
    "    y_pred = clf_gini.predict(X_valid)\n",
    "    #creating confusion matrix\n",
    "    cf_mat = confusion_matrix (y_valid,y_pred) \n",
    "    # calculculating accuracy\n",
    "    Acc_dt.append((cf_mat[0,0]+cf_mat[1,1])/np.sum(cf_mat)*100)\n",
    "    # calculating specificity\n",
    "    num = (cf_mat[0,0]+cf_mat[1,1])   #Total number of correct negative predictions\n",
    "    den = (np.sum(cf_mat[0,:])+np.sum(cf_mat[1,:])) #Total number of negative observations\n",
    "    Spec_dt.append(num/den)"
   ]
  },
  {
   "cell_type": "code",
   "execution_count": 261,
   "id": "53CANLGGMD70",
   "metadata": {
    "colab": {
     "base_uri": "https://localhost:8080/",
     "height": 283
    },
    "id": "53CANLGGMD70",
    "outputId": "0464c4a3-bddb-4867-9aa6-108948b1ff94"
   },
   "outputs": [
    {
     "data": {
      "image/png": "[encoded data removed]",
      "text/plain": [
       "<Figure size 432x288 with 1 Axes>"
      ]
     },
     "metadata": {
      "needs_background": "light"
     },
     "output_type": "display_data"
    }
   ],
   "source": [
    "plt.plot(Depth,np.array(Acc_dt))\n",
    "plt.xlabel(\"Value of D\")\n",
    "plt.ylabel(\"Accuracy\")\n",
    "\n",
    "plt.show()"
   ]
  },
  {
   "cell_type": "markdown",
   "id": "_K2O_xYar28d",
   "metadata": {
    "id": "_K2O_xYar28d"
   },
   "source": []
  },
  {
   "cell_type": "markdown",
   "id": "da1ac971",
   "metadata": {
    "id": "da1ac971"
   },
   "source": [
    "#### 6. Fitting Regressor tree - Test data"
   ]
  },
  {
   "cell_type": "code",
   "execution_count": 262,
   "id": "832fc07d",
   "metadata": {
    "colab": {
     "base_uri": "https://localhost:8080/"
    },
    "id": "832fc07d",
    "outputId": "f60cafa8-a843-4f0c-e0d8-049fe87f83ef"
   },
   "outputs": [
    {
     "data": {
      "text/plain": [
       "DecisionTreeClassifier(max_depth=5, min_samples_leaf=5, random_state=100)"
      ]
     },
     "execution_count": 262,
     "metadata": {},
     "output_type": "execute_result"
    }
   ],
   "source": [
    "clf_gini = DecisionTreeClassifier(criterion = \"gini\", max_depth=5, min_samples_leaf=5, random_state = 100)\n",
    "clf_gini.fit(X_test, y_test)"
   ]
  },
  {
   "cell_type": "markdown",
   "id": "b99cb91b",
   "metadata": {
    "id": "b99cb91b"
   },
   "source": [
    "#### 7. Prediction - Test data"
   ]
  },
  {
   "cell_type": "code",
   "execution_count": 263,
   "id": "b4763a17",
   "metadata": {
    "id": "b4763a17"
   },
   "outputs": [],
   "source": [
    "y_predt=clf_gini.predict(X_test)"
   ]
  },
  {
   "cell_type": "markdown",
   "id": "ff1e44ad",
   "metadata": {
    "id": "ff1e44ad"
   },
   "source": [
    "#### 8. Evaluation of model performance"
   ]
  },
  {
   "cell_type": "code",
   "execution_count": 267,
   "id": "5e4868b5",
   "metadata": {
    "colab": {
     "base_uri": "https://localhost:8080/"
    },
    "id": "5e4868b5",
    "outputId": "0d9abe1d-e433-4318-8524-6b458d12e2e5"
   },
   "outputs": [
    {
     "data": {
      "text/plain": [
       "array([[234,  10],\n",
       "       [ 21,  29]], dtype=int64)"
      ]
     },
     "execution_count": 267,
     "metadata": {},
     "output_type": "execute_result"
    }
   ],
   "source": [
    "### Confusion Matrix\n",
    "\n",
    "c = confusion_matrix(y_test, y_predt)\n",
    "c"
   ]
  },
  {
   "cell_type": "code",
   "execution_count": 268,
   "id": "HuAX10aIqJQa",
   "metadata": {
    "colab": {
     "base_uri": "https://localhost:8080/"
    },
    "id": "HuAX10aIqJQa",
    "outputId": "e36fafca-fe8a-486b-9976-addd7bc3b581"
   },
   "outputs": [
    {
     "name": "stdout",
     "output_type": "stream",
     "text": [
      "0.8945578231292517\n"
     ]
    }
   ],
   "source": [
    "print(accuracy_score(y_test, clf_gini.predict(X_test)))"
   ]
  },
  {
   "cell_type": "code",
   "execution_count": 269,
   "id": "c_ViPAWDqJQc",
   "metadata": {
    "colab": {
     "base_uri": "https://localhost:8080/"
    },
    "id": "c_ViPAWDqJQc",
    "outputId": "e720eba4-8ca7-4488-dfed-dfde6793b6e9"
   },
   "outputs": [
    {
     "name": "stdout",
     "output_type": "stream",
     "text": [
      "74.35897435897436 57.99999999999999\n"
     ]
    }
   ],
   "source": [
    "## calculating precision and reall\n",
    "precision = precision_score(y_test, y_predt)*100# (TP/TP+FP)\n",
    "recall = recall_score(y_test, y_predt)*100 ## True positive rate (TP/TP+FN)\n",
    "\n",
    "print(precision, recall)"
   ]
  },
  {
   "cell_type": "code",
   "execution_count": null,
   "id": "51068dd4",
   "metadata": {},
   "outputs": [],
   "source": []
  },
  {
   "cell_type": "code",
   "execution_count": null,
   "id": "590c8351",
   "metadata": {},
   "outputs": [],
   "source": []
  },
  {
   "cell_type": "code",
   "execution_count": null,
   "id": "acabae9e",
   "metadata": {},
   "outputs": [],
   "source": []
  },
  {
   "cell_type": "code",
   "execution_count": null,
   "id": "d00ac9d3",
   "metadata": {},
   "outputs": [],
   "source": []
  },
  {
   "cell_type": "code",
   "execution_count": null,
   "id": "1c60bf40",
   "metadata": {},
   "outputs": [],
   "source": []
  },
  {
   "cell_type": "code",
   "execution_count": null,
   "id": "7eae99d0",
   "metadata": {},
   "outputs": [],
   "source": []
  },
  {
   "cell_type": "code",
   "execution_count": null,
   "id": "a6c7e25d",
   "metadata": {},
   "outputs": [],
   "source": []
  },
  {
   "cell_type": "code",
   "execution_count": null,
   "id": "26532cff",
   "metadata": {},
   "outputs": [],
   "source": []
  },
  {
   "cell_type": "code",
   "execution_count": null,
   "id": "651769ac",
   "metadata": {},
   "outputs": [],
   "source": []
  },
  {
   "cell_type": "code",
   "execution_count": null,
   "id": "6936846a",
   "metadata": {},
   "outputs": [],
   "source": []
  },
  {
   "cell_type": "code",
   "execution_count": null,
   "id": "0a3a3951",
   "metadata": {},
   "outputs": [],
   "source": []
  },
  {
   "cell_type": "code",
   "execution_count": null,
   "id": "3f799d53",
   "metadata": {},
   "outputs": [],
   "source": []
  },
  {
   "cell_type": "code",
   "execution_count": null,
   "id": "20e16146",
   "metadata": {},
   "outputs": [],
   "source": []
  },
  {
   "cell_type": "code",
   "execution_count": null,
   "id": "f8d0d17a",
   "metadata": {},
   "outputs": [],
   "source": []
  },
  {
   "cell_type": "code",
   "execution_count": null,
   "id": "fa6282c2",
   "metadata": {},
   "outputs": [],
   "source": []
  },
  {
   "cell_type": "code",
   "execution_count": null,
   "id": "198c7685",
   "metadata": {},
   "outputs": [],
   "source": []
  },
  {
   "cell_type": "code",
   "execution_count": null,
   "id": "7db19bc6",
   "metadata": {},
   "outputs": [],
   "source": []
  },
  {
   "cell_type": "code",
   "execution_count": null,
   "id": "14c6532e",
   "metadata": {},
   "outputs": [],
   "source": []
  },
  {
   "cell_type": "code",
   "execution_count": null,
   "id": "819f18e7",
   "metadata": {},
   "outputs": [],
   "source": []
  },
  {
   "cell_type": "code",
   "execution_count": null,
   "id": "03c5115a",
   "metadata": {},
   "outputs": [],
   "source": []
  },
  {
   "cell_type": "code",
   "execution_count": null,
   "id": "d51aa00d",
   "metadata": {},
   "outputs": [],
   "source": []
  },
  {
   "cell_type": "code",
   "execution_count": null,
   "id": "4d62bda5",
   "metadata": {},
   "outputs": [],
   "source": []
  },
  {
   "cell_type": "code",
   "execution_count": null,
   "id": "89f2884d",
   "metadata": {},
   "outputs": [],
   "source": []
  },
  {
   "cell_type": "code",
   "execution_count": null,
   "id": "d85feaf0",
   "metadata": {},
   "outputs": [],
   "source": []
  },
  {
   "cell_type": "markdown",
   "id": "c237a3eb",
   "metadata": {},
   "source": [
    "### DT Model 3"
   ]
  },
  {
   "cell_type": "code",
   "execution_count": null,
   "id": "b3cf58cf",
   "metadata": {
    "id": "TzJ1efk6dhir"
   },
   "outputs": [],
   "source": [
    "X= att1 [[\"Junior\",\"MonthlyIncome\",\"CompanyCulture\",\"Single\", \"Sales\",\"Human Resources\",\"Travel_Frequently\",\"OverTime\",\"DistanceFromHome\"]]\n",
    "y= att1.Attrition\n",
    "\n",
    "#87;50;26"
   ]
  },
  {
   "cell_type": "code",
   "execution_count": null,
   "id": "cc2bf83e",
   "metadata": {},
   "outputs": [],
   "source": []
  },
  {
   "cell_type": "code",
   "execution_count": null,
   "id": "404cc78f",
   "metadata": {},
   "outputs": [],
   "source": []
  },
  {
   "cell_type": "code",
   "execution_count": null,
   "id": "c94db1f0",
   "metadata": {},
   "outputs": [],
   "source": []
  },
  {
   "cell_type": "code",
   "execution_count": null,
   "id": "22c5ecbc",
   "metadata": {},
   "outputs": [],
   "source": []
  },
  {
   "cell_type": "code",
   "execution_count": null,
   "id": "b1398177",
   "metadata": {},
   "outputs": [],
   "source": []
  },
  {
   "cell_type": "code",
   "execution_count": null,
   "id": "21b7a9aa",
   "metadata": {},
   "outputs": [],
   "source": []
  },
  {
   "cell_type": "code",
   "execution_count": null,
   "id": "bb00e51c",
   "metadata": {},
   "outputs": [],
   "source": []
  },
  {
   "cell_type": "code",
   "execution_count": null,
   "id": "dbb83417",
   "metadata": {},
   "outputs": [],
   "source": []
  },
  {
   "cell_type": "code",
   "execution_count": null,
   "id": "1383a0dd",
   "metadata": {},
   "outputs": [],
   "source": []
  },
  {
   "cell_type": "code",
   "execution_count": null,
   "id": "a75f6bc2",
   "metadata": {},
   "outputs": [],
   "source": []
  },
  {
   "cell_type": "code",
   "execution_count": null,
   "id": "84e962c2",
   "metadata": {},
   "outputs": [],
   "source": []
  },
  {
   "cell_type": "code",
   "execution_count": null,
   "id": "8d41320a",
   "metadata": {},
   "outputs": [],
   "source": []
  },
  {
   "cell_type": "code",
   "execution_count": null,
   "id": "4e3d836a",
   "metadata": {},
   "outputs": [],
   "source": []
  },
  {
   "cell_type": "code",
   "execution_count": null,
   "id": "82c3a5a6",
   "metadata": {},
   "outputs": [],
   "source": []
  },
  {
   "cell_type": "code",
   "execution_count": null,
   "id": "55e138c8",
   "metadata": {},
   "outputs": [],
   "source": []
  },
  {
   "cell_type": "code",
   "execution_count": null,
   "id": "b4aed292",
   "metadata": {},
   "outputs": [],
   "source": []
  },
  {
   "cell_type": "code",
   "execution_count": null,
   "id": "c43d5620",
   "metadata": {},
   "outputs": [],
   "source": []
  },
  {
   "cell_type": "code",
   "execution_count": null,
   "id": "bfd5c406",
   "metadata": {},
   "outputs": [],
   "source": []
  },
  {
   "cell_type": "code",
   "execution_count": null,
   "id": "6100d27e",
   "metadata": {},
   "outputs": [],
   "source": []
  },
  {
   "cell_type": "code",
   "execution_count": null,
   "id": "1d527f0f",
   "metadata": {},
   "outputs": [],
   "source": []
  },
  {
   "cell_type": "code",
   "execution_count": null,
   "id": "96bc54d4",
   "metadata": {},
   "outputs": [],
   "source": []
  },
  {
   "cell_type": "code",
   "execution_count": null,
   "id": "f9559f6f",
   "metadata": {},
   "outputs": [],
   "source": []
  },
  {
   "cell_type": "code",
   "execution_count": null,
   "id": "a107d169",
   "metadata": {},
   "outputs": [],
   "source": []
  },
  {
   "cell_type": "code",
   "execution_count": null,
   "id": "7d3a04d8",
   "metadata": {},
   "outputs": [],
   "source": []
  },
  {
   "cell_type": "code",
   "execution_count": null,
   "id": "9c262f70",
   "metadata": {},
   "outputs": [],
   "source": []
  },
  {
   "cell_type": "code",
   "execution_count": null,
   "id": "4387dbe7",
   "metadata": {},
   "outputs": [],
   "source": []
  },
  {
   "cell_type": "code",
   "execution_count": null,
   "id": "b5841cd9",
   "metadata": {},
   "outputs": [],
   "source": []
  },
  {
   "cell_type": "code",
   "execution_count": null,
   "id": "13065a65",
   "metadata": {},
   "outputs": [],
   "source": []
  },
  {
   "cell_type": "code",
   "execution_count": null,
   "id": "942b621c",
   "metadata": {},
   "outputs": [],
   "source": []
  },
  {
   "cell_type": "markdown",
   "id": "396b1365",
   "metadata": {
    "id": "396b1365"
   },
   "source": [
    "## Model fitting through K- Nearest Neighbor (KNN)"
   ]
  },
  {
   "cell_type": "markdown",
   "id": "5e51e445",
   "metadata": {
    "id": "5e51e445"
   },
   "source": [
    "#### 1. Setting Predictors and Target variable"
   ]
  },
  {
   "cell_type": "code",
   "execution_count": null,
   "id": "ce8bd861",
   "metadata": {
    "id": "ce8bd861"
   },
   "outputs": [],
   "source": [
    "from sklearn.neighbors import KNeighborsClassifier\n",
    "#Function test-train split\n",
    "from sklearn.model_selection import train_test_split\n"
   ]
  },
  {
   "cell_type": "code",
   "execution_count": null,
   "id": "sg0K9z7p45ai",
   "metadata": {
    "id": "sg0K9z7p45ai"
   },
   "outputs": [],
   "source": [
    "X1= att1.drop(\"Attrition\", axis =1)\n",
    "y1= att1.Attrition"
   ]
  },
  {
   "cell_type": "code",
   "execution_count": null,
   "id": "QT1C9sYayNjx",
   "metadata": {
    "id": "QT1C9sYayNjx"
   },
   "outputs": [],
   "source": [
    "(X1_train, X1_test, y1_train, y1_test) = train_test_split(X1, y1, test_size = 0.3)"
   ]
  },
  {
   "cell_type": "code",
   "execution_count": null,
   "id": "yhITkN6IECT0",
   "metadata": {
    "id": "yhITkN6IECT0"
   },
   "outputs": [],
   "source": [
    "X1_train, X1_valid, y1_train, y1_valid = train_test_split(X1_train, y1_train, test_size = 0.25)"
   ]
  },
  {
   "cell_type": "code",
   "execution_count": null,
   "id": "fkg9d354ERqJ",
   "metadata": {
    "colab": {
     "base_uri": "https://localhost:8080/"
    },
    "id": "fkg9d354ERqJ",
    "outputId": "5a8d353f-6a4b-4127-8534-e8bf9a843709"
   },
   "outputs": [
    {
     "data": {
      "text/plain": [
       "771"
      ]
     },
     "execution_count": 69,
     "metadata": {},
     "output_type": "execute_result"
    }
   ],
   "source": [
    "len(X1_train)"
   ]
  },
  {
   "cell_type": "code",
   "execution_count": null,
   "id": "FEZ0Hf82EQux",
   "metadata": {
    "colab": {
     "base_uri": "https://localhost:8080/"
    },
    "id": "FEZ0Hf82EQux",
    "outputId": "4af7417d-f2f7-4d0f-eff6-8dfd61078c69"
   },
   "outputs": [
    {
     "data": {
      "text/plain": [
       "441"
      ]
     },
     "execution_count": 70,
     "metadata": {},
     "output_type": "execute_result"
    }
   ],
   "source": [
    "len(X1_test)"
   ]
  },
  {
   "cell_type": "code",
   "execution_count": null,
   "id": "hqn4WpVMEPoe",
   "metadata": {
    "id": "hqn4WpVMEPoe"
   },
   "outputs": [],
   "source": [
    "K = np.arange(1,51)\n",
    "Acc_KNN =[]\n",
    "Spec_KNN = []\n",
    "\n",
    "for k in K:\n",
    "    knn = KNeighborsClassifier(n_neighbors=k, metric='euclidean') \n",
    "    knn.fit(X_train, y_train)                                     \n",
    "    y_pred = knn.predict(X_valid)\n",
    "    c_mat = confusion_matrix (y_valid,y_pred) \n",
    "    Acc_KNN.append((c_mat[0,0]+c_mat[1,1])/np.sum(c_mat)*100)\n",
    "    num = (c_mat[0,0]+c_mat[1,1])   #Total number of correct negative predictions\n",
    "    den = (np.sum(c_mat[0,:])+np.sum(c_mat[1,:])) #Total number of negative observations\n",
    "    Spec_KNN.append(num/den)"
   ]
  },
  {
   "cell_type": "markdown",
   "id": "GZhNuz2zyNjy",
   "metadata": {
    "id": "GZhNuz2zyNjy"
   },
   "source": [
    "### 4. Standardization"
   ]
  },
  {
   "cell_type": "code",
   "execution_count": null,
   "id": "JZdDWnudyNjy",
   "metadata": {
    "id": "JZdDWnudyNjy"
   },
   "outputs": [],
   "source": [
    "X1_scaled_train = X1_train.apply(lambda x: (x - np.mean(x)) / np.std(x))"
   ]
  },
  {
   "cell_type": "code",
   "execution_count": null,
   "id": "5bVtOeauyNjy",
   "metadata": {
    "id": "5bVtOeauyNjy"
   },
   "outputs": [],
   "source": [
    "X1_scaled_test = X1_test.apply(lambda x: (x - np.mean(x)) / np.std(x))"
   ]
  },
  {
   "cell_type": "code",
   "execution_count": null,
   "id": "b8wkHADMhnzO",
   "metadata": {
    "id": "b8wkHADMhnzO"
   },
   "outputs": [],
   "source": []
  },
  {
   "cell_type": "markdown",
   "id": "CCIq4ZmayNjz",
   "metadata": {
    "id": "CCIq4ZmayNjz"
   },
   "source": [
    "### 5.  KNN Classifier"
   ]
  },
  {
   "cell_type": "code",
   "execution_count": null,
   "id": "H1AIost-yNjz",
   "metadata": {
    "id": "H1AIost-yNjz"
   },
   "outputs": [],
   "source": [
    "from sklearn.neighbors import KNeighborsClassifier"
   ]
  },
  {
   "cell_type": "code",
   "execution_count": null,
   "id": "i21Yqkd6yNjz",
   "metadata": {
    "colab": {
     "base_uri": "https://localhost:8080/"
    },
    "id": "i21Yqkd6yNjz",
    "outputId": "a51ad7a4-1e47-42aa-98b6-df1695863c21"
   },
   "outputs": [
    {
     "data": {
      "text/plain": [
       "KNeighborsClassifier(metric='euclidean')"
      ]
     },
     "execution_count": 76,
     "metadata": {},
     "output_type": "execute_result"
    }
   ],
   "source": [
    "# instantiate learning model (k = 5)\n",
    "knn = KNeighborsClassifier(n_neighbors=5, metric='euclidean') #5NN\n",
    "\n",
    "# fitting the model\n",
    "knn.fit(X1_train, y1_train)"
   ]
  },
  {
   "cell_type": "code",
   "execution_count": null,
   "id": "XlJT2RgeD4yU",
   "metadata": {
    "id": "XlJT2RgeD4yU"
   },
   "outputs": [],
   "source": []
  },
  {
   "cell_type": "markdown",
   "id": "Q-4wCMFLyNj0",
   "metadata": {
    "id": "Q-4wCMFLyNj0"
   },
   "source": [
    "### 6. Prediction"
   ]
  },
  {
   "cell_type": "code",
   "execution_count": null,
   "id": "N8Vucr4FyNj0",
   "metadata": {
    "id": "N8Vucr4FyNj0"
   },
   "outputs": [],
   "source": [
    "predicted_values = knn.predict(X1_valid)"
   ]
  },
  {
   "cell_type": "code",
   "execution_count": null,
   "id": "pYERto_fyNj0",
   "metadata": {
    "colab": {
     "base_uri": "https://localhost:8080/"
    },
    "id": "pYERto_fyNj0",
    "outputId": "3f2c6a49-c024-4506-a0fc-1fcadcd748e1"
   },
   "outputs": [
    {
     "data": {
      "text/plain": [
       "array([0, 0, 0, 0, 0, 0, 0, 0, 0, 0, 0, 0, 0, 0, 0, 0, 0, 0, 0, 0, 0, 0,\n",
       "       0, 0, 0, 0, 0, 0, 0, 0, 0, 0, 0, 0, 0, 0, 1, 0, 0, 0, 0, 0, 0, 0,\n",
       "       0, 0, 0, 0, 0, 0, 0, 0, 0, 0, 0, 0, 0, 0, 0, 0, 1, 0, 1, 0, 0, 0,\n",
       "       0, 0, 0, 0, 0, 0, 0, 0, 0, 0, 0, 0, 0, 0, 0, 0, 0, 0, 0, 0, 0, 0,\n",
       "       0, 0, 0, 0, 0, 0, 0, 0, 0, 0, 0, 0, 0, 0, 0, 1, 0, 0, 0, 0, 0, 0,\n",
       "       0, 0, 0, 0, 0, 0, 1, 1, 0, 0, 0, 0, 0, 0, 0, 0, 0, 0, 0, 0, 0, 0,\n",
       "       0, 0, 0, 0, 0, 0, 0, 0, 0, 0, 0, 0, 0, 0, 0, 0, 1, 0, 0, 0, 1, 0,\n",
       "       0, 0, 0, 0, 0, 0, 0, 0, 0, 0, 0, 0, 0, 0, 0, 0, 0, 0, 0, 0, 0, 0,\n",
       "       0, 0, 1, 0, 0, 0, 0, 0, 0, 0, 0, 0, 0, 0, 0, 0, 0, 0, 0, 0, 0, 0,\n",
       "       0, 0, 0, 0, 0, 0, 0, 0, 0, 0, 0, 0, 0, 0, 0, 0, 0, 0, 0, 0, 0, 0,\n",
       "       0, 0, 0, 0, 0, 0, 0, 0, 0, 0, 0, 0, 0, 0, 0, 0, 0, 0, 0, 0, 0, 0,\n",
       "       0, 0, 0, 0, 1, 0, 0, 0, 0, 0, 0, 0, 0, 0, 0, 1])"
      ]
     },
     "execution_count": 78,
     "metadata": {},
     "output_type": "execute_result"
    }
   ],
   "source": [
    "predicted_values"
   ]
  },
  {
   "cell_type": "code",
   "execution_count": null,
   "id": "Jkw4JE7rDoiy",
   "metadata": {
    "colab": {
     "base_uri": "https://localhost:8080/"
    },
    "id": "Jkw4JE7rDoiy",
    "outputId": "fc7612c9-9313-442b-bf0d-8feb903f0b95"
   },
   "outputs": [
    {
     "data": {
      "text/plain": [
       "294"
      ]
     },
     "execution_count": 79,
     "metadata": {},
     "output_type": "execute_result"
    }
   ],
   "source": [
    "len(X_test)"
   ]
  },
  {
   "cell_type": "code",
   "execution_count": null,
   "id": "-PZTdb-h6qdN",
   "metadata": {
    "colab": {
     "base_uri": "https://localhost:8080/"
    },
    "id": "-PZTdb-h6qdN",
    "outputId": "26cca54c-8cf6-4ee1-f2b6-f44abc180c29"
   },
   "outputs": [
    {
     "data": {
      "text/plain": [
       "array([[213,  11],\n",
       "       [ 34,   0]])"
      ]
     },
     "execution_count": 82,
     "metadata": {},
     "output_type": "execute_result"
    }
   ],
   "source": [
    "# function to create a confusion matrix\n",
    "from sklearn.metrics import confusion_matrix\n",
    "\n",
    "c = confusion_matrix(y1_valid,predicted_values)\n",
    "c"
   ]
  },
  {
   "cell_type": "code",
   "execution_count": null,
   "id": "_G21EyYd6qkO",
   "metadata": {
    "colab": {
     "base_uri": "https://localhost:8080/"
    },
    "id": "_G21EyYd6qkO",
    "outputId": "7c676168-bccd-4cac-f46a-96f8060e017f"
   },
   "outputs": [
    {
     "name": "stdout",
     "output_type": "stream",
     "text": [
      "0.8255813953488372\n"
     ]
    }
   ],
   "source": [
    "print(accuracy_score(y1_valid, knn.predict(X1_valid)))"
   ]
  },
  {
   "cell_type": "code",
   "execution_count": null,
   "id": "AriONzRO6qn0",
   "metadata": {
    "colab": {
     "base_uri": "https://localhost:8080/"
    },
    "id": "AriONzRO6qn0",
    "outputId": "e7f4e5bb-7e8c-499a-b210-93cdf84941a3"
   },
   "outputs": [
    {
     "name": "stdout",
     "output_type": "stream",
     "text": [
      "73.80952380952381 62.0\n"
     ]
    }
   ],
   "source": [
    "## calculating precision and reall\n",
    "precision = precision_score(y_test, y_predt)*100# (TP/TP+FP)\n",
    "recall = recall_score(y_test, y_predt)*100 ## True positive rate (TP/TP+FN)\n",
    "\n",
    "print(precision, recall)"
   ]
  },
  {
   "cell_type": "code",
   "execution_count": null,
   "id": "_4rpI45I6qsd",
   "metadata": {
    "id": "_4rpI45I6qsd"
   },
   "outputs": [],
   "source": []
  },
  {
   "cell_type": "code",
   "execution_count": null,
   "id": "pn4KzDWh6qw5",
   "metadata": {
    "id": "pn4KzDWh6qw5"
   },
   "outputs": [],
   "source": []
  },
  {
   "cell_type": "code",
   "execution_count": null,
   "id": "kqbTlJvM6q1I",
   "metadata": {
    "id": "kqbTlJvM6q1I"
   },
   "outputs": [],
   "source": []
  },
  {
   "cell_type": "code",
   "execution_count": null,
   "id": "kOt-fIE16q6U",
   "metadata": {
    "id": "kOt-fIE16q6U"
   },
   "outputs": [],
   "source": []
  },
  {
   "cell_type": "code",
   "execution_count": null,
   "id": "fU3aK83D6q_l",
   "metadata": {
    "id": "fU3aK83D6q_l"
   },
   "outputs": [],
   "source": []
  },
  {
   "cell_type": "code",
   "execution_count": null,
   "id": "0gZ7vgcY6rDy",
   "metadata": {
    "id": "0gZ7vgcY6rDy"
   },
   "outputs": [],
   "source": []
  },
  {
   "cell_type": "code",
   "execution_count": null,
   "id": "LqsdEp926U0W",
   "metadata": {
    "id": "LqsdEp926U0W"
   },
   "outputs": [],
   "source": []
  }
 ],
 "metadata": {
  "colab": {
   "collapsed_sections": [
    "e0ab672b",
    "f4f6e6e5",
    "56e93b4d",
    "48d95e9f",
    "25560b65",
    "9f5f6aea",
    "d4b9efeb",
    "6648b80f",
    "51b3c07a",
    "87154002",
    "fd38b8b1",
    "fea4ef61",
    "a25a5a28",
    "18e7070f",
    "69deadb4",
    "b25c4cf0",
    "df4fff32"
   ],
   "name": "Employee Attrition Rate  Analysis",
   "provenance": []
  },
  "kernelspec": {
   "display_name": "Python 3 (ipykernel)",
   "language": "python",
   "name": "python3"
  },
  "language_info": {
   "codemirror_mode": {
    "name": "ipython",
    "version": 3
   },
   "file_extension": ".py",
   "mimetype": "text/x-python",
   "name": "python",
   "nbconvert_exporter": "python",
   "pygments_lexer": "ipython3",
   "version": "3.9.7"
  }
 },
 "nbformat": 4,
 "nbformat_minor": 5
}
