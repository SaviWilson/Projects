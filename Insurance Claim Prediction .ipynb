{
 "cells": [
  {
   "cell_type": "code",
   "execution_count": 3,
   "id": "72076401",
   "metadata": {},
   "outputs": [],
   "source": [
    "import numpy as np\n",
    "import pandas as pd\n",
    "import seaborn as sns\n",
    "import matplotlib.pyplot as plt\n",
    "from scipy import stats\n",
    "import warnings\n",
    "warnings.filterwarnings(\"ignore\")\n",
    "%matplotlib inline"
   ]
  },
  {
   "cell_type": "markdown",
   "id": "fa77afb8",
   "metadata": {},
   "source": [
    "### About data  "
   ]
  },
  {
   "cell_type": "markdown",
   "id": "ba84716d",
   "metadata": {},
   "source": [
    " We have received claims data of Health insurance paid to 1340 patients/policyholders.\n",
    "\n",
    " - Insurance claim dataset comprise of 1,340 patient/policyholders with details (10 attributes) that describe their health status such as BMI, bloodpressure, Diabetic, Smoking habits and other demographic information such as age, gender, region, no. of children\n",
    "\n",
    " - Other attribute is \"Claim\" which is our target variable"
   ]
  },
  {
   "cell_type": "markdown",
   "id": "5c09faa2",
   "metadata": {},
   "source": [
    "### Business Problem\n",
    " \n",
    "To predict insurance claim amt and identify factors leading to high insurance claim amt which can help business in mainly two ways \n",
    "\n",
    "i. Identifying high risk segments useful for Insurance underwriting \n",
    "\n",
    "ii.Develop risk based premium model i.e it would help build efficient premium rate card/matrix based on factors affecting the insurance claim amt "
   ]
  },
  {
   "cell_type": "markdown",
   "id": "13ab74f2",
   "metadata": {},
   "source": [
    "#### Reading data"
   ]
  },
  {
   "cell_type": "code",
   "execution_count": 4,
   "id": "15d4c092",
   "metadata": {},
   "outputs": [],
   "source": [
    "Ins1=pd.read_csv(\"C:\\\\Users\\\\alaghvk\\\\Downloads\\\\insurance_data.csv\")\n",
    "Ins=Ins1.copy()"
   ]
  },
  {
   "cell_type": "code",
   "execution_count": 5,
   "id": "ae4a9b64",
   "metadata": {},
   "outputs": [
    {
     "data": {
      "text/plain": [
       "(1340, 10)"
      ]
     },
     "execution_count": 5,
     "metadata": {},
     "output_type": "execute_result"
    }
   ],
   "source": [
    "Ins.shape # to know number of rows and columns "
   ]
  },
  {
   "cell_type": "code",
   "execution_count": 6,
   "id": "3e23a6be",
   "metadata": {},
   "outputs": [
    {
     "data": {
      "text/html": [
       "<div>\n",
       "<style scoped>\n",
       "    .dataframe tbody tr th:only-of-type {\n",
       "        vertical-align: middle;\n",
       "    }\n",
       "\n",
       "    .dataframe tbody tr th {\n",
       "        vertical-align: top;\n",
       "    }\n",
       "\n",
       "    .dataframe thead th {\n",
       "        text-align: right;\n",
       "    }\n",
       "</style>\n",
       "<table border=\"1\" class=\"dataframe\">\n",
       "  <thead>\n",
       "    <tr style=\"text-align: right;\">\n",
       "      <th></th>\n",
       "      <th>count</th>\n",
       "      <th>unique</th>\n",
       "      <th>top</th>\n",
       "      <th>freq</th>\n",
       "      <th>mean</th>\n",
       "      <th>std</th>\n",
       "      <th>min</th>\n",
       "      <th>25%</th>\n",
       "      <th>50%</th>\n",
       "      <th>75%</th>\n",
       "      <th>max</th>\n",
       "    </tr>\n",
       "  </thead>\n",
       "  <tbody>\n",
       "    <tr>\n",
       "      <th>PatientID</th>\n",
       "      <td>1340.0</td>\n",
       "      <td>NaN</td>\n",
       "      <td>NaN</td>\n",
       "      <td>NaN</td>\n",
       "      <td>670.5</td>\n",
       "      <td>386.968991</td>\n",
       "      <td>1.0</td>\n",
       "      <td>335.75</td>\n",
       "      <td>670.5</td>\n",
       "      <td>1005.25</td>\n",
       "      <td>1340.0</td>\n",
       "    </tr>\n",
       "    <tr>\n",
       "      <th>age</th>\n",
       "      <td>1335.0</td>\n",
       "      <td>NaN</td>\n",
       "      <td>NaN</td>\n",
       "      <td>NaN</td>\n",
       "      <td>38.078652</td>\n",
       "      <td>11.102924</td>\n",
       "      <td>18.0</td>\n",
       "      <td>29.0</td>\n",
       "      <td>38.0</td>\n",
       "      <td>47.0</td>\n",
       "      <td>60.0</td>\n",
       "    </tr>\n",
       "    <tr>\n",
       "      <th>gender</th>\n",
       "      <td>1340</td>\n",
       "      <td>2</td>\n",
       "      <td>male</td>\n",
       "      <td>678</td>\n",
       "      <td>NaN</td>\n",
       "      <td>NaN</td>\n",
       "      <td>NaN</td>\n",
       "      <td>NaN</td>\n",
       "      <td>NaN</td>\n",
       "      <td>NaN</td>\n",
       "      <td>NaN</td>\n",
       "    </tr>\n",
       "    <tr>\n",
       "      <th>bmi</th>\n",
       "      <td>1340.0</td>\n",
       "      <td>NaN</td>\n",
       "      <td>NaN</td>\n",
       "      <td>NaN</td>\n",
       "      <td>30.668955</td>\n",
       "      <td>6.106735</td>\n",
       "      <td>16.0</td>\n",
       "      <td>26.275</td>\n",
       "      <td>30.4</td>\n",
       "      <td>34.7</td>\n",
       "      <td>53.1</td>\n",
       "    </tr>\n",
       "    <tr>\n",
       "      <th>bloodpressure</th>\n",
       "      <td>1340.0</td>\n",
       "      <td>NaN</td>\n",
       "      <td>NaN</td>\n",
       "      <td>NaN</td>\n",
       "      <td>94.157463</td>\n",
       "      <td>11.434712</td>\n",
       "      <td>80.0</td>\n",
       "      <td>86.0</td>\n",
       "      <td>92.0</td>\n",
       "      <td>99.0</td>\n",
       "      <td>140.0</td>\n",
       "    </tr>\n",
       "    <tr>\n",
       "      <th>diabetic</th>\n",
       "      <td>1340</td>\n",
       "      <td>2</td>\n",
       "      <td>No</td>\n",
       "      <td>698</td>\n",
       "      <td>NaN</td>\n",
       "      <td>NaN</td>\n",
       "      <td>NaN</td>\n",
       "      <td>NaN</td>\n",
       "      <td>NaN</td>\n",
       "      <td>NaN</td>\n",
       "      <td>NaN</td>\n",
       "    </tr>\n",
       "    <tr>\n",
       "      <th>children</th>\n",
       "      <td>1340.0</td>\n",
       "      <td>NaN</td>\n",
       "      <td>NaN</td>\n",
       "      <td>NaN</td>\n",
       "      <td>1.093284</td>\n",
       "      <td>1.205334</td>\n",
       "      <td>0.0</td>\n",
       "      <td>0.0</td>\n",
       "      <td>1.0</td>\n",
       "      <td>2.0</td>\n",
       "      <td>5.0</td>\n",
       "    </tr>\n",
       "    <tr>\n",
       "      <th>smoker</th>\n",
       "      <td>1340</td>\n",
       "      <td>2</td>\n",
       "      <td>No</td>\n",
       "      <td>1066</td>\n",
       "      <td>NaN</td>\n",
       "      <td>NaN</td>\n",
       "      <td>NaN</td>\n",
       "      <td>NaN</td>\n",
       "      <td>NaN</td>\n",
       "      <td>NaN</td>\n",
       "      <td>NaN</td>\n",
       "    </tr>\n",
       "    <tr>\n",
       "      <th>region</th>\n",
       "      <td>1337</td>\n",
       "      <td>4</td>\n",
       "      <td>southeast</td>\n",
       "      <td>443</td>\n",
       "      <td>NaN</td>\n",
       "      <td>NaN</td>\n",
       "      <td>NaN</td>\n",
       "      <td>NaN</td>\n",
       "      <td>NaN</td>\n",
       "      <td>NaN</td>\n",
       "      <td>NaN</td>\n",
       "    </tr>\n",
       "    <tr>\n",
       "      <th>claim</th>\n",
       "      <td>1340.0</td>\n",
       "      <td>NaN</td>\n",
       "      <td>NaN</td>\n",
       "      <td>NaN</td>\n",
       "      <td>13252.745642</td>\n",
       "      <td>12109.609288</td>\n",
       "      <td>1121.87</td>\n",
       "      <td>4719.685</td>\n",
       "      <td>9369.615</td>\n",
       "      <td>16604.305</td>\n",
       "      <td>63770.43</td>\n",
       "    </tr>\n",
       "  </tbody>\n",
       "</table>\n",
       "</div>"
      ],
      "text/plain": [
       "                count unique        top  freq          mean           std  \\\n",
       "PatientID      1340.0    NaN        NaN   NaN         670.5    386.968991   \n",
       "age            1335.0    NaN        NaN   NaN     38.078652     11.102924   \n",
       "gender           1340      2       male   678           NaN           NaN   \n",
       "bmi            1340.0    NaN        NaN   NaN     30.668955      6.106735   \n",
       "bloodpressure  1340.0    NaN        NaN   NaN     94.157463     11.434712   \n",
       "diabetic         1340      2         No   698           NaN           NaN   \n",
       "children       1340.0    NaN        NaN   NaN      1.093284      1.205334   \n",
       "smoker           1340      2         No  1066           NaN           NaN   \n",
       "region           1337      4  southeast   443           NaN           NaN   \n",
       "claim          1340.0    NaN        NaN   NaN  13252.745642  12109.609288   \n",
       "\n",
       "                   min       25%       50%        75%       max  \n",
       "PatientID          1.0    335.75     670.5    1005.25    1340.0  \n",
       "age               18.0      29.0      38.0       47.0      60.0  \n",
       "gender             NaN       NaN       NaN        NaN       NaN  \n",
       "bmi               16.0    26.275      30.4       34.7      53.1  \n",
       "bloodpressure     80.0      86.0      92.0       99.0     140.0  \n",
       "diabetic           NaN       NaN       NaN        NaN       NaN  \n",
       "children           0.0       0.0       1.0        2.0       5.0  \n",
       "smoker             NaN       NaN       NaN        NaN       NaN  \n",
       "region             NaN       NaN       NaN        NaN       NaN  \n",
       "claim          1121.87  4719.685  9369.615  16604.305  63770.43  "
      ]
     },
     "execution_count": 6,
     "metadata": {},
     "output_type": "execute_result"
    }
   ],
   "source": [
    "Ins.describe(include=\"all\").T"
   ]
  },
  {
   "cell_type": "code",
   "execution_count": 7,
   "id": "c412d1f9",
   "metadata": {},
   "outputs": [
    {
     "data": {
      "text/plain": [
       "PatientID          int64\n",
       "age              float64\n",
       "gender            object\n",
       "bmi              float64\n",
       "bloodpressure      int64\n",
       "diabetic          object\n",
       "children           int64\n",
       "smoker            object\n",
       "region            object\n",
       "claim            float64\n",
       "dtype: object"
      ]
     },
     "execution_count": 7,
     "metadata": {},
     "output_type": "execute_result"
    }
   ],
   "source": [
    "Ins.dtypes ## To know the data type of the variables in the dataset"
   ]
  },
  {
   "cell_type": "markdown",
   "id": "2656b2db",
   "metadata": {},
   "source": [
    "#### Types of variables in Insurance dataset\n",
    "\n",
    "##### A. Numerical variables - \n",
    "\n",
    "i.  Continous variables: age, bmi, bloodpressure, claim\n",
    "\n",
    "ii. Discrete variables:  children \n",
    "\n",
    "##### B. Categorical variables - \n",
    "gender, diabetic, smoker, region"
   ]
  },
  {
   "cell_type": "markdown",
   "id": "ba866f0b",
   "metadata": {},
   "source": [
    "### Data appreciation (Relevance, quality, availability of data)\n",
    "\n",
    "#### Fixing missing values through Imputation\n",
    "\n"
   ]
  },
  {
   "cell_type": "code",
   "execution_count": 8,
   "id": "dbae4f2f",
   "metadata": {},
   "outputs": [
    {
     "data": {
      "text/plain": [
       "PatientID        0\n",
       "age              5\n",
       "gender           0\n",
       "bmi              0\n",
       "bloodpressure    0\n",
       "diabetic         0\n",
       "children         0\n",
       "smoker           0\n",
       "region           3\n",
       "claim            0\n",
       "dtype: int64"
      ]
     },
     "execution_count": 8,
     "metadata": {},
     "output_type": "execute_result"
    }
   ],
   "source": [
    "Ins.isnull().sum() ## To check null values in the dataset"
   ]
  },
  {
   "cell_type": "markdown",
   "id": "3dfcfa11",
   "metadata": {},
   "source": [
    "Missing value observed in only two variables - Age and Region"
   ]
  },
  {
   "cell_type": "markdown",
   "id": "7cf8ff38",
   "metadata": {},
   "source": [
    " [1] - Age\n",
    "\n",
    "We are using imputation as a technique to replace null values with Mean for \"Age\" variable due to \n",
    "\n",
    "a. Lesser no. of null values i.e 5 (less than 5% of the total sample)\n",
    "\n",
    "b. it is indicating normal distribution (Checked through visualisation below in univariate analysis)"
   ]
  },
  {
   "cell_type": "code",
   "execution_count": 34,
   "id": "b56fdce7",
   "metadata": {},
   "outputs": [],
   "source": [
    "Ins['age'].fillna(Ins['age'].mean(),inplace=True)"
   ]
  },
  {
   "cell_type": "markdown",
   "id": "e3af5f60",
   "metadata": {},
   "source": [
    "[2] - Region\n",
    "\n",
    "Replacing missing values of a categorical variable with the mode due to lesser no. of null values i.e 3"
   ]
  },
  {
   "cell_type": "code",
   "execution_count": 33,
   "id": "2b51edaa",
   "metadata": {},
   "outputs": [],
   "source": [
    "Ins['region'].fillna(Ins.region.mode()[0],inplace=True)"
   ]
  },
  {
   "cell_type": "code",
   "execution_count": 11,
   "id": "fe84ac3c",
   "metadata": {},
   "outputs": [
    {
     "data": {
      "text/plain": [
       "PatientID        0\n",
       "age              0\n",
       "gender           0\n",
       "bmi              0\n",
       "bloodpressure    0\n",
       "diabetic         0\n",
       "children         0\n",
       "smoker           0\n",
       "region           0\n",
       "claim            0\n",
       "dtype: int64"
      ]
     },
     "execution_count": 11,
     "metadata": {},
     "output_type": "execute_result"
    }
   ],
   "source": [
    "# To re-check if null value is replaced with above treatment\n",
    "Ins.isnull().sum()"
   ]
  },
  {
   "cell_type": "code",
   "execution_count": 12,
   "id": "c73d08aa",
   "metadata": {},
   "outputs": [
    {
     "data": {
      "text/html": [
       "<div>\n",
       "<style scoped>\n",
       "    .dataframe tbody tr th:only-of-type {\n",
       "        vertical-align: middle;\n",
       "    }\n",
       "\n",
       "    .dataframe tbody tr th {\n",
       "        vertical-align: top;\n",
       "    }\n",
       "\n",
       "    .dataframe thead th {\n",
       "        text-align: right;\n",
       "    }\n",
       "</style>\n",
       "<table border=\"1\" class=\"dataframe\">\n",
       "  <thead>\n",
       "    <tr style=\"text-align: right;\">\n",
       "      <th></th>\n",
       "      <th>PatientID</th>\n",
       "      <th>age</th>\n",
       "      <th>gender</th>\n",
       "      <th>bmi</th>\n",
       "      <th>bloodpressure</th>\n",
       "      <th>diabetic</th>\n",
       "      <th>children</th>\n",
       "      <th>smoker</th>\n",
       "      <th>region</th>\n",
       "      <th>claim</th>\n",
       "    </tr>\n",
       "  </thead>\n",
       "  <tbody>\n",
       "    <tr>\n",
       "      <th>False</th>\n",
       "      <td>1340</td>\n",
       "      <td>1340</td>\n",
       "      <td>1340</td>\n",
       "      <td>1340</td>\n",
       "      <td>1340</td>\n",
       "      <td>1340</td>\n",
       "      <td>1340</td>\n",
       "      <td>1340</td>\n",
       "      <td>1340</td>\n",
       "      <td>1340</td>\n",
       "    </tr>\n",
       "  </tbody>\n",
       "</table>\n",
       "</div>"
      ],
      "text/plain": [
       "       PatientID   age  gender   bmi  bloodpressure  diabetic  children  \\\n",
       "False       1340  1340    1340  1340           1340      1340      1340   \n",
       "\n",
       "       smoker  region  claim  \n",
       "False    1340    1340   1340  "
      ]
     },
     "execution_count": 12,
     "metadata": {},
     "output_type": "execute_result"
    }
   ],
   "source": [
    "# or\n",
    "Ins.isna().apply(pd.value_counts) "
   ]
  },
  {
   "cell_type": "markdown",
   "id": "42ceea5b",
   "metadata": {},
   "source": [
    "## Exploratory Data Analysis\n",
    "\n",
    "## I. Univariate Analysis"
   ]
  },
  {
   "cell_type": "markdown",
   "id": "2b72a95d",
   "metadata": {},
   "source": [
    "#### A. Summary statistics"
   ]
  },
  {
   "cell_type": "code",
   "execution_count": 13,
   "id": "458e2ee1",
   "metadata": {},
   "outputs": [
    {
     "data": {
      "text/html": [
       "<div>\n",
       "<style scoped>\n",
       "    .dataframe tbody tr th:only-of-type {\n",
       "        vertical-align: middle;\n",
       "    }\n",
       "\n",
       "    .dataframe tbody tr th {\n",
       "        vertical-align: top;\n",
       "    }\n",
       "\n",
       "    .dataframe thead th {\n",
       "        text-align: right;\n",
       "    }\n",
       "</style>\n",
       "<table border=\"1\" class=\"dataframe\">\n",
       "  <thead>\n",
       "    <tr style=\"text-align: right;\">\n",
       "      <th></th>\n",
       "      <th>PatientID</th>\n",
       "      <th>age</th>\n",
       "      <th>bmi</th>\n",
       "      <th>bloodpressure</th>\n",
       "      <th>children</th>\n",
       "      <th>claim</th>\n",
       "    </tr>\n",
       "  </thead>\n",
       "  <tbody>\n",
       "    <tr>\n",
       "      <th>count</th>\n",
       "      <td>1340.000000</td>\n",
       "      <td>1340.000000</td>\n",
       "      <td>1340.000000</td>\n",
       "      <td>1340.000000</td>\n",
       "      <td>1340.000000</td>\n",
       "      <td>1340.000000</td>\n",
       "    </tr>\n",
       "    <tr>\n",
       "      <th>mean</th>\n",
       "      <td>670.500000</td>\n",
       "      <td>38.078652</td>\n",
       "      <td>30.668955</td>\n",
       "      <td>94.157463</td>\n",
       "      <td>1.093284</td>\n",
       "      <td>13252.745642</td>\n",
       "    </tr>\n",
       "    <tr>\n",
       "      <th>std</th>\n",
       "      <td>386.968991</td>\n",
       "      <td>11.082175</td>\n",
       "      <td>6.106735</td>\n",
       "      <td>11.434712</td>\n",
       "      <td>1.205334</td>\n",
       "      <td>12109.609288</td>\n",
       "    </tr>\n",
       "    <tr>\n",
       "      <th>min</th>\n",
       "      <td>1.000000</td>\n",
       "      <td>18.000000</td>\n",
       "      <td>16.000000</td>\n",
       "      <td>80.000000</td>\n",
       "      <td>0.000000</td>\n",
       "      <td>1121.870000</td>\n",
       "    </tr>\n",
       "    <tr>\n",
       "      <th>25%</th>\n",
       "      <td>335.750000</td>\n",
       "      <td>29.000000</td>\n",
       "      <td>26.275000</td>\n",
       "      <td>86.000000</td>\n",
       "      <td>0.000000</td>\n",
       "      <td>4719.685000</td>\n",
       "    </tr>\n",
       "    <tr>\n",
       "      <th>50%</th>\n",
       "      <td>670.500000</td>\n",
       "      <td>38.000000</td>\n",
       "      <td>30.400000</td>\n",
       "      <td>92.000000</td>\n",
       "      <td>1.000000</td>\n",
       "      <td>9369.615000</td>\n",
       "    </tr>\n",
       "    <tr>\n",
       "      <th>75%</th>\n",
       "      <td>1005.250000</td>\n",
       "      <td>47.000000</td>\n",
       "      <td>34.700000</td>\n",
       "      <td>99.000000</td>\n",
       "      <td>2.000000</td>\n",
       "      <td>16604.305000</td>\n",
       "    </tr>\n",
       "    <tr>\n",
       "      <th>max</th>\n",
       "      <td>1340.000000</td>\n",
       "      <td>60.000000</td>\n",
       "      <td>53.100000</td>\n",
       "      <td>140.000000</td>\n",
       "      <td>5.000000</td>\n",
       "      <td>63770.430000</td>\n",
       "    </tr>\n",
       "  </tbody>\n",
       "</table>\n",
       "</div>"
      ],
      "text/plain": [
       "         PatientID          age          bmi  bloodpressure     children  \\\n",
       "count  1340.000000  1340.000000  1340.000000    1340.000000  1340.000000   \n",
       "mean    670.500000    38.078652    30.668955      94.157463     1.093284   \n",
       "std     386.968991    11.082175     6.106735      11.434712     1.205334   \n",
       "min       1.000000    18.000000    16.000000      80.000000     0.000000   \n",
       "25%     335.750000    29.000000    26.275000      86.000000     0.000000   \n",
       "50%     670.500000    38.000000    30.400000      92.000000     1.000000   \n",
       "75%    1005.250000    47.000000    34.700000      99.000000     2.000000   \n",
       "max    1340.000000    60.000000    53.100000     140.000000     5.000000   \n",
       "\n",
       "              claim  \n",
       "count   1340.000000  \n",
       "mean   13252.745642  \n",
       "std    12109.609288  \n",
       "min     1121.870000  \n",
       "25%     4719.685000  \n",
       "50%     9369.615000  \n",
       "75%    16604.305000  \n",
       "max    63770.430000  "
      ]
     },
     "execution_count": 13,
     "metadata": {},
     "output_type": "execute_result"
    }
   ],
   "source": [
    "Ins.describe() ## Overall stats summary of numerical variables in the dataset"
   ]
  },
  {
   "cell_type": "markdown",
   "id": "f4158f10",
   "metadata": {},
   "source": [
    "#### B. Data Visualisation"
   ]
  },
  {
   "cell_type": "markdown",
   "id": "48e812fd",
   "metadata": {},
   "source": [
    "##### B.1 Continous Variable - Age /BMI/BP/Claim"
   ]
  },
  {
   "cell_type": "markdown",
   "id": "cadee78b",
   "metadata": {},
   "source": [
    "#### 1. Age"
   ]
  },
  {
   "cell_type": "code",
   "execution_count": 14,
   "id": "a11abf9c",
   "metadata": {},
   "outputs": [
    {
     "data": {
      "text/plain": [
       "Text(0.5, 0, 'Age')"
      ]
     },
     "execution_count": 14,
     "metadata": {},
     "output_type": "execute_result"
    },
    {
     "data": {
      "image/png": "[encoded data removed]",
      "text/plain": [
       "<Figure size 1440x1800 with 1 Axes>"
      ]
     },
     "metadata": {
      "needs_background": "light"
     },
     "output_type": "display_data"
    }
   ],
   "source": [
    "plt.figure(figsize= (20,25))\n",
    "plt.subplot(4,2,1)\n",
    "plt.hist(Ins.age, edgecolor = 'black', alpha = 0.7)\n",
    "plt.xlabel('Age')"
   ]
  },
  {
   "cell_type": "code",
   "execution_count": 15,
   "id": "fa4f68f9",
   "metadata": {},
   "outputs": [
    {
     "data": {
      "image/png": "[encoded data removed]",
      "text/plain": [
       "<Figure size 432x288 with 1 Axes>"
      ]
     },
     "metadata": {
      "needs_background": "light"
     },
     "output_type": "display_data"
    }
   ],
   "source": [
    "ax = sns.boxplot(Ins['age'])\n",
    "ax.set_title('Age')\n",
    "plt.show(ax)"
   ]
  },
  {
   "cell_type": "code",
   "execution_count": 16,
   "id": "2152547d",
   "metadata": {},
   "outputs": [
    {
     "data": {
      "text/plain": [
       "count    1340.000000\n",
       "mean       38.078652\n",
       "std        11.082175\n",
       "min        18.000000\n",
       "25%        29.000000\n",
       "50%        38.000000\n",
       "75%        47.000000\n",
       "max        60.000000\n",
       "Name: age, dtype: float64"
      ]
     },
     "execution_count": 16,
     "metadata": {},
     "output_type": "execute_result"
    }
   ],
   "source": [
    "Ins.age.describe()"
   ]
  },
  {
   "cell_type": "markdown",
   "id": "a1bd3175",
   "metadata": {},
   "source": [
    "##### Observation: \n",
    "- Avg age of patient is 38 years which is same as median indicating towards normal distribution of age; \n",
    "- Patient/policyholder's age ranges from 18-60 years; Apparently in our sample, no claims paid to senior citizen(>60 yrs old) \n",
    "- No presence of outliers in Age variable\n",
    "- Only 25% of patients/policyholders are aged above 47 years; Majority claims paid younger /middle aged patients"
   ]
  },
  {
   "cell_type": "markdown",
   "id": "76b65ae3",
   "metadata": {},
   "source": [
    "##### 2. BMI"
   ]
  },
  {
   "cell_type": "code",
   "execution_count": 17,
   "id": "4c038108",
   "metadata": {},
   "outputs": [
    {
     "data": {
      "text/plain": [
       "Text(0.5, 0, 'BMI')"
      ]
     },
     "execution_count": 17,
     "metadata": {},
     "output_type": "execute_result"
    },
    {
     "data": {
      "image/png": "[encoded data removed]",
      "text/plain": [
       "<Figure size 432x288 with 1 Axes>"
      ]
     },
     "metadata": {
      "needs_background": "light"
     },
     "output_type": "display_data"
    }
   ],
   "source": [
    "#plt.figure(figsize= (35,30))\n",
    "plt.hist(Ins.bmi,edgecolor = 'black', alpha = 0.7)\n",
    "plt.xlabel('BMI')"
   ]
  },
  {
   "cell_type": "code",
   "execution_count": 18,
   "id": "2e1a0fc8",
   "metadata": {},
   "outputs": [
    {
     "data": {
      "image/png": "[encoded data removed]",
      "text/plain": [
       "<Figure size 432x288 with 1 Axes>"
      ]
     },
     "metadata": {
      "needs_background": "light"
     },
     "output_type": "display_data"
    }
   ],
   "source": [
    "ax = sns.boxplot(Ins['bmi'])\n",
    "ax.set_title(\"Dispersion of bmi\")\n",
    "plt.show(ax)"
   ]
  },
  {
   "cell_type": "code",
   "execution_count": 19,
   "id": "34357982",
   "metadata": {},
   "outputs": [
    {
     "data": {
      "text/plain": [
       "count    1340.000000\n",
       "mean       30.668955\n",
       "std         6.106735\n",
       "min        16.000000\n",
       "25%        26.275000\n",
       "50%        30.400000\n",
       "75%        34.700000\n",
       "max        53.100000\n",
       "Name: bmi, dtype: float64"
      ]
     },
     "execution_count": 19,
     "metadata": {},
     "output_type": "execute_result"
    }
   ],
   "source": [
    "Ins.bmi.describe()"
   ]
  },
  {
   "cell_type": "code",
   "execution_count": 20,
   "id": "cfd57929",
   "metadata": {},
   "outputs": [
    {
     "data": {
      "text/plain": [
       "20"
      ]
     },
     "execution_count": 20,
     "metadata": {},
     "output_type": "execute_result"
    }
   ],
   "source": [
    "# To check proportion less than 18.5 BMI value in our data\n",
    "Ins.bmi[Ins.bmi<18.5].count()"
   ]
  },
  {
   "cell_type": "code",
   "execution_count": 21,
   "id": "4aa241f4",
   "metadata": {},
   "outputs": [],
   "source": [
    "# Finding count of outliers"
   ]
  },
  {
   "cell_type": "code",
   "execution_count": 22,
   "id": "304ce5d7",
   "metadata": {},
   "outputs": [],
   "source": [
    "def find_outliers_IQR(Ins):\n",
    "    q1=Ins.quantile(0.25)\n",
    "    q3=Ins.quantile(0.75)\n",
    "    IQR=q3-q1\n",
    "    outliers = Ins[((Ins<(q1-1.5*IQR)) | (Ins>(q3+1.5*IQR)))]\n",
    "    return outliers"
   ]
  },
  {
   "cell_type": "code",
   "execution_count": 23,
   "id": "4073a7ed",
   "metadata": {},
   "outputs": [
    {
     "name": "stdout",
     "output_type": "stream",
     "text": [
      "number of outliers: 9\n",
      "max outlier value: 53.1\n",
      "min outlier value: 47.4\n"
     ]
    },
    {
     "data": {
      "text/plain": [
       "9       53.1\n",
       "141     50.4\n",
       "579     47.5\n",
       "675     48.1\n",
       "696     47.7\n",
       "802     49.1\n",
       "1299    52.6\n",
       "1306    47.6\n",
       "1339    47.4\n",
       "Name: bmi, dtype: float64"
      ]
     },
     "execution_count": 23,
     "metadata": {},
     "output_type": "execute_result"
    }
   ],
   "source": [
    "outliers = find_outliers_IQR(Ins[\"bmi\"])\n",
    "\n",
    "print(\"number of outliers: \"+ str(len(outliers)))\n",
    "\n",
    "print(\"max outlier value: \"+ str(outliers.max()))\n",
    "\n",
    "print(\"min outlier value: \"+ str(outliers.min()))\n",
    "\n",
    "outliers"
   ]
  },
  {
   "cell_type": "markdown",
   "id": "c79591c4",
   "metadata": {},
   "source": [
    "#### Observation\n",
    "\n",
    "Concept:\n",
    "- It stands for Body Mass Index (BMI) which is calculated using a person’s weight in kg(or pounds) divided by the sq of height(m or ft).\n",
    "- High BMI indicate high body fatness\n",
    "- BMI range from 18.5 - 24.9 is considered as healthy; Value <18.5 indicates underweight whereas value >24.9 indicates overweight\n",
    "\n",
    "Key Highlights:\n",
    "- Range of BMI observed in our sample is 16-53\n",
    "- Mean is 30.6 and Median is 30.4 indicating towards normal distribution\n",
    "- 75% patients has BMI more than 26.2 (overweight) which is not healthy; Only 20 observation seen with BMI less than the min std i.e 18.5\n",
    "- Presence of 9 outliers observed with value approx more than 47-53"
   ]
  },
  {
   "cell_type": "markdown",
   "id": "1bf579f4",
   "metadata": {},
   "source": [
    "#### 3. Bloodpressure"
   ]
  },
  {
   "cell_type": "code",
   "execution_count": 24,
   "id": "5b5911e5",
   "metadata": {},
   "outputs": [
    {
     "data": {
      "text/plain": [
       "Text(0.5, 0, 'Bloodpressure')"
      ]
     },
     "execution_count": 24,
     "metadata": {},
     "output_type": "execute_result"
    },
    {
     "data": {
      "image/png": "[encoded data removed]",
      "text/plain": [
       "<Figure size 432x288 with 1 Axes>"
      ]
     },
     "metadata": {
      "needs_background": "light"
     },
     "output_type": "display_data"
    }
   ],
   "source": [
    "#plt.figure(figsize= (20,15))\n",
    "plt.hist(Ins.bloodpressure,edgecolor = 'black', alpha = 0.7)\n",
    "plt.xlabel('Bloodpressure')"
   ]
  },
  {
   "cell_type": "code",
   "execution_count": 25,
   "id": "fec1ce72",
   "metadata": {},
   "outputs": [
    {
     "data": {
      "image/png": "[encoded data removed]",
      "text/plain": [
       "<Figure size 432x288 with 1 Axes>"
      ]
     },
     "metadata": {
      "needs_background": "light"
     },
     "output_type": "display_data"
    }
   ],
   "source": [
    "ax= sns.boxplot(Ins['bloodpressure'])\n",
    "ax.set_title(\"Blood pressure\")\n",
    "plt.show(ax)"
   ]
  },
  {
   "cell_type": "code",
   "execution_count": 26,
   "id": "1cad2fcd",
   "metadata": {},
   "outputs": [
    {
     "data": {
      "text/plain": [
       "count    1340.000000\n",
       "mean       94.157463\n",
       "std        11.434712\n",
       "min        80.000000\n",
       "25%        86.000000\n",
       "50%        92.000000\n",
       "75%        99.000000\n",
       "max       140.000000\n",
       "Name: bloodpressure, dtype: float64"
      ]
     },
     "execution_count": 26,
     "metadata": {},
     "output_type": "execute_result"
    }
   ],
   "source": [
    "Ins.bloodpressure.describe()"
   ]
  },
  {
   "cell_type": "code",
   "execution_count": 27,
   "id": "cfb6b88e",
   "metadata": {},
   "outputs": [
    {
     "name": "stdout",
     "output_type": "stream",
     "text": [
      "number of outliers: 62\n",
      "max outlier value: 140\n",
      "min outlier value: 119\n"
     ]
    },
    {
     "data": {
      "text/plain": [
       "1147    128\n",
       "1150    135\n",
       "1152    128\n",
       "1153    126\n",
       "1154    126\n",
       "       ... \n",
       "1325    133\n",
       "1332    120\n",
       "1333    127\n",
       "1334    125\n",
       "1336    120\n",
       "Name: bloodpressure, Length: 62, dtype: int64"
      ]
     },
     "execution_count": 27,
     "metadata": {},
     "output_type": "execute_result"
    }
   ],
   "source": [
    "outliers = find_outliers_IQR(Ins[\"bloodpressure\"])\n",
    "\n",
    "print(\"number of outliers: \"+ str(len(outliers)))\n",
    "\n",
    "print(\"max outlier value: \"+ str(outliers.max()))\n",
    "\n",
    "print(\"min outlier value: \"+ str(outliers.min()))\n",
    "\n",
    "outliers"
   ]
  },
  {
   "cell_type": "markdown",
   "id": "ee5375bb",
   "metadata": {},
   "source": [
    "#### Observation\n",
    "#### Assumption: \n",
    "- Inabsence of bifurcation of diastolic and systolic we have assumed the observation under this variable \n",
    "pertains to diastolic looking at the range of value present in the dataset i.e 80-140; It is highly unlikely that systolic value falls to such a low value of 80\n",
    "\n",
    "#### Concept:\n",
    "- If diastolic BP is >90 it is not considered as normal or healthy and can have serious impact on heart\n",
    "\n",
    "#### Key highlights:\n",
    "- BP data is skewed towards right\n",
    "- Range of BP in our data is from 80-140\n",
    "- We observe that 50% of patients(92) have BP higher than the std heathy range i.e 90 which indicates that BP could be one the important factors contributing towards high claim amt; Same needs to be further explored \n",
    "- Presence of 62 outlier observed with value more than 118 which is extremely high in case of diastolic BP reading"
   ]
  },
  {
   "cell_type": "markdown",
   "id": "c97e6922",
   "metadata": {},
   "source": [
    "#### 4. Claims"
   ]
  },
  {
   "cell_type": "code",
   "execution_count": 28,
   "id": "5176a4ce",
   "metadata": {},
   "outputs": [
    {
     "data": {
      "image/png": "[encoded data removed]",
      "text/plain": [
       "<Figure size 432x288 with 1 Axes>"
      ]
     },
     "metadata": {
      "needs_background": "light"
     },
     "output_type": "display_data"
    }
   ],
   "source": [
    "#plt.figure(figsize= (20,15))\n",
    "plt.hist(Ins.claim, edgecolor = 'black', alpha = 0.7)\n",
    "plt.xlabel('Claim')\n",
    "plt.show()"
   ]
  },
  {
   "cell_type": "code",
   "execution_count": 29,
   "id": "6907fca9",
   "metadata": {},
   "outputs": [
    {
     "data": {
      "image/png": "[encoded data removed]",
      "text/plain": [
       "<Figure size 432x288 with 1 Axes>"
      ]
     },
     "metadata": {
      "needs_background": "light"
     },
     "output_type": "display_data"
    }
   ],
   "source": [
    "ax=sns.boxplot(Ins[\"claim\"])\n",
    "ax.set_title(\"Claim amt\")\n",
    "plt.show(ax)"
   ]
  },
  {
   "cell_type": "code",
   "execution_count": 30,
   "id": "2c4c37e7",
   "metadata": {},
   "outputs": [
    {
     "data": {
      "text/plain": [
       "count     1340.000000\n",
       "mean     13252.745642\n",
       "std      12109.609288\n",
       "min       1121.870000\n",
       "25%       4719.685000\n",
       "50%       9369.615000\n",
       "75%      16604.305000\n",
       "max      63770.430000\n",
       "Name: claim, dtype: float64"
      ]
     },
     "execution_count": 30,
     "metadata": {},
     "output_type": "execute_result"
    }
   ],
   "source": [
    "Ins.claim.describe()"
   ]
  },
  {
   "cell_type": "code",
   "execution_count": 31,
   "id": "c9045468",
   "metadata": {},
   "outputs": [
    {
     "name": "stdout",
     "output_type": "stream",
     "text": [
      "number of outliers: 141\n",
      "max outlier value: 63770.43\n",
      "min outlier value: 34439.86\n"
     ]
    },
    {
     "data": {
      "text/plain": [
       "1199    34439.86\n",
       "1200    34472.84\n",
       "1201    34617.84\n",
       "1202    34672.15\n",
       "1203    34779.62\n",
       "          ...   \n",
       "1335    55135.40\n",
       "1336    58571.07\n",
       "1337    60021.40\n",
       "1338    62592.87\n",
       "1339    63770.43\n",
       "Name: claim, Length: 141, dtype: float64"
      ]
     },
     "execution_count": 31,
     "metadata": {},
     "output_type": "execute_result"
    }
   ],
   "source": [
    "outliers = find_outliers_IQR(Ins[\"claim\"])\n",
    "\n",
    "print(\"number of outliers: \"+ str(len(outliers)))\n",
    "\n",
    "print(\"max outlier value: \"+ str(outliers.max()))\n",
    "\n",
    "print(\"min outlier value: \"+ str(outliers.min()))\n",
    "\n",
    "outliers"
   ]
  },
  {
   "cell_type": "markdown",
   "id": "e07a2511",
   "metadata": {},
   "source": [
    "#### Observation\n",
    "- Claim paid to patients in our sample ranges from 1121-63770\n",
    "- Avg claim paid to patient is 13.3K which is on lower side \n",
    "- 25% of patients were paid more than 16.6 K which is higher than the avg claim paid\n",
    "- Claim paid data is right skewed which indicates that majority claim paid is low and severity of illness is less\n",
    "- Presence of high no. of outlier with claim amt more than approx 34K to 63K "
   ]
  },
  {
   "cell_type": "markdown",
   "id": "671eae93",
   "metadata": {},
   "source": [
    "##### B.2 Categorical/Discrete numerical Variables"
   ]
  },
  {
   "cell_type": "code",
   "execution_count": 32,
   "id": "7f300f7d",
   "metadata": {},
   "outputs": [
    {
     "ename": "NameError",
     "evalue": "name 'smoker' is not defined",
     "output_type": "error",
     "traceback": [
      "\u001b[1;31m---------------------------------------------------------------------------\u001b[0m",
      "\u001b[1;31mNameError\u001b[0m                                 Traceback (most recent call last)",
      "\u001b[1;32m~\\AppData\\Local\\Temp/ipykernel_1744/2730617141.py\u001b[0m in \u001b[0;36m<module>\u001b[1;34m\u001b[0m\n\u001b[0;32m      9\u001b[0m \u001b[0max\u001b[0m \u001b[1;33m=\u001b[0m \u001b[0mplt\u001b[0m\u001b[1;33m.\u001b[0m\u001b[0msubplot\u001b[0m\u001b[1;33m(\u001b[0m\u001b[1;36m4\u001b[0m\u001b[1;33m,\u001b[0m\u001b[1;36m2\u001b[0m\u001b[1;33m,\u001b[0m\u001b[1;36m1\u001b[0m\u001b[1;33m)\u001b[0m\u001b[1;33m\u001b[0m\u001b[1;33m\u001b[0m\u001b[0m\n\u001b[0;32m     10\u001b[0m \u001b[0mplt\u001b[0m\u001b[1;33m.\u001b[0m\u001b[0mbar\u001b[0m\u001b[1;33m(\u001b[0m\u001b[0mx\u001b[0m\u001b[1;33m,\u001b[0m\u001b[0my\u001b[0m\u001b[1;33m,\u001b[0m \u001b[0malign\u001b[0m\u001b[1;33m=\u001b[0m\u001b[1;34m'center'\u001b[0m\u001b[1;33m,\u001b[0m\u001b[0medgecolor\u001b[0m \u001b[1;33m=\u001b[0m \u001b[1;34m'black'\u001b[0m\u001b[1;33m,\u001b[0m \u001b[0mcolor\u001b[0m\u001b[1;33m=\u001b[0m\u001b[1;34m'pink'\u001b[0m\u001b[1;33m,\u001b[0m \u001b[0malpha\u001b[0m \u001b[1;33m=\u001b[0m \u001b[1;36m0.7\u001b[0m\u001b[1;33m)\u001b[0m  \u001b[1;31m#plot a bar chart\u001b[0m\u001b[1;33m\u001b[0m\u001b[1;33m\u001b[0m\u001b[0m\n\u001b[1;32m---> 11\u001b[1;33m \u001b[0max\u001b[0m\u001b[1;33m.\u001b[0m\u001b[0mtext\u001b[0m\u001b[1;33m(\u001b[0m\u001b[1;36m0.1\u001b[0m\u001b[1;33m,\u001b[0m \u001b[1;36m990\u001b[0m\u001b[1;33m,\u001b[0m \u001b[1;34m'{}%'\u001b[0m \u001b[1;33m.\u001b[0m\u001b[0mformat\u001b[0m\u001b[1;33m(\u001b[0m\u001b[0mstr\u001b[0m\u001b[1;33m(\u001b[0m\u001b[0mround\u001b[0m\u001b[1;33m(\u001b[0m\u001b[0msmoker\u001b[0m\u001b[1;33m[\u001b[0m\u001b[1;36m1\u001b[0m\u001b[1;33m]\u001b[0m\u001b[1;33m[\u001b[0m\u001b[1;36m0\u001b[0m\u001b[1;33m]\u001b[0m\u001b[1;33m/\u001b[0m\u001b[0msum\u001b[0m\u001b[1;33m(\u001b[0m\u001b[0msmoker\u001b[0m\u001b[1;33m[\u001b[0m\u001b[1;36m1\u001b[0m\u001b[1;33m]\u001b[0m\u001b[1;33m)\u001b[0m\u001b[1;33m*\u001b[0m\u001b[1;36m100\u001b[0m\u001b[1;33m,\u001b[0m\u001b[1;36m1\u001b[0m\u001b[1;33m)\u001b[0m\u001b[1;33m)\u001b[0m\u001b[1;33m)\u001b[0m\u001b[1;33m,\u001b[0m \u001b[0mha\u001b[0m\u001b[1;33m=\u001b[0m\u001b[1;34m'right'\u001b[0m\u001b[1;33m,\u001b[0m \u001b[0mva\u001b[0m\u001b[1;33m=\u001b[0m\u001b[1;34m'center'\u001b[0m\u001b[1;33m,\u001b[0m \u001b[0msize\u001b[0m\u001b[1;33m=\u001b[0m\u001b[1;36m13\u001b[0m\u001b[1;33m,\u001b[0m \u001b[0mfontdict\u001b[0m\u001b[1;33m=\u001b[0m\u001b[1;33m{\u001b[0m\u001b[1;34m'weight'\u001b[0m\u001b[1;33m:\u001b[0m \u001b[1;34m'bold'\u001b[0m\u001b[1;33m}\u001b[0m\u001b[1;33m)\u001b[0m\u001b[1;33m\u001b[0m\u001b[1;33m\u001b[0m\u001b[0m\n\u001b[0m\u001b[0;32m     12\u001b[0m \u001b[0max\u001b[0m\u001b[1;33m.\u001b[0m\u001b[0mtext\u001b[0m\u001b[1;33m(\u001b[0m\u001b[1;36m1.1\u001b[0m\u001b[1;33m,\u001b[0m \u001b[1;36m190\u001b[0m\u001b[1;33m,\u001b[0m \u001b[1;34m'{}%'\u001b[0m \u001b[1;33m.\u001b[0m\u001b[0mformat\u001b[0m\u001b[1;33m(\u001b[0m\u001b[0mstr\u001b[0m\u001b[1;33m(\u001b[0m\u001b[0mround\u001b[0m\u001b[1;33m(\u001b[0m\u001b[0msmoker\u001b[0m\u001b[1;33m[\u001b[0m\u001b[1;36m1\u001b[0m\u001b[1;33m]\u001b[0m\u001b[1;33m[\u001b[0m\u001b[1;36m1\u001b[0m\u001b[1;33m]\u001b[0m\u001b[1;33m/\u001b[0m\u001b[0msum\u001b[0m\u001b[1;33m(\u001b[0m\u001b[0msmoker\u001b[0m\u001b[1;33m[\u001b[0m\u001b[1;36m1\u001b[0m\u001b[1;33m]\u001b[0m\u001b[1;33m)\u001b[0m\u001b[1;33m*\u001b[0m\u001b[1;36m100\u001b[0m\u001b[1;33m,\u001b[0m\u001b[1;36m1\u001b[0m\u001b[1;33m)\u001b[0m\u001b[1;33m)\u001b[0m\u001b[1;33m)\u001b[0m\u001b[1;33m,\u001b[0m \u001b[0mha\u001b[0m\u001b[1;33m=\u001b[0m\u001b[1;34m'right'\u001b[0m\u001b[1;33m,\u001b[0m \u001b[0mva\u001b[0m\u001b[1;33m=\u001b[0m\u001b[1;34m'center'\u001b[0m\u001b[1;33m,\u001b[0m \u001b[0msize\u001b[0m\u001b[1;33m=\u001b[0m\u001b[1;36m13\u001b[0m\u001b[1;33m,\u001b[0m \u001b[0mfontdict\u001b[0m\u001b[1;33m=\u001b[0m\u001b[1;33m{\u001b[0m\u001b[1;34m'weight'\u001b[0m\u001b[1;33m:\u001b[0m \u001b[1;34m'bold'\u001b[0m\u001b[1;33m}\u001b[0m\u001b[1;33m)\u001b[0m\u001b[1;33m\u001b[0m\u001b[1;33m\u001b[0m\u001b[0m\n\u001b[0;32m     13\u001b[0m \u001b[0mplt\u001b[0m\u001b[1;33m.\u001b[0m\u001b[0mxlabel\u001b[0m\u001b[1;33m(\u001b[0m\u001b[1;34m'Smoker'\u001b[0m\u001b[1;33m)\u001b[0m\u001b[1;33m\u001b[0m\u001b[1;33m\u001b[0m\u001b[0m\n",
      "\u001b[1;31mNameError\u001b[0m: name 'smoker' is not defined"
     ]
    },
    {
     "data": {
      "image/png": "[encoded data removed]",
      "text/plain": [
       "<Figure size 1440x1800 with 1 Axes>"
      ]
     },
     "metadata": {
      "needs_background": "light"
     },
     "output_type": "display_data"
    }
   ],
   "source": [
    "#Plots to see the distribution of the catagorical features individually\n",
    "\n",
    "plt.figure(figsize=(20,25))\n",
    "\n",
    "\n",
    "x = Ins.smoker.value_counts().index    #Values for x-axis\n",
    "y = [Ins['smoker'].value_counts()[i] for i in x]   # Count of each class on y-axis\n",
    "\n",
    "ax = plt.subplot(4,2,1)\n",
    "plt.bar(x,y, align='center',edgecolor = 'black', color='pink', alpha = 0.7)  #plot a bar chart\n",
    "ax.text(0.1, 990, '{}%' .format(str(round(smoker[1][0]/sum(smoker[1])*100,1))), ha='right', va='center', size=13, fontdict={'weight': 'bold'})\n",
    "ax.text(1.1, 190, '{}%' .format(str(round(smoker[1][1]/sum(smoker[1])*100,1))), ha='right', va='center', size=13, fontdict={'weight': 'bold'})\n",
    "plt.xlabel('Smoker')\n",
    "plt.ylabel('Count ')\n",
    "plt.title('Smoker distribution')\n",
    "\n",
    "x1 = Ins.gender.value_counts().index    #Values for x-axis\n",
    "y1 = [Ins['gender'].value_counts()[j] for j in x1]   # Count of each class on y-axis\n",
    "\n",
    "ax1 = plt.subplot(4,2,2)\n",
    "plt.bar(x1,y1, align='center',edgecolor = 'black', color='pink', alpha = 0.7)  #plot a barchart\n",
    "ax1.text(0.1, 640, '{}%' .format(str(round(gender[1][1]/sum(gender[1])*100,1))), ha='right', va='center', size=13, fontdict={'weight': 'bold'})\n",
    "ax1.text(1.1, 620, '{}%' .format(str(round(gender[1][0]/sum(gender[1])*100,1))), ha='right', va='center', size=13, fontdict={'weight': 'bold'})\n",
    "plt.xlabel('Gender')\n",
    "plt.ylabel('Count')\n",
    "plt.title('Gender distribution')\n",
    "\n",
    "\n",
    "x2 = Ins.diabetic.value_counts().index    #Values for x-axis\n",
    "y2 = [Ins['diabetic'].value_counts()[j] for j in x2]   # Count of each class on y-axis\n",
    "\n",
    "ax2 = plt.subplot(4,2,3)\n",
    "plt.bar(x2,y2, align='center',edgecolor = 'black',color='pink',alpha = 0.7)  #plot a bar chart\n",
    "ax2.text(0.1, 660, '{}%' .format(str(round(diabetic[1][0]/sum(diabetic[1])*100,1))), ha='right', va='center', size=13, fontdict={'weight': 'bold'})\n",
    "ax2.text(1.1, 600, '{}%' .format(str(round(diabetic[1][1]/sum(diabetic[1])*100,1))), ha='right', va='center', size=13, fontdict={'weight': 'bold'})\n",
    "plt.xlabel('diabetic')\n",
    "plt.ylabel('Count')\n",
    "plt.title('Diabetic distribution')\n",
    "\n",
    "x3 = Ins.region.value_counts().index    #Values for x-axis\n",
    "y3 = [Ins['region'].value_counts()[k] for k in x3]   # Count of each class on y-axis\n",
    "\n",
    "ax3 = plt.subplot(4,2,4)\n",
    "sns.barplot(x=list(region[0]), y=list(region[1]), ax=ax3, color='pink');\n",
    "#plt.bar(x3,y3, align='center',edgecolor = 'black',alpha = 0.7)  #plot a bar chart\n",
    "ax3.text(0.2, 200, '{}%' .format(str(round(region[1][0]/sum(region[1])*100,1))), ha='right', va='center', size=13, fontdict={'weight': 'bold'})\n",
    "ax3.text(1.2, 320, '{}%' .format(str(round(region[1][1]/sum(region[1])*100,1))), ha='right', va='center', size=13, fontdict={'weight': 'bold'})\n",
    "ax3.text(2.2, 420, '{}%' .format(str(round(region[1][2]/sum(region[1])*100,1))), ha='right', va='center', size=13, fontdict={'weight': 'bold'})\n",
    "ax3.text(3.2, 290, '{}%' .format(str(round(region[1][3]/sum(region[1])*100,1))), ha='right', va='center', size=13, fontdict={'weight': 'bold'})\n",
    "plt.xlabel('Region')\n",
    "plt.ylabel('Count ')\n",
    "plt.title(\"Region distribution\")\n",
    "\n",
    "plt.show()\n",
    "\n",
    "ax4 = plt.figure(figsize=(6,6))\n",
    "sns.countplot(x='children', data=Ins)\n",
    "plt.title(\"Children distribution\")\n",
    "plt.show()"
   ]
  },
  {
   "cell_type": "code",
   "execution_count": null,
   "id": "86ed30e7",
   "metadata": {},
   "outputs": [],
   "source": [
    "Ins.children.value_counts()"
   ]
  },
  {
   "cell_type": "markdown",
   "id": "19f49acb",
   "metadata": {},
   "source": [
    "#### Observations on categorical / discrete variable"
   ]
  },
  {
   "cell_type": "markdown",
   "id": "330b9193",
   "metadata": {},
   "source": [
    "#### Smoker: \n",
    "Distribution of Non smoker is high viz Smoker i.e 80:20 ratio\n",
    "    \n",
    "#### Gender: \n",
    "Distribution of gender - Male vs Female is almost similar i.e 50.6% & 49.4% resp\n",
    "    \n",
    "##### Diabetic: \n",
    "Distribution of diabetic & non diabetic is not much of a difference 47.91% & 52.09% resp\n",
    "    \n",
    "##### Region: \n",
    "Majority patients belongs to southeast region 33% followed by northwest region with 26%\n",
    "    \n",
    "#### Children: \n",
    "Majority patients(43%) do not have children and only 3% patients have > 3 children"
   ]
  },
  {
   "cell_type": "code",
   "execution_count": null,
   "id": "91e94b15",
   "metadata": {},
   "outputs": [],
   "source": [
    "drop = Ins.drop('PatientID',axis=1)  #so dropping id column which is a nominal value and does not add value to the model"
   ]
  },
  {
   "cell_type": "markdown",
   "id": "d113b499",
   "metadata": {},
   "source": [
    "## II. Bi- Variate Analysis"
   ]
  },
  {
   "cell_type": "markdown",
   "id": "9df002cf",
   "metadata": {},
   "source": [
    "#### Questions for further exploration basis univariate analysis:\n",
    "i.   If high claims are paid to high aged patients as compared to younger patients; \n",
    "\n",
    "##### Rationale: Higher age people are more vulnerable to illness due to high age factor\n",
    "\n",
    "ii.  Whether claims are high towards patients with higher BMI of patient; \n",
    "\n",
    "##### Rationale: Patients with higher BMI indicates they are unhealthy and would be more prone to illness\n",
    "\n",
    "iii. Whether there is co-relation between two features -BMI and BP \n",
    "\n",
    "##### Rationale: Intuitively it feels that there could be a collinearity between BMI and BP  because high BMI leads to obsesity which can  impact heart\n",
    "\n",
    "iv.  Whether high claim amt to smokers as compared to non smoker\n",
    "\n",
    "##### Rationale: Simply, because smoking is unhealthy and adverse effects on health\n",
    "\n",
    "v.   Whether there is any particular region where claim paid is high\n",
    "\n",
    "##### Rationale:  To probe further if there are other factors that is elevating the claims payment in particular region\n",
    "\n",
    "vi.  Whether gender influence claims payment \n",
    "\n",
    "##### Rationale:  \n",
    "\n",
    "vii.  Whether claim is paid to Diabetic patient is high as compared to non-diabetic patients \n",
    "\n",
    "##### Rationale: Having Diabeties is anyway a serious concern towards health and if same is not in control range  it aggravates health issues\n",
    "\n",
    "viii. Whether claims paid is high to patients with high BP levels\n",
    "\n",
    "##### Rationale: Patients with high BP levels is concerning and has impact on heart and increase possibility of heart diesesases"
   ]
  },
  {
   "cell_type": "code",
   "execution_count": null,
   "id": "c5a9242d",
   "metadata": {},
   "outputs": [],
   "source": [
    "corr = Ins.corr()\n",
    "corr.style.background_gradient()"
   ]
  },
  {
   "cell_type": "markdown",
   "id": "1c4c4ced",
   "metadata": {},
   "source": [
    "#### Observation:\n",
    "i. Not very significant correlation observed between any feature with target variable; However there is presence of some co-relation observed between claim & bloodpressure(0.53) & claim & bmi(0.19)\n",
    "\n",
    "ii. Among feature variable, co-relation between BP & BMI observed (0.14) which is low"
   ]
  },
  {
   "cell_type": "markdown",
   "id": "4dd19bf8",
   "metadata": {},
   "source": [
    "##### Question 1- Is higher claim paid to high aged patients as compared to younger patients; As with higher age people are more likely to be prone to illness"
   ]
  },
  {
   "cell_type": "code",
   "execution_count": null,
   "id": "059a1fd1",
   "metadata": {},
   "outputs": [],
   "source": [
    "sns.lineplot(data=Ins, x=\"age\", y=\"claim\")"
   ]
  },
  {
   "cell_type": "markdown",
   "id": "e6fbafad",
   "metadata": {},
   "source": [
    "#### Observation: We see no specific trend/pattern or co -relation between age and claims paid; \n",
    "\n",
    "#### Highest claim paid to a patient aged 22-23 yrs old which appears to be a one off scenario and does not form part of any trend/pattern "
   ]
  },
  {
   "cell_type": "code",
   "execution_count": null,
   "id": "d412d9df",
   "metadata": {},
   "outputs": [],
   "source": []
  },
  {
   "cell_type": "markdown",
   "id": "0f4aee00",
   "metadata": {},
   "source": [
    "##### Question 2- Whether higher claims  paid to patients with higher BMI as higher BMI is unhealthy indicates obesity and can be more prone to illness"
   ]
  },
  {
   "cell_type": "code",
   "execution_count": null,
   "id": "b713494c",
   "metadata": {},
   "outputs": [],
   "source": [
    "import seaborn as sns\n",
    "plt.figure(figsize=(10,6))\n",
    "sns.scatterplot(y='claim', x='bmi',data=Ins)\n",
    "plt.title('BMI and claim')\n",
    "plt.show()"
   ]
  },
  {
   "cell_type": "markdown",
   "id": "3d2eff4c",
   "metadata": {},
   "source": [
    "##### Observation: We see high claim  (>30 K ) is paid only towards patients with high BMI>30 ; \n",
    "\n",
    "##### With this observation we will valid this claim through Hypothesis testing\n",
    "##### Additionally, it also gives an indication that there could be other factors coupled with BMI that contributes to higher claim payment which can be explored through  multi variate analysis"
   ]
  },
  {
   "cell_type": "code",
   "execution_count": null,
   "id": "39a8957c",
   "metadata": {},
   "outputs": [],
   "source": []
  },
  {
   "cell_type": "markdown",
   "id": "f8f48f56",
   "metadata": {},
   "source": [
    "##### Question 3- Whether higher claim amt paid to smokers as compared to non smoker"
   ]
  },
  {
   "cell_type": "code",
   "execution_count": null,
   "id": "a731fb78",
   "metadata": {},
   "outputs": [],
   "source": [
    "#Plotting a side ny side boxplot \n",
    "Ins.boxplot(column=\"claim\", notch=True, ## Notch here is mentioned to change the shape of boxplot\n",
    "                 by=\"smoker\",\n",
    "                grid=False,\n",
    "                figsize=(8,6),\n",
    "                rot=45) ## Change the angle of the label to avoid cluttering\n",
    "\n",
    "plt.show()"
   ]
  },
  {
   "cell_type": "markdown",
   "id": "4ea4672f",
   "metadata": {},
   "source": [
    "##### Observation: Higher claim payment made to patients with history of smoking in comparison with the patients with no smoking habits\n",
    "(Claim amt is more than thrice the claim amt paid towards smokers viz non smokers)"
   ]
  },
  {
   "cell_type": "code",
   "execution_count": null,
   "id": "ddb84781",
   "metadata": {},
   "outputs": [],
   "source": []
  },
  {
   "cell_type": "markdown",
   "id": "222269ed",
   "metadata": {},
   "source": [
    "##### Question 4: Is claim paid / higher claim paid to patients with higher BP"
   ]
  },
  {
   "cell_type": "code",
   "execution_count": null,
   "id": "ef65c214",
   "metadata": {},
   "outputs": [],
   "source": [
    "import seaborn as sns\n",
    "plt.figure(figsize=(10,6))\n",
    "sns.scatterplot(y='claim', x='bloodpressure',data=Ins)\n",
    "plt.title('Bloodpressure and claim')\n",
    "plt.show()"
   ]
  },
  {
   "cell_type": "markdown",
   "id": "9c3bb3c5",
   "metadata": {},
   "source": [
    "##### Observation: Patients with high BP level i.e >110 are paid higher claim amt >29K"
   ]
  },
  {
   "cell_type": "markdown",
   "id": "71099c00",
   "metadata": {},
   "source": [
    "##### Question 5: Which region contribute towards higher claim payment"
   ]
  },
  {
   "cell_type": "code",
   "execution_count": null,
   "id": "71a1372b",
   "metadata": {},
   "outputs": [],
   "source": [
    "#Side by Side boxplot\n",
    "\n",
    "Ins.boxplot(column=\"claim\", notch=True, ## Notch here is mentioned to change the shape of boxplot\n",
    "                 by=\"region\",\n",
    "                grid=False,\n",
    "                figsize=(8,6),\n",
    "                rot=45) ## Change the angle of the label to avoid cluttering\n",
    "\n",
    "plt.show()"
   ]
  },
  {
   "cell_type": "markdown",
   "id": "65b360c7",
   "metadata": {},
   "source": [
    "##### Observation: We have received high no. of claims from south east which we already deduced from univariate analysis \n",
    "##### however higher claim amt is paid in northeast region"
   ]
  },
  {
   "cell_type": "markdown",
   "id": "e99e16cd",
   "metadata": {},
   "source": [
    "##### Question 6: Whether claim paid higher towards Diabetic patient more prone health concerns "
   ]
  },
  {
   "cell_type": "code",
   "execution_count": null,
   "id": "9c888349",
   "metadata": {},
   "outputs": [],
   "source": [
    "# Side by Side boxplot\n",
    "\n",
    "#Plotting a boxplot for the variable MPG\n",
    "Ins.boxplot(column=\"claim\", notch=True, ## Notch here is mentioned to change the shape of boxplot\n",
    "                 by=\"diabetic\",\n",
    "                grid=False,\n",
    "                figsize=(8,6),\n",
    "                rot=45) ## Change the angle of the label to avoid cluttering\n",
    "\n",
    "plt.show()"
   ]
  },
  {
   "cell_type": "markdown",
   "id": "c81f8b27",
   "metadata": {},
   "source": [
    "##### Obseration: We see no trend/pattern between diabetic and non diabetic patients with claims"
   ]
  },
  {
   "cell_type": "markdown",
   "id": "c4e26cdb",
   "metadata": {},
   "source": [
    "##### Question 7: Is blood pressure and BMI correlated"
   ]
  },
  {
   "cell_type": "code",
   "execution_count": null,
   "id": "141b82b4",
   "metadata": {},
   "outputs": [],
   "source": [
    "Ins.plot(kind=\"scatter\",\n",
    "             figsize=(6,5),\n",
    "             x=\"bloodpressure\", y=\"bmi\",\n",
    "             color=\"black\")\n",
    "\n",
    "plt.show()"
   ]
  },
  {
   "cell_type": "markdown",
   "id": "c71412d5",
   "metadata": {},
   "source": [
    "##### Observation: Patients with BP >110 generally have BMI more than the std range i.e 25"
   ]
  },
  {
   "cell_type": "markdown",
   "id": "6dd9be36",
   "metadata": {},
   "source": [
    "#### Question 8: Has gender to play any role in claim payment"
   ]
  },
  {
   "cell_type": "code",
   "execution_count": null,
   "id": "228beaca",
   "metadata": {},
   "outputs": [],
   "source": [
    "#Plotting a side ny side boxplot \n",
    "Ins.boxplot(column=\"claim\", notch=True, ## Notch here is mentioned to change the shape of boxplot\n",
    "                 by=\"gender\",\n",
    "                grid=False,\n",
    "                figsize=(8,6),\n",
    "                rot=45) ## Change the angle of the label to avoid cluttering\n",
    "\n",
    "plt.show()"
   ]
  },
  {
   "cell_type": "markdown",
   "id": "a46de096",
   "metadata": {},
   "source": [
    "##### Obseration: We observe in our sample claims are slightly towards male patients as compared to female patients"
   ]
  },
  {
   "cell_type": "markdown",
   "id": "18b00f8d",
   "metadata": {},
   "source": [
    "## III. Multi variate Analysis"
   ]
  },
  {
   "cell_type": "markdown",
   "id": "31b7df3b",
   "metadata": {},
   "source": [
    "i. Relationship b/w Age, Gender , Claim"
   ]
  },
  {
   "cell_type": "markdown",
   "id": "ab881cf5",
   "metadata": {},
   "source": [
    "#### Observation: \n",
    "\n",
    "#### From age group 18-22 years claim payment is made to males only whereas in from age group 50-60 claim payment is made to females\n",
    "\n",
    "i.  It could be that insurance claim is actually not paid in the aforesaid age groups for respective gender(Highly unlikely though), OR \n",
    "\n",
    "ii. There could be a scenario of sampling issue"
   ]
  },
  {
   "cell_type": "code",
   "execution_count": null,
   "id": "44a38baa",
   "metadata": {},
   "outputs": [],
   "source": [
    "g = sns.lmplot(x=\"age\", y=\"claim\", hue=\"gender\", data=Ins)"
   ]
  },
  {
   "cell_type": "markdown",
   "id": "0e2c9a33",
   "metadata": {},
   "source": [
    "ii. Relationship b/w BMI, Smoker , Claim"
   ]
  },
  {
   "cell_type": "markdown",
   "id": "81676f24",
   "metadata": {},
   "source": [
    "#### Observation:\n",
    "\n",
    "#### We observed in our sample that claim payment is showing an increasing trend for patients with high BMI and who is a smoker indicating that combination of unhealthy habit such as Smoking with high BMI results in high risk thus paying high claim amt;\n",
    "\n",
    "\n",
    "Low claim payment paid to non smokers and through this visualisation we observe that non smoker irrespective of BMI range is likey to have low risk of illness thus paid low claim amt\n"
   ]
  },
  {
   "cell_type": "code",
   "execution_count": null,
   "id": "b9b58ed3",
   "metadata": {},
   "outputs": [],
   "source": [
    "g = sns.lmplot(x=\"bmi\", y=\"claim\", hue=\"smoker\", data=Ins)\n",
    "plt.title('Relationship - BMI to Claim to Smoking', fontsize='12', fontweight='bold')"
   ]
  },
  {
   "cell_type": "markdown",
   "id": "c82e50cf",
   "metadata": {},
   "source": [
    "iii. Relationship b/w Region, Smoker , Claim"
   ]
  },
  {
   "cell_type": "markdown",
   "id": "40ed29b4",
   "metadata": {},
   "source": [
    "#### Observation:\n",
    "\n",
    "#### We observed in our sample no. of  smoker male patients is high in south east region. Claim payment is also high in the said region"
   ]
  },
  {
   "cell_type": "code",
   "execution_count": null,
   "id": "61e39334",
   "metadata": {},
   "outputs": [],
   "source": [
    "g = sns.catplot(x=\"region\", y=\"claim\", hue=\"smoker\",\n",
    "                col=\"gender\", data=Ins,\n",
    "                height=5, aspect=.8)"
   ]
  },
  {
   "cell_type": "markdown",
   "id": "71650aab",
   "metadata": {},
   "source": [
    "## Hypothesis testing"
   ]
  },
  {
   "cell_type": "markdown",
   "id": "31b513de",
   "metadata": {},
   "source": [
    "##### Hypo 1 : High claims paid to patients with smoking habits as compared to non smoking patients"
   ]
  },
  {
   "cell_type": "code",
   "execution_count": null,
   "id": "2d620e1b",
   "metadata": {},
   "outputs": [],
   "source": [
    "# T-test to check independency of claim on smoker\n",
    "\n",
    "Ho = \"The average claim of smokers is less than or equal to nonsmokers\"   # Stating the Null Hypothesis\n",
    "Ha = \"The average claim of smokers is greater than nonsmokers\"            # Stating the Alternate Hypothesis\n",
    "\n",
    "x = np.array(Ins[Ins.smoker == 'Yes'].claim)  # Selecting claim values corresponding to smoker as an array\n",
    "y = np.array(Ins[Ins.smoker == 'No'].claim) # Selecting claim values corresponding to non-smoker as an array\n",
    "\n",
    "t, p_value  = stats.ttest_ind(x,y, axis = 0)  #Performing an Independent t-test\n",
    "\n",
    "if p_value < 0.05:  # Setting our significance level at 5%\n",
    "    print(f'{Ha}; Thus, rejecting Null hypothesis as the p_value ({p_value.round()}) < 0.05')\n",
    "else:\n",
    "    print(f'{Ho}; Thus, failed to reject Nul l hypothesis as the p_value ({p_value.round(3)}) > 0.05')"
   ]
  },
  {
   "cell_type": "code",
   "execution_count": null,
   "id": "c7ddb014",
   "metadata": {},
   "outputs": [],
   "source": []
  },
  {
   "cell_type": "markdown",
   "id": "db54d830",
   "metadata": {},
   "source": [
    "#### Hypo 2: High claims paid to patients with BMI >30"
   ]
  },
  {
   "cell_type": "code",
   "execution_count": null,
   "id": "cc3f737d",
   "metadata": {},
   "outputs": [],
   "source": [
    "m1=Ins.claim[Ins.bmi>=32].mean()\n",
    "m1"
   ]
  },
  {
   "cell_type": "code",
   "execution_count": null,
   "id": "1207bb2a",
   "metadata": {},
   "outputs": [],
   "source": [
    "m2=Ins.claim[Ins.bmi<32].mean()\n",
    "m2"
   ]
  },
  {
   "cell_type": "code",
   "execution_count": null,
   "id": "f2fd3bb1",
   "metadata": {
    "scrolled": true
   },
   "outputs": [],
   "source": [
    "sd1=Ins.claim[Ins.bmi>=32].std()\n",
    "sd1"
   ]
  },
  {
   "cell_type": "code",
   "execution_count": null,
   "id": "9d8e330a",
   "metadata": {},
   "outputs": [],
   "source": [
    "sd2=Ins.claim[Ins.bmi>=32].std()\n",
    "sd2"
   ]
  },
  {
   "cell_type": "code",
   "execution_count": null,
   "id": "a038b6d2",
   "metadata": {},
   "outputs": [],
   "source": [
    "n1=Ins.claim[Ins.bmi>=32].count()\n",
    "n1"
   ]
  },
  {
   "cell_type": "code",
   "execution_count": null,
   "id": "3144a71e",
   "metadata": {
    "scrolled": true
   },
   "outputs": [],
   "source": [
    "n2=Ins.claim[Ins.bmi<32].count()\n",
    "n2"
   ]
  },
  {
   "cell_type": "markdown",
   "id": "6e654ed8",
   "metadata": {},
   "source": [
    "#### HO: Patients with high BMI >= 32 has high claim  or mu_claim(high bmi)<=mu_claim(low bmi) or  mu_claim(high bmi)-mu_claim(low bmi)<=0\n",
    "#### H1: Patients with high BMI <32 has high claim  or mu_claim(high bmi)>mu_claim(low bmi) or mu_claim(high bmi)-mu_claim(low bmi)>0"
   ]
  },
  {
   "cell_type": "code",
   "execution_count": null,
   "id": "027ac30a",
   "metadata": {},
   "outputs": [],
   "source": [
    "alpha=0.05\n",
    "df=541-1\n",
    "from scipy import stats\n",
    "t_crit=stats.t.ppf(alpha,df)\n",
    "t_crit"
   ]
  },
  {
   "cell_type": "code",
   "execution_count": null,
   "id": "979e0def",
   "metadata": {},
   "outputs": [],
   "source": [
    "t_test= (m1-m2)-(0)/np.sqrt((sd1/n1)+(sd2/n2))\n",
    "t_test"
   ]
  },
  {
   "cell_type": "code",
   "execution_count": null,
   "id": "602ed5a8",
   "metadata": {},
   "outputs": [],
   "source": [
    "p_value=stats.t.cdf(t_test,df)\n",
    "p_value"
   ]
  },
  {
   "cell_type": "code",
   "execution_count": null,
   "id": "6a02906b",
   "metadata": {},
   "outputs": [],
   "source": [
    "## We cannot reject the null hypothesis as we have sufficient evidence "
   ]
  },
  {
   "cell_type": "markdown",
   "id": "70b64dad",
   "metadata": {},
   "source": [
    "## Model building"
   ]
  },
  {
   "cell_type": "markdown",
   "id": "c6484785",
   "metadata": {},
   "source": [
    "## 1. Feature transformation"
   ]
  },
  {
   "cell_type": "markdown",
   "id": "e7354c3b",
   "metadata": {},
   "source": [
    "#### I. Transformation of Categorical variable into binary variable"
   ]
  },
  {
   "cell_type": "code",
   "execution_count": 35,
   "id": "fce39d3d",
   "metadata": {},
   "outputs": [],
   "source": [
    "##This is performed for the ease of model fitting and accuracy\n",
    "Ins.gender=Ins.gender.map({'male':0,'female':1})\n",
    "Ins.smoker=Ins.smoker.map({'Yes':0,'No':1})\n",
    "Ins.diabetic=Ins.diabetic.map({'Yes':0,'No':1})"
   ]
  },
  {
   "cell_type": "markdown",
   "id": "637458d1",
   "metadata": {},
   "source": [
    "#### II. One-Hot encoding for Region variable"
   ]
  },
  {
   "cell_type": "code",
   "execution_count": 36,
   "id": "f2e97754",
   "metadata": {},
   "outputs": [
    {
     "data": {
      "text/html": [
       "<div>\n",
       "<style scoped>\n",
       "    .dataframe tbody tr th:only-of-type {\n",
       "        vertical-align: middle;\n",
       "    }\n",
       "\n",
       "    .dataframe tbody tr th {\n",
       "        vertical-align: top;\n",
       "    }\n",
       "\n",
       "    .dataframe thead th {\n",
       "        text-align: right;\n",
       "    }\n",
       "</style>\n",
       "<table border=\"1\" class=\"dataframe\">\n",
       "  <thead>\n",
       "    <tr style=\"text-align: right;\">\n",
       "      <th></th>\n",
       "      <th>northeast</th>\n",
       "      <th>northwest</th>\n",
       "      <th>southeast</th>\n",
       "      <th>southwest</th>\n",
       "    </tr>\n",
       "  </thead>\n",
       "  <tbody>\n",
       "    <tr>\n",
       "      <th>0</th>\n",
       "      <td>0</td>\n",
       "      <td>0</td>\n",
       "      <td>1</td>\n",
       "      <td>0</td>\n",
       "    </tr>\n",
       "    <tr>\n",
       "      <th>1</th>\n",
       "      <td>0</td>\n",
       "      <td>0</td>\n",
       "      <td>1</td>\n",
       "      <td>0</td>\n",
       "    </tr>\n",
       "    <tr>\n",
       "      <th>2</th>\n",
       "      <td>0</td>\n",
       "      <td>0</td>\n",
       "      <td>1</td>\n",
       "      <td>0</td>\n",
       "    </tr>\n",
       "    <tr>\n",
       "      <th>3</th>\n",
       "      <td>0</td>\n",
       "      <td>1</td>\n",
       "      <td>0</td>\n",
       "      <td>0</td>\n",
       "    </tr>\n",
       "    <tr>\n",
       "      <th>4</th>\n",
       "      <td>0</td>\n",
       "      <td>1</td>\n",
       "      <td>0</td>\n",
       "      <td>0</td>\n",
       "    </tr>\n",
       "    <tr>\n",
       "      <th>...</th>\n",
       "      <td>...</td>\n",
       "      <td>...</td>\n",
       "      <td>...</td>\n",
       "      <td>...</td>\n",
       "    </tr>\n",
       "    <tr>\n",
       "      <th>1335</th>\n",
       "      <td>0</td>\n",
       "      <td>1</td>\n",
       "      <td>0</td>\n",
       "      <td>0</td>\n",
       "    </tr>\n",
       "    <tr>\n",
       "      <th>1336</th>\n",
       "      <td>1</td>\n",
       "      <td>0</td>\n",
       "      <td>0</td>\n",
       "      <td>0</td>\n",
       "    </tr>\n",
       "    <tr>\n",
       "      <th>1337</th>\n",
       "      <td>0</td>\n",
       "      <td>1</td>\n",
       "      <td>0</td>\n",
       "      <td>0</td>\n",
       "    </tr>\n",
       "    <tr>\n",
       "      <th>1338</th>\n",
       "      <td>0</td>\n",
       "      <td>0</td>\n",
       "      <td>1</td>\n",
       "      <td>0</td>\n",
       "    </tr>\n",
       "    <tr>\n",
       "      <th>1339</th>\n",
       "      <td>0</td>\n",
       "      <td>0</td>\n",
       "      <td>1</td>\n",
       "      <td>0</td>\n",
       "    </tr>\n",
       "  </tbody>\n",
       "</table>\n",
       "<p>1340 rows × 4 columns</p>\n",
       "</div>"
      ],
      "text/plain": [
       "      northeast  northwest  southeast  southwest\n",
       "0             0          0          1          0\n",
       "1             0          0          1          0\n",
       "2             0          0          1          0\n",
       "3             0          1          0          0\n",
       "4             0          1          0          0\n",
       "...         ...        ...        ...        ...\n",
       "1335          0          1          0          0\n",
       "1336          1          0          0          0\n",
       "1337          0          1          0          0\n",
       "1338          0          0          1          0\n",
       "1339          0          0          1          0\n",
       "\n",
       "[1340 rows x 4 columns]"
      ]
     },
     "execution_count": 36,
     "metadata": {},
     "output_type": "execute_result"
    }
   ],
   "source": [
    "# iCreating dummy value for variable region same as one hot encoding\n",
    "\n",
    "dummy=pd.get_dummies(Ins[\"region\"])\n",
    "dummy"
   ]
  },
  {
   "cell_type": "code",
   "execution_count": 37,
   "id": "bb79705c",
   "metadata": {},
   "outputs": [],
   "source": [
    "# Adding dummy variable to the dataset and dropping original variable \"Region\"\n",
    "Ins = pd.concat([Ins, dummy], axis=1).drop('region', axis=1)"
   ]
  },
  {
   "cell_type": "markdown",
   "id": "acab62d6",
   "metadata": {},
   "source": [
    "#### III. Creating bins for continous variables "
   ]
  },
  {
   "cell_type": "code",
   "execution_count": 38,
   "id": "609129f1",
   "metadata": {},
   "outputs": [
    {
     "data": {
      "text/html": [
       "<div>\n",
       "<style scoped>\n",
       "    .dataframe tbody tr th:only-of-type {\n",
       "        vertical-align: middle;\n",
       "    }\n",
       "\n",
       "    .dataframe tbody tr th {\n",
       "        vertical-align: top;\n",
       "    }\n",
       "\n",
       "    .dataframe thead th {\n",
       "        text-align: right;\n",
       "    }\n",
       "</style>\n",
       "<table border=\"1\" class=\"dataframe\">\n",
       "  <thead>\n",
       "    <tr style=\"text-align: right;\">\n",
       "      <th></th>\n",
       "      <th>PatientID</th>\n",
       "      <th>age</th>\n",
       "      <th>gender</th>\n",
       "      <th>bmi</th>\n",
       "      <th>bloodpressure</th>\n",
       "      <th>diabetic</th>\n",
       "      <th>children</th>\n",
       "      <th>smoker</th>\n",
       "      <th>claim</th>\n",
       "      <th>northeast</th>\n",
       "      <th>northwest</th>\n",
       "      <th>southeast</th>\n",
       "      <th>southwest</th>\n",
       "    </tr>\n",
       "  </thead>\n",
       "  <tbody>\n",
       "    <tr>\n",
       "      <th>0</th>\n",
       "      <td>1</td>\n",
       "      <td>39.000000</td>\n",
       "      <td>0</td>\n",
       "      <td>23.2</td>\n",
       "      <td>91</td>\n",
       "      <td>0</td>\n",
       "      <td>0</td>\n",
       "      <td>1</td>\n",
       "      <td>1121.87</td>\n",
       "      <td>0</td>\n",
       "      <td>0</td>\n",
       "      <td>1</td>\n",
       "      <td>0</td>\n",
       "    </tr>\n",
       "    <tr>\n",
       "      <th>1</th>\n",
       "      <td>2</td>\n",
       "      <td>24.000000</td>\n",
       "      <td>0</td>\n",
       "      <td>30.1</td>\n",
       "      <td>87</td>\n",
       "      <td>1</td>\n",
       "      <td>0</td>\n",
       "      <td>1</td>\n",
       "      <td>1131.51</td>\n",
       "      <td>0</td>\n",
       "      <td>0</td>\n",
       "      <td>1</td>\n",
       "      <td>0</td>\n",
       "    </tr>\n",
       "    <tr>\n",
       "      <th>2</th>\n",
       "      <td>3</td>\n",
       "      <td>38.078652</td>\n",
       "      <td>0</td>\n",
       "      <td>33.3</td>\n",
       "      <td>82</td>\n",
       "      <td>0</td>\n",
       "      <td>0</td>\n",
       "      <td>1</td>\n",
       "      <td>1135.94</td>\n",
       "      <td>0</td>\n",
       "      <td>0</td>\n",
       "      <td>1</td>\n",
       "      <td>0</td>\n",
       "    </tr>\n",
       "    <tr>\n",
       "      <th>3</th>\n",
       "      <td>4</td>\n",
       "      <td>38.078652</td>\n",
       "      <td>0</td>\n",
       "      <td>33.7</td>\n",
       "      <td>80</td>\n",
       "      <td>1</td>\n",
       "      <td>0</td>\n",
       "      <td>1</td>\n",
       "      <td>1136.40</td>\n",
       "      <td>0</td>\n",
       "      <td>1</td>\n",
       "      <td>0</td>\n",
       "      <td>0</td>\n",
       "    </tr>\n",
       "    <tr>\n",
       "      <th>4</th>\n",
       "      <td>5</td>\n",
       "      <td>38.078652</td>\n",
       "      <td>0</td>\n",
       "      <td>34.1</td>\n",
       "      <td>100</td>\n",
       "      <td>1</td>\n",
       "      <td>0</td>\n",
       "      <td>1</td>\n",
       "      <td>1137.01</td>\n",
       "      <td>0</td>\n",
       "      <td>1</td>\n",
       "      <td>0</td>\n",
       "      <td>0</td>\n",
       "    </tr>\n",
       "  </tbody>\n",
       "</table>\n",
       "</div>"
      ],
      "text/plain": [
       "   PatientID        age  gender   bmi  bloodpressure  diabetic  children  \\\n",
       "0          1  39.000000       0  23.2             91         0         0   \n",
       "1          2  24.000000       0  30.1             87         1         0   \n",
       "2          3  38.078652       0  33.3             82         0         0   \n",
       "3          4  38.078652       0  33.7             80         1         0   \n",
       "4          5  38.078652       0  34.1            100         1         0   \n",
       "\n",
       "   smoker    claim  northeast  northwest  southeast  southwest  \n",
       "0       1  1121.87          0          0          1          0  \n",
       "1       1  1131.51          0          0          1          0  \n",
       "2       1  1135.94          0          0          1          0  \n",
       "3       1  1136.40          0          1          0          0  \n",
       "4       1  1137.01          0          1          0          0  "
      ]
     },
     "execution_count": 38,
     "metadata": {},
     "output_type": "execute_result"
    }
   ],
   "source": [
    "Ins.head()"
   ]
  },
  {
   "cell_type": "code",
   "execution_count": 39,
   "id": "3cc7a1b9",
   "metadata": {},
   "outputs": [
    {
     "name": "stdout",
     "output_type": "stream",
     "text": [
      "   PatientID        age  gender   bmi  bloodpressure  diabetic  children  \\\n",
      "0          1  39.000000       0  23.2             91         0         0   \n",
      "1          2  24.000000       0  30.1             87         1         0   \n",
      "2          3  38.078652       0  33.3             82         0         0   \n",
      "3          4  38.078652       0  33.7             80         1         0   \n",
      "4          5  38.078652       0  34.1            100         1         0   \n",
      "\n",
      "   smoker    claim  northeast  northwest  southeast  southwest  BMIgroup  \n",
      "0       1  1121.87          0          0          1          0  Standard  \n",
      "1       1  1131.51          0          0          1          0  Moderate  \n",
      "2       1  1135.94          0          0          1          0      High  \n",
      "3       1  1136.40          0          1          0          0      High  \n",
      "4       1  1137.01          0          1          0          0      High  \n"
     ]
    }
   ],
   "source": [
    "# Binning of BMI variable with labels\n",
    "\n",
    "Ins['BMIgroup']=pd.cut(x=Ins['bmi'], bins=[11, 18,25,32,39,46,53], \n",
    "                        labels=[\"Very Low\", \"Standard\",\"Moderate\", \"High\",\"Very high\", \"Extremely High\"])\n",
    "print(Ins.head())"
   ]
  },
  {
   "cell_type": "code",
   "execution_count": 40,
   "id": "054d8af4",
   "metadata": {},
   "outputs": [
    {
     "name": "stdout",
     "output_type": "stream",
     "text": [
      "   PatientID        age  gender   bmi  bloodpressure  diabetic  children  \\\n",
      "0          1  39.000000       0  23.2             91         0         0   \n",
      "1          2  24.000000       0  30.1             87         1         0   \n",
      "2          3  38.078652       0  33.3             82         0         0   \n",
      "3          4  38.078652       0  33.7             80         1         0   \n",
      "4          5  38.078652       0  34.1            100         1         0   \n",
      "\n",
      "   smoker    claim  northeast  northwest  southeast  southwest  BMIgroup  \\\n",
      "0       1  1121.87          0          0          1          0  Standard   \n",
      "1       1  1131.51          0          0          1          0  Moderate   \n",
      "2       1  1135.94          0          0          1          0      High   \n",
      "3       1  1136.40          0          1          0          0      High   \n",
      "4       1  1137.01          0          1          0          0      High   \n",
      "\n",
      "  BMIgroup1  \n",
      "0         2  \n",
      "1         3  \n",
      "2         4  \n",
      "3         4  \n",
      "4         4  \n"
     ]
    }
   ],
   "source": [
    "# Binning of BMI variable with numerical labels\n",
    "\n",
    "Ins['BMIgroup1']=pd.cut(x=Ins['bmi'], bins=[11,18,25,32,39,46,54], \n",
    "                        labels=[1,2,3,4,5,6])\n",
    "print(Ins.head())"
   ]
  },
  {
   "cell_type": "code",
   "execution_count": 41,
   "id": "17412265",
   "metadata": {},
   "outputs": [],
   "source": [
    "# Changing the data tyoe of bin created for BMI form category to object\n",
    "\n",
    "Ins[\"BMIgroup\"] = Ins [\"BMIgroup\"].astype(object)"
   ]
  },
  {
   "cell_type": "code",
   "execution_count": 42,
   "id": "b80801fb",
   "metadata": {},
   "outputs": [
    {
     "name": "stdout",
     "output_type": "stream",
     "text": [
      "   PatientID        age  gender   bmi  bloodpressure  diabetic  children  \\\n",
      "0          1  39.000000       0  23.2             91         0         0   \n",
      "1          2  24.000000       0  30.1             87         1         0   \n",
      "2          3  38.078652       0  33.3             82         0         0   \n",
      "3          4  38.078652       0  33.7             80         1         0   \n",
      "4          5  38.078652       0  34.1            100         1         0   \n",
      "\n",
      "   smoker    claim  northeast  northwest  southeast  southwest  BMIgroup  \\\n",
      "0       1  1121.87          0          0          1          0  Standard   \n",
      "1       1  1131.51          0          0          1          0  Moderate   \n",
      "2       1  1135.94          0          0          1          0      High   \n",
      "3       1  1136.40          0          1          0          0      High   \n",
      "4       1  1137.01          0          1          0          0      High   \n",
      "\n",
      "  BMIgroup1         BPgroup  \n",
      "0         2  Above standard  \n",
      "1         3        Standard  \n",
      "2         4        Standard  \n",
      "3         4             Low  \n",
      "4         4  Above standard  \n"
     ]
    }
   ],
   "source": [
    "\n",
    "# Binning of BMI variable with labels\n",
    "\n",
    "Ins['BPgroup']=pd.cut(x=Ins['bloodpressure'], bins=[70,80,90,100,110,120,130,140], \n",
    "                        labels=[\"Low\", \"Standard\",\"Above standard\",\"High\",\"Very High\",\"Extremely high\", \"At Risk\"])\n",
    "print(Ins.head())"
   ]
  },
  {
   "cell_type": "code",
   "execution_count": 43,
   "id": "841b1e18",
   "metadata": {},
   "outputs": [
    {
     "name": "stdout",
     "output_type": "stream",
     "text": [
      "   PatientID        age  gender   bmi  bloodpressure  diabetic  children  \\\n",
      "0          1  39.000000       0  23.2             91         0         0   \n",
      "1          2  24.000000       0  30.1             87         1         0   \n",
      "2          3  38.078652       0  33.3             82         0         0   \n",
      "3          4  38.078652       0  33.7             80         1         0   \n",
      "4          5  38.078652       0  34.1            100         1         0   \n",
      "\n",
      "   smoker    claim  northeast  northwest  southeast  southwest  BMIgroup  \\\n",
      "0       1  1121.87          0          0          1          0  Standard   \n",
      "1       1  1131.51          0          0          1          0  Moderate   \n",
      "2       1  1135.94          0          0          1          0      High   \n",
      "3       1  1136.40          0          1          0          0      High   \n",
      "4       1  1137.01          0          1          0          0      High   \n",
      "\n",
      "  BMIgroup1         BPgroup BPgroup1  \n",
      "0         2  Above standard        3  \n",
      "1         3        Standard        2  \n",
      "2         4        Standard        2  \n",
      "3         4             Low        1  \n",
      "4         4  Above standard        3  \n"
     ]
    }
   ],
   "source": [
    "# Binning of BMI variable with numerical labels\n",
    "\n",
    "Ins['BPgroup1']=pd.cut(x=Ins['bloodpressure'], bins=[70,80,90,100,110,120,130,140], \n",
    "                        labels=[1,2,3,4,5,6,7])\n",
    "print(Ins.head())"
   ]
  },
  {
   "cell_type": "markdown",
   "id": "c51ee1d0",
   "metadata": {},
   "source": [
    "#### IV. Log Transformation - Target variable"
   ]
  },
  {
   "cell_type": "code",
   "execution_count": 46,
   "id": "bd870ece",
   "metadata": {},
   "outputs": [
    {
     "data": {
      "text/plain": [
       "Text(0.5, 1.0, 'Log-Transformed claim Data')"
      ]
     },
     "execution_count": 46,
     "metadata": {},
     "output_type": "execute_result"
    },
    {
     "data": {
      "image/png": "[encoded data removed]",
      "text/plain": [
       "<Figure size 432x288 with 2 Axes>"
      ]
     },
     "metadata": {
      "needs_background": "light"
     },
     "output_type": "display_data"
    }
   ],
   "source": [
    "#create log-transformed data for claims (target variable) because claims data was right skewed\n",
    "\n",
    "Ins['claim_log'] = np.log10(Ins[\"claim\"])\n",
    "\n",
    "#define grid of plots\n",
    "fig, axs = plt.subplots(nrows=1, ncols=2)\n",
    "\n",
    "#create histograms\n",
    "axs[0].hist(Ins.claim, edgecolor='black')\n",
    "axs[1].hist(Ins.claim_log, edgecolor='black')\n",
    "\n",
    "#add title to each histogram\n",
    "axs[0].set_title('Original claim data')\n",
    "axs[1].set_title('Log-Transformed claim Data')"
   ]
  },
  {
   "cell_type": "code",
   "execution_count": 47,
   "id": "301fb106",
   "metadata": {},
   "outputs": [
    {
     "data": {
      "text/html": [
       "<div>\n",
       "<style scoped>\n",
       "    .dataframe tbody tr th:only-of-type {\n",
       "        vertical-align: middle;\n",
       "    }\n",
       "\n",
       "    .dataframe tbody tr th {\n",
       "        vertical-align: top;\n",
       "    }\n",
       "\n",
       "    .dataframe thead th {\n",
       "        text-align: right;\n",
       "    }\n",
       "</style>\n",
       "<table border=\"1\" class=\"dataframe\">\n",
       "  <thead>\n",
       "    <tr style=\"text-align: right;\">\n",
       "      <th></th>\n",
       "      <th>PatientID</th>\n",
       "      <th>age</th>\n",
       "      <th>gender</th>\n",
       "      <th>bmi</th>\n",
       "      <th>bloodpressure</th>\n",
       "      <th>diabetic</th>\n",
       "      <th>children</th>\n",
       "      <th>smoker</th>\n",
       "      <th>claim</th>\n",
       "      <th>northeast</th>\n",
       "      <th>northwest</th>\n",
       "      <th>southeast</th>\n",
       "      <th>southwest</th>\n",
       "      <th>BMIgroup</th>\n",
       "      <th>BMIgroup1</th>\n",
       "      <th>BPgroup</th>\n",
       "      <th>BPgroup1</th>\n",
       "      <th>claim_log</th>\n",
       "    </tr>\n",
       "  </thead>\n",
       "  <tbody>\n",
       "    <tr>\n",
       "      <th>0</th>\n",
       "      <td>1</td>\n",
       "      <td>39.000000</td>\n",
       "      <td>0</td>\n",
       "      <td>23.2</td>\n",
       "      <td>91</td>\n",
       "      <td>0</td>\n",
       "      <td>0</td>\n",
       "      <td>1</td>\n",
       "      <td>1121.87</td>\n",
       "      <td>0</td>\n",
       "      <td>0</td>\n",
       "      <td>1</td>\n",
       "      <td>0</td>\n",
       "      <td>Standard</td>\n",
       "      <td>2</td>\n",
       "      <td>Above standard</td>\n",
       "      <td>3</td>\n",
       "      <td>3.049943</td>\n",
       "    </tr>\n",
       "    <tr>\n",
       "      <th>1</th>\n",
       "      <td>2</td>\n",
       "      <td>24.000000</td>\n",
       "      <td>0</td>\n",
       "      <td>30.1</td>\n",
       "      <td>87</td>\n",
       "      <td>1</td>\n",
       "      <td>0</td>\n",
       "      <td>1</td>\n",
       "      <td>1131.51</td>\n",
       "      <td>0</td>\n",
       "      <td>0</td>\n",
       "      <td>1</td>\n",
       "      <td>0</td>\n",
       "      <td>Moderate</td>\n",
       "      <td>3</td>\n",
       "      <td>Standard</td>\n",
       "      <td>2</td>\n",
       "      <td>3.053658</td>\n",
       "    </tr>\n",
       "    <tr>\n",
       "      <th>2</th>\n",
       "      <td>3</td>\n",
       "      <td>38.078652</td>\n",
       "      <td>0</td>\n",
       "      <td>33.3</td>\n",
       "      <td>82</td>\n",
       "      <td>0</td>\n",
       "      <td>0</td>\n",
       "      <td>1</td>\n",
       "      <td>1135.94</td>\n",
       "      <td>0</td>\n",
       "      <td>0</td>\n",
       "      <td>1</td>\n",
       "      <td>0</td>\n",
       "      <td>High</td>\n",
       "      <td>4</td>\n",
       "      <td>Standard</td>\n",
       "      <td>2</td>\n",
       "      <td>3.055355</td>\n",
       "    </tr>\n",
       "    <tr>\n",
       "      <th>3</th>\n",
       "      <td>4</td>\n",
       "      <td>38.078652</td>\n",
       "      <td>0</td>\n",
       "      <td>33.7</td>\n",
       "      <td>80</td>\n",
       "      <td>1</td>\n",
       "      <td>0</td>\n",
       "      <td>1</td>\n",
       "      <td>1136.40</td>\n",
       "      <td>0</td>\n",
       "      <td>1</td>\n",
       "      <td>0</td>\n",
       "      <td>0</td>\n",
       "      <td>High</td>\n",
       "      <td>4</td>\n",
       "      <td>Low</td>\n",
       "      <td>1</td>\n",
       "      <td>3.055531</td>\n",
       "    </tr>\n",
       "    <tr>\n",
       "      <th>4</th>\n",
       "      <td>5</td>\n",
       "      <td>38.078652</td>\n",
       "      <td>0</td>\n",
       "      <td>34.1</td>\n",
       "      <td>100</td>\n",
       "      <td>1</td>\n",
       "      <td>0</td>\n",
       "      <td>1</td>\n",
       "      <td>1137.01</td>\n",
       "      <td>0</td>\n",
       "      <td>1</td>\n",
       "      <td>0</td>\n",
       "      <td>0</td>\n",
       "      <td>High</td>\n",
       "      <td>4</td>\n",
       "      <td>Above standard</td>\n",
       "      <td>3</td>\n",
       "      <td>3.055764</td>\n",
       "    </tr>\n",
       "  </tbody>\n",
       "</table>\n",
       "</div>"
      ],
      "text/plain": [
       "   PatientID        age  gender   bmi  bloodpressure  diabetic  children  \\\n",
       "0          1  39.000000       0  23.2             91         0         0   \n",
       "1          2  24.000000       0  30.1             87         1         0   \n",
       "2          3  38.078652       0  33.3             82         0         0   \n",
       "3          4  38.078652       0  33.7             80         1         0   \n",
       "4          5  38.078652       0  34.1            100         1         0   \n",
       "\n",
       "   smoker    claim  northeast  northwest  southeast  southwest  BMIgroup  \\\n",
       "0       1  1121.87          0          0          1          0  Standard   \n",
       "1       1  1131.51          0          0          1          0  Moderate   \n",
       "2       1  1135.94          0          0          1          0      High   \n",
       "3       1  1136.40          0          1          0          0      High   \n",
       "4       1  1137.01          0          1          0          0      High   \n",
       "\n",
       "  BMIgroup1         BPgroup BPgroup1  claim_log  \n",
       "0         2  Above standard        3   3.049943  \n",
       "1         3        Standard        2   3.053658  \n",
       "2         4        Standard        2   3.055355  \n",
       "3         4             Low        1   3.055531  \n",
       "4         4  Above standard        3   3.055764  "
      ]
     },
     "execution_count": 47,
     "metadata": {},
     "output_type": "execute_result"
    }
   ],
   "source": [
    "Ins.head()"
   ]
  },
  {
   "cell_type": "markdown",
   "id": "7256acb4",
   "metadata": {},
   "source": [
    "## A .Model fitting through Decision Tree"
   ]
  },
  {
   "cell_type": "code",
   "execution_count": 48,
   "id": "17ad37f1",
   "metadata": {},
   "outputs": [],
   "source": [
    "import numpy as np\n",
    "import pandas as pd\n",
    "import matplotlib.pyplot as plt\n",
    "\n",
    "#For test-train split\n",
    "from sklearn.model_selection import train_test_split\n",
    "\n",
    "#For fitting regression tree\n",
    "from sklearn.tree import DecisionTreeRegressor\n",
    "\n",
    "#For plotting a decision tree\n",
    "from sklearn import tree\n",
    "\n",
    "#for cross validation\n",
    "from sklearn.model_selection import cross_val_score"
   ]
  },
  {
   "cell_type": "code",
   "execution_count": 49,
   "id": "dc5c6e6a",
   "metadata": {},
   "outputs": [
    {
     "data": {
      "text/html": [
       "<div>\n",
       "<style scoped>\n",
       "    .dataframe tbody tr th:only-of-type {\n",
       "        vertical-align: middle;\n",
       "    }\n",
       "\n",
       "    .dataframe tbody tr th {\n",
       "        vertical-align: top;\n",
       "    }\n",
       "\n",
       "    .dataframe thead th {\n",
       "        text-align: right;\n",
       "    }\n",
       "</style>\n",
       "<table border=\"1\" class=\"dataframe\">\n",
       "  <thead>\n",
       "    <tr style=\"text-align: right;\">\n",
       "      <th></th>\n",
       "      <th>PatientID</th>\n",
       "      <th>age</th>\n",
       "      <th>gender</th>\n",
       "      <th>bmi</th>\n",
       "      <th>bloodpressure</th>\n",
       "      <th>diabetic</th>\n",
       "      <th>children</th>\n",
       "      <th>smoker</th>\n",
       "      <th>claim</th>\n",
       "      <th>northeast</th>\n",
       "      <th>northwest</th>\n",
       "      <th>southeast</th>\n",
       "      <th>southwest</th>\n",
       "      <th>BMIgroup</th>\n",
       "      <th>BMIgroup1</th>\n",
       "      <th>BPgroup</th>\n",
       "      <th>BPgroup1</th>\n",
       "      <th>claim_log</th>\n",
       "    </tr>\n",
       "  </thead>\n",
       "  <tbody>\n",
       "    <tr>\n",
       "      <th>0</th>\n",
       "      <td>1</td>\n",
       "      <td>39.000000</td>\n",
       "      <td>0</td>\n",
       "      <td>23.2</td>\n",
       "      <td>91</td>\n",
       "      <td>0</td>\n",
       "      <td>0</td>\n",
       "      <td>1</td>\n",
       "      <td>1121.87</td>\n",
       "      <td>0</td>\n",
       "      <td>0</td>\n",
       "      <td>1</td>\n",
       "      <td>0</td>\n",
       "      <td>Standard</td>\n",
       "      <td>2</td>\n",
       "      <td>Above standard</td>\n",
       "      <td>3</td>\n",
       "      <td>3.049943</td>\n",
       "    </tr>\n",
       "    <tr>\n",
       "      <th>1</th>\n",
       "      <td>2</td>\n",
       "      <td>24.000000</td>\n",
       "      <td>0</td>\n",
       "      <td>30.1</td>\n",
       "      <td>87</td>\n",
       "      <td>1</td>\n",
       "      <td>0</td>\n",
       "      <td>1</td>\n",
       "      <td>1131.51</td>\n",
       "      <td>0</td>\n",
       "      <td>0</td>\n",
       "      <td>1</td>\n",
       "      <td>0</td>\n",
       "      <td>Moderate</td>\n",
       "      <td>3</td>\n",
       "      <td>Standard</td>\n",
       "      <td>2</td>\n",
       "      <td>3.053658</td>\n",
       "    </tr>\n",
       "    <tr>\n",
       "      <th>2</th>\n",
       "      <td>3</td>\n",
       "      <td>38.078652</td>\n",
       "      <td>0</td>\n",
       "      <td>33.3</td>\n",
       "      <td>82</td>\n",
       "      <td>0</td>\n",
       "      <td>0</td>\n",
       "      <td>1</td>\n",
       "      <td>1135.94</td>\n",
       "      <td>0</td>\n",
       "      <td>0</td>\n",
       "      <td>1</td>\n",
       "      <td>0</td>\n",
       "      <td>High</td>\n",
       "      <td>4</td>\n",
       "      <td>Standard</td>\n",
       "      <td>2</td>\n",
       "      <td>3.055355</td>\n",
       "    </tr>\n",
       "    <tr>\n",
       "      <th>3</th>\n",
       "      <td>4</td>\n",
       "      <td>38.078652</td>\n",
       "      <td>0</td>\n",
       "      <td>33.7</td>\n",
       "      <td>80</td>\n",
       "      <td>1</td>\n",
       "      <td>0</td>\n",
       "      <td>1</td>\n",
       "      <td>1136.40</td>\n",
       "      <td>0</td>\n",
       "      <td>1</td>\n",
       "      <td>0</td>\n",
       "      <td>0</td>\n",
       "      <td>High</td>\n",
       "      <td>4</td>\n",
       "      <td>Low</td>\n",
       "      <td>1</td>\n",
       "      <td>3.055531</td>\n",
       "    </tr>\n",
       "    <tr>\n",
       "      <th>4</th>\n",
       "      <td>5</td>\n",
       "      <td>38.078652</td>\n",
       "      <td>0</td>\n",
       "      <td>34.1</td>\n",
       "      <td>100</td>\n",
       "      <td>1</td>\n",
       "      <td>0</td>\n",
       "      <td>1</td>\n",
       "      <td>1137.01</td>\n",
       "      <td>0</td>\n",
       "      <td>1</td>\n",
       "      <td>0</td>\n",
       "      <td>0</td>\n",
       "      <td>High</td>\n",
       "      <td>4</td>\n",
       "      <td>Above standard</td>\n",
       "      <td>3</td>\n",
       "      <td>3.055764</td>\n",
       "    </tr>\n",
       "  </tbody>\n",
       "</table>\n",
       "</div>"
      ],
      "text/plain": [
       "   PatientID        age  gender   bmi  bloodpressure  diabetic  children  \\\n",
       "0          1  39.000000       0  23.2             91         0         0   \n",
       "1          2  24.000000       0  30.1             87         1         0   \n",
       "2          3  38.078652       0  33.3             82         0         0   \n",
       "3          4  38.078652       0  33.7             80         1         0   \n",
       "4          5  38.078652       0  34.1            100         1         0   \n",
       "\n",
       "   smoker    claim  northeast  northwest  southeast  southwest  BMIgroup  \\\n",
       "0       1  1121.87          0          0          1          0  Standard   \n",
       "1       1  1131.51          0          0          1          0  Moderate   \n",
       "2       1  1135.94          0          0          1          0      High   \n",
       "3       1  1136.40          0          1          0          0      High   \n",
       "4       1  1137.01          0          1          0          0      High   \n",
       "\n",
       "  BMIgroup1         BPgroup BPgroup1  claim_log  \n",
       "0         2  Above standard        3   3.049943  \n",
       "1         3        Standard        2   3.053658  \n",
       "2         4        Standard        2   3.055355  \n",
       "3         4             Low        1   3.055531  \n",
       "4         4  Above standard        3   3.055764  "
      ]
     },
     "execution_count": 49,
     "metadata": {},
     "output_type": "execute_result"
    }
   ],
   "source": [
    "Ins.head()"
   ]
  },
  {
   "cell_type": "markdown",
   "id": "26ba9493",
   "metadata": {},
   "source": [
    "#### 1. Setting Predictors and Target variable"
   ]
  },
  {
   "cell_type": "code",
   "execution_count": 57,
   "id": "4bfd6a22",
   "metadata": {},
   "outputs": [],
   "source": [
    "X = Ins.drop(['PatientID','claim','claim_log','bmi',\"BMIgroup\",\"BPgroup\",\"BMIgroup1\",\"bloodpressure\"], axis = 1) #Selecting feature\n",
    "y = Ins.claim_log #Target"
   ]
  },
  {
   "cell_type": "code",
   "execution_count": 55,
   "id": "7e4218b7",
   "metadata": {},
   "outputs": [
    {
     "data": {
      "text/html": [
       "<div>\n",
       "<style scoped>\n",
       "    .dataframe tbody tr th:only-of-type {\n",
       "        vertical-align: middle;\n",
       "    }\n",
       "\n",
       "    .dataframe tbody tr th {\n",
       "        vertical-align: top;\n",
       "    }\n",
       "\n",
       "    .dataframe thead th {\n",
       "        text-align: right;\n",
       "    }\n",
       "</style>\n",
       "<table border=\"1\" class=\"dataframe\">\n",
       "  <thead>\n",
       "    <tr style=\"text-align: right;\">\n",
       "      <th></th>\n",
       "      <th>age</th>\n",
       "      <th>gender</th>\n",
       "      <th>diabetic</th>\n",
       "      <th>children</th>\n",
       "      <th>smoker</th>\n",
       "      <th>northeast</th>\n",
       "      <th>northwest</th>\n",
       "      <th>southeast</th>\n",
       "      <th>southwest</th>\n",
       "      <th>BMIgroup1</th>\n",
       "      <th>BPgroup1</th>\n",
       "    </tr>\n",
       "  </thead>\n",
       "  <tbody>\n",
       "    <tr>\n",
       "      <th>0</th>\n",
       "      <td>39.000000</td>\n",
       "      <td>0</td>\n",
       "      <td>0</td>\n",
       "      <td>0</td>\n",
       "      <td>1</td>\n",
       "      <td>0</td>\n",
       "      <td>0</td>\n",
       "      <td>1</td>\n",
       "      <td>0</td>\n",
       "      <td>2</td>\n",
       "      <td>3</td>\n",
       "    </tr>\n",
       "    <tr>\n",
       "      <th>1</th>\n",
       "      <td>24.000000</td>\n",
       "      <td>0</td>\n",
       "      <td>1</td>\n",
       "      <td>0</td>\n",
       "      <td>1</td>\n",
       "      <td>0</td>\n",
       "      <td>0</td>\n",
       "      <td>1</td>\n",
       "      <td>0</td>\n",
       "      <td>3</td>\n",
       "      <td>2</td>\n",
       "    </tr>\n",
       "    <tr>\n",
       "      <th>2</th>\n",
       "      <td>38.078652</td>\n",
       "      <td>0</td>\n",
       "      <td>0</td>\n",
       "      <td>0</td>\n",
       "      <td>1</td>\n",
       "      <td>0</td>\n",
       "      <td>0</td>\n",
       "      <td>1</td>\n",
       "      <td>0</td>\n",
       "      <td>4</td>\n",
       "      <td>2</td>\n",
       "    </tr>\n",
       "    <tr>\n",
       "      <th>3</th>\n",
       "      <td>38.078652</td>\n",
       "      <td>0</td>\n",
       "      <td>1</td>\n",
       "      <td>0</td>\n",
       "      <td>1</td>\n",
       "      <td>0</td>\n",
       "      <td>1</td>\n",
       "      <td>0</td>\n",
       "      <td>0</td>\n",
       "      <td>4</td>\n",
       "      <td>1</td>\n",
       "    </tr>\n",
       "    <tr>\n",
       "      <th>4</th>\n",
       "      <td>38.078652</td>\n",
       "      <td>0</td>\n",
       "      <td>1</td>\n",
       "      <td>0</td>\n",
       "      <td>1</td>\n",
       "      <td>0</td>\n",
       "      <td>1</td>\n",
       "      <td>0</td>\n",
       "      <td>0</td>\n",
       "      <td>4</td>\n",
       "      <td>3</td>\n",
       "    </tr>\n",
       "  </tbody>\n",
       "</table>\n",
       "</div>"
      ],
      "text/plain": [
       "         age  gender  diabetic  children  smoker  northeast  northwest  \\\n",
       "0  39.000000       0         0         0       1          0          0   \n",
       "1  24.000000       0         1         0       1          0          0   \n",
       "2  38.078652       0         0         0       1          0          0   \n",
       "3  38.078652       0         1         0       1          0          1   \n",
       "4  38.078652       0         1         0       1          0          1   \n",
       "\n",
       "   southeast  southwest BMIgroup1 BPgroup1  \n",
       "0          1          0         2        3  \n",
       "1          1          0         3        2  \n",
       "2          1          0         4        2  \n",
       "3          0          0         4        1  \n",
       "4          0          0         4        3  "
      ]
     },
     "execution_count": 55,
     "metadata": {},
     "output_type": "execute_result"
    }
   ],
   "source": [
    "X.head()"
   ]
  },
  {
   "cell_type": "code",
   "execution_count": null,
   "id": "c88bf226",
   "metadata": {},
   "outputs": [],
   "source": [
    "y.head()"
   ]
  },
  {
   "cell_type": "markdown",
   "id": "0386edbd",
   "metadata": {},
   "source": [
    "#### 2. Splitting data into Train-Valid-Test Split"
   ]
  },
  {
   "cell_type": "code",
   "execution_count": 58,
   "id": "7a9e888f",
   "metadata": {},
   "outputs": [],
   "source": [
    "# Train-test split"
   ]
  },
  {
   "cell_type": "code",
   "execution_count": 59,
   "id": "9f32b77b",
   "metadata": {},
   "outputs": [],
   "source": [
    "X_train, X_test, y_train, y_test = train_test_split(X, y, test_size = 0.2)"
   ]
  },
  {
   "cell_type": "code",
   "execution_count": 60,
   "id": "5b9c8030",
   "metadata": {},
   "outputs": [],
   "source": [
    "#Train-Validation Split"
   ]
  },
  {
   "cell_type": "code",
   "execution_count": 61,
   "id": "ba739b20",
   "metadata": {},
   "outputs": [],
   "source": [
    "X_train, X_valid, y_train, y_valid = train_test_split(X_train, y_train, test_size = 0.25)"
   ]
  },
  {
   "cell_type": "markdown",
   "id": "345fe49e",
   "metadata": {},
   "source": [
    "#### 3. Fitting a Regression Tree - Train data"
   ]
  },
  {
   "cell_type": "code",
   "execution_count": 62,
   "id": "eebefa89",
   "metadata": {},
   "outputs": [
    {
     "data": {
      "text/plain": [
       "DecisionTreeRegressor(max_depth=5, min_samples_leaf=3)"
      ]
     },
     "execution_count": 62,
     "metadata": {},
     "output_type": "execute_result"
    }
   ],
   "source": [
    "reg_tree = DecisionTreeRegressor(max_depth=5, min_samples_leaf=3) \n",
    "reg_tree.fit(X_train, y_train)"
   ]
  },
  {
   "cell_type": "markdown",
   "id": "d38b487f",
   "metadata": {},
   "source": [
    "#### 4. Prediction - Train-Valid data"
   ]
  },
  {
   "cell_type": "code",
   "execution_count": 63,
   "id": "3cca19f3",
   "metadata": {},
   "outputs": [],
   "source": [
    "y_pred = reg_tree.predict(X_valid)"
   ]
  },
  {
   "cell_type": "markdown",
   "id": "c8d5e6ca",
   "metadata": {},
   "source": [
    "#### 5. Evaluation of Model Performance - Train data"
   ]
  },
  {
   "cell_type": "code",
   "execution_count": 64,
   "id": "a38d5d1e",
   "metadata": {},
   "outputs": [
    {
     "data": {
      "text/plain": [
       "10.803505167081623"
      ]
     },
     "execution_count": 64,
     "metadata": {},
     "output_type": "execute_result"
    }
   ],
   "source": [
    "# MAE\n",
    "np.mean(np.abs(np.exp(y_valid) - np.exp(y_pred)))"
   ]
  },
  {
   "cell_type": "code",
   "execution_count": 65,
   "id": "27c06667",
   "metadata": {
    "scrolled": true
   },
   "outputs": [
    {
     "data": {
      "text/plain": [
       "4.298951984901668"
      ]
     },
     "execution_count": 65,
     "metadata": {},
     "output_type": "execute_result"
    }
   ],
   "source": [
    "#MSE\n",
    "np.mean((np.exp(y_valid))-(np.exp(y_pred)))**2"
   ]
  },
  {
   "cell_type": "code",
   "execution_count": 66,
   "id": "c2d288b2",
   "metadata": {},
   "outputs": [
    {
     "data": {
      "text/plain": [
       "2.073391421054324"
      ]
     },
     "execution_count": 66,
     "metadata": {},
     "output_type": "execute_result"
    }
   ],
   "source": [
    "# RMSE\n",
    "np.sqrt(np.mean((np.exp(y_valid))-(np.exp(y_pred)))**2)"
   ]
  },
  {
   "cell_type": "code",
   "execution_count": 67,
   "id": "2c498f06",
   "metadata": {},
   "outputs": [
    {
     "data": {
      "text/plain": [
       "20.96137518684316"
      ]
     },
     "execution_count": 67,
     "metadata": {},
     "output_type": "execute_result"
    }
   ],
   "source": [
    "# MAPE\n",
    "np.mean(np.abs((np.exp(y_valid)-np.exp(y_pred))/(np.exp(y_valid))))*100"
   ]
  },
  {
   "cell_type": "code",
   "execution_count": null,
   "id": "f8cafb54",
   "metadata": {},
   "outputs": [],
   "source": [
    "#Plotting a Regression Tree"
   ]
  },
  {
   "cell_type": "code",
   "execution_count": null,
   "id": "234cdffe",
   "metadata": {},
   "outputs": [],
   "source": [
    "fig, axes = plt.subplots(figsize=(6,6), dpi=300)\n",
    "\n",
    "tree.plot_tree(reg_tree, feature_names=list(X), filled = False)\n",
    "\n",
    "plt.show()"
   ]
  },
  {
   "cell_type": "code",
   "execution_count": null,
   "id": "94fd6fed",
   "metadata": {},
   "outputs": [],
   "source": [
    "# Checking optimal depth"
   ]
  },
  {
   "cell_type": "code",
   "execution_count": null,
   "id": "bd84751f",
   "metadata": {},
   "outputs": [],
   "source": [
    "depth = np.arange(1,15)\n",
    "mae = []\n",
    "\n",
    "for k in depth:\n",
    "    reg_tree = DecisionTreeRegressor(max_depth=k, min_samples_leaf=5)\n",
    "    reg_tree.fit(X_train, y_train)\n",
    "    y_pred = reg_tree.predict(X_valid)\n",
    "    mae.append(np.mean(np.abs(y_valid - y_pred))) #MAD"
   ]
  },
  {
   "cell_type": "code",
   "execution_count": null,
   "id": "1b8b1e7c",
   "metadata": {},
   "outputs": [],
   "source": [
    "plt.plot(depth, np.array(mae))\n",
    "plt.show()"
   ]
  },
  {
   "cell_type": "markdown",
   "id": "b9c1136a",
   "metadata": {},
   "source": [
    "#### 6. Setting predictor and target varaible for test data"
   ]
  },
  {
   "cell_type": "markdown",
   "id": "da1ac971",
   "metadata": {},
   "source": [
    "#### 7. Fitting Regressor tree - Test data"
   ]
  },
  {
   "cell_type": "code",
   "execution_count": 68,
   "id": "3046b955",
   "metadata": {},
   "outputs": [
    {
     "data": {
      "text/plain": [
       "DecisionTreeRegressor(max_depth=5, min_samples_leaf=3)"
      ]
     },
     "execution_count": 68,
     "metadata": {},
     "output_type": "execute_result"
    }
   ],
   "source": [
    "reg_tree = DecisionTreeRegressor(max_depth=5, min_samples_leaf=3) \n",
    "reg_tree.fit(X_test,y_test)"
   ]
  },
  {
   "cell_type": "markdown",
   "id": "b99cb91b",
   "metadata": {},
   "source": [
    "#### 8. Prediction - Test data"
   ]
  },
  {
   "cell_type": "code",
   "execution_count": 69,
   "id": "b4763a17",
   "metadata": {},
   "outputs": [],
   "source": [
    "y_predt=reg_tree.predict(X_test)"
   ]
  },
  {
   "cell_type": "code",
   "execution_count": 70,
   "id": "e125d8ec",
   "metadata": {
    "scrolled": true
   },
   "outputs": [
    {
     "data": {
      "image/png": "[encoded data removed]",
      "text/plain": [
       "<Figure size 1500x1500 with 1 Axes>"
      ]
     },
     "metadata": {
      "needs_background": "light"
     },
     "output_type": "display_data"
    }
   ],
   "source": [
    "#Plotting Reg Decision Tree\n",
    "fig, axes  = plt.subplots(figsize=(3,3), dpi=500)\n",
    "tree.plot_tree(reg_tree, feature_names=list(X_test), filled=False)\n",
    "plt.savefig('TestModel2.jpeg')\n",
    "plt.show()"
   ]
  },
  {
   "cell_type": "markdown",
   "id": "ff1e44ad",
   "metadata": {},
   "source": [
    "#### 9. Evaluation of model performance"
   ]
  },
  {
   "cell_type": "code",
   "execution_count": 71,
   "id": "eeaca8d5",
   "metadata": {},
   "outputs": [
    {
     "data": {
      "text/plain": [
       "9.869927924813686"
      ]
     },
     "execution_count": 71,
     "metadata": {},
     "output_type": "execute_result"
    }
   ],
   "source": [
    "# MAE\n",
    "np.mean(np.abs(np.exp(y_test) - np.exp(y_predt)))"
   ]
  },
  {
   "cell_type": "code",
   "execution_count": 72,
   "id": "9abb4038",
   "metadata": {},
   "outputs": [
    {
     "data": {
      "text/plain": [
       "2.502550614885275"
      ]
     },
     "execution_count": 72,
     "metadata": {},
     "output_type": "execute_result"
    }
   ],
   "source": [
    "# MSE\n",
    "np.mean((np.exp(y_test))-(np.exp(y_predt)))**2"
   ]
  },
  {
   "cell_type": "code",
   "execution_count": 73,
   "id": "b175bcc5",
   "metadata": {},
   "outputs": [
    {
     "data": {
      "text/plain": [
       "2.073391421054324"
      ]
     },
     "execution_count": 73,
     "metadata": {},
     "output_type": "execute_result"
    }
   ],
   "source": [
    "# RMSE\n",
    "np.sqrt(np.mean((np.exp(y_valid))-(np.exp(y_pred)))**2)"
   ]
  },
  {
   "cell_type": "code",
   "execution_count": 74,
   "id": "3b46ba3b",
   "metadata": {},
   "outputs": [
    {
     "data": {
      "text/plain": [
       "20.162883295566612"
      ]
     },
     "execution_count": 74,
     "metadata": {},
     "output_type": "execute_result"
    }
   ],
   "source": [
    "# MAPE\n",
    "np.mean(np.abs((np.exp(y_test)-np.exp(y_predt))/(np.exp(y_test))))*100"
   ]
  },
  {
   "cell_type": "code",
   "execution_count": 75,
   "id": "cf0404eb",
   "metadata": {},
   "outputs": [],
   "source": [
    "from sklearn import metrics"
   ]
  },
  {
   "cell_type": "markdown",
   "id": "251edef2",
   "metadata": {},
   "source": [
    "## Results from Decision Tree Model"
   ]
  },
  {
   "cell_type": "markdown",
   "id": "c7a04b2f",
   "metadata": {},
   "source": [
    "MAPE of Decision Tree Regressor model on train data is 22% approx where as in test data is 20.09 which implies there is not much deviation in MAPE score for train and test data m"
   ]
  },
  {
   "cell_type": "code",
   "execution_count": null,
   "id": "d201a23b",
   "metadata": {},
   "outputs": [],
   "source": []
  },
  {
   "cell_type": "markdown",
   "id": "2d8b07d4",
   "metadata": {},
   "source": [
    "## B. Model fitting through Linear Regression"
   ]
  },
  {
   "cell_type": "code",
   "execution_count": 79,
   "id": "d3b9dc8e",
   "metadata": {},
   "outputs": [
    {
     "data": {
      "text/html": [
       "<div>\n",
       "<style scoped>\n",
       "    .dataframe tbody tr th:only-of-type {\n",
       "        vertical-align: middle;\n",
       "    }\n",
       "\n",
       "    .dataframe tbody tr th {\n",
       "        vertical-align: top;\n",
       "    }\n",
       "\n",
       "    .dataframe thead th {\n",
       "        text-align: right;\n",
       "    }\n",
       "</style>\n",
       "<table border=\"1\" class=\"dataframe\">\n",
       "  <thead>\n",
       "    <tr style=\"text-align: right;\">\n",
       "      <th></th>\n",
       "      <th>PatientID</th>\n",
       "      <th>age</th>\n",
       "      <th>gender</th>\n",
       "      <th>bmi</th>\n",
       "      <th>bloodpressure</th>\n",
       "      <th>diabetic</th>\n",
       "      <th>children</th>\n",
       "      <th>smoker</th>\n",
       "      <th>claim</th>\n",
       "      <th>northeast</th>\n",
       "      <th>northwest</th>\n",
       "      <th>southeast</th>\n",
       "      <th>southwest</th>\n",
       "      <th>BMIgroup</th>\n",
       "      <th>BMIgroup1</th>\n",
       "      <th>BPgroup</th>\n",
       "      <th>BPgroup1</th>\n",
       "      <th>claim_log</th>\n",
       "    </tr>\n",
       "  </thead>\n",
       "  <tbody>\n",
       "    <tr>\n",
       "      <th>0</th>\n",
       "      <td>1</td>\n",
       "      <td>39.000000</td>\n",
       "      <td>0</td>\n",
       "      <td>23.2</td>\n",
       "      <td>91</td>\n",
       "      <td>0</td>\n",
       "      <td>0</td>\n",
       "      <td>1</td>\n",
       "      <td>1121.87</td>\n",
       "      <td>0</td>\n",
       "      <td>0</td>\n",
       "      <td>1</td>\n",
       "      <td>0</td>\n",
       "      <td>Standard</td>\n",
       "      <td>2</td>\n",
       "      <td>Above standard</td>\n",
       "      <td>3</td>\n",
       "      <td>3.049943</td>\n",
       "    </tr>\n",
       "    <tr>\n",
       "      <th>1</th>\n",
       "      <td>2</td>\n",
       "      <td>24.000000</td>\n",
       "      <td>0</td>\n",
       "      <td>30.1</td>\n",
       "      <td>87</td>\n",
       "      <td>1</td>\n",
       "      <td>0</td>\n",
       "      <td>1</td>\n",
       "      <td>1131.51</td>\n",
       "      <td>0</td>\n",
       "      <td>0</td>\n",
       "      <td>1</td>\n",
       "      <td>0</td>\n",
       "      <td>Moderate</td>\n",
       "      <td>3</td>\n",
       "      <td>Standard</td>\n",
       "      <td>2</td>\n",
       "      <td>3.053658</td>\n",
       "    </tr>\n",
       "    <tr>\n",
       "      <th>2</th>\n",
       "      <td>3</td>\n",
       "      <td>38.078652</td>\n",
       "      <td>0</td>\n",
       "      <td>33.3</td>\n",
       "      <td>82</td>\n",
       "      <td>0</td>\n",
       "      <td>0</td>\n",
       "      <td>1</td>\n",
       "      <td>1135.94</td>\n",
       "      <td>0</td>\n",
       "      <td>0</td>\n",
       "      <td>1</td>\n",
       "      <td>0</td>\n",
       "      <td>High</td>\n",
       "      <td>4</td>\n",
       "      <td>Standard</td>\n",
       "      <td>2</td>\n",
       "      <td>3.055355</td>\n",
       "    </tr>\n",
       "    <tr>\n",
       "      <th>3</th>\n",
       "      <td>4</td>\n",
       "      <td>38.078652</td>\n",
       "      <td>0</td>\n",
       "      <td>33.7</td>\n",
       "      <td>80</td>\n",
       "      <td>1</td>\n",
       "      <td>0</td>\n",
       "      <td>1</td>\n",
       "      <td>1136.40</td>\n",
       "      <td>0</td>\n",
       "      <td>1</td>\n",
       "      <td>0</td>\n",
       "      <td>0</td>\n",
       "      <td>High</td>\n",
       "      <td>4</td>\n",
       "      <td>Low</td>\n",
       "      <td>1</td>\n",
       "      <td>3.055531</td>\n",
       "    </tr>\n",
       "    <tr>\n",
       "      <th>4</th>\n",
       "      <td>5</td>\n",
       "      <td>38.078652</td>\n",
       "      <td>0</td>\n",
       "      <td>34.1</td>\n",
       "      <td>100</td>\n",
       "      <td>1</td>\n",
       "      <td>0</td>\n",
       "      <td>1</td>\n",
       "      <td>1137.01</td>\n",
       "      <td>0</td>\n",
       "      <td>1</td>\n",
       "      <td>0</td>\n",
       "      <td>0</td>\n",
       "      <td>High</td>\n",
       "      <td>4</td>\n",
       "      <td>Above standard</td>\n",
       "      <td>3</td>\n",
       "      <td>3.055764</td>\n",
       "    </tr>\n",
       "  </tbody>\n",
       "</table>\n",
       "</div>"
      ],
      "text/plain": [
       "   PatientID        age  gender   bmi  bloodpressure  diabetic  children  \\\n",
       "0          1  39.000000       0  23.2             91         0         0   \n",
       "1          2  24.000000       0  30.1             87         1         0   \n",
       "2          3  38.078652       0  33.3             82         0         0   \n",
       "3          4  38.078652       0  33.7             80         1         0   \n",
       "4          5  38.078652       0  34.1            100         1         0   \n",
       "\n",
       "   smoker    claim  northeast  northwest  southeast  southwest  BMIgroup  \\\n",
       "0       1  1121.87          0          0          1          0  Standard   \n",
       "1       1  1131.51          0          0          1          0  Moderate   \n",
       "2       1  1135.94          0          0          1          0      High   \n",
       "3       1  1136.40          0          1          0          0      High   \n",
       "4       1  1137.01          0          1          0          0      High   \n",
       "\n",
       "  BMIgroup1         BPgroup BPgroup1  claim_log  \n",
       "0         2  Above standard        3   3.049943  \n",
       "1         3        Standard        2   3.053658  \n",
       "2         4        Standard        2   3.055355  \n",
       "3         4             Low        1   3.055531  \n",
       "4         4  Above standard        3   3.055764  "
      ]
     },
     "execution_count": 79,
     "metadata": {},
     "output_type": "execute_result"
    }
   ],
   "source": [
    "Ins.head()"
   ]
  },
  {
   "cell_type": "markdown",
   "id": "b8aa8a36",
   "metadata": {},
   "source": [
    "#### 1. Import libraries"
   ]
  },
  {
   "cell_type": "code",
   "execution_count": 115,
   "id": "f1fb136e",
   "metadata": {},
   "outputs": [],
   "source": [
    "from sklearn.linear_model import LinearRegression\n",
    "from sklearn.metrics import r2_score\n",
    "import matplotlib.pyplot as plt\n",
    "from statsmodels.stats.outliers_influence import variance_inflation_factor\n",
    "import seaborn as sns\n",
    "\n",
    "\n",
    "import statsmodels.api as sm\n",
    "import statsmodels.tsa.api as smt"
   ]
  },
  {
   "cell_type": "markdown",
   "id": "fd10b214",
   "metadata": {},
   "source": [
    "#### 2. Setting Predictors and Target variable"
   ]
  },
  {
   "cell_type": "code",
   "execution_count": 116,
   "id": "e9fd6d97",
   "metadata": {},
   "outputs": [
    {
     "data": {
      "text/html": [
       "<div>\n",
       "<style scoped>\n",
       "    .dataframe tbody tr th:only-of-type {\n",
       "        vertical-align: middle;\n",
       "    }\n",
       "\n",
       "    .dataframe tbody tr th {\n",
       "        vertical-align: top;\n",
       "    }\n",
       "\n",
       "    .dataframe thead th {\n",
       "        text-align: right;\n",
       "    }\n",
       "</style>\n",
       "<table border=\"1\" class=\"dataframe\">\n",
       "  <thead>\n",
       "    <tr style=\"text-align: right;\">\n",
       "      <th></th>\n",
       "      <th>PatientID</th>\n",
       "      <th>age</th>\n",
       "      <th>gender</th>\n",
       "      <th>bmi</th>\n",
       "      <th>bloodpressure</th>\n",
       "      <th>diabetic</th>\n",
       "      <th>children</th>\n",
       "      <th>smoker</th>\n",
       "      <th>claim</th>\n",
       "      <th>northeast</th>\n",
       "      <th>northwest</th>\n",
       "      <th>southeast</th>\n",
       "      <th>southwest</th>\n",
       "      <th>BMIgroup</th>\n",
       "      <th>BMIgroup1</th>\n",
       "      <th>BPgroup</th>\n",
       "      <th>BPgroup1</th>\n",
       "      <th>claim_log</th>\n",
       "    </tr>\n",
       "  </thead>\n",
       "  <tbody>\n",
       "    <tr>\n",
       "      <th>0</th>\n",
       "      <td>1</td>\n",
       "      <td>39.000000</td>\n",
       "      <td>0</td>\n",
       "      <td>23.2</td>\n",
       "      <td>91</td>\n",
       "      <td>0</td>\n",
       "      <td>0</td>\n",
       "      <td>1</td>\n",
       "      <td>1121.87</td>\n",
       "      <td>0</td>\n",
       "      <td>0</td>\n",
       "      <td>1</td>\n",
       "      <td>0</td>\n",
       "      <td>Standard</td>\n",
       "      <td>2</td>\n",
       "      <td>Above standard</td>\n",
       "      <td>3</td>\n",
       "      <td>3.049943</td>\n",
       "    </tr>\n",
       "    <tr>\n",
       "      <th>1</th>\n",
       "      <td>2</td>\n",
       "      <td>24.000000</td>\n",
       "      <td>0</td>\n",
       "      <td>30.1</td>\n",
       "      <td>87</td>\n",
       "      <td>1</td>\n",
       "      <td>0</td>\n",
       "      <td>1</td>\n",
       "      <td>1131.51</td>\n",
       "      <td>0</td>\n",
       "      <td>0</td>\n",
       "      <td>1</td>\n",
       "      <td>0</td>\n",
       "      <td>Moderate</td>\n",
       "      <td>3</td>\n",
       "      <td>Standard</td>\n",
       "      <td>2</td>\n",
       "      <td>3.053658</td>\n",
       "    </tr>\n",
       "    <tr>\n",
       "      <th>2</th>\n",
       "      <td>3</td>\n",
       "      <td>38.078652</td>\n",
       "      <td>0</td>\n",
       "      <td>33.3</td>\n",
       "      <td>82</td>\n",
       "      <td>0</td>\n",
       "      <td>0</td>\n",
       "      <td>1</td>\n",
       "      <td>1135.94</td>\n",
       "      <td>0</td>\n",
       "      <td>0</td>\n",
       "      <td>1</td>\n",
       "      <td>0</td>\n",
       "      <td>High</td>\n",
       "      <td>4</td>\n",
       "      <td>Standard</td>\n",
       "      <td>2</td>\n",
       "      <td>3.055355</td>\n",
       "    </tr>\n",
       "    <tr>\n",
       "      <th>3</th>\n",
       "      <td>4</td>\n",
       "      <td>38.078652</td>\n",
       "      <td>0</td>\n",
       "      <td>33.7</td>\n",
       "      <td>80</td>\n",
       "      <td>1</td>\n",
       "      <td>0</td>\n",
       "      <td>1</td>\n",
       "      <td>1136.40</td>\n",
       "      <td>0</td>\n",
       "      <td>1</td>\n",
       "      <td>0</td>\n",
       "      <td>0</td>\n",
       "      <td>High</td>\n",
       "      <td>4</td>\n",
       "      <td>Low</td>\n",
       "      <td>1</td>\n",
       "      <td>3.055531</td>\n",
       "    </tr>\n",
       "    <tr>\n",
       "      <th>4</th>\n",
       "      <td>5</td>\n",
       "      <td>38.078652</td>\n",
       "      <td>0</td>\n",
       "      <td>34.1</td>\n",
       "      <td>100</td>\n",
       "      <td>1</td>\n",
       "      <td>0</td>\n",
       "      <td>1</td>\n",
       "      <td>1137.01</td>\n",
       "      <td>0</td>\n",
       "      <td>1</td>\n",
       "      <td>0</td>\n",
       "      <td>0</td>\n",
       "      <td>High</td>\n",
       "      <td>4</td>\n",
       "      <td>Above standard</td>\n",
       "      <td>3</td>\n",
       "      <td>3.055764</td>\n",
       "    </tr>\n",
       "  </tbody>\n",
       "</table>\n",
       "</div>"
      ],
      "text/plain": [
       "   PatientID        age  gender   bmi  bloodpressure  diabetic  children  \\\n",
       "0          1  39.000000       0  23.2             91         0         0   \n",
       "1          2  24.000000       0  30.1             87         1         0   \n",
       "2          3  38.078652       0  33.3             82         0         0   \n",
       "3          4  38.078652       0  33.7             80         1         0   \n",
       "4          5  38.078652       0  34.1            100         1         0   \n",
       "\n",
       "   smoker    claim  northeast  northwest  southeast  southwest  BMIgroup  \\\n",
       "0       1  1121.87          0          0          1          0  Standard   \n",
       "1       1  1131.51          0          0          1          0  Moderate   \n",
       "2       1  1135.94          0          0          1          0      High   \n",
       "3       1  1136.40          0          1          0          0      High   \n",
       "4       1  1137.01          0          1          0          0      High   \n",
       "\n",
       "  BMIgroup1         BPgroup BPgroup1  claim_log  \n",
       "0         2  Above standard        3   3.049943  \n",
       "1         3        Standard        2   3.053658  \n",
       "2         4        Standard        2   3.055355  \n",
       "3         4             Low        1   3.055531  \n",
       "4         4  Above standard        3   3.055764  "
      ]
     },
     "execution_count": 116,
     "metadata": {},
     "output_type": "execute_result"
    }
   ],
   "source": [
    "Ins.head()"
   ]
  },
  {
   "cell_type": "code",
   "execution_count": 239,
   "id": "a42b5cc9",
   "metadata": {},
   "outputs": [],
   "source": [
    "X1 = Ins.drop(['PatientID','claim','claim_log','bmi',\"bloodpressure\",\"BMIgroup\",\"BPgroup\",\"BMIgroup1\"], axis = 1)  \n",
    "y1 = Ins['claim_log']  #Target"
   ]
  },
  {
   "cell_type": "code",
   "execution_count": 240,
   "id": "28a41fdc",
   "metadata": {},
   "outputs": [
    {
     "data": {
      "text/html": [
       "<div>\n",
       "<style scoped>\n",
       "    .dataframe tbody tr th:only-of-type {\n",
       "        vertical-align: middle;\n",
       "    }\n",
       "\n",
       "    .dataframe tbody tr th {\n",
       "        vertical-align: top;\n",
       "    }\n",
       "\n",
       "    .dataframe thead th {\n",
       "        text-align: right;\n",
       "    }\n",
       "</style>\n",
       "<table border=\"1\" class=\"dataframe\">\n",
       "  <thead>\n",
       "    <tr style=\"text-align: right;\">\n",
       "      <th></th>\n",
       "      <th>age</th>\n",
       "      <th>gender</th>\n",
       "      <th>diabetic</th>\n",
       "      <th>children</th>\n",
       "      <th>smoker</th>\n",
       "      <th>northeast</th>\n",
       "      <th>northwest</th>\n",
       "      <th>southeast</th>\n",
       "      <th>southwest</th>\n",
       "      <th>BPgroup1</th>\n",
       "    </tr>\n",
       "  </thead>\n",
       "  <tbody>\n",
       "    <tr>\n",
       "      <th>0</th>\n",
       "      <td>39.000000</td>\n",
       "      <td>0</td>\n",
       "      <td>0</td>\n",
       "      <td>0</td>\n",
       "      <td>1</td>\n",
       "      <td>0</td>\n",
       "      <td>0</td>\n",
       "      <td>1</td>\n",
       "      <td>0</td>\n",
       "      <td>3</td>\n",
       "    </tr>\n",
       "    <tr>\n",
       "      <th>1</th>\n",
       "      <td>24.000000</td>\n",
       "      <td>0</td>\n",
       "      <td>1</td>\n",
       "      <td>0</td>\n",
       "      <td>1</td>\n",
       "      <td>0</td>\n",
       "      <td>0</td>\n",
       "      <td>1</td>\n",
       "      <td>0</td>\n",
       "      <td>2</td>\n",
       "    </tr>\n",
       "    <tr>\n",
       "      <th>2</th>\n",
       "      <td>38.078652</td>\n",
       "      <td>0</td>\n",
       "      <td>0</td>\n",
       "      <td>0</td>\n",
       "      <td>1</td>\n",
       "      <td>0</td>\n",
       "      <td>0</td>\n",
       "      <td>1</td>\n",
       "      <td>0</td>\n",
       "      <td>2</td>\n",
       "    </tr>\n",
       "    <tr>\n",
       "      <th>3</th>\n",
       "      <td>38.078652</td>\n",
       "      <td>0</td>\n",
       "      <td>1</td>\n",
       "      <td>0</td>\n",
       "      <td>1</td>\n",
       "      <td>0</td>\n",
       "      <td>1</td>\n",
       "      <td>0</td>\n",
       "      <td>0</td>\n",
       "      <td>1</td>\n",
       "    </tr>\n",
       "    <tr>\n",
       "      <th>4</th>\n",
       "      <td>38.078652</td>\n",
       "      <td>0</td>\n",
       "      <td>1</td>\n",
       "      <td>0</td>\n",
       "      <td>1</td>\n",
       "      <td>0</td>\n",
       "      <td>1</td>\n",
       "      <td>0</td>\n",
       "      <td>0</td>\n",
       "      <td>3</td>\n",
       "    </tr>\n",
       "  </tbody>\n",
       "</table>\n",
       "</div>"
      ],
      "text/plain": [
       "         age  gender  diabetic  children  smoker  northeast  northwest  \\\n",
       "0  39.000000       0         0         0       1          0          0   \n",
       "1  24.000000       0         1         0       1          0          0   \n",
       "2  38.078652       0         0         0       1          0          0   \n",
       "3  38.078652       0         1         0       1          0          1   \n",
       "4  38.078652       0         1         0       1          0          1   \n",
       "\n",
       "   southeast  southwest BPgroup1  \n",
       "0          1          0        3  \n",
       "1          1          0        2  \n",
       "2          1          0        2  \n",
       "3          0          0        1  \n",
       "4          0          0        3  "
      ]
     },
     "execution_count": 240,
     "metadata": {},
     "output_type": "execute_result"
    }
   ],
   "source": [
    "X1.head()"
   ]
  },
  {
   "cell_type": "markdown",
   "id": "07a0d435",
   "metadata": {},
   "source": [
    "#### 3. Splitting dataset into train-valid-test "
   ]
  },
  {
   "cell_type": "code",
   "execution_count": 241,
   "id": "b28b34ad",
   "metadata": {},
   "outputs": [],
   "source": [
    "#Train-test Split"
   ]
  },
  {
   "cell_type": "code",
   "execution_count": 242,
   "id": "ff607ebe",
   "metadata": {},
   "outputs": [],
   "source": [
    "X1_train, X1_test, y1_train, y1_test = train_test_split(X1, y1, test_size = 0.2, random_state = 100)"
   ]
  },
  {
   "cell_type": "code",
   "execution_count": 243,
   "id": "0065a9ec",
   "metadata": {},
   "outputs": [],
   "source": [
    "#Train-valid Split"
   ]
  },
  {
   "cell_type": "code",
   "execution_count": 244,
   "id": "db6910c7",
   "metadata": {},
   "outputs": [],
   "source": [
    "X1_train, X1_valid, y1_train, y1_valid = train_test_split(X1_train, y1_train, test_size = 0.25, random_state = 100)"
   ]
  },
  {
   "cell_type": "markdown",
   "id": "65e30070",
   "metadata": {},
   "source": [
    "#### 4. Fitting Linear regression model - Train data"
   ]
  },
  {
   "cell_type": "code",
   "execution_count": 245,
   "id": "93c5c5d0",
   "metadata": {},
   "outputs": [
    {
     "data": {
      "text/plain": [
       "LinearRegression()"
      ]
     },
     "execution_count": 245,
     "metadata": {},
     "output_type": "execute_result"
    }
   ],
   "source": [
    "regressor = LinearRegression()\n",
    "regressor.fit(X1_train,y1_train)"
   ]
  },
  {
   "cell_type": "markdown",
   "id": "a7124b71",
   "metadata": {},
   "source": [
    "#### 5. Prediction - Train data"
   ]
  },
  {
   "cell_type": "code",
   "execution_count": 246,
   "id": "96e380eb",
   "metadata": {},
   "outputs": [],
   "source": [
    "y_pred2 = regressor.predict(X1_valid)"
   ]
  },
  {
   "cell_type": "markdown",
   "id": "6e122e92",
   "metadata": {},
   "source": [
    "#### 6. Accuracy measure - Train data"
   ]
  },
  {
   "cell_type": "code",
   "execution_count": 247,
   "id": "fd1c4e30",
   "metadata": {},
   "outputs": [
    {
     "data": {
      "text/plain": [
       "0.5042607615751046"
      ]
     },
     "execution_count": 247,
     "metadata": {},
     "output_type": "execute_result"
    }
   ],
   "source": [
    "r2_score(y1_valid,y_pred2)"
   ]
  },
  {
   "cell_type": "code",
   "execution_count": 248,
   "id": "f69e06be",
   "metadata": {},
   "outputs": [
    {
     "name": "stdout",
     "output_type": "stream",
     "text": [
      "0.5283004490812687\n"
     ]
    }
   ],
   "source": [
    "# Adjusted r_square\n",
    "import statsmodels.api as sm\n",
    "import pandas as pd\n",
    "\n",
    "#fit regression model\n",
    "X1 = sm.add_constant(X1)\n",
    "model = sm.OLS(y1_valid, X1_valid).fit()\n",
    "\n",
    "#display adjusted R-squared\n",
    "print(model.rsquared_adj)\n"
   ]
  },
  {
   "cell_type": "code",
   "execution_count": 249,
   "id": "289c2172",
   "metadata": {},
   "outputs": [
    {
     "data": {
      "text/plain": [
       "1303    0.265802\n",
       "630     0.065907\n",
       "20     -0.465016\n",
       "601     0.094222\n",
       "579     0.210458\n",
       "          ...   \n",
       "927     0.302514\n",
       "641    -0.140945\n",
       "415    -0.008407\n",
       "21     -0.634946\n",
       "344    -0.055065\n",
       "Name: claim_log, Length: 268, dtype: float64"
      ]
     },
     "execution_count": 249,
     "metadata": {},
     "output_type": "execute_result"
    }
   ],
   "source": [
    "residual= y1_valid-y_pred2\n",
    "residual"
   ]
  },
  {
   "cell_type": "markdown",
   "id": "b1d4fc39",
   "metadata": {},
   "source": [
    "#### 7. Fitting Linear regression model - Test data"
   ]
  },
  {
   "cell_type": "code",
   "execution_count": 250,
   "id": "4aa2a3d6",
   "metadata": {},
   "outputs": [
    {
     "data": {
      "text/plain": [
       "LinearRegression()"
      ]
     },
     "execution_count": 250,
     "metadata": {},
     "output_type": "execute_result"
    }
   ],
   "source": [
    "regressor = LinearRegression()\n",
    "regressor.fit(X1_test,y1_test)"
   ]
  },
  {
   "cell_type": "markdown",
   "id": "94753f1f",
   "metadata": {},
   "source": [
    "#### 8. Prediction - Test data"
   ]
  },
  {
   "cell_type": "code",
   "execution_count": 251,
   "id": "e32c6d7a",
   "metadata": {},
   "outputs": [],
   "source": [
    "y_pred3 = regressor.predict(X1_test)"
   ]
  },
  {
   "cell_type": "markdown",
   "id": "117f8cfe",
   "metadata": {},
   "source": [
    "#### 9. Accuracy measure - Test data\n"
   ]
  },
  {
   "cell_type": "code",
   "execution_count": 252,
   "id": "7db4e3f8",
   "metadata": {
    "scrolled": true
   },
   "outputs": [
    {
     "data": {
      "text/plain": [
       "0.5413229018393269"
      ]
     },
     "execution_count": 252,
     "metadata": {},
     "output_type": "execute_result"
    }
   ],
   "source": [
    "r2_score(y1_test,y_pred3)"
   ]
  },
  {
   "cell_type": "code",
   "execution_count": 253,
   "id": "88b4b213",
   "metadata": {},
   "outputs": [
    {
     "name": "stdout",
     "output_type": "stream",
     "text": [
      "0.5253225379500008\n"
     ]
    }
   ],
   "source": [
    "# Adjusted r_square\n",
    "import statsmodels.api as sm\n",
    "import pandas as pd\n",
    "\n",
    "#fit regression model\n",
    "X1 = sm.add_constant(X1)\n",
    "model = sm.OLS(y1_test, X1_test).fit()\n",
    "\n",
    "#display adjusted R-squared\n",
    "print(model.rsquared_adj)\n"
   ]
  },
  {
   "cell_type": "code",
   "execution_count": 254,
   "id": "2fca9b0e",
   "metadata": {},
   "outputs": [
    {
     "data": {
      "text/plain": [
       "12     -0.588741\n",
       "306    -0.132405\n",
       "318    -0.159849\n",
       "816     0.325344\n",
       "157    -0.260350\n",
       "          ...   \n",
       "714    -0.096097\n",
       "664     0.282195\n",
       "531     0.119003\n",
       "537     0.034947\n",
       "1018   -0.115152\n",
       "Name: claim_log, Length: 268, dtype: float64"
      ]
     },
     "execution_count": 254,
     "metadata": {},
     "output_type": "execute_result"
    }
   ],
   "source": [
    "residual_1= y1_test-y_pred3\n",
    "residual_1"
   ]
  },
  {
   "cell_type": "code",
   "execution_count": 255,
   "id": "613db137",
   "metadata": {},
   "outputs": [],
   "source": [
    "#regressor.predict([[add variables]])"
   ]
  },
  {
   "cell_type": "code",
   "execution_count": 256,
   "id": "c34b23b9",
   "metadata": {},
   "outputs": [
    {
     "data": {
      "text/html": [
       "<div>\n",
       "<style scoped>\n",
       "    .dataframe tbody tr th:only-of-type {\n",
       "        vertical-align: middle;\n",
       "    }\n",
       "\n",
       "    .dataframe tbody tr th {\n",
       "        vertical-align: top;\n",
       "    }\n",
       "\n",
       "    .dataframe thead th {\n",
       "        text-align: right;\n",
       "    }\n",
       "</style>\n",
       "<table border=\"1\" class=\"dataframe\">\n",
       "  <thead>\n",
       "    <tr style=\"text-align: right;\">\n",
       "      <th></th>\n",
       "      <th>Actual claim</th>\n",
       "      <th>Predicted claim</th>\n",
       "      <th>Difference</th>\n",
       "    </tr>\n",
       "  </thead>\n",
       "  <tbody>\n",
       "    <tr>\n",
       "      <th>12</th>\n",
       "      <td>3.094408</td>\n",
       "      <td>3.683149</td>\n",
       "      <td>-0.588741</td>\n",
       "    </tr>\n",
       "    <tr>\n",
       "      <th>306</th>\n",
       "      <td>3.646902</td>\n",
       "      <td>3.779307</td>\n",
       "      <td>-0.132405</td>\n",
       "    </tr>\n",
       "    <tr>\n",
       "      <th>318</th>\n",
       "      <td>3.656048</td>\n",
       "      <td>3.815897</td>\n",
       "      <td>-0.159849</td>\n",
       "    </tr>\n",
       "    <tr>\n",
       "      <th>816</th>\n",
       "      <td>4.062741</td>\n",
       "      <td>3.737397</td>\n",
       "      <td>0.325344</td>\n",
       "    </tr>\n",
       "    <tr>\n",
       "      <th>157</th>\n",
       "      <td>3.412603</td>\n",
       "      <td>3.672953</td>\n",
       "      <td>-0.260350</td>\n",
       "    </tr>\n",
       "    <tr>\n",
       "      <th>...</th>\n",
       "      <td>...</td>\n",
       "      <td>...</td>\n",
       "      <td>...</td>\n",
       "    </tr>\n",
       "    <tr>\n",
       "      <th>714</th>\n",
       "      <td>4.001874</td>\n",
       "      <td>4.097972</td>\n",
       "      <td>-0.096097</td>\n",
       "    </tr>\n",
       "    <tr>\n",
       "      <th>664</th>\n",
       "      <td>3.967715</td>\n",
       "      <td>3.685519</td>\n",
       "      <td>0.282195</td>\n",
       "    </tr>\n",
       "    <tr>\n",
       "      <th>531</th>\n",
       "      <td>3.864811</td>\n",
       "      <td>3.745808</td>\n",
       "      <td>0.119003</td>\n",
       "    </tr>\n",
       "    <tr>\n",
       "      <th>537</th>\n",
       "      <td>3.867572</td>\n",
       "      <td>3.832625</td>\n",
       "      <td>0.034947</td>\n",
       "    </tr>\n",
       "    <tr>\n",
       "      <th>1018</th>\n",
       "      <td>4.242946</td>\n",
       "      <td>4.358098</td>\n",
       "      <td>-0.115152</td>\n",
       "    </tr>\n",
       "  </tbody>\n",
       "</table>\n",
       "<p>268 rows × 3 columns</p>\n",
       "</div>"
      ],
      "text/plain": [
       "      Actual claim  Predicted claim  Difference\n",
       "12        3.094408         3.683149   -0.588741\n",
       "306       3.646902         3.779307   -0.132405\n",
       "318       3.656048         3.815897   -0.159849\n",
       "816       4.062741         3.737397    0.325344\n",
       "157       3.412603         3.672953   -0.260350\n",
       "...            ...              ...         ...\n",
       "714       4.001874         4.097972   -0.096097\n",
       "664       3.967715         3.685519    0.282195\n",
       "531       3.864811         3.745808    0.119003\n",
       "537       3.867572         3.832625    0.034947\n",
       "1018      4.242946         4.358098   -0.115152\n",
       "\n",
       "[268 rows x 3 columns]"
      ]
     },
     "execution_count": 256,
     "metadata": {},
     "output_type": "execute_result"
    }
   ],
   "source": [
    "pred_y_Ins=pd.DataFrame({'Actual claim':y1_test ,'Predicted claim':y_pred3, 'Difference': y1_test - y_pred3})\n",
    "pred_y_Ins"
   ]
  },
  {
   "cell_type": "markdown",
   "id": "aa0368af",
   "metadata": {},
   "source": [
    "#### 10. Plot and visualise results"
   ]
  },
  {
   "cell_type": "code",
   "execution_count": 257,
   "id": "eefd3bbd",
   "metadata": {},
   "outputs": [
    {
     "data": {
      "text/plain": [
       "Text(0, 0.5, 'Predicted claim')"
      ]
     },
     "execution_count": 257,
     "metadata": {},
     "output_type": "execute_result"
    },
    {
     "data": {
      "image/png": "[encoded data removed]",
      "text/plain": [
       "<Figure size 432x288 with 1 Axes>"
      ]
     },
     "metadata": {
      "needs_background": "light"
     },
     "output_type": "display_data"
    }
   ],
   "source": [
    "#plt.figure(figsize=(8,6))\n",
    "plt.scatter(y1_test,y_pred2)\n",
    "plt.xlabel('Actual claim')\n",
    "plt.ylabel('Predicted claim')"
   ]
  },
  {
   "cell_type": "code",
   "execution_count": 258,
   "id": "db2b42b0",
   "metadata": {},
   "outputs": [
    {
     "data": {
      "text/plain": [
       "LinearRegression()"
      ]
     },
     "execution_count": 258,
     "metadata": {},
     "output_type": "execute_result"
    }
   ],
   "source": [
    "regressor = LinearRegression()\n",
    "regressor.fit(X1_test,y1_test)"
   ]
  },
  {
   "cell_type": "code",
   "execution_count": 259,
   "id": "c7fe39ac",
   "metadata": {},
   "outputs": [
    {
     "data": {
      "text/html": [
       "<div>\n",
       "<style scoped>\n",
       "    .dataframe tbody tr th:only-of-type {\n",
       "        vertical-align: middle;\n",
       "    }\n",
       "\n",
       "    .dataframe tbody tr th {\n",
       "        vertical-align: top;\n",
       "    }\n",
       "\n",
       "    .dataframe thead th {\n",
       "        text-align: right;\n",
       "    }\n",
       "</style>\n",
       "<table border=\"1\" class=\"dataframe\">\n",
       "  <thead>\n",
       "    <tr style=\"text-align: right;\">\n",
       "      <th></th>\n",
       "      <th>PatientID</th>\n",
       "      <th>age</th>\n",
       "      <th>gender</th>\n",
       "      <th>bmi</th>\n",
       "      <th>bloodpressure</th>\n",
       "      <th>diabetic</th>\n",
       "      <th>children</th>\n",
       "      <th>smoker</th>\n",
       "      <th>claim</th>\n",
       "      <th>northeast</th>\n",
       "      <th>northwest</th>\n",
       "      <th>southeast</th>\n",
       "      <th>southwest</th>\n",
       "      <th>BMIgroup</th>\n",
       "      <th>BMIgroup1</th>\n",
       "      <th>BPgroup</th>\n",
       "      <th>BPgroup1</th>\n",
       "      <th>claim_log</th>\n",
       "    </tr>\n",
       "  </thead>\n",
       "  <tbody>\n",
       "    <tr>\n",
       "      <th>0</th>\n",
       "      <td>1</td>\n",
       "      <td>39.000000</td>\n",
       "      <td>0</td>\n",
       "      <td>23.2</td>\n",
       "      <td>91</td>\n",
       "      <td>0</td>\n",
       "      <td>0</td>\n",
       "      <td>1</td>\n",
       "      <td>1121.87</td>\n",
       "      <td>0</td>\n",
       "      <td>0</td>\n",
       "      <td>1</td>\n",
       "      <td>0</td>\n",
       "      <td>Standard</td>\n",
       "      <td>2</td>\n",
       "      <td>Above standard</td>\n",
       "      <td>3</td>\n",
       "      <td>3.049943</td>\n",
       "    </tr>\n",
       "    <tr>\n",
       "      <th>1</th>\n",
       "      <td>2</td>\n",
       "      <td>24.000000</td>\n",
       "      <td>0</td>\n",
       "      <td>30.1</td>\n",
       "      <td>87</td>\n",
       "      <td>1</td>\n",
       "      <td>0</td>\n",
       "      <td>1</td>\n",
       "      <td>1131.51</td>\n",
       "      <td>0</td>\n",
       "      <td>0</td>\n",
       "      <td>1</td>\n",
       "      <td>0</td>\n",
       "      <td>Moderate</td>\n",
       "      <td>3</td>\n",
       "      <td>Standard</td>\n",
       "      <td>2</td>\n",
       "      <td>3.053658</td>\n",
       "    </tr>\n",
       "    <tr>\n",
       "      <th>2</th>\n",
       "      <td>3</td>\n",
       "      <td>38.078652</td>\n",
       "      <td>0</td>\n",
       "      <td>33.3</td>\n",
       "      <td>82</td>\n",
       "      <td>0</td>\n",
       "      <td>0</td>\n",
       "      <td>1</td>\n",
       "      <td>1135.94</td>\n",
       "      <td>0</td>\n",
       "      <td>0</td>\n",
       "      <td>1</td>\n",
       "      <td>0</td>\n",
       "      <td>High</td>\n",
       "      <td>4</td>\n",
       "      <td>Standard</td>\n",
       "      <td>2</td>\n",
       "      <td>3.055355</td>\n",
       "    </tr>\n",
       "    <tr>\n",
       "      <th>3</th>\n",
       "      <td>4</td>\n",
       "      <td>38.078652</td>\n",
       "      <td>0</td>\n",
       "      <td>33.7</td>\n",
       "      <td>80</td>\n",
       "      <td>1</td>\n",
       "      <td>0</td>\n",
       "      <td>1</td>\n",
       "      <td>1136.40</td>\n",
       "      <td>0</td>\n",
       "      <td>1</td>\n",
       "      <td>0</td>\n",
       "      <td>0</td>\n",
       "      <td>High</td>\n",
       "      <td>4</td>\n",
       "      <td>Low</td>\n",
       "      <td>1</td>\n",
       "      <td>3.055531</td>\n",
       "    </tr>\n",
       "    <tr>\n",
       "      <th>4</th>\n",
       "      <td>5</td>\n",
       "      <td>38.078652</td>\n",
       "      <td>0</td>\n",
       "      <td>34.1</td>\n",
       "      <td>100</td>\n",
       "      <td>1</td>\n",
       "      <td>0</td>\n",
       "      <td>1</td>\n",
       "      <td>1137.01</td>\n",
       "      <td>0</td>\n",
       "      <td>1</td>\n",
       "      <td>0</td>\n",
       "      <td>0</td>\n",
       "      <td>High</td>\n",
       "      <td>4</td>\n",
       "      <td>Above standard</td>\n",
       "      <td>3</td>\n",
       "      <td>3.055764</td>\n",
       "    </tr>\n",
       "  </tbody>\n",
       "</table>\n",
       "</div>"
      ],
      "text/plain": [
       "   PatientID        age  gender   bmi  bloodpressure  diabetic  children  \\\n",
       "0          1  39.000000       0  23.2             91         0         0   \n",
       "1          2  24.000000       0  30.1             87         1         0   \n",
       "2          3  38.078652       0  33.3             82         0         0   \n",
       "3          4  38.078652       0  33.7             80         1         0   \n",
       "4          5  38.078652       0  34.1            100         1         0   \n",
       "\n",
       "   smoker    claim  northeast  northwest  southeast  southwest  BMIgroup  \\\n",
       "0       1  1121.87          0          0          1          0  Standard   \n",
       "1       1  1131.51          0          0          1          0  Moderate   \n",
       "2       1  1135.94          0          0          1          0      High   \n",
       "3       1  1136.40          0          1          0          0      High   \n",
       "4       1  1137.01          0          1          0          0      High   \n",
       "\n",
       "  BMIgroup1         BPgroup BPgroup1  claim_log  \n",
       "0         2  Above standard        3   3.049943  \n",
       "1         3        Standard        2   3.053658  \n",
       "2         4        Standard        2   3.055355  \n",
       "3         4             Low        1   3.055531  \n",
       "4         4  Above standard        3   3.055764  "
      ]
     },
     "execution_count": 259,
     "metadata": {},
     "output_type": "execute_result"
    }
   ],
   "source": [
    "Ins.head()"
   ]
  },
  {
   "cell_type": "code",
   "execution_count": 273,
   "id": "5c4eb4d5",
   "metadata": {},
   "outputs": [
    {
     "data": {
      "text/html": [
       "<table class=\"simpletable\">\n",
       "<caption>OLS Regression Results</caption>\n",
       "<tr>\n",
       "  <th>Dep. Variable:</th>        <td>claim_log</td>    <th>  R-squared:         </th> <td>   0.503</td> \n",
       "</tr>\n",
       "<tr>\n",
       "  <th>Model:</th>                   <td>OLS</td>       <th>  Adj. R-squared:    </th> <td>   0.500</td> \n",
       "</tr>\n",
       "<tr>\n",
       "  <th>Method:</th>             <td>Least Squares</td>  <th>  F-statistic:       </th> <td>   192.5</td> \n",
       "</tr>\n",
       "<tr>\n",
       "  <th>Date:</th>             <td>Mon, 04 Jul 2022</td> <th>  Prob (F-statistic):</th> <td>4.10e-197</td>\n",
       "</tr>\n",
       "<tr>\n",
       "  <th>Time:</th>                 <td>01:06:39</td>     <th>  Log-Likelihood:    </th> <td> -205.62</td> \n",
       "</tr>\n",
       "<tr>\n",
       "  <th>No. Observations:</th>      <td>  1340</td>      <th>  AIC:               </th> <td>   427.2</td> \n",
       "</tr>\n",
       "<tr>\n",
       "  <th>Df Residuals:</th>          <td>  1332</td>      <th>  BIC:               </th> <td>   468.8</td> \n",
       "</tr>\n",
       "<tr>\n",
       "  <th>Df Model:</th>              <td>     7</td>      <th>                     </th>     <td> </td>    \n",
       "</tr>\n",
       "<tr>\n",
       "  <th>Covariance Type:</th>      <td>nonrobust</td>    <th>                     </th>     <td> </td>    \n",
       "</tr>\n",
       "</table>\n",
       "<table class=\"simpletable\">\n",
       "<tr>\n",
       "        <td></td>           <th>coef</th>     <th>std err</th>      <th>t</th>      <th>P>|t|</th>  <th>[0.025</th>    <th>0.975]</th>  \n",
       "</tr>\n",
       "<tr>\n",
       "  <th>Intercept</th>     <td>    4.2596</td> <td>    0.042</td> <td>  101.435</td> <td> 0.000</td> <td>    4.177</td> <td>    4.342</td>\n",
       "</tr>\n",
       "<tr>\n",
       "  <th>BPgroup1[T.2]</th> <td>    0.0599</td> <td>    0.039</td> <td>    1.540</td> <td> 0.124</td> <td>   -0.016</td> <td>    0.136</td>\n",
       "</tr>\n",
       "<tr>\n",
       "  <th>BPgroup1[T.3]</th> <td>    0.0798</td> <td>    0.039</td> <td>    2.050</td> <td> 0.041</td> <td>    0.003</td> <td>    0.156</td>\n",
       "</tr>\n",
       "<tr>\n",
       "  <th>BPgroup1[T.4]</th> <td>    0.3172</td> <td>    0.043</td> <td>    7.331</td> <td> 0.000</td> <td>    0.232</td> <td>    0.402</td>\n",
       "</tr>\n",
       "<tr>\n",
       "  <th>BPgroup1[T.5]</th> <td>    0.3664</td> <td>    0.064</td> <td>    5.744</td> <td> 0.000</td> <td>    0.241</td> <td>    0.491</td>\n",
       "</tr>\n",
       "<tr>\n",
       "  <th>BPgroup1[T.6]</th> <td>    0.3995</td> <td>    0.067</td> <td>    5.969</td> <td> 0.000</td> <td>    0.268</td> <td>    0.531</td>\n",
       "</tr>\n",
       "<tr>\n",
       "  <th>BPgroup1[T.7]</th> <td>    0.3867</td> <td>    0.068</td> <td>    5.696</td> <td> 0.000</td> <td>    0.254</td> <td>    0.520</td>\n",
       "</tr>\n",
       "<tr>\n",
       "  <th>smoker</th>        <td>   -0.5381</td> <td>    0.022</td> <td>  -24.423</td> <td> 0.000</td> <td>   -0.581</td> <td>   -0.495</td>\n",
       "</tr>\n",
       "</table>\n",
       "<table class=\"simpletable\">\n",
       "<tr>\n",
       "  <th>Omnibus:</th>       <td>19.099</td> <th>  Durbin-Watson:     </th> <td>   0.582</td>\n",
       "</tr>\n",
       "<tr>\n",
       "  <th>Prob(Omnibus):</th> <td> 0.000</td> <th>  Jarque-Bera (JB):  </th> <td>  19.735</td>\n",
       "</tr>\n",
       "<tr>\n",
       "  <th>Skew:</th>          <td>-0.293</td> <th>  Prob(JB):          </th> <td>5.18e-05</td>\n",
       "</tr>\n",
       "<tr>\n",
       "  <th>Kurtosis:</th>      <td> 2.903</td> <th>  Cond. No.          </th> <td>    20.2</td>\n",
       "</tr>\n",
       "</table><br/><br/>Notes:<br/>[1] Standard Errors assume that the covariance matrix of the errors is correctly specified."
      ],
      "text/plain": [
       "<class 'statsmodels.iolib.summary.Summary'>\n",
       "\"\"\"\n",
       "                            OLS Regression Results                            \n",
       "==============================================================================\n",
       "Dep. Variable:              claim_log   R-squared:                       0.503\n",
       "Model:                            OLS   Adj. R-squared:                  0.500\n",
       "Method:                 Least Squares   F-statistic:                     192.5\n",
       "Date:                Mon, 04 Jul 2022   Prob (F-statistic):          4.10e-197\n",
       "Time:                        01:06:39   Log-Likelihood:                -205.62\n",
       "No. Observations:                1340   AIC:                             427.2\n",
       "Df Residuals:                    1332   BIC:                             468.8\n",
       "Df Model:                           7                                         \n",
       "Covariance Type:            nonrobust                                         \n",
       "=================================================================================\n",
       "                    coef    std err          t      P>|t|      [0.025      0.975]\n",
       "---------------------------------------------------------------------------------\n",
       "Intercept         4.2596      0.042    101.435      0.000       4.177       4.342\n",
       "BPgroup1[T.2]     0.0599      0.039      1.540      0.124      -0.016       0.136\n",
       "BPgroup1[T.3]     0.0798      0.039      2.050      0.041       0.003       0.156\n",
       "BPgroup1[T.4]     0.3172      0.043      7.331      0.000       0.232       0.402\n",
       "BPgroup1[T.5]     0.3664      0.064      5.744      0.000       0.241       0.491\n",
       "BPgroup1[T.6]     0.3995      0.067      5.969      0.000       0.268       0.531\n",
       "BPgroup1[T.7]     0.3867      0.068      5.696      0.000       0.254       0.520\n",
       "smoker           -0.5381      0.022    -24.423      0.000      -0.581      -0.495\n",
       "==============================================================================\n",
       "Omnibus:                       19.099   Durbin-Watson:                   0.582\n",
       "Prob(Omnibus):                  0.000   Jarque-Bera (JB):               19.735\n",
       "Skew:                          -0.293   Prob(JB):                     5.18e-05\n",
       "Kurtosis:                       2.903   Cond. No.                         20.2\n",
       "==============================================================================\n",
       "\n",
       "Notes:\n",
       "[1] Standard Errors assume that the covariance matrix of the errors is correctly specified.\n",
       "\"\"\""
      ]
     },
     "execution_count": 273,
     "metadata": {},
     "output_type": "execute_result"
    }
   ],
   "source": [
    "import statsmodels.formula.api as smf\n",
    "\n",
    "regressor = smf.ols(formula='claim_log~ smoker+ BPgroup1',data=Ins).fit()\n",
    "regressor.conf_int()\n",
    "regressor.summary()"
   ]
  },
  {
   "cell_type": "code",
   "execution_count": 263,
   "id": "e8f6174b",
   "metadata": {},
   "outputs": [
    {
     "data": {
      "text/html": [
       "<div>\n",
       "<style scoped>\n",
       "    .dataframe tbody tr th:only-of-type {\n",
       "        vertical-align: middle;\n",
       "    }\n",
       "\n",
       "    .dataframe tbody tr th {\n",
       "        vertical-align: top;\n",
       "    }\n",
       "\n",
       "    .dataframe thead th {\n",
       "        text-align: right;\n",
       "    }\n",
       "</style>\n",
       "<table border=\"1\" class=\"dataframe\">\n",
       "  <thead>\n",
       "    <tr style=\"text-align: right;\">\n",
       "      <th></th>\n",
       "      <th>Actual claim</th>\n",
       "      <th>Predicted claim</th>\n",
       "      <th>Difference</th>\n",
       "    </tr>\n",
       "  </thead>\n",
       "  <tbody>\n",
       "    <tr>\n",
       "      <th>12</th>\n",
       "      <td>3.094408</td>\n",
       "      <td>4.394133</td>\n",
       "      <td>-1.299725</td>\n",
       "    </tr>\n",
       "    <tr>\n",
       "      <th>306</th>\n",
       "      <td>3.646902</td>\n",
       "      <td>3.873785</td>\n",
       "      <td>-0.226882</td>\n",
       "    </tr>\n",
       "    <tr>\n",
       "      <th>318</th>\n",
       "      <td>3.656048</td>\n",
       "      <td>3.645526</td>\n",
       "      <td>0.010522</td>\n",
       "    </tr>\n",
       "    <tr>\n",
       "      <th>816</th>\n",
       "      <td>4.062741</td>\n",
       "      <td>3.830577</td>\n",
       "      <td>0.232164</td>\n",
       "    </tr>\n",
       "    <tr>\n",
       "      <th>157</th>\n",
       "      <td>3.412603</td>\n",
       "      <td>3.697164</td>\n",
       "      <td>-0.284561</td>\n",
       "    </tr>\n",
       "    <tr>\n",
       "      <th>...</th>\n",
       "      <td>...</td>\n",
       "      <td>...</td>\n",
       "      <td>...</td>\n",
       "    </tr>\n",
       "    <tr>\n",
       "      <th>714</th>\n",
       "      <td>4.001874</td>\n",
       "      <td>3.826244</td>\n",
       "      <td>0.175630</td>\n",
       "    </tr>\n",
       "    <tr>\n",
       "      <th>664</th>\n",
       "      <td>3.967715</td>\n",
       "      <td>4.089902</td>\n",
       "      <td>-0.122188</td>\n",
       "    </tr>\n",
       "    <tr>\n",
       "      <th>531</th>\n",
       "      <td>3.864811</td>\n",
       "      <td>3.766487</td>\n",
       "      <td>0.098324</td>\n",
       "    </tr>\n",
       "    <tr>\n",
       "      <th>537</th>\n",
       "      <td>3.867572</td>\n",
       "      <td>3.818589</td>\n",
       "      <td>0.048983</td>\n",
       "    </tr>\n",
       "    <tr>\n",
       "      <th>1018</th>\n",
       "      <td>4.242946</td>\n",
       "      <td>3.735913</td>\n",
       "      <td>0.507033</td>\n",
       "    </tr>\n",
       "  </tbody>\n",
       "</table>\n",
       "<p>268 rows × 3 columns</p>\n",
       "</div>"
      ],
      "text/plain": [
       "      Actual claim  Predicted claim  Difference\n",
       "12        3.094408         4.394133   -1.299725\n",
       "306       3.646902         3.873785   -0.226882\n",
       "318       3.656048         3.645526    0.010522\n",
       "816       4.062741         3.830577    0.232164\n",
       "157       3.412603         3.697164   -0.284561\n",
       "...            ...              ...         ...\n",
       "714       4.001874         3.826244    0.175630\n",
       "664       3.967715         4.089902   -0.122188\n",
       "531       3.864811         3.766487    0.098324\n",
       "537       3.867572         3.818589    0.048983\n",
       "1018      4.242946         3.735913    0.507033\n",
       "\n",
       "[268 rows x 3 columns]"
      ]
     },
     "execution_count": 263,
     "metadata": {},
     "output_type": "execute_result"
    }
   ],
   "source": [
    "pred_y_Ins=pd.DataFrame({'Actual claim':y1_test ,'Predicted claim':y_pred2, 'Difference': y1_test - y_pred2})\n",
    "pred_y_Ins"
   ]
  },
  {
   "cell_type": "code",
   "execution_count": null,
   "id": "ccb139f8",
   "metadata": {},
   "outputs": [],
   "source": []
  },
  {
   "cell_type": "markdown",
   "id": "54852752",
   "metadata": {},
   "source": [
    "### Validation of linear regression assumption"
   ]
  },
  {
   "cell_type": "markdown",
   "id": "d93bf07e",
   "metadata": {},
   "source": [
    "#### 1. Multicolinearity :  Features must be independent"
   ]
  },
  {
   "cell_type": "code",
   "execution_count": 264,
   "id": "1593c440",
   "metadata": {},
   "outputs": [
    {
     "data": {
      "text/html": [
       "<div>\n",
       "<style scoped>\n",
       "    .dataframe tbody tr th:only-of-type {\n",
       "        vertical-align: middle;\n",
       "    }\n",
       "\n",
       "    .dataframe tbody tr th {\n",
       "        vertical-align: top;\n",
       "    }\n",
       "\n",
       "    .dataframe thead th {\n",
       "        text-align: right;\n",
       "    }\n",
       "</style>\n",
       "<table border=\"1\" class=\"dataframe\">\n",
       "  <thead>\n",
       "    <tr style=\"text-align: right;\">\n",
       "      <th></th>\n",
       "      <th>const</th>\n",
       "      <th>age</th>\n",
       "      <th>gender</th>\n",
       "      <th>diabetic</th>\n",
       "      <th>children</th>\n",
       "      <th>smoker</th>\n",
       "      <th>northeast</th>\n",
       "      <th>northwest</th>\n",
       "      <th>southeast</th>\n",
       "      <th>southwest</th>\n",
       "      <th>BPgroup1</th>\n",
       "    </tr>\n",
       "  </thead>\n",
       "  <tbody>\n",
       "    <tr>\n",
       "      <th>0</th>\n",
       "      <td>1.0</td>\n",
       "      <td>39.000000</td>\n",
       "      <td>0</td>\n",
       "      <td>0</td>\n",
       "      <td>0</td>\n",
       "      <td>1</td>\n",
       "      <td>0</td>\n",
       "      <td>0</td>\n",
       "      <td>1</td>\n",
       "      <td>0</td>\n",
       "      <td>3</td>\n",
       "    </tr>\n",
       "    <tr>\n",
       "      <th>1</th>\n",
       "      <td>1.0</td>\n",
       "      <td>24.000000</td>\n",
       "      <td>0</td>\n",
       "      <td>1</td>\n",
       "      <td>0</td>\n",
       "      <td>1</td>\n",
       "      <td>0</td>\n",
       "      <td>0</td>\n",
       "      <td>1</td>\n",
       "      <td>0</td>\n",
       "      <td>2</td>\n",
       "    </tr>\n",
       "    <tr>\n",
       "      <th>2</th>\n",
       "      <td>1.0</td>\n",
       "      <td>38.078652</td>\n",
       "      <td>0</td>\n",
       "      <td>0</td>\n",
       "      <td>0</td>\n",
       "      <td>1</td>\n",
       "      <td>0</td>\n",
       "      <td>0</td>\n",
       "      <td>1</td>\n",
       "      <td>0</td>\n",
       "      <td>2</td>\n",
       "    </tr>\n",
       "    <tr>\n",
       "      <th>3</th>\n",
       "      <td>1.0</td>\n",
       "      <td>38.078652</td>\n",
       "      <td>0</td>\n",
       "      <td>1</td>\n",
       "      <td>0</td>\n",
       "      <td>1</td>\n",
       "      <td>0</td>\n",
       "      <td>1</td>\n",
       "      <td>0</td>\n",
       "      <td>0</td>\n",
       "      <td>1</td>\n",
       "    </tr>\n",
       "    <tr>\n",
       "      <th>4</th>\n",
       "      <td>1.0</td>\n",
       "      <td>38.078652</td>\n",
       "      <td>0</td>\n",
       "      <td>1</td>\n",
       "      <td>0</td>\n",
       "      <td>1</td>\n",
       "      <td>0</td>\n",
       "      <td>1</td>\n",
       "      <td>0</td>\n",
       "      <td>0</td>\n",
       "      <td>3</td>\n",
       "    </tr>\n",
       "  </tbody>\n",
       "</table>\n",
       "</div>"
      ],
      "text/plain": [
       "   const        age  gender  diabetic  children  smoker  northeast  northwest  \\\n",
       "0    1.0  39.000000       0         0         0       1          0          0   \n",
       "1    1.0  24.000000       0         1         0       1          0          0   \n",
       "2    1.0  38.078652       0         0         0       1          0          0   \n",
       "3    1.0  38.078652       0         1         0       1          0          1   \n",
       "4    1.0  38.078652       0         1         0       1          0          1   \n",
       "\n",
       "   southeast  southwest BPgroup1  \n",
       "0          1          0        3  \n",
       "1          1          0        2  \n",
       "2          1          0        2  \n",
       "3          0          0        1  \n",
       "4          0          0        3  "
      ]
     },
     "execution_count": 264,
     "metadata": {},
     "output_type": "execute_result"
    }
   ],
   "source": [
    "X1.head()"
   ]
  },
  {
   "cell_type": "code",
   "execution_count": 265,
   "id": "359b7590",
   "metadata": {},
   "outputs": [
    {
     "data": {
      "text/html": [
       "<div>\n",
       "<style scoped>\n",
       "    .dataframe tbody tr th:only-of-type {\n",
       "        vertical-align: middle;\n",
       "    }\n",
       "\n",
       "    .dataframe tbody tr th {\n",
       "        vertical-align: top;\n",
       "    }\n",
       "\n",
       "    .dataframe thead th {\n",
       "        text-align: right;\n",
       "    }\n",
       "</style>\n",
       "<table border=\"1\" class=\"dataframe\">\n",
       "  <thead>\n",
       "    <tr style=\"text-align: right;\">\n",
       "      <th></th>\n",
       "      <th>PatientID</th>\n",
       "      <th>age</th>\n",
       "      <th>gender</th>\n",
       "      <th>bmi</th>\n",
       "      <th>bloodpressure</th>\n",
       "      <th>diabetic</th>\n",
       "      <th>children</th>\n",
       "      <th>smoker</th>\n",
       "      <th>claim</th>\n",
       "      <th>northeast</th>\n",
       "      <th>northwest</th>\n",
       "      <th>southeast</th>\n",
       "      <th>southwest</th>\n",
       "      <th>BMIgroup</th>\n",
       "      <th>BMIgroup1</th>\n",
       "      <th>BPgroup</th>\n",
       "      <th>BPgroup1</th>\n",
       "      <th>claim_log</th>\n",
       "    </tr>\n",
       "  </thead>\n",
       "  <tbody>\n",
       "    <tr>\n",
       "      <th>0</th>\n",
       "      <td>1</td>\n",
       "      <td>39.000000</td>\n",
       "      <td>0</td>\n",
       "      <td>23.2</td>\n",
       "      <td>91</td>\n",
       "      <td>0</td>\n",
       "      <td>0</td>\n",
       "      <td>1</td>\n",
       "      <td>1121.87</td>\n",
       "      <td>0</td>\n",
       "      <td>0</td>\n",
       "      <td>1</td>\n",
       "      <td>0</td>\n",
       "      <td>Standard</td>\n",
       "      <td>2</td>\n",
       "      <td>Above standard</td>\n",
       "      <td>3</td>\n",
       "      <td>3.049943</td>\n",
       "    </tr>\n",
       "    <tr>\n",
       "      <th>1</th>\n",
       "      <td>2</td>\n",
       "      <td>24.000000</td>\n",
       "      <td>0</td>\n",
       "      <td>30.1</td>\n",
       "      <td>87</td>\n",
       "      <td>1</td>\n",
       "      <td>0</td>\n",
       "      <td>1</td>\n",
       "      <td>1131.51</td>\n",
       "      <td>0</td>\n",
       "      <td>0</td>\n",
       "      <td>1</td>\n",
       "      <td>0</td>\n",
       "      <td>Moderate</td>\n",
       "      <td>3</td>\n",
       "      <td>Standard</td>\n",
       "      <td>2</td>\n",
       "      <td>3.053658</td>\n",
       "    </tr>\n",
       "    <tr>\n",
       "      <th>2</th>\n",
       "      <td>3</td>\n",
       "      <td>38.078652</td>\n",
       "      <td>0</td>\n",
       "      <td>33.3</td>\n",
       "      <td>82</td>\n",
       "      <td>0</td>\n",
       "      <td>0</td>\n",
       "      <td>1</td>\n",
       "      <td>1135.94</td>\n",
       "      <td>0</td>\n",
       "      <td>0</td>\n",
       "      <td>1</td>\n",
       "      <td>0</td>\n",
       "      <td>High</td>\n",
       "      <td>4</td>\n",
       "      <td>Standard</td>\n",
       "      <td>2</td>\n",
       "      <td>3.055355</td>\n",
       "    </tr>\n",
       "    <tr>\n",
       "      <th>3</th>\n",
       "      <td>4</td>\n",
       "      <td>38.078652</td>\n",
       "      <td>0</td>\n",
       "      <td>33.7</td>\n",
       "      <td>80</td>\n",
       "      <td>1</td>\n",
       "      <td>0</td>\n",
       "      <td>1</td>\n",
       "      <td>1136.40</td>\n",
       "      <td>0</td>\n",
       "      <td>1</td>\n",
       "      <td>0</td>\n",
       "      <td>0</td>\n",
       "      <td>High</td>\n",
       "      <td>4</td>\n",
       "      <td>Low</td>\n",
       "      <td>1</td>\n",
       "      <td>3.055531</td>\n",
       "    </tr>\n",
       "    <tr>\n",
       "      <th>4</th>\n",
       "      <td>5</td>\n",
       "      <td>38.078652</td>\n",
       "      <td>0</td>\n",
       "      <td>34.1</td>\n",
       "      <td>100</td>\n",
       "      <td>1</td>\n",
       "      <td>0</td>\n",
       "      <td>1</td>\n",
       "      <td>1137.01</td>\n",
       "      <td>0</td>\n",
       "      <td>1</td>\n",
       "      <td>0</td>\n",
       "      <td>0</td>\n",
       "      <td>High</td>\n",
       "      <td>4</td>\n",
       "      <td>Above standard</td>\n",
       "      <td>3</td>\n",
       "      <td>3.055764</td>\n",
       "    </tr>\n",
       "  </tbody>\n",
       "</table>\n",
       "</div>"
      ],
      "text/plain": [
       "   PatientID        age  gender   bmi  bloodpressure  diabetic  children  \\\n",
       "0          1  39.000000       0  23.2             91         0         0   \n",
       "1          2  24.000000       0  30.1             87         1         0   \n",
       "2          3  38.078652       0  33.3             82         0         0   \n",
       "3          4  38.078652       0  33.7             80         1         0   \n",
       "4          5  38.078652       0  34.1            100         1         0   \n",
       "\n",
       "   smoker    claim  northeast  northwest  southeast  southwest  BMIgroup  \\\n",
       "0       1  1121.87          0          0          1          0  Standard   \n",
       "1       1  1131.51          0          0          1          0  Moderate   \n",
       "2       1  1135.94          0          0          1          0      High   \n",
       "3       1  1136.40          0          1          0          0      High   \n",
       "4       1  1137.01          0          1          0          0      High   \n",
       "\n",
       "  BMIgroup1         BPgroup BPgroup1  claim_log  \n",
       "0         2  Above standard        3   3.049943  \n",
       "1         3        Standard        2   3.053658  \n",
       "2         4        Standard        2   3.055355  \n",
       "3         4             Low        1   3.055531  \n",
       "4         4  Above standard        3   3.055764  "
      ]
     },
     "execution_count": 265,
     "metadata": {},
     "output_type": "execute_result"
    }
   ],
   "source": [
    "Ins.head()"
   ]
  },
  {
   "cell_type": "code",
   "execution_count": null,
   "id": "06e041bf",
   "metadata": {},
   "outputs": [],
   "source": [
    "from statsmodels.stats.outliers_influence import variance_inflation_factor\n",
    "\n",
    "\n",
    "# VIF dataframe\n",
    "vif_data = pd.DataFrame()\n",
    "vif_data[\"feature\"] = Ins_test.drop(\"claim_log,\",axis=1).columns\n",
    "  \n",
    "# calculating VIF for each feature\n",
    "vif_data[\"VIF\"] = [variance_inflation_factor(df_test.drop(\"price\",axis=1).values, i)\n",
    "                          for i in range(len(df_test.drop(\"price\",axis=1).columns))]\n",
    "  \n",
    "print(vif_data.to_string())"
   ]
  },
  {
   "cell_type": "code",
   "execution_count": 278,
   "id": "8e6ac6bb",
   "metadata": {},
   "outputs": [],
   "source": [
    "\n",
    "def calculate_vif(dataset):\n",
    "    vif=pd.DataFrame()\n",
    "    vif[\"features\"] = dataset.columns\n",
    "    vif[\"VIF_Value\"] = [variance_inflation_factor(dataset.values,i) for i in range(dataset.shape[1])]\n",
    "    return(vif)"
   ]
  },
  {
   "cell_type": "code",
   "execution_count": 291,
   "id": "63e15d94",
   "metadata": {},
   "outputs": [
    {
     "data": {
      "text/html": [
       "<div>\n",
       "<style scoped>\n",
       "    .dataframe tbody tr th:only-of-type {\n",
       "        vertical-align: middle;\n",
       "    }\n",
       "\n",
       "    .dataframe tbody tr th {\n",
       "        vertical-align: top;\n",
       "    }\n",
       "\n",
       "    .dataframe thead th {\n",
       "        text-align: right;\n",
       "    }\n",
       "</style>\n",
       "<table border=\"1\" class=\"dataframe\">\n",
       "  <thead>\n",
       "    <tr style=\"text-align: right;\">\n",
       "      <th></th>\n",
       "      <th>features</th>\n",
       "      <th>VIF_Value</th>\n",
       "    </tr>\n",
       "  </thead>\n",
       "  <tbody>\n",
       "    <tr>\n",
       "      <th>0</th>\n",
       "      <td>age</td>\n",
       "      <td>13.425854</td>\n",
       "    </tr>\n",
       "    <tr>\n",
       "      <th>1</th>\n",
       "      <td>gender</td>\n",
       "      <td>2.347558</td>\n",
       "    </tr>\n",
       "    <tr>\n",
       "      <th>2</th>\n",
       "      <td>bmi</td>\n",
       "      <td>24.475446</td>\n",
       "    </tr>\n",
       "    <tr>\n",
       "      <th>3</th>\n",
       "      <td>bloodpressure</td>\n",
       "      <td>28.309809</td>\n",
       "    </tr>\n",
       "    <tr>\n",
       "      <th>4</th>\n",
       "      <td>diabetic</td>\n",
       "      <td>2.091446</td>\n",
       "    </tr>\n",
       "    <tr>\n",
       "      <th>5</th>\n",
       "      <td>children</td>\n",
       "      <td>1.804265</td>\n",
       "    </tr>\n",
       "    <tr>\n",
       "      <th>6</th>\n",
       "      <td>smoker</td>\n",
       "      <td>4.533633</td>\n",
       "    </tr>\n",
       "  </tbody>\n",
       "</table>\n",
       "</div>"
      ],
      "text/plain": [
       "        features  VIF_Value\n",
       "0            age  13.425854\n",
       "1         gender   2.347558\n",
       "2            bmi  24.475446\n",
       "3  bloodpressure  28.309809\n",
       "4       diabetic   2.091446\n",
       "5       children   1.804265\n",
       "6         smoker   4.533633"
      ]
     },
     "execution_count": 291,
     "metadata": {},
     "output_type": "execute_result"
    }
   ],
   "source": [
    "import pandas as pd\n",
    "\n",
    "features = Ins.iloc[:,1:8]\n",
    "\n",
    "calculate_vif(features)"
   ]
  },
  {
   "cell_type": "markdown",
   "id": "46cae2f8",
   "metadata": {},
   "source": [
    "#### Outcome: "
   ]
  },
  {
   "cell_type": "markdown",
   "id": "0461bca5",
   "metadata": {},
   "source": [
    "We observe the VIF value is higher for pairs \"BMI\" and \"Blood pressure\". \n",
    "Therefore, indicating that said variables have collinearity and we will have to drop one of the variables for the accuracy of the model.\n",
    "\n",
    "One approach to remove the variable is to check the co-relation of BMI and blood pressure with target variable - claims"
   ]
  },
  {
   "cell_type": "markdown",
   "id": "69266bd8",
   "metadata": {},
   "source": [
    "We high BP has higher co-relation with claim(0.53) as compared to BMI with claim(0.19); Therefore, it would be better to drop BMI variable"
   ]
  },
  {
   "cell_type": "markdown",
   "id": "f06cc8b5",
   "metadata": {},
   "source": [
    "#### 2. Normality of Residual: Errors or residuals must be normally distributed"
   ]
  },
  {
   "cell_type": "code",
   "execution_count": 268,
   "id": "c35db5d2",
   "metadata": {},
   "outputs": [
    {
     "data": {
      "text/plain": [
       "<AxesSubplot:xlabel='claim_log', ylabel='Density'>"
      ]
     },
     "execution_count": 268,
     "metadata": {},
     "output_type": "execute_result"
    },
    {
     "data": {
      "image/png": "[encoded data removed]",
      "text/plain": [
       "<Figure size 432x288 with 1 Axes>"
      ]
     },
     "metadata": {
      "needs_background": "light"
     },
     "output_type": "display_data"
    }
   ],
   "source": [
    "sns.distplot(residual_1)"
   ]
  },
  {
   "cell_type": "code",
   "execution_count": 269,
   "id": "a2115643",
   "metadata": {},
   "outputs": [
    {
     "data": {
      "text/plain": [
       "((array([-2.79649277, -2.4966039 , -2.32650869, -2.20514436, -2.10955733,\n",
       "         -2.03007379, -1.96166434, -1.90136582, -1.84727945, -1.79811247,\n",
       "         -1.7529434 , -1.7110913 , -1.67203817, -1.63538038, -1.60079708,\n",
       "         -1.56802882, -1.53686267, -1.50712165, -1.47865698, -1.45134236,\n",
       "         -1.42506958, -1.39974522, -1.37528804, -1.3516269 , -1.32869918,\n",
       "         -1.30644941, -1.28482825, -1.26379157, -1.24329979, -1.22331718,\n",
       "         -1.20381147, -1.18475332, -1.16611605, -1.14787525, -1.1300086 ,\n",
       "         -1.11249556, -1.09531724, -1.07845621, -1.06189633, -1.04562265,\n",
       "         -1.02962128, -1.01387928, -0.99838461, -0.98312599, -0.96809291,\n",
       "         -0.95327549, -0.93866447, -0.92425113, -0.91002729, -0.89598523,\n",
       "         -0.88211765, -0.86841767, -0.85487877, -0.8414948 , -0.82825989,\n",
       "         -0.81516849, -0.80221533, -0.7893954 , -0.77670391, -0.76413631,\n",
       "         -0.75168825, -0.73935561, -0.7271344 , -0.71502084, -0.70301131,\n",
       "         -0.69110233, -0.67929056, -0.66757282, -0.65594603, -0.64440725,\n",
       "         -0.63295363, -0.62158246, -0.61029109, -0.59907701, -0.58793776,\n",
       "         -0.576871  , -0.56587443, -0.55494588, -0.54408321, -0.53328436,\n",
       "         -0.52254735, -0.51187024, -0.50125118, -0.49068833, -0.48017996,\n",
       "         -0.46972435, -0.45931983, -0.44896481, -0.4386577 , -0.42839699,\n",
       "         -0.41818118, -0.40800883, -0.39787853, -0.38778889, -0.37773858,\n",
       "         -0.36772629, -0.35775072, -0.34781062, -0.33790478, -0.32803198,\n",
       "         -0.31819105, -0.30838084, -0.29860022, -0.28884809, -0.27912334,\n",
       "         -0.26942493, -0.25975179, -0.25010289, -0.24047723, -0.23087379,\n",
       "         -0.2212916 , -0.21172969, -0.20218709, -0.19266288, -0.1831561 ,\n",
       "         -0.17366586, -0.16419123, -0.15473131, -0.14528522, -0.13585208,\n",
       "         -0.12643101, -0.11702115, -0.10762164, -0.09823163, -0.08885028,\n",
       "         -0.07947673, -0.07011017, -0.06074975, -0.05139465, -0.04204405,\n",
       "         -0.03269712, -0.02335305, -0.01401101, -0.0046702 ,  0.0046702 ,\n",
       "          0.01401101,  0.02335305,  0.03269712,  0.04204405,  0.05139465,\n",
       "          0.06074975,  0.07011017,  0.07947673,  0.08885028,  0.09823163,\n",
       "          0.10762164,  0.11702115,  0.12643101,  0.13585208,  0.14528522,\n",
       "          0.15473131,  0.16419123,  0.17366586,  0.1831561 ,  0.19266288,\n",
       "          0.20218709,  0.21172969,  0.2212916 ,  0.23087379,  0.24047723,\n",
       "          0.25010289,  0.25975179,  0.26942493,  0.27912334,  0.28884809,\n",
       "          0.29860022,  0.30838084,  0.31819105,  0.32803198,  0.33790478,\n",
       "          0.34781062,  0.35775072,  0.36772629,  0.37773858,  0.38778889,\n",
       "          0.39787853,  0.40800883,  0.41818118,  0.42839699,  0.4386577 ,\n",
       "          0.44896481,  0.45931983,  0.46972435,  0.48017996,  0.49068833,\n",
       "          0.50125118,  0.51187024,  0.52254735,  0.53328436,  0.54408321,\n",
       "          0.55494588,  0.56587443,  0.576871  ,  0.58793776,  0.59907701,\n",
       "          0.61029109,  0.62158246,  0.63295363,  0.64440725,  0.65594603,\n",
       "          0.66757282,  0.67929056,  0.69110233,  0.70301131,  0.71502084,\n",
       "          0.7271344 ,  0.73935561,  0.75168825,  0.76413631,  0.77670391,\n",
       "          0.7893954 ,  0.80221533,  0.81516849,  0.82825989,  0.8414948 ,\n",
       "          0.85487877,  0.86841767,  0.88211765,  0.89598523,  0.91002729,\n",
       "          0.92425113,  0.93866447,  0.95327549,  0.96809291,  0.98312599,\n",
       "          0.99838461,  1.01387928,  1.02962128,  1.04562265,  1.06189633,\n",
       "          1.07845621,  1.09531724,  1.11249556,  1.1300086 ,  1.14787525,\n",
       "          1.16611605,  1.18475332,  1.20381147,  1.22331718,  1.24329979,\n",
       "          1.26379157,  1.28482825,  1.30644941,  1.32869918,  1.3516269 ,\n",
       "          1.37528804,  1.39974522,  1.42506958,  1.45134236,  1.47865698,\n",
       "          1.50712165,  1.53686267,  1.56802882,  1.60079708,  1.63538038,\n",
       "          1.67203817,  1.7110913 ,  1.7529434 ,  1.79811247,  1.84727945,\n",
       "          1.90136582,  1.96166434,  2.03007379,  2.10955733,  2.20514436,\n",
       "          2.32650869,  2.4966039 ,  2.79649277]),\n",
       "  array([-0.69289195, -0.59978386, -0.58874064, -0.58650464, -0.57532011,\n",
       "         -0.55308314, -0.54629098, -0.54406749, -0.53892349, -0.51540508,\n",
       "         -0.47487359, -0.47350997, -0.46346744, -0.45850315, -0.43746196,\n",
       "         -0.43664301, -0.4362278 , -0.41089325, -0.40803483, -0.40492598,\n",
       "         -0.40278056, -0.39846558, -0.39645358, -0.39558746, -0.39286367,\n",
       "         -0.38834457, -0.38046042, -0.35160063, -0.34996846, -0.34181927,\n",
       "         -0.33812228, -0.33093645, -0.32708645, -0.32687338, -0.31357417,\n",
       "         -0.30974216, -0.30932259, -0.30874988, -0.30103634, -0.29830651,\n",
       "         -0.29176806, -0.28549168, -0.28469292, -0.28423934, -0.2831536 ,\n",
       "         -0.27763825, -0.26866374, -0.26158432, -0.26034967, -0.25716654,\n",
       "         -0.25506022, -0.25105759, -0.23845585, -0.23468183, -0.23422684,\n",
       "         -0.23192099, -0.22916605, -0.22577269, -0.22191714, -0.21909194,\n",
       "         -0.19883406, -0.19862587, -0.19645502, -0.19191309, -0.18813109,\n",
       "         -0.1854096 , -0.18448015, -0.18253916, -0.17989161, -0.17577436,\n",
       "         -0.17295231, -0.1702378 , -0.16892956, -0.16475577, -0.15984862,\n",
       "         -0.15843378, -0.15561943, -0.15438603, -0.15404751, -0.14958209,\n",
       "         -0.13594904, -0.13478316, -0.1324048 , -0.12475461, -0.12385523,\n",
       "         -0.12359064, -0.11515156, -0.11488495, -0.11239876, -0.10837247,\n",
       "         -0.10752879, -0.10424387, -0.10422039, -0.10343621, -0.09742629,\n",
       "         -0.09684338, -0.09609724, -0.09197941, -0.08544444, -0.08363275,\n",
       "         -0.08323915, -0.07851925, -0.07795676, -0.07577209, -0.06344816,\n",
       "         -0.06297319, -0.0623829 , -0.05995512, -0.05598486, -0.05533143,\n",
       "         -0.05497508, -0.04965999, -0.04103765, -0.03962472, -0.03911226,\n",
       "         -0.0391082 , -0.02792999, -0.02273294, -0.02270851, -0.0130108 ,\n",
       "         -0.01167586, -0.01069189, -0.00569893, -0.00421113, -0.00322694,\n",
       "         -0.002033  ,  0.00139904,  0.00675451,  0.00687294,  0.01000661,\n",
       "          0.01523082,  0.01827526,  0.01868719,  0.01919288,  0.02184826,\n",
       "          0.02219609,  0.02328989,  0.0267395 ,  0.02854636,  0.0336883 ,\n",
       "          0.03429258,  0.03494704,  0.04006926,  0.04240761,  0.04439093,\n",
       "          0.0474655 ,  0.04799151,  0.05254607,  0.06033595,  0.06132495,\n",
       "          0.06879354,  0.07136315,  0.07379062,  0.07537671,  0.07580317,\n",
       "          0.07629532,  0.07913762,  0.08683514,  0.08689648,  0.08767368,\n",
       "          0.08898303,  0.08979523,  0.09080666,  0.09193722,  0.09611032,\n",
       "          0.09725111,  0.09759404,  0.09817977,  0.09996454,  0.10346691,\n",
       "          0.1035402 ,  0.10622807,  0.10679531,  0.10724047,  0.11012954,\n",
       "          0.11059028,  0.11900256,  0.12234076,  0.12244515,  0.12252514,\n",
       "          0.12443473,  0.12492584,  0.12933552,  0.12934778,  0.13396867,\n",
       "          0.13526881,  0.13622291,  0.14076842,  0.14251107,  0.14403541,\n",
       "          0.14474667,  0.14868461,  0.15721825,  0.15987019,  0.16476327,\n",
       "          0.16561737,  0.16935718,  0.18125957,  0.18231874,  0.18323774,\n",
       "          0.18639678,  0.19049816,  0.19584303,  0.19587392,  0.2069432 ,\n",
       "          0.20769526,  0.20781071,  0.21061872,  0.21134673,  0.21718927,\n",
       "          0.2287552 ,  0.23185943,  0.23567069,  0.23726139,  0.24324169,\n",
       "          0.24498468,  0.24864273,  0.24944497,  0.25622163,  0.25784703,\n",
       "          0.26187851,  0.27014085,  0.27884553,  0.27892946,  0.27976221,\n",
       "          0.28219524,  0.2840196 ,  0.28535589,  0.29103441,  0.29419678,\n",
       "          0.29485616,  0.29643927,  0.29957422,  0.30382903,  0.30512993,\n",
       "          0.30742237,  0.31156695,  0.31364959,  0.32344717,  0.32489188,\n",
       "          0.32534369,  0.32667981,  0.33194272,  0.33459851,  0.3355361 ,\n",
       "          0.33643418,  0.34350425,  0.34508312,  0.34688692,  0.34733329,\n",
       "          0.34823827,  0.34940709,  0.35838264,  0.3620255 ,  0.36677785,\n",
       "          0.36870253,  0.40845974,  0.41447658,  0.46144674,  0.46346284,\n",
       "          0.47805886,  0.49078284,  0.56162103,  0.57285952,  0.59847048,\n",
       "          0.63881623,  0.69417876,  0.71048782])),\n",
       " (0.2678026116517513, -5.113758977512538e-17, 0.9970467501181409))"
      ]
     },
     "execution_count": 269,
     "metadata": {},
     "output_type": "execute_result"
    },
    {
     "data": {
      "image/png": "[encoded data removed]",
      "text/plain": [
       "<Figure size 432x180 with 1 Axes>"
      ]
     },
     "metadata": {
      "needs_background": "light"
     },
     "output_type": "display_data"
    }
   ],
   "source": [
    "## Another way to validate normality of errors using QQ plot\n",
    "fig,ax=plt.subplots(figsize=(6,2.5))\n",
    "stats.probplot(residual_1,plot=ax,fit=True)"
   ]
  },
  {
   "cell_type": "code",
   "execution_count": 270,
   "id": "dad3cc87",
   "metadata": {},
   "outputs": [
    {
     "data": {
      "text/plain": [
       "-1.0936525317203034e-16"
      ]
     },
     "execution_count": 270,
     "metadata": {},
     "output_type": "execute_result"
    }
   ],
   "source": [
    "np.mean(residual_1)"
   ]
  },
  {
   "cell_type": "markdown",
   "id": "f679fdc2",
   "metadata": {},
   "source": [
    "#### 3. Homoscedasitcity : Errors or residual must have constant variance"
   ]
  },
  {
   "cell_type": "code",
   "execution_count": 271,
   "id": "86abcf74",
   "metadata": {},
   "outputs": [
    {
     "data": {
      "image/png": "[encoded data removed]",
      "text/plain": [
       "<Figure size 432x180 with 1 Axes>"
      ]
     },
     "metadata": {
      "needs_background": "light"
     },
     "output_type": "display_data"
    }
   ],
   "source": [
    "fig,ax = plt.subplots(figsize=(6,2.5))\n",
    "_=ax.scatter(y_pred3, residual_1)"
   ]
  },
  {
   "cell_type": "markdown",
   "id": "841c8ac3",
   "metadata": {},
   "source": [
    "#### 4. No autocorrelation of residuals : Residuals must be independent"
   ]
  },
  {
   "cell_type": "code",
   "execution_count": 272,
   "id": "18321b10",
   "metadata": {},
   "outputs": [
    {
     "data": {
      "image/png": "[encoded data removed]",
      "text/plain": [
       "<Figure size 432x288 with 1 Axes>"
      ]
     },
     "metadata": {
      "needs_background": "light"
     },
     "output_type": "display_data"
    }
   ],
   "source": [
    "acf=smt.graphics.plot_acf(residual_1,lags=40,alpha=0.05)\n",
    "acf.show()"
   ]
  },
  {
   "cell_type": "code",
   "execution_count": 274,
   "id": "31cfd042",
   "metadata": {},
   "outputs": [
    {
     "data": {
      "text/plain": [
       "2.062120777014863"
      ]
     },
     "execution_count": 274,
     "metadata": {},
     "output_type": "execute_result"
    }
   ],
   "source": [
    "from statsmodels.stats.stattools import durbin_watson\n",
    "\n",
    "durbin_watson(residual_1)"
   ]
  },
  {
   "cell_type": "markdown",
   "id": "293b31f1",
   "metadata": {},
   "source": [
    "N0t co-related since DW value is 2"
   ]
  }
 ],
 "metadata": {
  "kernelspec": {
   "display_name": "Python 3 (ipykernel)",
   "language": "python",
   "name": "python3"
  },
  "language_info": {
   "codemirror_mode": {
    "name": "ipython",
    "version": 3
   },
   "file_extension": ".py",
   "mimetype": "text/x-python",
   "name": "python",
   "nbconvert_exporter": "python",
   "pygments_lexer": "ipython3",
   "version": "3.9.7"
  }
 },
 "nbformat": 4,
 "nbformat_minor": 5
}
